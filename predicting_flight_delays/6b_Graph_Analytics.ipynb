{
 "cells": [
  {
   "cell_type": "markdown",
   "metadata": {
    "application/vnd.databricks.v1+cell": {
     "cellMetadata": {
      "byteLimit": 2048000,
      "rowLimit": 10000
     },
     "inputWidgets": {},
     "nuid": "47efbf76-1828-4734-b014-2c1d512dd763",
     "showTitle": false,
     "tableResultSettingsMap": {},
     "title": ""
    }
   },
   "source": [
    "# 6b. Graph Analytics"
   ]
  },
  {
   "cell_type": "markdown",
   "metadata": {
    "application/vnd.databricks.v1+cell": {
     "cellMetadata": {
      "byteLimit": 2048000,
      "rowLimit": 10000
     },
     "inputWidgets": {},
     "nuid": "025d67ff-186a-42a9-a605-0ced74fe89d2",
     "showTitle": false,
     "tableResultSettingsMap": {},
     "title": ""
    }
   },
   "source": [
    "# 6b.1 Import Libraries"
   ]
  },
  {
   "cell_type": "code",
   "execution_count": 0,
   "metadata": {
    "application/vnd.databricks.v1+cell": {
     "cellMetadata": {
      "byteLimit": 2048000,
      "rowLimit": 10000
     },
     "inputWidgets": {},
     "nuid": "a67fa23a-3f02-4090-808d-ce73cbe9b703",
     "showTitle": false,
     "tableResultSettingsMap": {},
     "title": ""
    }
   },
   "outputs": [],
   "source": [
    "# %pip install graphframes\n",
    "from graphframes import GraphFrame"
   ]
  },
  {
   "cell_type": "code",
   "execution_count": 0,
   "metadata": {
    "application/vnd.databricks.v1+cell": {
     "cellMetadata": {
      "byteLimit": 2048000,
      "rowLimit": 10000
     },
     "inputWidgets": {},
     "nuid": "3411fd26-3a68-4957-9173-557a8397bee1",
     "showTitle": false,
     "tableResultSettingsMap": {},
     "title": ""
    }
   },
   "outputs": [],
   "source": [
    "from pyspark.sql.functions import lit, col, desc, format_number, abs, isnan, to_date, rand, length, count, when, hour, dayofweek, round, explode, lower, udf, mean, avg, stddev, min, max, coalesce, concat_ws, row_number, monotonically_increasing_id, floor, round as spark_round\n",
    "\n",
    "from pyspark.sql.types import ArrayType, StringType\n",
    "from pyspark.ml.linalg import VectorUDT\n",
    "from pyspark.ml.feature import StringIndexer, OneHotEncoder, VectorAssembler, BucketedRandomProjectionLSH\n",
    "from pyspark.ml import Pipeline\n",
    "from pyspark.sql import SparkSession, DataFrame\n",
    "from pyspark.sql.window import Window\n",
    "from pyspark.sql.types import NumericType\n",
    "from pyspark.sql.functions import countDistinct\n",
    "\n",
    "import matplotlib.pyplot as plt\n",
    "import pandas as pd\n",
    "import seaborn as sns\n",
    "import plotly.express as px\n",
    "from sklearn.impute import KNNImputer\n",
    "from functools import reduce\n",
    "\n",
    "import re"
   ]
  },
  {
   "cell_type": "code",
   "execution_count": 0,
   "metadata": {
    "application/vnd.databricks.v1+cell": {
     "cellMetadata": {
      "byteLimit": 2048000,
      "rowLimit": 10000
     },
     "inputWidgets": {},
     "nuid": "d8eb7d75-cf82-4d1f-bde0-4c849867a105",
     "showTitle": false,
     "tableResultSettingsMap": {},
     "title": ""
    }
   },
   "outputs": [],
   "source": [
    "# Initialize Spark session\n",
    "spark = SparkSession.builder.appName(\"Graph_Analytics\").getOrCreate()"
   ]
  },
  {
   "cell_type": "markdown",
   "metadata": {
    "application/vnd.databricks.v1+cell": {
     "cellMetadata": {
      "byteLimit": 2048000,
      "rowLimit": 10000
     },
     "inputWidgets": {},
     "nuid": "913b6865-1fe5-4b3b-b3af-c0d5a6cd9fc4",
     "showTitle": false,
     "tableResultSettingsMap": {},
     "title": ""
    }
   },
   "source": [
    "# 6b.2 Import Df"
   ]
  },
  {
   "cell_type": "code",
   "execution_count": 0,
   "metadata": {
    "application/vnd.databricks.v1+cell": {
     "cellMetadata": {
      "byteLimit": 2048000,
      "rowLimit": 10000
     },
     "inputWidgets": {},
     "nuid": "b23d7e16-0bd3-49a3-8b78-d2257bf31fb6",
     "showTitle": false,
     "tableResultSettingsMap": {},
     "title": ""
    }
   },
   "outputs": [
    {
     "output_type": "display_data",
     "data": {
      "text/html": [
       "<style scoped>\n",
       "  .table-result-container {\n",
       "    max-height: 300px;\n",
       "    overflow: auto;\n",
       "  }\n",
       "  table, th, td {\n",
       "    border: 1px solid black;\n",
       "    border-collapse: collapse;\n",
       "  }\n",
       "  th, td {\n",
       "    padding: 5px;\n",
       "  }\n",
       "  th {\n",
       "    text-align: left;\n",
       "  }\n",
       "</style><div class='table-result-container'><table class='table-result'><thead style='background-color: white'><tr><th>YEAR</th><th>MONTH</th><th>DAY</th><th>DAY_OF_WEEK</th><th>AIRLINE</th><th>FLIGHT_NUMBER</th><th>TAIL_NUMBER</th><th>DEPARTURE_DELAY</th><th>TAXI_OUT</th><th>SCHEDULED_TIME</th><th>ELAPSED_TIME</th><th>AIR_TIME</th><th>DISTANCE</th><th>WHEELS_ON</th><th>TAXI_IN</th><th>ARRIVAL_TIME</th><th>ARRIVAL_DELAY</th><th>DIVERTED</th><th>CANCELLED</th><th>AIR_SYSTEM_DELAY</th><th>SECURITY_DELAY</th><th>AIRLINE_DELAY</th><th>LATE_AIRCRAFT_DELAY</th><th>WEATHER_DELAY</th><th>ORIGIN_AIRPORT</th><th>DESTINATION_AIRPORT</th><th>SEASON</th><th>SCHEDULED_DEPARTURE_PERIOD</th><th>IS_WEEKEND</th><th>ROUTE</th><th>SCHEDULED_DEPARTURE_min</th><th>SCHEDULED_ARRIVAL_min</th><th>DEPARTURE_TIME_min</th><th>WHEELS_OFF_min</th><th>ARRIVAL_TIME_min</th><th>TOTAL_FLIGHT_MIDNIGHT_min</th><th>CROSSES_MIDNIGHT_FLAG</th></tr></thead><tbody><tr><td>2015</td><td>12</td><td>19</td><td>6</td><td>EV</td><td>5042</td><td>N850AS</td><td>22</td><td>15</td><td>87</td><td>86</td><td>63</td><td>377.0</td><td>1226</td><td>8</td><td>1234</td><td>21</td><td>0</td><td>0</td><td>0</td><td>0</td><td>5</td><td>16</td><td>0</td><td>ILM</td><td>ATL</td><td>Winter</td><td>Morning</td><td>1</td><td>ILM_ATL</td><td>646</td><td>733</td><td>668</td><td>683</td><td>754</td><td>731</td><td>0</td></tr><tr><td>2015</td><td>12</td><td>10</td><td>4</td><td>AA</td><td>1941</td><td>N752US</td><td>68</td><td>12</td><td>70</td><td>55</td><td>39</td><td>185.0</td><td>924</td><td>4</td><td>928</td><td>53</td><td>0</td><td>0</td><td>0</td><td>0</td><td>53</td><td>0</td><td>0</td><td>ILM</td><td>CLT</td><td>Winter</td><td>Early Morning</td><td>0</td><td>ILM_CLT</td><td>445</td><td>515</td><td>513</td><td>525</td><td>568</td><td>552</td><td>0</td></tr><tr><td>2015</td><td>12</td><td>3</td><td>4</td><td>EV</td><td>5106</td><td>N923EV</td><td>220</td><td>16</td><td>90</td><td>96</td><td>67</td><td>377.0</td><td>1943</td><td>13</td><td>1956</td><td>226</td><td>0</td><td>0</td><td>6</td><td>0</td><td>220</td><td>0</td><td>0</td><td>ILM</td><td>ATL</td><td>Winter</td><td>Afternoon</td><td>0</td><td>ILM_ATL</td><td>880</td><td>970</td><td>1100</td><td>1116</td><td>1196</td><td>1167</td><td>0</td></tr><tr><td>2015</td><td>11</td><td>29</td><td>7</td><td>EV</td><td>5239</td><td>N843AS</td><td>15</td><td>13</td><td>91</td><td>93</td><td>68</td><td>377.0</td><td>1941</td><td>12</td><td>1953</td><td>17</td><td>0</td><td>0</td><td>2</td><td>0</td><td>0</td><td>15</td><td>0</td><td>ILM</td><td>ATL</td><td>Autumn</td><td>Evening</td><td>1</td><td>ILM_ATL</td><td>1085</td><td>1176</td><td>1100</td><td>1113</td><td>1193</td><td>1168</td><td>0</td></tr><tr><td>2015</td><td>11</td><td>9</td><td>1</td><td>EV</td><td>4870</td><td>N858AS</td><td>10</td><td>8</td><td>91</td><td>97</td><td>69</td><td>377.0</td><td>1932</td><td>20</td><td>1952</td><td>16</td><td>0</td><td>0</td><td>6</td><td>0</td><td>1</td><td>9</td><td>0</td><td>ILM</td><td>ATL</td><td>Autumn</td><td>Evening</td><td>0</td><td>ILM_ATL</td><td>1085</td><td>1176</td><td>1095</td><td>1103</td><td>1192</td><td>1164</td><td>0</td></tr><tr><td>2015</td><td>11</td><td>6</td><td>5</td><td>AA</td><td>1821</td><td>N754UW</td><td>0</td><td>30</td><td>70</td><td>87</td><td>50</td><td>185.0</td><td>1550</td><td>7</td><td>1557</td><td>17</td><td>0</td><td>0</td><td>17</td><td>0</td><td>0</td><td>0</td><td>0</td><td>ILM</td><td>CLT</td><td>Autumn</td><td>Afternoon</td><td>0</td><td>ILM_CLT</td><td>870</td><td>940</td><td>870</td><td>900</td><td>957</td><td>920</td><td>0</td></tr><tr><td>2015</td><td>5</td><td>18</td><td>1</td><td>EV</td><td>5245</td><td>N936EV</td><td>106</td><td>9</td><td>89</td><td>81</td><td>62</td><td>377.0</td><td>1547</td><td>10</td><td>1557</td><td>98</td><td>0</td><td>0</td><td>0</td><td>0</td><td>60</td><td>38</td><td>0</td><td>ILM</td><td>ATL</td><td>Spring</td><td>Midday</td><td>0</td><td>ILM_ATL</td><td>770</td><td>859</td><td>876</td><td>885</td><td>957</td><td>938</td><td>0</td></tr><tr><td>2015</td><td>4</td><td>10</td><td>5</td><td>EV</td><td>4955</td><td>N852AS</td><td>72</td><td>13</td><td>88</td><td>84</td><td>63</td><td>377.0</td><td>1623</td><td>8</td><td>1631</td><td>68</td><td>0</td><td>0</td><td>0</td><td>0</td><td>0</td><td>68</td><td>0</td><td>ILM</td><td>ATL</td><td>Spring</td><td>Midday</td><td>0</td><td>ILM_ATL</td><td>835</td><td>923</td><td>907</td><td>920</td><td>991</td><td>970</td><td>0</td></tr><tr><td>2015</td><td>3</td><td>29</td><td>7</td><td>DL</td><td>1969</td><td>N944DL</td><td>58</td><td>9</td><td>94</td><td>78</td><td>59</td><td>377.0</td><td>931</td><td>10</td><td>941</td><td>42</td><td>0</td><td>0</td><td>0</td><td>0</td><td>42</td><td>0</td><td>0</td><td>ILM</td><td>ATL</td><td>Spring</td><td>Early Morning</td><td>1</td><td>ILM_ATL</td><td>445</td><td>539</td><td>503</td><td>512</td><td>581</td><td>562</td><td>0</td></tr><tr><td>2015</td><td>9</td><td>24</td><td>4</td><td>EV</td><td>2608</td><td>N687JS</td><td>3</td><td>12</td><td>57</td><td>88</td><td>30</td><td>140.0</td><td>1110</td><td>46</td><td>1156</td><td>34</td><td>0</td><td>0</td><td>31</td><td>0</td><td>3</td><td>0</td><td>0</td><td>LAW</td><td>DFW</td><td>Autumn</td><td>Morning</td><td>0</td><td>LAW_DFW</td><td>625</td><td>682</td><td>628</td><td>640</td><td>716</td><td>658</td><td>0</td></tr></tbody></table></div>"
      ]
     },
     "metadata": {
      "application/vnd.databricks.v1+output": {
       "addedWidgets": {},
       "aggData": [],
       "aggError": "",
       "aggOverflow": false,
       "aggSchema": [],
       "aggSeriesLimitReached": false,
       "aggType": "",
       "arguments": {},
       "columnCustomDisplayInfos": {},
       "data": [
        [
         2015,
         12,
         19,
         6,
         "EV",
         5042,
         "N850AS",
         22,
         15,
         87,
         86,
         63,
         377.0,
         1226,
         8,
         1234,
         21,
         0,
         0,
         0,
         0,
         5,
         16,
         0,
         "ILM",
         "ATL",
         "Winter",
         "Morning",
         1,
         "ILM_ATL",
         646,
         733,
         668,
         683,
         754,
         731,
         0
        ],
        [
         2015,
         12,
         10,
         4,
         "AA",
         1941,
         "N752US",
         68,
         12,
         70,
         55,
         39,
         185.0,
         924,
         4,
         928,
         53,
         0,
         0,
         0,
         0,
         53,
         0,
         0,
         "ILM",
         "CLT",
         "Winter",
         "Early Morning",
         0,
         "ILM_CLT",
         445,
         515,
         513,
         525,
         568,
         552,
         0
        ],
        [
         2015,
         12,
         3,
         4,
         "EV",
         5106,
         "N923EV",
         220,
         16,
         90,
         96,
         67,
         377.0,
         1943,
         13,
         1956,
         226,
         0,
         0,
         6,
         0,
         220,
         0,
         0,
         "ILM",
         "ATL",
         "Winter",
         "Afternoon",
         0,
         "ILM_ATL",
         880,
         970,
         1100,
         1116,
         1196,
         1167,
         0
        ],
        [
         2015,
         11,
         29,
         7,
         "EV",
         5239,
         "N843AS",
         15,
         13,
         91,
         93,
         68,
         377.0,
         1941,
         12,
         1953,
         17,
         0,
         0,
         2,
         0,
         0,
         15,
         0,
         "ILM",
         "ATL",
         "Autumn",
         "Evening",
         1,
         "ILM_ATL",
         1085,
         1176,
         1100,
         1113,
         1193,
         1168,
         0
        ],
        [
         2015,
         11,
         9,
         1,
         "EV",
         4870,
         "N858AS",
         10,
         8,
         91,
         97,
         69,
         377.0,
         1932,
         20,
         1952,
         16,
         0,
         0,
         6,
         0,
         1,
         9,
         0,
         "ILM",
         "ATL",
         "Autumn",
         "Evening",
         0,
         "ILM_ATL",
         1085,
         1176,
         1095,
         1103,
         1192,
         1164,
         0
        ],
        [
         2015,
         11,
         6,
         5,
         "AA",
         1821,
         "N754UW",
         0,
         30,
         70,
         87,
         50,
         185.0,
         1550,
         7,
         1557,
         17,
         0,
         0,
         17,
         0,
         0,
         0,
         0,
         "ILM",
         "CLT",
         "Autumn",
         "Afternoon",
         0,
         "ILM_CLT",
         870,
         940,
         870,
         900,
         957,
         920,
         0
        ],
        [
         2015,
         5,
         18,
         1,
         "EV",
         5245,
         "N936EV",
         106,
         9,
         89,
         81,
         62,
         377.0,
         1547,
         10,
         1557,
         98,
         0,
         0,
         0,
         0,
         60,
         38,
         0,
         "ILM",
         "ATL",
         "Spring",
         "Midday",
         0,
         "ILM_ATL",
         770,
         859,
         876,
         885,
         957,
         938,
         0
        ],
        [
         2015,
         4,
         10,
         5,
         "EV",
         4955,
         "N852AS",
         72,
         13,
         88,
         84,
         63,
         377.0,
         1623,
         8,
         1631,
         68,
         0,
         0,
         0,
         0,
         0,
         68,
         0,
         "ILM",
         "ATL",
         "Spring",
         "Midday",
         0,
         "ILM_ATL",
         835,
         923,
         907,
         920,
         991,
         970,
         0
        ],
        [
         2015,
         3,
         29,
         7,
         "DL",
         1969,
         "N944DL",
         58,
         9,
         94,
         78,
         59,
         377.0,
         931,
         10,
         941,
         42,
         0,
         0,
         0,
         0,
         42,
         0,
         0,
         "ILM",
         "ATL",
         "Spring",
         "Early Morning",
         1,
         "ILM_ATL",
         445,
         539,
         503,
         512,
         581,
         562,
         0
        ],
        [
         2015,
         9,
         24,
         4,
         "EV",
         2608,
         "N687JS",
         3,
         12,
         57,
         88,
         30,
         140.0,
         1110,
         46,
         1156,
         34,
         0,
         0,
         31,
         0,
         3,
         0,
         0,
         "LAW",
         "DFW",
         "Autumn",
         "Morning",
         0,
         "LAW_DFW",
         625,
         682,
         628,
         640,
         716,
         658,
         0
        ]
       ],
       "datasetInfos": [],
       "dbfsResultPath": null,
       "isJsonSchema": true,
       "metadata": {},
       "overflow": false,
       "plotOptions": {
        "customPlotOptions": {},
        "displayType": "table",
        "pivotAggregation": null,
        "pivotColumns": null,
        "xColumns": null,
        "yColumns": null
       },
       "removedWidgets": [],
       "schema": [
        {
         "metadata": "{}",
         "name": "YEAR",
         "type": "\"integer\""
        },
        {
         "metadata": "{}",
         "name": "MONTH",
         "type": "\"integer\""
        },
        {
         "metadata": "{}",
         "name": "DAY",
         "type": "\"integer\""
        },
        {
         "metadata": "{}",
         "name": "DAY_OF_WEEK",
         "type": "\"integer\""
        },
        {
         "metadata": "{}",
         "name": "AIRLINE",
         "type": "\"string\""
        },
        {
         "metadata": "{}",
         "name": "FLIGHT_NUMBER",
         "type": "\"integer\""
        },
        {
         "metadata": "{}",
         "name": "TAIL_NUMBER",
         "type": "\"string\""
        },
        {
         "metadata": "{}",
         "name": "DEPARTURE_DELAY",
         "type": "\"integer\""
        },
        {
         "metadata": "{}",
         "name": "TAXI_OUT",
         "type": "\"integer\""
        },
        {
         "metadata": "{}",
         "name": "SCHEDULED_TIME",
         "type": "\"integer\""
        },
        {
         "metadata": "{}",
         "name": "ELAPSED_TIME",
         "type": "\"integer\""
        },
        {
         "metadata": "{}",
         "name": "AIR_TIME",
         "type": "\"integer\""
        },
        {
         "metadata": "{}",
         "name": "DISTANCE",
         "type": "\"double\""
        },
        {
         "metadata": "{}",
         "name": "WHEELS_ON",
         "type": "\"integer\""
        },
        {
         "metadata": "{}",
         "name": "TAXI_IN",
         "type": "\"integer\""
        },
        {
         "metadata": "{}",
         "name": "ARRIVAL_TIME",
         "type": "\"integer\""
        },
        {
         "metadata": "{}",
         "name": "ARRIVAL_DELAY",
         "type": "\"integer\""
        },
        {
         "metadata": "{}",
         "name": "DIVERTED",
         "type": "\"integer\""
        },
        {
         "metadata": "{}",
         "name": "CANCELLED",
         "type": "\"integer\""
        },
        {
         "metadata": "{}",
         "name": "AIR_SYSTEM_DELAY",
         "type": "\"integer\""
        },
        {
         "metadata": "{}",
         "name": "SECURITY_DELAY",
         "type": "\"integer\""
        },
        {
         "metadata": "{}",
         "name": "AIRLINE_DELAY",
         "type": "\"integer\""
        },
        {
         "metadata": "{}",
         "name": "LATE_AIRCRAFT_DELAY",
         "type": "\"integer\""
        },
        {
         "metadata": "{}",
         "name": "WEATHER_DELAY",
         "type": "\"integer\""
        },
        {
         "metadata": "{}",
         "name": "ORIGIN_AIRPORT",
         "type": "\"string\""
        },
        {
         "metadata": "{}",
         "name": "DESTINATION_AIRPORT",
         "type": "\"string\""
        },
        {
         "metadata": "{}",
         "name": "SEASON",
         "type": "\"string\""
        },
        {
         "metadata": "{}",
         "name": "SCHEDULED_DEPARTURE_PERIOD",
         "type": "\"string\""
        },
        {
         "metadata": "{}",
         "name": "IS_WEEKEND",
         "type": "\"integer\""
        },
        {
         "metadata": "{}",
         "name": "ROUTE",
         "type": "\"string\""
        },
        {
         "metadata": "{}",
         "name": "SCHEDULED_DEPARTURE_min",
         "type": "\"long\""
        },
        {
         "metadata": "{}",
         "name": "SCHEDULED_ARRIVAL_min",
         "type": "\"long\""
        },
        {
         "metadata": "{}",
         "name": "DEPARTURE_TIME_min",
         "type": "\"long\""
        },
        {
         "metadata": "{}",
         "name": "WHEELS_OFF_min",
         "type": "\"long\""
        },
        {
         "metadata": "{}",
         "name": "ARRIVAL_TIME_min",
         "type": "\"long\""
        },
        {
         "metadata": "{}",
         "name": "TOTAL_FLIGHT_MIDNIGHT_min",
         "type": "\"long\""
        },
        {
         "metadata": "{}",
         "name": "CROSSES_MIDNIGHT_FLAG",
         "type": "\"integer\""
        }
       ],
       "type": "table"
      }
     },
     "output_type": "display_data"
    }
   ],
   "source": [
    "# Import df_eda\n",
    "df = spark.read.format(\"delta\").load(\"/dbfs/FileStore/tables/df_graph\")\n",
    "\n",
    "# Display result\n",
    "df.limit(10).display()"
   ]
  },
  {
   "cell_type": "code",
   "execution_count": 0,
   "metadata": {
    "application/vnd.databricks.v1+cell": {
     "cellMetadata": {
      "byteLimit": 2048000,
      "rowLimit": 10000
     },
     "inputWidgets": {},
     "nuid": "8762b9a9-0573-44ed-a69c-81087e556c8c",
     "showTitle": false,
     "tableResultSettingsMap": {},
     "title": ""
    }
   },
   "outputs": [
    {
     "output_type": "stream",
     "name": "stdout",
     "output_type": "stream",
     "text": [
      "root\n |-- YEAR: integer (nullable = true)\n |-- MONTH: integer (nullable = true)\n |-- DAY: integer (nullable = true)\n |-- DAY_OF_WEEK: integer (nullable = true)\n |-- AIRLINE: string (nullable = true)\n |-- FLIGHT_NUMBER: integer (nullable = true)\n |-- TAIL_NUMBER: string (nullable = true)\n |-- DEPARTURE_DELAY: integer (nullable = true)\n |-- TAXI_OUT: integer (nullable = true)\n |-- SCHEDULED_TIME: integer (nullable = true)\n |-- ELAPSED_TIME: integer (nullable = true)\n |-- AIR_TIME: integer (nullable = true)\n |-- DISTANCE: double (nullable = true)\n |-- WHEELS_ON: integer (nullable = true)\n |-- TAXI_IN: integer (nullable = true)\n |-- ARRIVAL_TIME: integer (nullable = true)\n |-- ARRIVAL_DELAY: integer (nullable = true)\n |-- DIVERTED: integer (nullable = true)\n |-- CANCELLED: integer (nullable = true)\n |-- AIR_SYSTEM_DELAY: integer (nullable = true)\n |-- SECURITY_DELAY: integer (nullable = true)\n |-- AIRLINE_DELAY: integer (nullable = true)\n |-- LATE_AIRCRAFT_DELAY: integer (nullable = true)\n |-- WEATHER_DELAY: integer (nullable = true)\n |-- ORIGIN_AIRPORT: string (nullable = true)\n |-- DESTINATION_AIRPORT: string (nullable = true)\n |-- SEASON: string (nullable = true)\n |-- SCHEDULED_DEPARTURE_PERIOD: string (nullable = true)\n |-- IS_WEEKEND: integer (nullable = true)\n |-- ROUTE: string (nullable = true)\n |-- SCHEDULED_DEPARTURE_min: long (nullable = true)\n |-- SCHEDULED_ARRIVAL_min: long (nullable = true)\n |-- DEPARTURE_TIME_min: long (nullable = true)\n |-- WHEELS_OFF_min: long (nullable = true)\n |-- ARRIVAL_TIME_min: long (nullable = true)\n |-- TOTAL_FLIGHT_MIDNIGHT_min: long (nullable = true)\n |-- CROSSES_MIDNIGHT_FLAG: integer (nullable = true)\n\n"
     ]
    }
   ],
   "source": [
    "df.printSchema()"
   ]
  },
  {
   "cell_type": "code",
   "execution_count": 0,
   "metadata": {
    "application/vnd.databricks.v1+cell": {
     "cellMetadata": {
      "byteLimit": 2048000,
      "rowLimit": 10000
     },
     "inputWidgets": {},
     "nuid": "93e13c6c-0b34-4cee-9223-910dab693178",
     "showTitle": false,
     "tableResultSettingsMap": {},
     "title": ""
    }
   },
   "outputs": [
    {
     "output_type": "stream",
     "name": "stdout",
     "output_type": "stream",
     "text": [
      "Total rows: 43174\n"
     ]
    }
   ],
   "source": [
    "print(f\"Total rows: {df.count()}\")"
   ]
  },
  {
   "cell_type": "markdown",
   "metadata": {
    "application/vnd.databricks.v1+cell": {
     "cellMetadata": {
      "byteLimit": 2048000,
      "rowLimit": 10000
     },
     "inputWidgets": {},
     "nuid": "b12bf704-23e3-4548-86b5-79870284329f",
     "showTitle": false,
     "tableResultSettingsMap": {},
     "title": ""
    }
   },
   "source": [
    "# 6b.3 Filter Out Cancelled and Diverted Flights "
   ]
  },
  {
   "cell_type": "code",
   "execution_count": 0,
   "metadata": {
    "application/vnd.databricks.v1+cell": {
     "cellMetadata": {
      "byteLimit": 2048000,
      "rowLimit": 10000
     },
     "inputWidgets": {},
     "nuid": "454a9def-20e7-46ba-9118-5f5de9b9efce",
     "showTitle": false,
     "tableResultSettingsMap": {},
     "title": ""
    }
   },
   "outputs": [],
   "source": [
    "# Filter out cancelled and diverted flights (and drop these columns)\n",
    "df = df.filter(\n",
    "    (col(\"CANCELLED\") == 0) & (col(\"DIVERTED\") == 0)\n",
    ").drop(\"CANCELLED\", \"DIVERTED\")"
   ]
  },
  {
   "cell_type": "markdown",
   "metadata": {
    "application/vnd.databricks.v1+cell": {
     "cellMetadata": {
      "byteLimit": 2048000,
      "rowLimit": 10000
     },
     "inputWidgets": {},
     "nuid": "525bf830-82f0-421b-a9b3-940eea1f84b3",
     "showTitle": false,
     "tableResultSettingsMap": {},
     "title": ""
    }
   },
   "source": [
    "# 6b.4 Define Vertices, Edges, GraphFrame"
   ]
  },
  {
   "cell_type": "code",
   "execution_count": 0,
   "metadata": {
    "application/vnd.databricks.v1+cell": {
     "cellMetadata": {
      "byteLimit": 2048000,
      "rowLimit": 10000
     },
     "inputWidgets": {},
     "nuid": "175f1a06-3f79-4d3a-9355-541292050629",
     "showTitle": false,
     "tableResultSettingsMap": {},
     "title": ""
    }
   },
   "outputs": [
    {
     "output_type": "stream",
     "name": "stderr",
     "output_type": "stream",
     "text": [
      "/databricks/spark/python/pyspark/sql/dataframe.py:170: UserWarning: DataFrame.sql_ctx is an internal property, and will be removed in future releases. Use DataFrame.sparkSession instead.\n  warnings.warn(\n"
     ]
    }
   ],
   "source": [
    "# Vertices: Unique airports\n",
    "vertices = (\n",
    "    df.select(col(\"ORIGIN_AIRPORT\").alias(\"id\"))\n",
    "    .union(df.select(col(\"DESTINATION_AIRPORT\").alias(\"id\")))\n",
    "    .distinct()\n",
    ")\n",
    "\n",
    "# Edges: Flights between airports\n",
    "edges = (\n",
    "    df.groupBy(\"ORIGIN_AIRPORT\", \"DESTINATION_AIRPORT\")\n",
    "      .agg(\n",
    "          count(\"*\").alias(\"flight_count\"),\n",
    "          avg(\"DEPARTURE_DELAY\").alias(\"avg_dep_delay\"),\n",
    "          avg(\"ARRIVAL_DELAY\").alias(\"avg_arr_delay\")\n",
    "      )\n",
    "      .withColumnRenamed(\"ORIGIN_AIRPORT\", \"src\")\n",
    "      .withColumnRenamed(\"DESTINATION_AIRPORT\", \"dst\")\n",
    ")\n",
    "\n",
    "# Create the GraphFrame\n",
    "airport_graph = GraphFrame(vertices, edges)"
   ]
  },
  {
   "cell_type": "markdown",
   "metadata": {
    "application/vnd.databricks.v1+cell": {
     "cellMetadata": {
      "byteLimit": 2048000,
      "rowLimit": 10000
     },
     "inputWidgets": {},
     "nuid": "59dac676-c184-4d7b-a650-5c2d116e0e48",
     "showTitle": false,
     "tableResultSettingsMap": {},
     "title": ""
    }
   },
   "source": [
    "# 6b.5 Explore the Graph"
   ]
  },
  {
   "cell_type": "code",
   "execution_count": 0,
   "metadata": {
    "application/vnd.databricks.v1+cell": {
     "cellMetadata": {
      "byteLimit": 2048000,
      "rowLimit": 10000
     },
     "inputWidgets": {},
     "nuid": "d36f2f88-86f8-4179-b3f2-07d8616f4c00",
     "showTitle": false,
     "tableResultSettingsMap": {},
     "title": ""
    }
   },
   "outputs": [
    {
     "output_type": "stream",
     "name": "stderr",
     "output_type": "stream",
     "text": [
      "/databricks/spark/python/pyspark/sql/dataframe.py:149: UserWarning: DataFrame constructor is internal. Do not directly use it.\n  warnings.warn(\"DataFrame constructor is internal. Do not directly use it.\")\n"
     ]
    },
    {
     "output_type": "stream",
     "name": "stdout",
     "output_type": "stream",
     "text": [
      "+---+--------+\n| id|inDegree|\n+---+--------+\n|ATL|     151|\n|DFW|     144|\n|ORD|     143|\n|DEN|     127|\n|IAH|     110|\n|MSP|      99|\n|DTW|      97|\n|EWR|      77|\n|SFO|      73|\n|LAX|      73|\n|SLC|      73|\n|LAS|      69|\n|PHX|      69|\n|MCO|      66|\n|BWI|      63|\n|MDW|      63|\n|SEA|      61|\n|TPA|      57|\n|FLL|      57|\n|CLT|      56|\n+---+--------+\nonly showing top 20 rows\n\n+---+---------+\n| id|outDegree|\n+---+---------+\n|ORD|      157|\n|ATL|      147|\n|DFW|      146|\n|DEN|      130|\n|IAH|      107|\n|MSP|      102|\n|DTW|       90|\n|EWR|       76|\n|PHX|       76|\n|LAX|       75|\n|SFO|       74|\n|LAS|       72|\n|SLC|       72|\n|MCO|       68|\n|BWI|       65|\n|MDW|       65|\n|SEA|       63|\n|CLT|       62|\n|JFK|       59|\n|LGA|       58|\n+---+---------+\nonly showing top 20 rows\n\n"
     ]
    }
   ],
   "source": [
    "# In-Degree & Out-Degree\n",
    "airport_graph.inDegrees.orderBy(col(\"inDegree\").desc()).show()\n",
    "airport_graph.outDegrees.orderBy(col(\"outDegree\").desc()).show()"
   ]
  },
  {
   "cell_type": "code",
   "execution_count": 0,
   "metadata": {
    "application/vnd.databricks.v1+cell": {
     "cellMetadata": {
      "byteLimit": 2048000,
      "rowLimit": 10000
     },
     "inputWidgets": {},
     "nuid": "0833cf0b-904c-49dc-8058-0beec5f0e078",
     "showTitle": false,
     "tableResultSettingsMap": {},
     "title": ""
    }
   },
   "outputs": [
    {
     "output_type": "stream",
     "name": "stdout",
     "output_type": "stream",
     "text": [
      "+---+--------+\n|id |pagerank|\n+---+--------+\n|MSP|7.9265  |\n|IAH|7.9168  |\n|DTW|7.5602  |\n|SLC|5.9901  |\n|SFO|5.9205  |\n|LAX|5.2699  |\n|EWR|4.8974  |\n|PHX|4.8156  |\n|SEA|4.6826  |\n|LAS|4.5118  |\n|MCO|4.2318  |\n|BWI|3.9328  |\n|MDW|3.8906  |\n|JFK|3.8287  |\n|FLL|3.7214  |\n|TPA|3.5142  |\n|CLT|3.5012  |\n|LGA|3.3046  |\n|BOS|3.2195  |\n|MIA|3.1022  |\n+---+--------+\nonly showing top 20 rows\n\n"
     ]
    }
   ],
   "source": [
    "# PageRank (importance of hubs)\n",
    "pagerank_results = airport_graph.pageRank(resetProbability=0.15, maxIter=10)\n",
    "\n",
    "pagerank_results.vertices \\\n",
    "    .withColumn(\"pagerank\", format_number(\"pagerank\", 4)) \\\n",
    "    .orderBy(\"pagerank\", ascending=False) \\\n",
    "    .show(truncate=False)"
   ]
  },
  {
   "cell_type": "code",
   "execution_count": 0,
   "metadata": {
    "application/vnd.databricks.v1+cell": {
     "cellMetadata": {
      "byteLimit": 2048000,
      "rowLimit": 10000
     },
     "inputWidgets": {},
     "nuid": "89f79890-ad79-442e-b35e-90d911e1907e",
     "showTitle": false,
     "tableResultSettingsMap": {},
     "title": ""
    }
   },
   "outputs": [
    {
     "output_type": "stream",
     "name": "stdout",
     "output_type": "stream",
     "text": [
      "+---+---+------------+-------------+-------------+\n|src|dst|flight_count|avg_dep_delay|avg_arr_delay|\n+---+---+------------+-------------+-------------+\n|ATL|MSN|6           |114.33       |99.50        |\n|MOB|ORD|2           |51.00        |99.50        |\n|ACY|ATL|6           |93.50        |99.50        |\n|MHT|ORD|5           |107.40       |99.40        |\n|ATL|GRB|3           |117.00       |99.33        |\n|SIT|KTN|4           |103.25       |99.25        |\n|EUG|SLC|2           |114.50       |99.00        |\n|KTN|JNU|1           |97.00        |99.00        |\n|IAH|MTJ|1           |133.00       |99.00        |\n|AEX|DFW|11          |97.45        |98.45        |\n|ABE|ATL|5           |89.00        |98.40        |\n|OKC|SLC|5           |102.80       |98.00        |\n|PNS|ATL|14          |98.93        |97.79        |\n|CVG|DEN|13          |101.31       |97.77        |\n|ISP|TPA|4           |119.25       |97.75        |\n|MYR|PHL|6           |98.33        |97.67        |\n|ROA|ATL|11          |91.91        |97.64        |\n|BNA|ECP|4           |106.25       |97.50        |\n|IAH|TYR|2           |95.50        |97.50        |\n|CLT|SLC|2           |96.00        |97.50        |\n+---+---+------------+-------------+-------------+\nonly showing top 20 rows\n\n"
     ]
    }
   ],
   "source": [
    "# Top delayed routes\n",
    "edges \\\n",
    "  .withColumn(\"avg_arr_delay\", format_number(col(\"avg_arr_delay\"), 2)) \\\n",
    "  .withColumn(\"avg_dep_delay\", format_number(col(\"avg_dep_delay\"), 2)) \\\n",
    "  .orderBy(col(\"avg_arr_delay\").desc()) \\\n",
    "  .show(truncate=False)"
   ]
  },
  {
   "cell_type": "markdown",
   "metadata": {
    "application/vnd.databricks.v1+cell": {
     "cellMetadata": {
      "byteLimit": 2048000,
      "rowLimit": 10000
     },
     "inputWidgets": {},
     "nuid": "3597f743-1a98-44f8-aca7-715ea18d480d",
     "showTitle": false,
     "tableResultSettingsMap": {},
     "title": ""
    }
   },
   "source": [
    "# 6b.6 Visualize the Graph"
   ]
  },
  {
   "cell_type": "code",
   "execution_count": 0,
   "metadata": {
    "application/vnd.databricks.v1+cell": {
     "cellMetadata": {
      "byteLimit": 2048000,
      "rowLimit": 10000
     },
     "inputWidgets": {},
     "nuid": "c4f0e083-5f38-4f23-975d-7c74fcef7116",
     "showTitle": false,
     "tableResultSettingsMap": {},
     "title": ""
    }
   },
   "outputs": [],
   "source": [
    "# vertices_pdf = pagerank_results.vertices.select(\"id\").toPandas()\n",
    "# edges_pdf = edges.select(\"src\", \"dst\", \"avg_arr_delay\").toPandas()"
   ]
  },
  {
   "cell_type": "code",
   "execution_count": 0,
   "metadata": {
    "application/vnd.databricks.v1+cell": {
     "cellMetadata": {
      "byteLimit": 2048000,
      "rowLimit": 10000
     },
     "inputWidgets": {},
     "nuid": "2166b50f-14d3-4475-a7b5-ee93ce6d5d2a",
     "showTitle": false,
     "tableResultSettingsMap": {},
     "title": ""
    }
   },
   "outputs": [],
   "source": [
    "# %pip install pyvis"
   ]
  },
  {
   "cell_type": "code",
   "execution_count": 0,
   "metadata": {
    "application/vnd.databricks.v1+cell": {
     "cellMetadata": {
      "byteLimit": 2048000,
      "rowLimit": 10000
     },
     "inputWidgets": {},
     "nuid": "9334c211-ff53-4666-8ea3-33a71771f913",
     "showTitle": false,
     "tableResultSettingsMap": {},
     "title": ""
    }
   },
   "outputs": [],
   "source": [
    "# from pyvis.network import Network\n",
    "\n",
    "# # Create Pyvis Network\n",
    "# net = Network(notebook=True, height=\"750px\", width=\"100%\")\n",
    "\n",
    "# # Add nodes (airports)\n",
    "# for _, row in vertices_pdf.iterrows():\n",
    "#     net.add_node(row['id'], label=row['id'])\n",
    "\n",
    "# # Add edges (flights between airports)\n",
    "# for _, row in edges_pdf.iterrows():\n",
    "#     net.add_edge(row['src'], row['dst'], title=f\"Avg Arr Delay: {row['avg_arr_delay']:.2f}\")\n",
    "\n",
    "# # Display the graph\n",
    "# net.show(\"airport_network.html\")"
   ]
  },
  {
   "cell_type": "code",
   "execution_count": 0,
   "metadata": {
    "application/vnd.databricks.v1+cell": {
     "cellMetadata": {
      "byteLimit": 2048000,
      "rowLimit": 10000
     },
     "inputWidgets": {},
     "nuid": "76f31a9d-5d81-4934-8305-180b6a05fd45",
     "showTitle": false,
     "tableResultSettingsMap": {},
     "title": ""
    }
   },
   "outputs": [],
   "source": [
    "# displayHTML(open(\"airport_network.html\").read())"
   ]
  },
  {
   "cell_type": "markdown",
   "metadata": {
    "application/vnd.databricks.v1+cell": {
     "cellMetadata": {
      "byteLimit": 2048000,
      "rowLimit": 10000
     },
     "inputWidgets": {},
     "nuid": "532370f8-3670-4555-8303-89f564bf69c6",
     "showTitle": false,
     "tableResultSettingsMap": {},
     "title": ""
    }
   },
   "source": [
    "# 6b.7 More Visualizations"
   ]
  },
  {
   "cell_type": "markdown",
   "metadata": {
    "application/vnd.databricks.v1+cell": {
     "cellMetadata": {
      "byteLimit": 2048000,
      "rowLimit": 10000
     },
     "inputWidgets": {},
     "nuid": "0871f90a-c39b-4945-a944-bafd9ebcd4d3",
     "showTitle": false,
     "tableResultSettingsMap": {},
     "title": ""
    }
   },
   "source": [
    "Visualize Top Airport Hubs by PageRank"
   ]
  },
  {
   "cell_type": "code",
   "execution_count": 0,
   "metadata": {
    "application/vnd.databricks.v1+cell": {
     "cellMetadata": {
      "byteLimit": 2048000,
      "rowLimit": 10000
     },
     "inputWidgets": {},
     "nuid": "221149a0-f548-447e-9817-e10829d833ed",
     "showTitle": false,
     "tableResultSettingsMap": {},
     "title": ""
    }
   },
   "outputs": [
    {
     "output_type": "display_data",
     "data": {
      "image/png": "[encoded data removed]"
     },
     "metadata": {
      "application/vnd.databricks.v1+output": {
       "addedWidgets": {},
       "arguments": {},
       "data": "data:image/png;base64,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\n",
       "datasetInfos": [],
       "metadata": {},
       "removedWidgets": [],
       "type": "image"
      }
     },
     "output_type": "display_data"
    }
   ],
   "source": [
    "# Collect top 10 airports by pagerank\n",
    "top_airports = pagerank_results.vertices \\\n",
    "    .orderBy(\"pagerank\", ascending=False) \\\n",
    "    .limit(10) \\\n",
    "    .select(\"id\", \"pagerank\") \\\n",
    "    .toPandas()\n",
    "\n",
    "# Plot\n",
    "plt.figure(figsize=(12,6))\n",
    "plt.bar(top_airports['id'], top_airports['pagerank'], color='navy')\n",
    "plt.title('Top 10 Airport Hubs by PageRank')\n",
    "plt.xlabel('Airport')\n",
    "plt.ylabel('PageRank Score')\n",
    "plt.xticks(rotation=45)\n",
    "plt.show()"
   ]
  },
  {
   "cell_type": "markdown",
   "metadata": {
    "application/vnd.databricks.v1+cell": {
     "cellMetadata": {
      "byteLimit": 2048000,
      "rowLimit": 10000
     },
     "inputWidgets": {},
     "nuid": "7842f9fb-54fe-465b-b511-ac04d9370949",
     "showTitle": false,
     "tableResultSettingsMap": {},
     "title": ""
    }
   },
   "source": [
    "Plot In-Degree and Out-Degree for Top Airports"
   ]
  },
  {
   "cell_type": "code",
   "execution_count": 0,
   "metadata": {
    "application/vnd.databricks.v1+cell": {
     "cellMetadata": {
      "byteLimit": 2048000,
      "rowLimit": 10000
     },
     "inputWidgets": {},
     "nuid": "8ae9aeea-a201-42dd-b35c-6c49824920f8",
     "showTitle": false,
     "tableResultSettingsMap": {},
     "title": ""
    }
   },
   "outputs": [
    {
     "output_type": "stream",
     "name": "stderr",
     "output_type": "stream",
     "text": [
      "/databricks/spark/python/pyspark/sql/dataframe.py:149: UserWarning: DataFrame constructor is internal. Do not directly use it.\n  warnings.warn(\"DataFrame constructor is internal. Do not directly use it.\")\n/databricks/spark/python/pyspark/sql/dataframe.py:149: UserWarning: DataFrame constructor is internal. Do not directly use it.\n  warnings.warn(\"DataFrame constructor is internal. Do not directly use it.\")\n<command-1336967028028441>:9: UserWarning: FixedFormatter should only be used together with FixedLocator\n  axes[0].set_xticklabels(in_deg['id'], rotation=45)\n<command-1336967028028441>:13: UserWarning: FixedFormatter should only be used together with FixedLocator\n  axes[1].set_xticklabels(out_deg['id'], rotation=45)\n"
     ]
    },
    {
     "output_type": "display_data",
     "data": {
      "image/png": "[encoded data removed]"
     },
     "metadata": {
      "application/vnd.databricks.v1+output": {
       "addedWidgets": {},
       "arguments": {},
       "data": "data:image/png;base64,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\n",
       "datasetInfos": [],
       "metadata": {},
       "removedWidgets": [],
       "type": "image"
      }
     },
     "output_type": "display_data"
    }
   ],
   "source": [
    "# Get top 10 airports by in-degree and out-degree\n",
    "in_deg = airport_graph.inDegrees.orderBy(\"inDegree\", ascending=False).limit(10).toPandas()\n",
    "out_deg = airport_graph.outDegrees.orderBy(\"outDegree\", ascending=False).limit(10).toPandas()\n",
    "\n",
    "fig, axes = plt.subplots(1, 2, figsize=(14,6), sharey=True)\n",
    "\n",
    "axes[0].bar(in_deg['id'], in_deg['inDegree'], color='teal')\n",
    "axes[0].set_title('Top 10 Airports by In-Degree (Inbound Flights)')\n",
    "axes[0].set_xticklabels(in_deg['id'], rotation=45)\n",
    "\n",
    "axes[1].bar(out_deg['id'], out_deg['outDegree'], color='orange')\n",
    "axes[1].set_title('Top 10 Airports by Out-Degree (Outbound Flights)')\n",
    "axes[1].set_xticklabels(out_deg['id'], rotation=45)\n",
    "\n",
    "for ax in axes:\n",
    "    ax.set_xlabel('Airport')\n",
    "    ax.set_ylabel('Degree')\n",
    "\n",
    "plt.tight_layout()\n",
    "plt.show()"
   ]
  },
  {
   "cell_type": "markdown",
   "metadata": {
    "application/vnd.databricks.v1+cell": {
     "cellMetadata": {
      "byteLimit": 2048000,
      "rowLimit": 10000
     },
     "inputWidgets": {},
     "nuid": "3068ddfd-a643-47bd-8390-431ee143d51e",
     "showTitle": false,
     "tableResultSettingsMap": {},
     "title": ""
    }
   },
   "source": [
    "Heatmap of Average Arrival Delays for Top Routes"
   ]
  },
  {
   "cell_type": "code",
   "execution_count": 0,
   "metadata": {
    "application/vnd.databricks.v1+cell": {
     "cellMetadata": {
      "byteLimit": 2048000,
      "rowLimit": 10000
     },
     "inputWidgets": {},
     "nuid": "d56adb04-bc83-4e5e-8131-2aa69d96b2c8",
     "showTitle": false,
     "tableResultSettingsMap": {},
     "title": ""
    }
   },
   "outputs": [
    {
     "output_type": "display_data",
     "data": {
      "image/png": "[encoded data removed]"
     },
     "metadata": {
      "application/vnd.databricks.v1+output": {
       "addedWidgets": {},
       "arguments": {},
       "data": "data:image/png;base64,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\n",
       "datasetInfos": [],
       "metadata": {},
       "removedWidgets": [],
       "type": "image"
      }
     },
     "output_type": "display_data"
    }
   ],
   "source": [
    "# Get top 20 routes with highest avg_arr_delay\n",
    "top_routes = edges.orderBy(col(\"avg_arr_delay\").desc()).limit(20).toPandas()\n",
    "\n",
    "# Create a pivot table for heatmap (Origin vs Destination)\n",
    "heatmap_data = top_routes.pivot(\"src\", \"dst\", \"avg_arr_delay\").fillna(0)\n",
    "\n",
    "plt.figure(figsize=(12,8))\n",
    "sns.heatmap(heatmap_data, annot=True, fmt=\".1f\", cmap=\"Reds\")\n",
    "plt.title('Top 20 Routes by Average Arrival Delay')\n",
    "plt.xlabel('Destination Airport')\n",
    "plt.ylabel('Origin Airport')\n",
    "plt.show()"
   ]
  }
 ],
 "metadata": {
  "application/vnd.databricks.v1+notebook": {
   "computePreferences": null,
   "dashboards": [],
   "environmentMetadata": null,
   "inputWidgetPreferences": null,
   "language": "python",
   "notebookMetadata": {
    "mostRecentlyExecutedCommandWithImplicitDF": {
     "commandId": 583445748679806,
     "dataframes": [
      "_sqldf"
     ]
    },
    "pythonIndentUnit": 4
   },
   "notebookName": "6b_Graph_Analytics",
   "widgets": {}
  }
 },
 "nbformat": 4,
 "nbformat_minor": 0
}