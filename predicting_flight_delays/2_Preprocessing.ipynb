{
 "cells": [
  {
   "cell_type": "markdown",
   "metadata": {
    "application/vnd.databricks.v1+cell": {
     "cellMetadata": {},
     "inputWidgets": {},
     "nuid": "9b247d64-c706-4a59-a0fa-764fcf5c446f",
     "showTitle": false,
     "tableResultSettingsMap": {},
     "title": ""
    }
   },
   "source": [
    "# 2. Preprocessing"
   ]
  },
  {
   "cell_type": "markdown",
   "metadata": {
    "application/vnd.databricks.v1+cell": {
     "cellMetadata": {},
     "inputWidgets": {},
     "nuid": "2c0e8678-e282-4d72-87a1-a460ccaa2837",
     "showTitle": false,
     "tableResultSettingsMap": {},
     "title": ""
    }
   },
   "source": [
    "# 2.1 Import Libraries"
   ]
  },
  {
   "cell_type": "code",
   "execution_count": 0,
   "metadata": {
    "application/vnd.databricks.v1+cell": {
     "cellMetadata": {
      "byteLimit": 2048000,
      "rowLimit": 10000
     },
     "inputWidgets": {},
     "nuid": "a36c01ff-d2e9-4fe0-9f69-b3f9f970455b",
     "showTitle": false,
     "tableResultSettingsMap": {},
     "title": ""
    }
   },
   "outputs": [],
   "source": [
    "from pyspark.sql.functions import lit, col, desc, abs, isnan, to_date, rand, length, count, when, hour, dayofweek, round, explode, lower, udf, mean, stddev, min, max, coalesce, concat_ws, row_number, monotonically_increasing_id, floor, round as spark_round\n",
    "\n",
    "from pyspark.sql.types import ArrayType, StringType\n",
    "from pyspark.ml.linalg import VectorUDT\n",
    "from pyspark.ml.feature import StringIndexer, OneHotEncoder, VectorAssembler, BucketedRandomProjectionLSH\n",
    "from pyspark.ml import Pipeline\n",
    "from pyspark.sql import SparkSession, DataFrame\n",
    "from pyspark.sql.window import Window\n",
    "from pyspark.sql.types import NumericType\n",
    "from pyspark.sql.functions import countDistinct\n",
    "\n",
    "import matplotlib.pyplot as plt\n",
    "import pandas as pd\n",
    "import seaborn as sns\n",
    "import plotly.express as px\n",
    "from sklearn.impute import KNNImputer\n",
    "from functools import reduce\n",
    "\n",
    "import re"
   ]
  },
  {
   "cell_type": "code",
   "execution_count": 0,
   "metadata": {
    "application/vnd.databricks.v1+cell": {
     "cellMetadata": {
      "byteLimit": 2048000,
      "rowLimit": 10000
     },
     "inputWidgets": {},
     "nuid": "ffa930d8-f649-4d18-b40c-0790a2d3951b",
     "showTitle": false,
     "tableResultSettingsMap": {},
     "title": ""
    }
   },
   "outputs": [],
   "source": [
    "# Initialize Spark session\n",
    "spark = SparkSession.builder.appName(\"Preprocessing\").getOrCreate()"
   ]
  },
  {
   "cell_type": "markdown",
   "metadata": {
    "application/vnd.databricks.v1+cell": {
     "cellMetadata": {},
     "inputWidgets": {},
     "nuid": "042c0d01-0a5d-4e72-a5e0-731b0d564ba8",
     "showTitle": false,
     "tableResultSettingsMap": {},
     "title": ""
    }
   },
   "source": [
    "# 2.2 Import Df"
   ]
  },
  {
   "cell_type": "code",
   "execution_count": 0,
   "metadata": {
    "application/vnd.databricks.v1+cell": {
     "cellMetadata": {
      "byteLimit": 2048000,
      "rowLimit": 10000
     },
     "inputWidgets": {},
     "nuid": "6d74bc99-88d4-4ce0-a897-e53283070fa3",
     "showTitle": false,
     "tableResultSettingsMap": {},
     "title": ""
    }
   },
   "outputs": [
    {
     "output_type": "display_data",
     "data": {
      "text/html": [
       "<style scoped>\n",
       "  .table-result-container {\n",
       "    max-height: 300px;\n",
       "    overflow: auto;\n",
       "  }\n",
       "  table, th, td {\n",
       "    border: 1px solid black;\n",
       "    border-collapse: collapse;\n",
       "  }\n",
       "  th, td {\n",
       "    padding: 5px;\n",
       "  }\n",
       "  th {\n",
       "    text-align: left;\n",
       "  }\n",
       "</style><div class='table-result-container'><table class='table-result'><thead style='background-color: white'><tr><th>YEAR</th><th>MONTH</th><th>DAY</th><th>DAY_OF_WEEK</th><th>AIRLINE</th><th>FLIGHT_NUMBER</th><th>TAIL_NUMBER</th><th>ORIGIN_AIRPORT</th><th>DESTINATION_AIRPORT</th><th>SCHEDULED_DEPARTURE</th><th>DEPARTURE_TIME</th><th>DEPARTURE_DELAY</th><th>TAXI_OUT</th><th>WHEELS_OFF</th><th>SCHEDULED_TIME</th><th>ELAPSED_TIME</th><th>AIR_TIME</th><th>DISTANCE</th><th>WHEELS_ON</th><th>TAXI_IN</th><th>SCHEDULED_ARRIVAL</th><th>ARRIVAL_TIME</th><th>ARRIVAL_DELAY</th><th>DIVERTED</th><th>CANCELLED</th><th>CANCELLATION_REASON</th><th>AIR_SYSTEM_DELAY</th><th>SECURITY_DELAY</th><th>AIRLINE_DELAY</th><th>LATE_AIRCRAFT_DELAY</th><th>WEATHER_DELAY</th></tr></thead><tbody><tr><td>2015</td><td>1</td><td>1</td><td>4</td><td>NK</td><td>597</td><td>N528NK</td><td>MSP</td><td>FLL</td><td>115</td><td>127</td><td>12</td><td>14</td><td>141</td><td>207</td><td>220</td><td>166</td><td>1487</td><td>527</td><td>40</td><td>542</td><td>607</td><td>25</td><td>0</td><td>0</td><td>null</td><td>25</td><td>0</td><td>0</td><td>0</td><td>0</td></tr><tr><td>2015</td><td>1</td><td>1</td><td>4</td><td>NK</td><td>168</td><td>N629NK</td><td>PHX</td><td>ORD</td><td>125</td><td>237</td><td>72</td><td>9</td><td>246</td><td>204</td><td>175</td><td>156</td><td>1440</td><td>622</td><td>10</td><td>549</td><td>632</td><td>43</td><td>0</td><td>0</td><td>null</td><td>43</td><td>0</td><td>0</td><td>0</td><td>0</td></tr><tr><td>2015</td><td>1</td><td>1</td><td>4</td><td>HA</td><td>17</td><td>N389HA</td><td>LAS</td><td>HNL</td><td>145</td><td>145</td><td>0</td><td>16</td><td>201</td><td>370</td><td>385</td><td>361</td><td>2762</td><td>602</td><td>8</td><td>555</td><td>610</td><td>15</td><td>0</td><td>0</td><td>null</td><td>0</td><td>0</td><td>15</td><td>0</td><td>0</td></tr><tr><td>2015</td><td>1</td><td>1</td><td>4</td><td>B6</td><td>1030</td><td>N239JB</td><td>BQN</td><td>MCO</td><td>307</td><td>304</td><td>-3</td><td>25</td><td>329</td><td>173</td><td>196</td><td>160</td><td>1129</td><td>509</td><td>11</td><td>500</td><td>520</td><td>20</td><td>0</td><td>0</td><td>null</td><td>20</td><td>0</td><td>0</td><td>0</td><td>0</td></tr><tr><td>2015</td><td>1</td><td>1</td><td>4</td><td>B6</td><td>2134</td><td>N307JB</td><td>SJU</td><td>MCO</td><td>400</td><td>535</td><td>95</td><td>9</td><td>544</td><td>185</td><td>175</td><td>163</td><td>1189</td><td>727</td><td>3</td><td>605</td><td>730</td><td>85</td><td>0</td><td>0</td><td>null</td><td>0</td><td>0</td><td>85</td><td>0</td><td>0</td></tr><tr><td>2015</td><td>1</td><td>1</td><td>4</td><td>B6</td><td>2276</td><td>N646JB</td><td>SJU</td><td>BDL</td><td>438</td><td>550</td><td>72</td><td>15</td><td>605</td><td>241</td><td>258</td><td>237</td><td>1666</td><td>902</td><td>6</td><td>739</td><td>908</td><td>89</td><td>0</td><td>0</td><td>null</td><td>17</td><td>0</td><td>72</td><td>0</td><td>0</td></tr><tr><td>2015</td><td>1</td><td>1</td><td>4</td><td>AA</td><td>1057</td><td>N3ASAA</td><td>DFW</td><td>MIA</td><td>515</td><td>703</td><td>108</td><td>15</td><td>718</td><td>161</td><td>155</td><td>133</td><td>1121</td><td>1031</td><td>7</td><td>856</td><td>1038</td><td>102</td><td>0</td><td>0</td><td>null</td><td>0</td><td>0</td><td>0</td><td>0</td><td>102</td></tr><tr><td>2015</td><td>1</td><td>1</td><td>4</td><td>US</td><td>425</td><td>N174US</td><td>PDX</td><td>PHX</td><td>520</td><td>620</td><td>60</td><td>13</td><td>633</td><td>150</td><td>150</td><td>132</td><td>1009</td><td>945</td><td>5</td><td>850</td><td>950</td><td>60</td><td>0</td><td>0</td><td>null</td><td>0</td><td>0</td><td>60</td><td>0</td><td>0</td></tr><tr><td>2015</td><td>1</td><td>1</td><td>4</td><td>AA</td><td>89</td><td>N3KVAA</td><td>IAH</td><td>MIA</td><td>520</td><td>618</td><td>58</td><td>19</td><td>637</td><td>141</td><td>137</td><td>111</td><td>964</td><td>928</td><td>7</td><td>841</td><td>935</td><td>54</td><td>0</td><td>0</td><td>null</td><td>0</td><td>0</td><td>54</td><td>0</td><td>0</td></tr><tr><td>2015</td><td>1</td><td>1</td><td>4</td><td>AA</td><td>328</td><td>N4XKAA</td><td>DEN</td><td>DFW</td><td>530</td><td>623</td><td>53</td><td>32</td><td>655</td><td>125</td><td>138</td><td>96</td><td>641</td><td>931</td><td>10</td><td>835</td><td>941</td><td>66</td><td>0</td><td>0</td><td>null</td><td>13</td><td>0</td><td>53</td><td>0</td><td>0</td></tr></tbody></table></div>"
      ]
     },
     "metadata": {
      "application/vnd.databricks.v1+output": {
       "addedWidgets": {},
       "aggData": [],
       "aggError": "",
       "aggOverflow": false,
       "aggSchema": [],
       "aggSeriesLimitReached": false,
       "aggType": "",
       "arguments": {},
       "columnCustomDisplayInfos": {},
       "data": [
        [
         2015,
         1,
         1,
         4,
         "NK",
         597,
         "N528NK",
         "MSP",
         "FLL",
         115,
         127,
         12,
         14,
         141,
         207,
         220,
         166,
         1487,
         527,
         40,
         542,
         607,
         25,
         0,
         0,
         null,
         25,
         0,
         0,
         0,
         0
        ],
        [
         2015,
         1,
         1,
         4,
         "NK",
         168,
         "N629NK",
         "PHX",
         "ORD",
         125,
         237,
         72,
         9,
         246,
         204,
         175,
         156,
         1440,
         622,
         10,
         549,
         632,
         43,
         0,
         0,
         null,
         43,
         0,
         0,
         0,
         0
        ],
        [
         2015,
         1,
         1,
         4,
         "HA",
         17,
         "N389HA",
         "LAS",
         "HNL",
         145,
         145,
         0,
         16,
         201,
         370,
         385,
         361,
         2762,
         602,
         8,
         555,
         610,
         15,
         0,
         0,
         null,
         0,
         0,
         15,
         0,
         0
        ],
        [
         2015,
         1,
         1,
         4,
         "B6",
         1030,
         "N239JB",
         "BQN",
         "MCO",
         307,
         304,
         -3,
         25,
         329,
         173,
         196,
         160,
         1129,
         509,
         11,
         500,
         520,
         20,
         0,
         0,
         null,
         20,
         0,
         0,
         0,
         0
        ],
        [
         2015,
         1,
         1,
         4,
         "B6",
         2134,
         "N307JB",
         "SJU",
         "MCO",
         400,
         535,
         95,
         9,
         544,
         185,
         175,
         163,
         1189,
         727,
         3,
         605,
         730,
         85,
         0,
         0,
         null,
         0,
         0,
         85,
         0,
         0
        ],
        [
         2015,
         1,
         1,
         4,
         "B6",
         2276,
         "N646JB",
         "SJU",
         "BDL",
         438,
         550,
         72,
         15,
         605,
         241,
         258,
         237,
         1666,
         902,
         6,
         739,
         908,
         89,
         0,
         0,
         null,
         17,
         0,
         72,
         0,
         0
        ],
        [
         2015,
         1,
         1,
         4,
         "AA",
         1057,
         "N3ASAA",
         "DFW",
         "MIA",
         515,
         703,
         108,
         15,
         718,
         161,
         155,
         133,
         1121,
         1031,
         7,
         856,
         1038,
         102,
         0,
         0,
         null,
         0,
         0,
         0,
         0,
         102
        ],
        [
         2015,
         1,
         1,
         4,
         "US",
         425,
         "N174US",
         "PDX",
         "PHX",
         520,
         620,
         60,
         13,
         633,
         150,
         150,
         132,
         1009,
         945,
         5,
         850,
         950,
         60,
         0,
         0,
         null,
         0,
         0,
         60,
         0,
         0
        ],
        [
         2015,
         1,
         1,
         4,
         "AA",
         89,
         "N3KVAA",
         "IAH",
         "MIA",
         520,
         618,
         58,
         19,
         637,
         141,
         137,
         111,
         964,
         928,
         7,
         841,
         935,
         54,
         0,
         0,
         null,
         0,
         0,
         54,
         0,
         0
        ],
        [
         2015,
         1,
         1,
         4,
         "AA",
         328,
         "N4XKAA",
         "DEN",
         "DFW",
         530,
         623,
         53,
         32,
         655,
         125,
         138,
         96,
         641,
         931,
         10,
         835,
         941,
         66,
         0,
         0,
         null,
         13,
         0,
         53,
         0,
         0
        ]
       ],
       "datasetInfos": [],
       "dbfsResultPath": null,
       "isJsonSchema": true,
       "metadata": {},
       "overflow": false,
       "plotOptions": {
        "customPlotOptions": {},
        "displayType": "table",
        "pivotAggregation": null,
        "pivotColumns": null,
        "xColumns": null,
        "yColumns": null
       },
       "removedWidgets": [],
       "schema": [
        {
         "metadata": "{}",
         "name": "YEAR",
         "type": "\"integer\""
        },
        {
         "metadata": "{}",
         "name": "MONTH",
         "type": "\"integer\""
        },
        {
         "metadata": "{}",
         "name": "DAY",
         "type": "\"integer\""
        },
        {
         "metadata": "{}",
         "name": "DAY_OF_WEEK",
         "type": "\"integer\""
        },
        {
         "metadata": "{}",
         "name": "AIRLINE",
         "type": "\"string\""
        },
        {
         "metadata": "{}",
         "name": "FLIGHT_NUMBER",
         "type": "\"integer\""
        },
        {
         "metadata": "{}",
         "name": "TAIL_NUMBER",
         "type": "\"string\""
        },
        {
         "metadata": "{}",
         "name": "ORIGIN_AIRPORT",
         "type": "\"string\""
        },
        {
         "metadata": "{}",
         "name": "DESTINATION_AIRPORT",
         "type": "\"string\""
        },
        {
         "metadata": "{}",
         "name": "SCHEDULED_DEPARTURE",
         "type": "\"integer\""
        },
        {
         "metadata": "{}",
         "name": "DEPARTURE_TIME",
         "type": "\"integer\""
        },
        {
         "metadata": "{}",
         "name": "DEPARTURE_DELAY",
         "type": "\"integer\""
        },
        {
         "metadata": "{}",
         "name": "TAXI_OUT",
         "type": "\"integer\""
        },
        {
         "metadata": "{}",
         "name": "WHEELS_OFF",
         "type": "\"integer\""
        },
        {
         "metadata": "{}",
         "name": "SCHEDULED_TIME",
         "type": "\"integer\""
        },
        {
         "metadata": "{}",
         "name": "ELAPSED_TIME",
         "type": "\"integer\""
        },
        {
         "metadata": "{}",
         "name": "AIR_TIME",
         "type": "\"integer\""
        },
        {
         "metadata": "{}",
         "name": "DISTANCE",
         "type": "\"integer\""
        },
        {
         "metadata": "{}",
         "name": "WHEELS_ON",
         "type": "\"integer\""
        },
        {
         "metadata": "{}",
         "name": "TAXI_IN",
         "type": "\"integer\""
        },
        {
         "metadata": "{}",
         "name": "SCHEDULED_ARRIVAL",
         "type": "\"integer\""
        },
        {
         "metadata": "{}",
         "name": "ARRIVAL_TIME",
         "type": "\"integer\""
        },
        {
         "metadata": "{}",
         "name": "ARRIVAL_DELAY",
         "type": "\"integer\""
        },
        {
         "metadata": "{}",
         "name": "DIVERTED",
         "type": "\"integer\""
        },
        {
         "metadata": "{}",
         "name": "CANCELLED",
         "type": "\"integer\""
        },
        {
         "metadata": "{}",
         "name": "CANCELLATION_REASON",
         "type": "\"string\""
        },
        {
         "metadata": "{}",
         "name": "AIR_SYSTEM_DELAY",
         "type": "\"integer\""
        },
        {
         "metadata": "{}",
         "name": "SECURITY_DELAY",
         "type": "\"integer\""
        },
        {
         "metadata": "{}",
         "name": "AIRLINE_DELAY",
         "type": "\"integer\""
        },
        {
         "metadata": "{}",
         "name": "LATE_AIRCRAFT_DELAY",
         "type": "\"integer\""
        },
        {
         "metadata": "{}",
         "name": "WEATHER_DELAY",
         "type": "\"integer\""
        }
       ],
       "type": "table"
      }
     },
     "output_type": "display_data"
    }
   ],
   "source": [
    "# Import df_eda\n",
    "df = spark.read.format(\"delta\").load(\"/dbfs/FileStore/tables/df_eda\")\n",
    "\n",
    "# Display result\n",
    "df.limit(10).display()"
   ]
  },
  {
   "cell_type": "code",
   "execution_count": 0,
   "metadata": {
    "application/vnd.databricks.v1+cell": {
     "cellMetadata": {
      "byteLimit": 2048000,
      "rowLimit": 10000
     },
     "inputWidgets": {},
     "nuid": "01ed657f-153f-42d8-8c40-eeaaaa8af041",
     "showTitle": false,
     "tableResultSettingsMap": {},
     "title": ""
    }
   },
   "outputs": [
    {
     "output_type": "stream",
     "name": "stdout",
     "output_type": "stream",
     "text": [
      "root\n |-- YEAR: integer (nullable = true)\n |-- MONTH: integer (nullable = true)\n |-- DAY: integer (nullable = true)\n |-- DAY_OF_WEEK: integer (nullable = true)\n |-- AIRLINE: string (nullable = true)\n |-- FLIGHT_NUMBER: integer (nullable = true)\n |-- TAIL_NUMBER: string (nullable = true)\n |-- ORIGIN_AIRPORT: string (nullable = true)\n |-- DESTINATION_AIRPORT: string (nullable = true)\n |-- SCHEDULED_DEPARTURE: integer (nullable = true)\n |-- DEPARTURE_TIME: integer (nullable = true)\n |-- DEPARTURE_DELAY: integer (nullable = true)\n |-- TAXI_OUT: integer (nullable = true)\n |-- WHEELS_OFF: integer (nullable = true)\n |-- SCHEDULED_TIME: integer (nullable = true)\n |-- ELAPSED_TIME: integer (nullable = true)\n |-- AIR_TIME: integer (nullable = true)\n |-- DISTANCE: integer (nullable = true)\n |-- WHEELS_ON: integer (nullable = true)\n |-- TAXI_IN: integer (nullable = true)\n |-- SCHEDULED_ARRIVAL: integer (nullable = true)\n |-- ARRIVAL_TIME: integer (nullable = true)\n |-- ARRIVAL_DELAY: integer (nullable = true)\n |-- DIVERTED: integer (nullable = true)\n |-- CANCELLED: integer (nullable = true)\n |-- CANCELLATION_REASON: string (nullable = true)\n |-- AIR_SYSTEM_DELAY: integer (nullable = true)\n |-- SECURITY_DELAY: integer (nullable = true)\n |-- AIRLINE_DELAY: integer (nullable = true)\n |-- LATE_AIRCRAFT_DELAY: integer (nullable = true)\n |-- WEATHER_DELAY: integer (nullable = true)\n\n"
     ]
    }
   ],
   "source": [
    "df.printSchema()"
   ]
  },
  {
   "cell_type": "code",
   "execution_count": 0,
   "metadata": {
    "application/vnd.databricks.v1+cell": {
     "cellMetadata": {
      "byteLimit": 2048000,
      "rowLimit": 10000
     },
     "inputWidgets": {},
     "nuid": "97661a3b-e3a8-4fad-be8d-4fd42725e22a",
     "showTitle": false,
     "tableResultSettingsMap": {},
     "title": ""
    }
   },
   "outputs": [
    {
     "output_type": "stream",
     "name": "stdout",
     "output_type": "stream",
     "text": [
      "Total rows: 1063439\n"
     ]
    }
   ],
   "source": [
    "print(f\"Total rows: {df.count()}\")"
   ]
  },
  {
   "cell_type": "markdown",
   "metadata": {
    "application/vnd.databricks.v1+cell": {
     "cellMetadata": {},
     "inputWidgets": {},
     "nuid": "b511a91f-efe7-4c23-92c5-ea61a99e3a80",
     "showTitle": false,
     "tableResultSettingsMap": {},
     "title": ""
    }
   },
   "source": [
    "# 2.3 Sampling"
   ]
  },
  {
   "cell_type": "code",
   "execution_count": 0,
   "metadata": {
    "application/vnd.databricks.v1+cell": {
     "cellMetadata": {
      "byteLimit": 2048000,
      "rowLimit": 10000
     },
     "inputWidgets": {},
     "nuid": "82d11579-2941-42f9-8ed0-544edee623b2",
     "showTitle": false,
     "tableResultSettingsMap": {},
     "title": ""
    }
   },
   "outputs": [],
   "source": [
    "df_sampled = df.sample(withReplacement=False, fraction=0.05, seed=42)"
   ]
  },
  {
   "cell_type": "code",
   "execution_count": 0,
   "metadata": {
    "application/vnd.databricks.v1+cell": {
     "cellMetadata": {
      "byteLimit": 2048000,
      "rowLimit": 10000
     },
     "inputWidgets": {},
     "nuid": "5798e06b-cbb3-4003-bffd-ec82ac48372a",
     "showTitle": false,
     "tableResultSettingsMap": {},
     "title": ""
    }
   },
   "outputs": [
    {
     "output_type": "stream",
     "name": "stdout",
     "output_type": "stream",
     "text": [
      "Total rows of the sampled dataset: 53429\n"
     ]
    }
   ],
   "source": [
    "print(f\"Total rows of the sampled dataset: {df_sampled.count()}\")"
   ]
  },
  {
   "cell_type": "markdown",
   "metadata": {
    "application/vnd.databricks.v1+cell": {
     "cellMetadata": {},
     "inputWidgets": {},
     "nuid": "e3c4623f-c047-4ceb-a54c-dd0d4589751e",
     "showTitle": false,
     "tableResultSettingsMap": {},
     "title": ""
    }
   },
   "source": [
    "# 2.4 Train-Val-Test Split"
   ]
  },
  {
   "cell_type": "code",
   "execution_count": 0,
   "metadata": {
    "application/vnd.databricks.v1+cell": {
     "cellMetadata": {
      "byteLimit": 2048000,
      "rowLimit": 10000
     },
     "inputWidgets": {},
     "nuid": "d3ec9f46-7366-4901-aef9-6de201faafc8",
     "showTitle": false,
     "tableResultSettingsMap": {},
     "title": ""
    }
   },
   "outputs": [],
   "source": [
    "# Add a random number per row (used to split)\n",
    "df_with_rand = df_sampled.withColumn(\"rand\", rand(seed=42))\n",
    "\n",
    "# Create train_df/val/test thresholds\n",
    "train_frac = 0.7\n",
    "val_frac = 0.15\n",
    "test_frac = 0.15\n",
    "\n",
    "# Assign split label per class using window\n",
    "window = Window.partitionBy(\"MONTH\").orderBy(\"rand\")\n",
    "\n",
    "# Count total rows per MONTH to assign quantiles\n",
    "df_with_counts = df_with_rand.withColumn(\"row_number\", row_number().over(window)) \\\n",
    "    .withColumn(\"count_in_month\", count(\"*\").over(Window.partitionBy(\"MONTH\")))\n",
    "\n",
    "# Assign split based on cumulative fractions\n",
    "df_split = df_with_counts.withColumn(\n",
    "    \"split\",\n",
    "    when(col(\"row_number\") <= col(\"count_in_month\") * train_frac, \"train\")\n",
    "     .when(col(\"row_number\") <= col(\"count_in_month\") * (train_frac + val_frac), \"val\")\n",
    "     .otherwise(\"test\")\n",
    ")\n",
    "\n",
    "# Now split the datasets\n",
    "train_df = df_split.filter(col(\"split\") == \"train\").drop(\"rand\", \"row_number\", \"count_in_month\", \"split\")\n",
    "val_df = df_split.filter(col(\"split\") == \"val\").drop(\"rand\", \"row_number\", \"count_in_month\", \"split\")\n",
    "test_df = df_split.filter(col(\"split\") == \"test\").drop(\"rand\", \"row_number\", \"count_in_month\", \"split\")\n"
   ]
  },
  {
   "cell_type": "code",
   "execution_count": 0,
   "metadata": {
    "application/vnd.databricks.v1+cell": {
     "cellMetadata": {
      "byteLimit": 2048000,
      "rowLimit": 10000
     },
     "inputWidgets": {},
     "nuid": "a74948c1-85e4-402c-924d-638d730be88d",
     "showTitle": false,
     "tableResultSettingsMap": {},
     "title": ""
    }
   },
   "outputs": [],
   "source": [
    "train_df = train_df.orderBy(\"DAY\", \"MONTH\", \"ORIGIN_AIRPORT\", \"DESTINATION_AIRPORT\", \"FLIGHT_NUMBER\", \"TAIL_NUMBER\")\n",
    "val_df = val_df.orderBy(\"DAY\", \"MONTH\", \"ORIGIN_AIRPORT\", \"DESTINATION_AIRPORT\", \"FLIGHT_NUMBER\", \"TAIL_NUMBER\")\n",
    "test_df = test_df.orderBy(\"DAY\", \"MONTH\", \"ORIGIN_AIRPORT\", \"DESTINATION_AIRPORT\", \"FLIGHT_NUMBER\", \"TAIL_NUMBER\")\n",
    "\n",
    "window = Window.orderBy(\"DAY\", \"MONTH\", \"ORIGIN_AIRPORT\", \"DESTINATION_AIRPORT\", \"FLIGHT_NUMBER\", \"TAIL_NUMBER\")\n",
    "\n",
    "train_df = train_df.withColumn(\"index\", row_number().over(window))\n",
    "val_df = val_df.withColumn(\"index\", row_number().over(window))\n",
    "test_df = test_df.withColumn(\"index\", row_number().over(window))\n",
    "\n",
    "cols = train_df.columns\n",
    "cols = ['index'] + [c for c in cols if c != 'index']\n",
    "train_df = train_df.select(cols)\n",
    "val_df = val_df.select(cols)\n",
    "test_df = test_df.select(cols)"
   ]
  },
  {
   "cell_type": "code",
   "execution_count": 0,
   "metadata": {
    "application/vnd.databricks.v1+cell": {
     "cellMetadata": {
      "byteLimit": 2048000,
      "rowLimit": 10000
     },
     "inputWidgets": {},
     "nuid": "9ba10c32-0003-4052-81f3-995ef31e1c64",
     "showTitle": false,
     "tableResultSettingsMap": {},
     "title": ""
    }
   },
   "outputs": [
    {
     "output_type": "stream",
     "name": "stdout",
     "output_type": "stream",
     "text": [
      "Total rows in train: 37396\nTotal rows in val: 8013\nTotal rows in test: 8020\n"
     ]
    }
   ],
   "source": [
    "# Count total rows per split\n",
    "total_train = train_df.count()\n",
    "total_val = val_df.count()\n",
    "total_test = test_df.count()\n",
    "\n",
    "print(f\"Total rows in train: {total_train}\")\n",
    "print(f\"Total rows in val: {total_val}\")\n",
    "print(f\"Total rows in test: {total_test}\")"
   ]
  },
  {
   "cell_type": "code",
   "execution_count": 0,
   "metadata": {
    "application/vnd.databricks.v1+cell": {
     "cellMetadata": {
      "byteLimit": 2048000,
      "rowLimit": 10000
     },
     "inputWidgets": {},
     "nuid": "e4fe8df5-aee5-4cac-b477-46fa6f16baf8",
     "showTitle": false,
     "tableResultSettingsMap": {},
     "title": ""
    }
   },
   "outputs": [
    {
     "output_type": "stream",
     "name": "stdout",
     "output_type": "stream",
     "text": [
      "37396\n8013\n8020\n"
     ]
    }
   ],
   "source": [
    "print(train_df.select(\"index\").distinct().count())\n",
    "print(val_df.select(\"index\").distinct().count())\n",
    "print(test_df.select(\"index\").distinct().count())"
   ]
  },
  {
   "cell_type": "code",
   "execution_count": 0,
   "metadata": {
    "application/vnd.databricks.v1+cell": {
     "cellMetadata": {
      "byteLimit": 2048000,
      "rowLimit": 10000
     },
     "inputWidgets": {},
     "nuid": "9ef169b8-5e01-481b-82a6-1fc9e50eb57c",
     "showTitle": false,
     "tableResultSettingsMap": {},
     "title": ""
    }
   },
   "outputs": [
    {
     "output_type": "stream",
     "name": "stdout",
     "output_type": "stream",
     "text": [
      "\nTrain Set - Month Distribution (%):\n+-----+-----+----------+\n|MONTH|count|percentage|\n+-----+-----+----------+\n|1    |3394 |9.08      |\n|2    |3252 |8.7       |\n|3    |3379 |9.04      |\n|4    |2891 |7.73      |\n|5    |3152 |8.43      |\n|6    |4008 |10.72     |\n|7    |3824 |10.23     |\n|8    |3371 |9.01      |\n|9    |2148 |5.74      |\n|10   |2095 |5.6       |\n|11   |2438 |6.52      |\n|12   |3444 |9.21      |\n+-----+-----+----------+\n\n\nValidation Set - Month Distribution (%):\n+-----+-----+----------+\n|MONTH|count|percentage|\n+-----+-----+----------+\n|1    |727  |9.07      |\n|2    |697  |8.7       |\n|3    |724  |9.04      |\n|4    |620  |7.74      |\n|5    |675  |8.42      |\n|6    |859  |10.72     |\n|7    |819  |10.22     |\n|8    |722  |9.01      |\n|9    |460  |5.74      |\n|10   |449  |5.6       |\n|11   |523  |6.53      |\n|12   |738  |9.21      |\n+-----+-----+----------+\n\n\nTest Set - Month Distribution (%):\n+-----+-----+----------+\n|MONTH|count|percentage|\n+-----+-----+----------+\n|1    |728  |9.08      |\n|2    |697  |8.69      |\n|3    |725  |9.04      |\n|4    |620  |7.73      |\n|5    |676  |8.43      |\n|6    |859  |10.71     |\n|7    |820  |10.22     |\n|8    |723  |9.01      |\n|9    |461  |5.75      |\n|10   |449  |5.6       |\n|11   |523  |6.52      |\n|12   |739  |9.21      |\n+-----+-----+----------+\n\n"
     ]
    }
   ],
   "source": [
    "# Function to compute proportions by MONTH\n",
    "def show_month_proportions(df, total_rows, name):\n",
    "    proportions = df.groupBy(\"MONTH\") \\\n",
    "        .count() \\\n",
    "        .withColumn(\"percentage\", round((col(\"count\") / total_rows) * 100, 2)) \\\n",
    "        .orderBy(\"MONTH\")\n",
    "    \n",
    "    print(f\"\\n{name} Set - Month Distribution (%):\")\n",
    "    proportions.show(truncate=False)\n",
    "\n",
    "show_month_proportions(train_df, total_train, \"Train\")\n",
    "show_month_proportions(val_df, total_val, \"Validation\")\n",
    "show_month_proportions(test_df, total_test, \"Test\")"
   ]
  },
  {
   "cell_type": "markdown",
   "metadata": {
    "application/vnd.databricks.v1+cell": {
     "cellMetadata": {},
     "inputWidgets": {},
     "nuid": "7c8b3bbe-7d0d-4c5f-bbc1-bc3b286ffe30",
     "showTitle": false,
     "tableResultSettingsMap": {},
     "title": ""
    }
   },
   "source": [
    "# 2.5 Treatment of numerical airport codes"
   ]
  },
  {
   "cell_type": "markdown",
   "metadata": {
    "application/vnd.databricks.v1+cell": {
     "cellMetadata": {},
     "inputWidgets": {},
     "nuid": "665c7916-6ca3-429f-a9b3-39abf43b72a3",
     "showTitle": false,
     "tableResultSettingsMap": {},
     "title": ""
    }
   },
   "source": [
    "## 2.5.1 Map numeric airport codes to IATA codes"
   ]
  },
  {
   "cell_type": "markdown",
   "metadata": {
    "application/vnd.databricks.v1+cell": {
     "cellMetadata": {},
     "inputWidgets": {},
     "nuid": "76015de9-94bc-4003-a417-3f84f30a7459",
     "showTitle": false,
     "tableResultSettingsMap": {},
     "title": ""
    }
   },
   "source": [
    "We map the numerical airport codes in the dataset to their corresponding IATA codes. This is achieved by importing two auxiliary datasets:\n",
    "\n",
    "- One with the numerical airport codes and their descriptions.\n",
    "- Another containing the IATA codes and their descriptions.\n",
    "\n",
    "We perform a join on the airport description field in order to link the numerical code with the corresponding IATA code."
   ]
  },
  {
   "cell_type": "code",
   "execution_count": 0,
   "metadata": {
    "application/vnd.databricks.v1+cell": {
     "cellMetadata": {
      "byteLimit": 2048000,
      "rowLimit": 10000
     },
     "inputWidgets": {},
     "nuid": "11377b0d-bd55-460c-9d53-eb8719710b5e",
     "showTitle": false,
     "tableResultSettingsMap": {},
     "title": ""
    }
   },
   "outputs": [
    {
     "output_type": "display_data",
     "data": {
      "text/html": [
       "<style scoped>\n",
       "  .table-result-container {\n",
       "    max-height: 300px;\n",
       "    overflow: auto;\n",
       "  }\n",
       "  table, th, td {\n",
       "    border: 1px solid black;\n",
       "    border-collapse: collapse;\n",
       "  }\n",
       "  th, td {\n",
       "    padding: 5px;\n",
       "  }\n",
       "  th {\n",
       "    text-align: left;\n",
       "  }\n",
       "</style><div class='table-result-container'><table class='table-result'><thead style='background-color: white'><tr><th>Code</th><th>Description</th></tr></thead><tbody><tr><td>01A</td><td>Afognak Lake, AK: Afognak Lake Airport</td></tr><tr><td>03A</td><td>Granite Mountain, AK: Bear Creek Mining Strip</td></tr><tr><td>04A</td><td>Lik, AK: Lik Mining Camp</td></tr><tr><td>05A</td><td>Little Squaw, AK: Little Squaw Airport</td></tr><tr><td>06A</td><td>Kizhuyak, AK: Kizhuyak Bay</td></tr><tr><td>07A</td><td>Klawock, AK: Klawock Seaplane Base</td></tr><tr><td>08A</td><td>Elizabeth Island, AK: Elizabeth Island Airport</td></tr><tr><td>09A</td><td>Homer, AK: Augustin Island</td></tr><tr><td>1AK</td><td>Mertarvik, AK: Mertarvik Quarry Road Landing Strip</td></tr><tr><td>1B1</td><td>Hudson, NY: Columbia County</td></tr></tbody></table></div>"
      ]
     },
     "metadata": {
      "application/vnd.databricks.v1+output": {
       "addedWidgets": {},
       "aggData": [],
       "aggError": "",
       "aggOverflow": false,
       "aggSchema": [],
       "aggSeriesLimitReached": false,
       "aggType": "",
       "arguments": {},
       "columnCustomDisplayInfos": {},
       "data": [
        [
         "01A",
         "Afognak Lake, AK: Afognak Lake Airport"
        ],
        [
         "03A",
         "Granite Mountain, AK: Bear Creek Mining Strip"
        ],
        [
         "04A",
         "Lik, AK: Lik Mining Camp"
        ],
        [
         "05A",
         "Little Squaw, AK: Little Squaw Airport"
        ],
        [
         "06A",
         "Kizhuyak, AK: Kizhuyak Bay"
        ],
        [
         "07A",
         "Klawock, AK: Klawock Seaplane Base"
        ],
        [
         "08A",
         "Elizabeth Island, AK: Elizabeth Island Airport"
        ],
        [
         "09A",
         "Homer, AK: Augustin Island"
        ],
        [
         "1AK",
         "Mertarvik, AK: Mertarvik Quarry Road Landing Strip"
        ],
        [
         "1B1",
         "Hudson, NY: Columbia County"
        ]
       ],
       "datasetInfos": [],
       "dbfsResultPath": null,
       "isJsonSchema": true,
       "metadata": {},
       "overflow": false,
       "plotOptions": {
        "customPlotOptions": {},
        "displayType": "table",
        "pivotAggregation": null,
        "pivotColumns": null,
        "xColumns": null,
        "yColumns": null
       },
       "removedWidgets": [],
       "schema": [
        {
         "metadata": "{}",
         "name": "Code",
         "type": "\"string\""
        },
        {
         "metadata": "{}",
         "name": "Description",
         "type": "\"string\""
        }
       ],
       "type": "table"
      }
     },
     "output_type": "display_data"
    }
   ],
   "source": [
    "# File location and type\n",
    "l_airport_file_location = \"/FileStore/tables/L_AIRPORT.csv\"\n",
    "file_type = \"csv\"\n",
    "\n",
    "# CSV options\n",
    "infer_schema = \"true\"\n",
    "first_row_is_header = \"true\"\n",
    "delimiter = \",\"\n",
    "\n",
    "\n",
    "airport = (\n",
    "    spark.read.format(file_type)\n",
    "    .option(\"inferSchema\", infer_schema)\n",
    "    .option(\"header\", first_row_is_header)\n",
    "    .option(\"sep\", delimiter)\n",
    "    .option(\"quote\", '\"') # To handle commas correctly\n",
    "    .option(\"escape\", '\"')\n",
    "    .option(\"multiLine\", \"true\")  # Allow fields to span multiple lines (helps with complex quoted fields)\n",
    "    .option(\"mode\", \"PERMISSIVE\") # Avoid failing on corrupt records\n",
    "    .load(l_airport_file_location)\n",
    ")\n",
    "\n",
    "\n",
    "# Display result\n",
    "airport.limit(10).display()"
   ]
  },
  {
   "cell_type": "code",
   "execution_count": 0,
   "metadata": {
    "application/vnd.databricks.v1+cell": {
     "cellMetadata": {
      "byteLimit": 2048000,
      "rowLimit": 10000
     },
     "inputWidgets": {},
     "nuid": "bd36c77c-6933-4e60-a2b9-c96b8dec3407",
     "showTitle": false,
     "tableResultSettingsMap": {},
     "title": ""
    }
   },
   "outputs": [
    {
     "output_type": "display_data",
     "data": {
      "text/html": [
       "<style scoped>\n",
       "  .table-result-container {\n",
       "    max-height: 300px;\n",
       "    overflow: auto;\n",
       "  }\n",
       "  table, th, td {\n",
       "    border: 1px solid black;\n",
       "    border-collapse: collapse;\n",
       "  }\n",
       "  th, td {\n",
       "    padding: 5px;\n",
       "  }\n",
       "  th {\n",
       "    text-align: left;\n",
       "  }\n",
       "</style><div class='table-result-container'><table class='table-result'><thead style='background-color: white'><tr><th>Code</th><th>Description</th></tr></thead><tbody><tr><td>10001</td><td>Afognak Lake, AK: Afognak Lake Airport</td></tr><tr><td>10003</td><td>Granite Mountain, AK: Bear Creek Mining Strip</td></tr><tr><td>10004</td><td>Lik, AK: Lik Mining Camp</td></tr><tr><td>10005</td><td>Little Squaw, AK: Little Squaw Airport</td></tr><tr><td>10006</td><td>Kizhuyak, AK: Kizhuyak Bay</td></tr><tr><td>10007</td><td>Klawock, AK: Klawock Seaplane Base</td></tr><tr><td>10008</td><td>Elizabeth Island, AK: Elizabeth Island Airport</td></tr><tr><td>10009</td><td>Homer, AK: Augustin Island</td></tr><tr><td>10010</td><td>Hudson, NY: Columbia County</td></tr><tr><td>10011</td><td>Peach Springs, AZ: Grand Canyon West</td></tr></tbody></table></div>"
      ]
     },
     "metadata": {
      "application/vnd.databricks.v1+output": {
       "addedWidgets": {},
       "aggData": [],
       "aggError": "",
       "aggOverflow": false,
       "aggSchema": [],
       "aggSeriesLimitReached": false,
       "aggType": "",
       "arguments": {},
       "columnCustomDisplayInfos": {},
       "data": [
        [
         10001,
         "Afognak Lake, AK: Afognak Lake Airport"
        ],
        [
         10003,
         "Granite Mountain, AK: Bear Creek Mining Strip"
        ],
        [
         10004,
         "Lik, AK: Lik Mining Camp"
        ],
        [
         10005,
         "Little Squaw, AK: Little Squaw Airport"
        ],
        [
         10006,
         "Kizhuyak, AK: Kizhuyak Bay"
        ],
        [
         10007,
         "Klawock, AK: Klawock Seaplane Base"
        ],
        [
         10008,
         "Elizabeth Island, AK: Elizabeth Island Airport"
        ],
        [
         10009,
         "Homer, AK: Augustin Island"
        ],
        [
         10010,
         "Hudson, NY: Columbia County"
        ],
        [
         10011,
         "Peach Springs, AZ: Grand Canyon West"
        ]
       ],
       "datasetInfos": [],
       "dbfsResultPath": null,
       "isJsonSchema": true,
       "metadata": {},
       "overflow": false,
       "plotOptions": {
        "customPlotOptions": {},
        "displayType": "table",
        "pivotAggregation": null,
        "pivotColumns": null,
        "xColumns": null,
        "yColumns": null
       },
       "removedWidgets": [],
       "schema": [
        {
         "metadata": "{}",
         "name": "Code",
         "type": "\"integer\""
        },
        {
         "metadata": "{}",
         "name": "Description",
         "type": "\"string\""
        }
       ],
       "type": "table"
      }
     },
     "output_type": "display_data"
    }
   ],
   "source": [
    "# File location and type\n",
    "l_airport_id_file_location = \"/FileStore/tables/L_AIRPORT_ID.csv\"\n",
    "file_type = \"csv\"\n",
    "\n",
    "# CSV options\n",
    "infer_schema = \"true\"\n",
    "first_row_is_header = \"true\"\n",
    "delimiter = \",\"\n",
    "\n",
    "\n",
    "airport_id = (\n",
    "    spark.read.format(file_type)\n",
    "    .option(\"inferSchema\", infer_schema)\n",
    "    .option(\"header\", first_row_is_header)\n",
    "    .option(\"sep\", delimiter)\n",
    "    .option(\"quote\", '\"') # To handle commas correctly\n",
    "    .option(\"escape\", '\"')\n",
    "    .option(\"multiLine\", \"true\")  # Allow fields to span multiple lines (helps with complex quoted fields)\n",
    "    .option(\"mode\", \"PERMISSIVE\") # Avoid failing on corrupt records\n",
    "    .load(l_airport_id_file_location)\n",
    ")\n",
    "\n",
    "\n",
    "# Display result\n",
    "airport_id.limit(10).display()"
   ]
  },
  {
   "cell_type": "code",
   "execution_count": 0,
   "metadata": {
    "application/vnd.databricks.v1+cell": {
     "cellMetadata": {
      "byteLimit": 2048000,
      "rowLimit": 10000
     },
     "inputWidgets": {},
     "nuid": "49ebf19b-b555-4ba5-8611-cda17d41ab04",
     "showTitle": false,
     "tableResultSettingsMap": {},
     "title": ""
    }
   },
   "outputs": [
    {
     "output_type": "display_data",
     "data": {
      "text/html": [
       "<style scoped>\n",
       "  .table-result-container {\n",
       "    max-height: 300px;\n",
       "    overflow: auto;\n",
       "  }\n",
       "  table, th, td {\n",
       "    border: 1px solid black;\n",
       "    border-collapse: collapse;\n",
       "  }\n",
       "  th, td {\n",
       "    padding: 5px;\n",
       "  }\n",
       "  th {\n",
       "    text-align: left;\n",
       "  }\n",
       "</style><div class='table-result-container'><table class='table-result'><thead style='background-color: white'><tr><th>Description</th><th>airport_id</th><th>iata_code</th></tr></thead><tbody><tr><td>Afognak Lake, AK: Afognak Lake Airport</td><td>10001</td><td>01A</td></tr><tr><td>Granite Mountain, AK: Bear Creek Mining Strip</td><td>10003</td><td>03A</td></tr><tr><td>Lik, AK: Lik Mining Camp</td><td>10004</td><td>04A</td></tr><tr><td>Little Squaw, AK: Little Squaw Airport</td><td>10005</td><td>05A</td></tr><tr><td>Kizhuyak, AK: Kizhuyak Bay</td><td>10006</td><td>06A</td></tr><tr><td>Klawock, AK: Klawock Seaplane Base</td><td>10007</td><td>07A</td></tr><tr><td>Elizabeth Island, AK: Elizabeth Island Airport</td><td>10008</td><td>08A</td></tr><tr><td>Homer, AK: Augustin Island</td><td>10009</td><td>09A</td></tr><tr><td>Hudson, NY: Columbia County</td><td>10010</td><td>1B1</td></tr><tr><td>Peach Springs, AZ: Grand Canyon West</td><td>10011</td><td>DQR</td></tr></tbody></table></div>"
      ]
     },
     "metadata": {
      "application/vnd.databricks.v1+output": {
       "addedWidgets": {},
       "aggData": [],
       "aggError": "",
       "aggOverflow": false,
       "aggSchema": [],
       "aggSeriesLimitReached": false,
       "aggType": "",
       "arguments": {},
       "columnCustomDisplayInfos": {},
       "data": [
        [
         "Afognak Lake, AK: Afognak Lake Airport",
         10001,
         "01A"
        ],
        [
         "Granite Mountain, AK: Bear Creek Mining Strip",
         10003,
         "03A"
        ],
        [
         "Lik, AK: Lik Mining Camp",
         10004,
         "04A"
        ],
        [
         "Little Squaw, AK: Little Squaw Airport",
         10005,
         "05A"
        ],
        [
         "Kizhuyak, AK: Kizhuyak Bay",
         10006,
         "06A"
        ],
        [
         "Klawock, AK: Klawock Seaplane Base",
         10007,
         "07A"
        ],
        [
         "Elizabeth Island, AK: Elizabeth Island Airport",
         10008,
         "08A"
        ],
        [
         "Homer, AK: Augustin Island",
         10009,
         "09A"
        ],
        [
         "Hudson, NY: Columbia County",
         10010,
         "1B1"
        ],
        [
         "Peach Springs, AZ: Grand Canyon West",
         10011,
         "DQR"
        ]
       ],
       "datasetInfos": [],
       "dbfsResultPath": null,
       "isJsonSchema": true,
       "metadata": {},
       "overflow": false,
       "plotOptions": {
        "customPlotOptions": {},
        "displayType": "table",
        "pivotAggregation": null,
        "pivotColumns": null,
        "xColumns": null,
        "yColumns": null
       },
       "removedWidgets": [],
       "schema": [
        {
         "metadata": "{}",
         "name": "Description",
         "type": "\"string\""
        },
        {
         "metadata": "{}",
         "name": "airport_id",
         "type": "\"integer\""
        },
        {
         "metadata": "{}",
         "name": "iata_code",
         "type": "\"string\""
        }
       ],
       "type": "table"
      }
     },
     "output_type": "display_data"
    }
   ],
   "source": [
    "airport_id = airport_id.withColumnRenamed(\"Code\", \"airport_id\")\n",
    "airport = airport.withColumnRenamed(\"Code\", \"iata_code\")\n",
    "\n",
    "# Join on Description\n",
    "airport_full = airport_id.join(airport, on=\"Description\", how=\"inner\")\n",
    "\n",
    "# Final selection\n",
    "airport_full.select(\"iata_code\", \"airport_id\", \"Description\")\n",
    "\n",
    "airport_full.limit(10).display()"
   ]
  },
  {
   "cell_type": "markdown",
   "metadata": {
    "application/vnd.databricks.v1+cell": {
     "cellMetadata": {},
     "inputWidgets": {},
     "nuid": "129321c2-000a-4ee1-ad67-53075a3c5a92",
     "showTitle": false,
     "tableResultSettingsMap": {},
     "title": ""
    }
   },
   "source": [
    "## 2.5.2 Function to replace numerical airport codes"
   ]
  },
  {
   "cell_type": "markdown",
   "metadata": {
    "application/vnd.databricks.v1+cell": {
     "cellMetadata": {},
     "inputWidgets": {},
     "nuid": "f382507c-3a6d-43ed-97f4-008ccab0a886",
     "showTitle": false,
     "tableResultSettingsMap": {},
     "title": ""
    }
   },
   "source": [
    "We define a function to identify and replace numerical airport codes in the ORIGIN_AIRPORT and DESTINATION_AIRPORT columns with their corresponding IATA codes using the mapping dataframe. The function returns a cleaned dataframe with two new columns: ORIGIN_AIRPORT_CLEAN and DESTINATION_AIRPORT_CLEAN."
   ]
  },
  {
   "cell_type": "code",
   "execution_count": 0,
   "metadata": {
    "application/vnd.databricks.v1+cell": {
     "cellMetadata": {
      "byteLimit": 2048000,
      "rowLimit": 10000
     },
     "inputWidgets": {},
     "nuid": "bcf3d28d-1268-4af0-a1be-bd20c8f6cf60",
     "showTitle": false,
     "tableResultSettingsMap": {},
     "title": ""
    }
   },
   "outputs": [],
   "source": [
    "def replace_numeric_airports(df, airport_mapping_df):\n",
    "    \"\"\"\n",
    "    Replace numeric airport codes in ORIGIN_AIRPORT and DESTINATION_AIRPORT\n",
    "    with IATA codes.\n",
    "\n",
    "    Parameters:\n",
    "    df (DataFrame): input dataframe\n",
    "    airport_mapping_df (DataFrame): must contain columns ['airport_code', 'iata_code']\n",
    "\n",
    "    Returns:\n",
    "    DataFrame: cleaned DataFrame with ORIGIN_AIRPORT_CLEAN and DESTINATION_AIRPORT_CLEAN\n",
    "    \"\"\"\n",
    "\n",
    "    # Filter numeric origin and destination airport codes\n",
    "    numeric_origin_df = df.filter(col(\"ORIGIN_AIRPORT\").rlike(\"^[0-9]+\")) \\\n",
    "                                .select(col(\"ORIGIN_AIRPORT\").cast(\"string\").alias(\"airport_code\"))\n",
    "\n",
    "    numeric_dest_df = df.filter(col(\"DESTINATION_AIRPORT\").rlike(\"^[0-9]+\")) \\\n",
    "                            .select(col(\"DESTINATION_AIRPORT\").cast(\"string\").alias(\"airport_code\"))\n",
    "\n",
    "    print(\"Unique numeric ORIGIN_AIRPORT codes:\", numeric_origin_df.select(\"airport_code\").distinct().count())\n",
    "    print(\"Unique numeric DESTINATION_AIRPORT codes:\", numeric_dest_df.select(\"airport_code\").distinct().count())\n",
    "\n",
    "    # Union and drop duplicates to get unique codes from both origin and destination\n",
    "    numeric_airports_df = numeric_origin_df.union(numeric_dest_df).distinct()\n",
    "\n",
    "    print(\"Total unique numeric airport codes:\", numeric_airports_df.count())\n",
    "\n",
    "    # Union and drop duplicates to get unique codes from both origin and destination\n",
    "    mapped_airports = numeric_airports_df.select(\"airport_code\").distinct() \\\n",
    "        .join(\n",
    "            airport_full.select(\"airport_id\", \"iata_code\"),\n",
    "            numeric_airports_df[\"airport_code\"] == airport_full[\"airport_id\"],\n",
    "            how=\"left\"\n",
    "        ) \\\n",
    "        .select(\"airport_code\", \"iata_code\") \\\n",
    "        .dropDuplicates()\n",
    "\n",
    "    # Join with mapping for ORIGIN and DESTINATION\n",
    "    joined_df = df \\\n",
    "        .join(mapped_airports.withColumnRenamed(\"airport_code\", \"origin_id\").withColumnRenamed(\"iata_code\", \"origin_iata\"),\n",
    "            df[\"ORIGIN_AIRPORT\"] == col(\"origin_id\"),\n",
    "            how=\"left\") \\\n",
    "        .join(mapped_airports.withColumnRenamed(\"airport_code\", \"dest_id\").withColumnRenamed(\"iata_code\", \"dest_iata\"),\n",
    "            df[\"DESTINATION_AIRPORT\"] == col(\"dest_id\"),\n",
    "            how=\"left\")\n",
    "\n",
    "    # Replace numeric codes with IATA codes if available\n",
    "    replaced_df = joined_df.withColumn(\n",
    "        \"ORIGIN_AIRPORT_CLEAN\",\n",
    "        when(col(\"origin_iata\").isNotNull(), col(\"origin_iata\")).otherwise(col(\"ORIGIN_AIRPORT\"))\n",
    "    ).withColumn(\n",
    "        \"DESTINATION_AIRPORT_CLEAN\",\n",
    "        when(col(\"dest_iata\").isNotNull(), col(\"dest_iata\")).otherwise(col(\"DESTINATION_AIRPORT\"))\n",
    "    )\n",
    "\n",
    "    # Filter numeric origin and destination airport codes\n",
    "    numeric_origin_df = replaced_df.filter(col(\"ORIGIN_AIRPORT_CLEAN\").rlike(\"^[0-9]+\")) \\\n",
    "                                .select(col(\"ORIGIN_AIRPORT_CLEAN\").cast(\"string\").alias(\"airport_code\"))\n",
    "\n",
    "    numeric_dest_df = replaced_df.filter(col(\"DESTINATION_AIRPORT_CLEAN\").rlike(\"^[0-9]+\")) \\\n",
    "                            .select(col(\"DESTINATION_AIRPORT_CLEAN\").cast(\"string\").alias(\"airport_code\"))\n",
    "\n",
    "    # Count numeric entries\n",
    "    print(\"Numeric ORIGIN_AIRPORT_CLEAN count:\", numeric_origin_df.count())\n",
    "    print(\"Numeric DESTINATION_AIRPORT_CLEAN count:\", numeric_dest_df.count())\n",
    "\n",
    "    # Clean up\n",
    "    return replaced_df.drop(\"origin_id\", \"dest_id\", \"origin_iata\", \"dest_iata\")\n"
   ]
  },
  {
   "cell_type": "code",
   "execution_count": 0,
   "metadata": {
    "application/vnd.databricks.v1+cell": {
     "cellMetadata": {
      "byteLimit": 2048000,
      "rowLimit": 10000
     },
     "inputWidgets": {},
     "nuid": "257bf59f-0c13-408d-9f57-1c30acb2b14c",
     "showTitle": false,
     "tableResultSettingsMap": {},
     "title": ""
    }
   },
   "outputs": [
    {
     "output_type": "stream",
     "name": "stdout",
     "output_type": "stream",
     "text": [
      "Unique numeric ORIGIN_AIRPORT codes: 187\nUnique numeric DESTINATION_AIRPORT codes: 192\nTotal unique numeric airport codes: 230\nNumeric ORIGIN_AIRPORT_CLEAN count: 0\nNumeric DESTINATION_AIRPORT_CLEAN count: 0\n"
     ]
    }
   ],
   "source": [
    "cleaned_train_df = replace_numeric_airports(train_df, airport_full)"
   ]
  },
  {
   "cell_type": "code",
   "execution_count": 0,
   "metadata": {
    "application/vnd.databricks.v1+cell": {
     "cellMetadata": {
      "byteLimit": 2048000,
      "rowLimit": 10000
     },
     "inputWidgets": {},
     "nuid": "9f9ce70c-8c99-4426-a5db-f01b0ac4197f",
     "showTitle": false,
     "tableResultSettingsMap": {},
     "title": ""
    }
   },
   "outputs": [
    {
     "output_type": "display_data",
     "data": {
      "text/html": [
       "<style scoped>\n",
       "  .table-result-container {\n",
       "    max-height: 300px;\n",
       "    overflow: auto;\n",
       "  }\n",
       "  table, th, td {\n",
       "    border: 1px solid black;\n",
       "    border-collapse: collapse;\n",
       "  }\n",
       "  th, td {\n",
       "    padding: 5px;\n",
       "  }\n",
       "  th {\n",
       "    text-align: left;\n",
       "  }\n",
       "</style><div class='table-result-container'><table class='table-result'><thead style='background-color: white'><tr><th>ORIGIN_AIRPORT</th><th>ORIGIN_AIRPORT_CLEAN</th><th>DESTINATION_AIRPORT</th><th>DESTINATION_AIRPORT_CLEAN</th></tr></thead><tbody><tr><td>12003</td><td>GTF</td><td>11292</td><td>DEN</td></tr><tr><td>14986</td><td>SRQ</td><td>12953</td><td>LGA</td></tr><tr><td>13851</td><td>OKC</td><td>12892</td><td>LAX</td></tr><tr><td>13851</td><td>OKC</td><td>14107</td><td>PHX</td></tr><tr><td>13851</td><td>OKC</td><td>13930</td><td>ORD</td></tr><tr><td>13851</td><td>OKC</td><td>13487</td><td>MSP</td></tr><tr><td>13851</td><td>OKC</td><td>11433</td><td>DTW</td></tr><tr><td>13851</td><td>OKC</td><td>10821</td><td>BWI</td></tr><tr><td>13851</td><td>OKC</td><td>12266</td><td>IAH</td></tr><tr><td>11150</td><td>CSG</td><td>10397</td><td>ATL</td></tr></tbody></table></div>"
      ]
     },
     "metadata": {
      "application/vnd.databricks.v1+output": {
       "addedWidgets": {},
       "aggData": [],
       "aggError": "",
       "aggOverflow": false,
       "aggSchema": [],
       "aggSeriesLimitReached": false,
       "aggType": "",
       "arguments": {},
       "columnCustomDisplayInfos": {},
       "data": [
        [
         "12003",
         "GTF",
         "11292",
         "DEN"
        ],
        [
         "14986",
         "SRQ",
         "12953",
         "LGA"
        ],
        [
         "13851",
         "OKC",
         "12892",
         "LAX"
        ],
        [
         "13851",
         "OKC",
         "14107",
         "PHX"
        ],
        [
         "13851",
         "OKC",
         "13930",
         "ORD"
        ],
        [
         "13851",
         "OKC",
         "13487",
         "MSP"
        ],
        [
         "13851",
         "OKC",
         "11433",
         "DTW"
        ],
        [
         "13851",
         "OKC",
         "10821",
         "BWI"
        ],
        [
         "13851",
         "OKC",
         "12266",
         "IAH"
        ],
        [
         "11150",
         "CSG",
         "10397",
         "ATL"
        ]
       ],
       "datasetInfos": [],
       "dbfsResultPath": null,
       "isJsonSchema": true,
       "metadata": {},
       "overflow": false,
       "plotOptions": {
        "customPlotOptions": {},
        "displayType": "table",
        "pivotAggregation": null,
        "pivotColumns": null,
        "xColumns": null,
        "yColumns": null
       },
       "removedWidgets": [],
       "schema": [
        {
         "metadata": "{}",
         "name": "ORIGIN_AIRPORT",
         "type": "\"string\""
        },
        {
         "metadata": "{}",
         "name": "ORIGIN_AIRPORT_CLEAN",
         "type": "\"string\""
        },
        {
         "metadata": "{}",
         "name": "DESTINATION_AIRPORT",
         "type": "\"string\""
        },
        {
         "metadata": "{}",
         "name": "DESTINATION_AIRPORT_CLEAN",
         "type": "\"string\""
        }
       ],
       "type": "table"
      }
     },
     "output_type": "display_data"
    }
   ],
   "source": [
    "# Only show rows where either origin or destination was replaced\n",
    "changed_df = cleaned_train_df.filter(\n",
    "    (col(\"ORIGIN_AIRPORT\") != col(\"ORIGIN_AIRPORT_CLEAN\")) |\n",
    "    (col(\"DESTINATION_AIRPORT\") != col(\"DESTINATION_AIRPORT_CLEAN\"))\n",
    ")\n",
    "\n",
    "# Display only the relevant columns\n",
    "changed_df.select(\n",
    "    \"ORIGIN_AIRPORT\", \"ORIGIN_AIRPORT_CLEAN\",\n",
    "    \"DESTINATION_AIRPORT\", \"DESTINATION_AIRPORT_CLEAN\"\n",
    ").distinct().limit(10).display()"
   ]
  },
  {
   "cell_type": "code",
   "execution_count": 0,
   "metadata": {
    "application/vnd.databricks.v1+cell": {
     "cellMetadata": {
      "byteLimit": 2048000,
      "rowLimit": 10000
     },
     "inputWidgets": {},
     "nuid": "ae6ee289-fd9a-4bbf-9ff5-b498df524222",
     "showTitle": false,
     "tableResultSettingsMap": {},
     "title": ""
    }
   },
   "outputs": [
    {
     "output_type": "stream",
     "name": "stdout",
     "output_type": "stream",
     "text": [
      "Unique numeric ORIGIN_AIRPORT codes: 114\nUnique numeric DESTINATION_AIRPORT codes: 99\nTotal unique numeric airport codes: 140\nNumeric ORIGIN_AIRPORT_CLEAN count: 0\nNumeric DESTINATION_AIRPORT_CLEAN count: 0\n"
     ]
    }
   ],
   "source": [
    "cleaned_val_df = replace_numeric_airports(val_df, airport_full)"
   ]
  },
  {
   "cell_type": "code",
   "execution_count": 0,
   "metadata": {
    "application/vnd.databricks.v1+cell": {
     "cellMetadata": {
      "byteLimit": 2048000,
      "rowLimit": 10000
     },
     "inputWidgets": {},
     "nuid": "6e66fee3-95c6-4fc4-ab6c-25892db1dc8a",
     "showTitle": false,
     "tableResultSettingsMap": {},
     "title": ""
    }
   },
   "outputs": [
    {
     "output_type": "stream",
     "name": "stdout",
     "output_type": "stream",
     "text": [
      "Unique numeric ORIGIN_AIRPORT codes: 99\nUnique numeric DESTINATION_AIRPORT codes: 117\nTotal unique numeric airport codes: 143\nNumeric ORIGIN_AIRPORT_CLEAN count: 0\nNumeric DESTINATION_AIRPORT_CLEAN count: 0\n"
     ]
    }
   ],
   "source": [
    "cleaned_test_df = replace_numeric_airports(test_df, airport_full)"
   ]
  },
  {
   "cell_type": "code",
   "execution_count": 0,
   "metadata": {
    "application/vnd.databricks.v1+cell": {
     "cellMetadata": {
      "byteLimit": 2048000,
      "rowLimit": 10000
     },
     "inputWidgets": {},
     "nuid": "062f09c8-e1c5-4a62-a5d6-b65cc6475786",
     "showTitle": false,
     "tableResultSettingsMap": {},
     "title": ""
    }
   },
   "outputs": [
    {
     "output_type": "display_data",
     "data": {
      "text/html": [
       "<style scoped>\n",
       "  .table-result-container {\n",
       "    max-height: 300px;\n",
       "    overflow: auto;\n",
       "  }\n",
       "  table, th, td {\n",
       "    border: 1px solid black;\n",
       "    border-collapse: collapse;\n",
       "  }\n",
       "  th, td {\n",
       "    padding: 5px;\n",
       "  }\n",
       "  th {\n",
       "    text-align: left;\n",
       "  }\n",
       "</style><div class='table-result-container'><table class='table-result'><thead style='background-color: white'><tr><th>index</th><th>YEAR</th><th>MONTH</th><th>DAY</th><th>DAY_OF_WEEK</th><th>AIRLINE</th><th>FLIGHT_NUMBER</th><th>TAIL_NUMBER</th><th>ORIGIN_AIRPORT</th><th>DESTINATION_AIRPORT</th><th>SCHEDULED_DEPARTURE</th><th>DEPARTURE_TIME</th><th>DEPARTURE_DELAY</th><th>TAXI_OUT</th><th>WHEELS_OFF</th><th>SCHEDULED_TIME</th><th>ELAPSED_TIME</th><th>AIR_TIME</th><th>DISTANCE</th><th>WHEELS_ON</th><th>TAXI_IN</th><th>SCHEDULED_ARRIVAL</th><th>ARRIVAL_TIME</th><th>ARRIVAL_DELAY</th><th>DIVERTED</th><th>CANCELLED</th><th>CANCELLATION_REASON</th><th>AIR_SYSTEM_DELAY</th><th>SECURITY_DELAY</th><th>AIRLINE_DELAY</th><th>LATE_AIRCRAFT_DELAY</th><th>WEATHER_DELAY</th><th>ORIGIN_AIRPORT_CLEAN</th><th>DESTINATION_AIRPORT_CLEAN</th></tr></thead><tbody><tr><td>1022</td><td>2015</td><td>10</td><td>1</td><td>4</td><td>WN</td><td>2065</td><td>N659SW</td><td>10423</td><td>10693</td><td>1710</td><td>1729</td><td>19</td><td>16</td><td>1745</td><td>120</td><td>132</td><td>110</td><td>756</td><td>1935</td><td>6</td><td>1910</td><td>1941</td><td>31</td><td>0</td><td>0</td><td>null</td><td>12</td><td>0</td><td>19</td><td>0</td><td>0</td><td>AUS</td><td>BNA</td></tr><tr><td>1022</td><td>2015</td><td>10</td><td>1</td><td>4</td><td>WN</td><td>2065</td><td>N659SW</td><td>10423</td><td>10693</td><td>1710</td><td>1729</td><td>19</td><td>16</td><td>1745</td><td>120</td><td>132</td><td>110</td><td>756</td><td>1935</td><td>6</td><td>1910</td><td>1941</td><td>31</td><td>0</td><td>0</td><td>null</td><td>12</td><td>0</td><td>19</td><td>0</td><td>0</td><td>BSM</td><td>BNA</td></tr></tbody></table></div>"
      ]
     },
     "metadata": {
      "application/vnd.databricks.v1+output": {
       "addedWidgets": {},
       "aggData": [],
       "aggError": "",
       "aggOverflow": false,
       "aggSchema": [],
       "aggSeriesLimitReached": false,
       "aggType": "",
       "arguments": {},
       "columnCustomDisplayInfos": {},
       "data": [
        [
         1022,
         2015,
         10,
         1,
         4,
         "WN",
         2065,
         "N659SW",
         "10423",
         "10693",
         1710,
         1729,
         19,
         16,
         1745,
         120,
         132,
         110,
         756,
         1935,
         6,
         1910,
         1941,
         31,
         0,
         0,
         null,
         12,
         0,
         19,
         0,
         0,
         "AUS",
         "BNA"
        ],
        [
         1022,
         2015,
         10,
         1,
         4,
         "WN",
         2065,
         "N659SW",
         "10423",
         "10693",
         1710,
         1729,
         19,
         16,
         1745,
         120,
         132,
         110,
         756,
         1935,
         6,
         1910,
         1941,
         31,
         0,
         0,
         null,
         12,
         0,
         19,
         0,
         0,
         "BSM",
         "BNA"
        ]
       ],
       "datasetInfos": [],
       "dbfsResultPath": null,
       "isJsonSchema": true,
       "metadata": {},
       "overflow": false,
       "plotOptions": {
        "customPlotOptions": {},
        "displayType": "table",
        "pivotAggregation": null,
        "pivotColumns": null,
        "xColumns": null,
        "yColumns": null
       },
       "removedWidgets": [],
       "schema": [
        {
         "metadata": "{}",
         "name": "index",
         "type": "\"integer\""
        },
        {
         "metadata": "{}",
         "name": "YEAR",
         "type": "\"integer\""
        },
        {
         "metadata": "{}",
         "name": "MONTH",
         "type": "\"integer\""
        },
        {
         "metadata": "{}",
         "name": "DAY",
         "type": "\"integer\""
        },
        {
         "metadata": "{}",
         "name": "DAY_OF_WEEK",
         "type": "\"integer\""
        },
        {
         "metadata": "{}",
         "name": "AIRLINE",
         "type": "\"string\""
        },
        {
         "metadata": "{}",
         "name": "FLIGHT_NUMBER",
         "type": "\"integer\""
        },
        {
         "metadata": "{}",
         "name": "TAIL_NUMBER",
         "type": "\"string\""
        },
        {
         "metadata": "{}",
         "name": "ORIGIN_AIRPORT",
         "type": "\"string\""
        },
        {
         "metadata": "{}",
         "name": "DESTINATION_AIRPORT",
         "type": "\"string\""
        },
        {
         "metadata": "{}",
         "name": "SCHEDULED_DEPARTURE",
         "type": "\"integer\""
        },
        {
         "metadata": "{}",
         "name": "DEPARTURE_TIME",
         "type": "\"integer\""
        },
        {
         "metadata": "{}",
         "name": "DEPARTURE_DELAY",
         "type": "\"integer\""
        },
        {
         "metadata": "{}",
         "name": "TAXI_OUT",
         "type": "\"integer\""
        },
        {
         "metadata": "{}",
         "name": "WHEELS_OFF",
         "type": "\"integer\""
        },
        {
         "metadata": "{}",
         "name": "SCHEDULED_TIME",
         "type": "\"integer\""
        },
        {
         "metadata": "{}",
         "name": "ELAPSED_TIME",
         "type": "\"integer\""
        },
        {
         "metadata": "{}",
         "name": "AIR_TIME",
         "type": "\"integer\""
        },
        {
         "metadata": "{}",
         "name": "DISTANCE",
         "type": "\"integer\""
        },
        {
         "metadata": "{}",
         "name": "WHEELS_ON",
         "type": "\"integer\""
        },
        {
         "metadata": "{}",
         "name": "TAXI_IN",
         "type": "\"integer\""
        },
        {
         "metadata": "{}",
         "name": "SCHEDULED_ARRIVAL",
         "type": "\"integer\""
        },
        {
         "metadata": "{}",
         "name": "ARRIVAL_TIME",
         "type": "\"integer\""
        },
        {
         "metadata": "{}",
         "name": "ARRIVAL_DELAY",
         "type": "\"integer\""
        },
        {
         "metadata": "{}",
         "name": "DIVERTED",
         "type": "\"integer\""
        },
        {
         "metadata": "{}",
         "name": "CANCELLED",
         "type": "\"integer\""
        },
        {
         "metadata": "{}",
         "name": "CANCELLATION_REASON",
         "type": "\"string\""
        },
        {
         "metadata": "{}",
         "name": "AIR_SYSTEM_DELAY",
         "type": "\"integer\""
        },
        {
         "metadata": "{}",
         "name": "SECURITY_DELAY",
         "type": "\"integer\""
        },
        {
         "metadata": "{}",
         "name": "AIRLINE_DELAY",
         "type": "\"integer\""
        },
        {
         "metadata": "{}",
         "name": "LATE_AIRCRAFT_DELAY",
         "type": "\"integer\""
        },
        {
         "metadata": "{}",
         "name": "WEATHER_DELAY",
         "type": "\"integer\""
        },
        {
         "metadata": "{}",
         "name": "ORIGIN_AIRPORT_CLEAN",
         "type": "\"string\""
        },
        {
         "metadata": "{}",
         "name": "DESTINATION_AIRPORT_CLEAN",
         "type": "\"string\""
        }
       ],
       "type": "table"
      }
     },
     "output_type": "display_data"
    }
   ],
   "source": [
    "filtered_df = cleaned_train_df.filter((col(\"FLIGHT_NUMBER\") == 2065) & (col(\"MONTH\") == 10) & (col(\"DAY\") == 1))\n",
    "display(filtered_df)"
   ]
  },
  {
   "cell_type": "markdown",
   "metadata": {
    "application/vnd.databricks.v1+cell": {
     "cellMetadata": {},
     "inputWidgets": {},
     "nuid": "5ee70788-7b03-4119-89d1-7747f632076c",
     "showTitle": false,
     "tableResultSettingsMap": {},
     "title": ""
    }
   },
   "source": [
    "# 2.6 Missing values"
   ]
  },
  {
   "cell_type": "markdown",
   "metadata": {
    "application/vnd.databricks.v1+cell": {
     "cellMetadata": {},
     "inputWidgets": {},
     "nuid": "5dfeb5e8-6f79-4a1f-91bd-33c2d0bd1408",
     "showTitle": false,
     "tableResultSettingsMap": {},
     "title": ""
    }
   },
   "source": [
    "As seen in 1_EDA, there's missing values in cancelation reason. Since the feature is not relevant for analysis, we will drop it."
   ]
  },
  {
   "cell_type": "code",
   "execution_count": 0,
   "metadata": {
    "application/vnd.databricks.v1+cell": {
     "cellMetadata": {
      "byteLimit": 2048000,
      "rowLimit": 10000
     },
     "inputWidgets": {},
     "nuid": "fdbad978-a2b6-46da-a96b-8a5af982f82c",
     "showTitle": false,
     "tableResultSettingsMap": {},
     "title": ""
    }
   },
   "outputs": [],
   "source": [
    "cleaned_train_df = cleaned_train_df.drop(\"CANCELLATION_REASON\")\n",
    "cleaned_val_df = cleaned_val_df.drop(\"CANCELLATION_REASON\")\n",
    "cleaned_test_df = cleaned_test_df.drop(\"CANCELLATION_REASON\")"
   ]
  },
  {
   "cell_type": "markdown",
   "metadata": {
    "application/vnd.databricks.v1+cell": {
     "cellMetadata": {},
     "inputWidgets": {},
     "nuid": "7150a348-6332-4550-874d-7e198091dca5",
     "showTitle": false,
     "tableResultSettingsMap": {},
     "title": ""
    }
   },
   "source": [
    "# 2.7 Feature Engineering"
   ]
  },
  {
   "cell_type": "markdown",
   "metadata": {
    "application/vnd.databricks.v1+cell": {
     "cellMetadata": {},
     "inputWidgets": {},
     "nuid": "1b1a945b-687c-43c2-802e-787a2b29c6db",
     "showTitle": false,
     "tableResultSettingsMap": {},
     "title": ""
    }
   },
   "source": [
    "## 2.7.1 Functions"
   ]
  },
  {
   "cell_type": "markdown",
   "metadata": {
    "application/vnd.databricks.v1+cell": {
     "cellMetadata": {},
     "inputWidgets": {},
     "nuid": "777c2f71-fb89-4c49-85b1-2df8347f5701",
     "showTitle": false,
     "tableResultSettingsMap": {},
     "title": ""
    }
   },
   "source": [
    "### Seasonality from Month\n",
    "To capture seasonal patterns, we created a new categorical feature SEASON based on MONTH:\n",
    "\n",
    "| Season  | Months                     |\n",
    "|---------|----------------------------|\n",
    "| Winter  | December, January, February |\n",
    "| Spring  | March, April, May           |\n",
    "| Summer  | June, July, August          |\n",
    "| Autumn  | September, October, November |\n"
   ]
  },
  {
   "cell_type": "code",
   "execution_count": 0,
   "metadata": {
    "application/vnd.databricks.v1+cell": {
     "cellMetadata": {
      "byteLimit": 2048000,
      "rowLimit": 10000
     },
     "inputWidgets": {},
     "nuid": "9d5ef1d0-2df8-4883-98f6-551664f8b18b",
     "showTitle": false,
     "tableResultSettingsMap": {},
     "title": ""
    }
   },
   "outputs": [],
   "source": [
    "def add_season_column(df):\n",
    "    return df.withColumn(\"SEASON\",\n",
    "        when(col(\"MONTH\").isin(12, 1, 2), \"Winter\")\n",
    "        .when(col(\"MONTH\").isin(3, 4, 5), \"Spring\")\n",
    "        .when(col(\"MONTH\").isin(6, 7, 8), \"Summer\")\n",
    "        .when(col(\"MONTH\").isin(9, 10, 11), \"Autumn\"))"
   ]
  },
  {
   "cell_type": "markdown",
   "metadata": {
    "application/vnd.databricks.v1+cell": {
     "cellMetadata": {},
     "inputWidgets": {},
     "nuid": "6a97a7a2-3c78-4bcc-ae16-1d2fe01165ac",
     "showTitle": false,
     "tableResultSettingsMap": {},
     "title": ""
    }
   },
   "source": [
    "### Departure Period from Scheduled Time\n",
    "\n",
    "We created a new feature DEPARTURE_PERIOD based on the SCHEDULED_DEPARTURE time. The mapping is as follows:\n",
    "\n",
    "| Period        | Time Range         |\n",
    "|---------------|--------------------|\n",
    "| Early Morning | 04:00 - 07:59      |\n",
    "| Morning       | 08:00 - 11:59      |\n",
    "| Midday        | 12:00 - 13:59      |\n",
    "| Afternoon     | 14:00 - 17:59      |\n",
    "| Evening       | 18:00 - 20:59      |\n",
    "| Night         | 21:00 - 23:59      |\n",
    "| Late Night    | 00:00 - 03:59      |\n"
   ]
  },
  {
   "cell_type": "code",
   "execution_count": 0,
   "metadata": {
    "application/vnd.databricks.v1+cell": {
     "cellMetadata": {
      "byteLimit": 2048000,
      "rowLimit": 10000
     },
     "inputWidgets": {},
     "nuid": "59cc8efe-1659-4e14-9143-ed1be0e4c101",
     "showTitle": false,
     "tableResultSettingsMap": {},
     "title": ""
    }
   },
   "outputs": [],
   "source": [
    "def add_scheduled_dep_period_column(df):\n",
    "    hour = floor(col(\"SCHEDULED_DEPARTURE\") / 100)\n",
    "    return df.withColumn(\n",
    "        \"SCHEDULED_DEPARTURE_PERIOD\",\n",
    "        when((hour >= 4) & (hour <= 7), \"Early Morning\")\n",
    "        .when((hour >= 8) & (hour <= 11), \"Morning\")\n",
    "        .when((hour >= 12) & (hour <= 13), \"Midday\")\n",
    "        .when((hour >= 14) & (hour <= 17), \"Afternoon\")\n",
    "        .when((hour >= 18) & (hour <= 20), \"Evening\")\n",
    "        .when((hour >= 21) & (hour <= 23), \"Night\")\n",
    "        .otherwise(\"Late Night\")  # 00:00–03:59\n",
    "    )\n"
   ]
  },
  {
   "cell_type": "markdown",
   "metadata": {
    "application/vnd.databricks.v1+cell": {
     "cellMetadata": {},
     "inputWidgets": {},
     "nuid": "6c54dee8-b38b-4e7d-9664-aeb5ffa964b5",
     "showTitle": false,
     "tableResultSettingsMap": {},
     "title": ""
    }
   },
   "source": [
    "### IS_WEEKEND\n"
   ]
  },
  {
   "cell_type": "code",
   "execution_count": 0,
   "metadata": {
    "application/vnd.databricks.v1+cell": {
     "cellMetadata": {
      "byteLimit": 2048000,
      "rowLimit": 10000
     },
     "inputWidgets": {},
     "nuid": "c88c0b40-d80f-4168-86b5-2aa3dedd42e5",
     "showTitle": false,
     "tableResultSettingsMap": {},
     "title": ""
    }
   },
   "outputs": [],
   "source": [
    "def add_is_weekend_column(df):\n",
    "    return df.withColumn(\"IS_WEEKEND\", (col(\"DAY_OF_WEEK\") >= 6).cast(\"int\"))"
   ]
  },
  {
   "cell_type": "markdown",
   "metadata": {
    "application/vnd.databricks.v1+cell": {
     "cellMetadata": {},
     "inputWidgets": {},
     "nuid": "c64dc649-a001-4666-8a3a-9fd115f73d71",
     "showTitle": false,
     "tableResultSettingsMap": {},
     "title": ""
    }
   },
   "source": [
    "### DELAYED_DEPARTURE_FLAG"
   ]
  },
  {
   "cell_type": "markdown",
   "metadata": {
    "application/vnd.databricks.v1+cell": {
     "cellMetadata": {},
     "inputWidgets": {},
     "nuid": "1c3e8413-9a77-4dfd-8529-2a0574fc7a2d",
     "showTitle": false,
     "tableResultSettingsMap": {},
     "title": ""
    }
   },
   "source": [
    "A flight is officially considered “delayed” if its departure is more than 15 minutes late:\n",
    "https://www.oag.com/airline-on-time-performance-defining-late#fifteenmins"
   ]
  },
  {
   "cell_type": "code",
   "execution_count": 0,
   "metadata": {
    "application/vnd.databricks.v1+cell": {
     "cellMetadata": {
      "byteLimit": 2048000,
      "rowLimit": 10000
     },
     "inputWidgets": {},
     "nuid": "3b635fea-8919-4844-903e-0422b9d0116e",
     "showTitle": false,
     "tableResultSettingsMap": {},
     "title": ""
    }
   },
   "outputs": [],
   "source": [
    "def add_delayed_departure_flag_column(df):\n",
    "    return df.withColumn(\"DELAYED_DEPARTURE_FLAG\", (col(\"DEPARTURE_DELAY\") > 15).cast(\"int\"))"
   ]
  },
  {
   "cell_type": "markdown",
   "metadata": {
    "application/vnd.databricks.v1+cell": {
     "cellMetadata": {},
     "inputWidgets": {},
     "nuid": "256e4a12-f6c7-48b0-97c7-878a7275251d",
     "showTitle": false,
     "tableResultSettingsMap": {},
     "title": ""
    }
   },
   "source": [
    "### ROUTE"
   ]
  },
  {
   "cell_type": "code",
   "execution_count": 0,
   "metadata": {
    "application/vnd.databricks.v1+cell": {
     "cellMetadata": {
      "byteLimit": 2048000,
      "rowLimit": 10000
     },
     "inputWidgets": {},
     "nuid": "e31c1f84-c6b8-42c6-83e9-f76b6eebe0a0",
     "showTitle": false,
     "tableResultSettingsMap": {},
     "title": ""
    }
   },
   "outputs": [],
   "source": [
    "def add_route_column(df):\n",
    "    return df.withColumn(\"ROUTE\", concat_ws(\"_\", col(\"ORIGIN_AIRPORT_CLEAN\"), col(\"DESTINATION_AIRPORT_CLEAN\")))"
   ]
  },
  {
   "cell_type": "markdown",
   "metadata": {
    "application/vnd.databricks.v1+cell": {
     "cellMetadata": {},
     "inputWidgets": {},
     "nuid": "26f3381e-5620-4fe4-992b-aa57936fe55a",
     "showTitle": false,
     "tableResultSettingsMap": {},
     "title": ""
    }
   },
   "source": [
    "### TOTAL_KNOWN_DELAY"
   ]
  },
  {
   "cell_type": "markdown",
   "metadata": {
    "application/vnd.databricks.v1+cell": {
     "cellMetadata": {},
     "inputWidgets": {},
     "nuid": "dc1e7438-f054-45d8-a6a4-73af6896194a",
     "showTitle": false,
     "tableResultSettingsMap": {},
     "title": ""
    }
   },
   "source": [
    "In \"Choerence Checking\" section, is proved to be exactly the same as \"ARRIVAL_DELAY\""
   ]
  },
  {
   "cell_type": "code",
   "execution_count": 0,
   "metadata": {
    "application/vnd.databricks.v1+cell": {
     "cellMetadata": {
      "byteLimit": 2048000,
      "rowLimit": 10000
     },
     "inputWidgets": {},
     "nuid": "ba078b7c-70ec-433b-bb60-d5de2ce66b12",
     "showTitle": false,
     "tableResultSettingsMap": {},
     "title": ""
    }
   },
   "outputs": [],
   "source": [
    "def add_total_known_delay(df):\n",
    "    return df.withColumn(\n",
    "        \"TOTAL_KNOWN_DELAY\",\n",
    "        coalesce(col(\"AIR_SYSTEM_DELAY\"), lit(0)) +\n",
    "        coalesce(col(\"SECURITY_DELAY\"), lit(0)) +\n",
    "        coalesce(col(\"AIRLINE_DELAY\"), lit(0)) +\n",
    "        coalesce(col(\"LATE_AIRCRAFT_DELAY\"), lit(0)) +\n",
    "        coalesce(col(\"WEATHER_DELAY\"), lit(0))\n",
    "    )"
   ]
  },
  {
   "cell_type": "markdown",
   "metadata": {
    "application/vnd.databricks.v1+cell": {
     "cellMetadata": {},
     "inputWidgets": {},
     "nuid": "f3b769d8-7ce7-4cd9-85c2-64b0d79ecc29",
     "showTitle": false,
     "tableResultSettingsMap": {},
     "title": ""
    }
   },
   "source": [
    "## 2.7.2 Applying functions"
   ]
  },
  {
   "cell_type": "code",
   "execution_count": 0,
   "metadata": {
    "application/vnd.databricks.v1+cell": {
     "cellMetadata": {
      "byteLimit": 2048000,
      "rowLimit": 10000
     },
     "inputWidgets": {},
     "nuid": "d3740d02-a11f-4e8c-a08d-4ea0ae0d2e15",
     "showTitle": false,
     "tableResultSettingsMap": {},
     "title": ""
    }
   },
   "outputs": [],
   "source": [
    "cleaned_train_df = add_season_column(cleaned_train_df)\n",
    "cleaned_train_df = add_scheduled_dep_period_column(cleaned_train_df)\n",
    "cleaned_train_df = add_is_weekend_column(cleaned_train_df)\n",
    "cleaned_train_df = add_delayed_departure_flag_column(cleaned_train_df)\n",
    "cleaned_train_df = add_route_column(cleaned_train_df)\n",
    "cleaned_train_df = add_total_known_delay(cleaned_train_df)"
   ]
  },
  {
   "cell_type": "code",
   "execution_count": 0,
   "metadata": {
    "application/vnd.databricks.v1+cell": {
     "cellMetadata": {
      "byteLimit": 2048000,
      "rowLimit": 10000
     },
     "inputWidgets": {},
     "nuid": "85068760-3266-442a-a7c7-5ed054f87f9f",
     "showTitle": false,
     "tableResultSettingsMap": {},
     "title": ""
    }
   },
   "outputs": [],
   "source": [
    "cleaned_val_df = add_season_column(cleaned_val_df)\n",
    "cleaned_val_df = add_scheduled_dep_period_column(cleaned_val_df)\n",
    "cleaned_val_df = add_is_weekend_column(cleaned_val_df)\n",
    "cleaned_val_df = add_delayed_departure_flag_column(cleaned_val_df)\n",
    "cleaned_val_df = add_route_column(cleaned_val_df)\n",
    "cleaned_val_df = add_total_known_delay(cleaned_val_df)"
   ]
  },
  {
   "cell_type": "code",
   "execution_count": 0,
   "metadata": {
    "application/vnd.databricks.v1+cell": {
     "cellMetadata": {
      "byteLimit": 2048000,
      "rowLimit": 10000
     },
     "inputWidgets": {},
     "nuid": "842d9014-b1db-44c4-83a8-14dbf30077cb",
     "showTitle": false,
     "tableResultSettingsMap": {},
     "title": ""
    }
   },
   "outputs": [],
   "source": [
    "cleaned_test_df = add_season_column(cleaned_test_df)\n",
    "cleaned_test_df = add_scheduled_dep_period_column(cleaned_test_df)\n",
    "cleaned_test_df = add_is_weekend_column(cleaned_test_df)\n",
    "cleaned_test_df = add_delayed_departure_flag_column(cleaned_test_df)\n",
    "cleaned_test_df = add_route_column(cleaned_test_df)\n",
    "cleaned_test_df = add_total_known_delay(cleaned_test_df)"
   ]
  },
  {
   "cell_type": "code",
   "execution_count": 0,
   "metadata": {
    "application/vnd.databricks.v1+cell": {
     "cellMetadata": {
      "byteLimit": 2048000,
      "rowLimit": 10000
     },
     "inputWidgets": {},
     "nuid": "ce3f57b0-0257-46f4-b771-cd2615032110",
     "showTitle": false,
     "tableResultSettingsMap": {},
     "title": ""
    }
   },
   "outputs": [
    {
     "output_type": "display_data",
     "data": {
      "text/html": [
       "<style scoped>\n",
       "  .table-result-container {\n",
       "    max-height: 300px;\n",
       "    overflow: auto;\n",
       "  }\n",
       "  table, th, td {\n",
       "    border: 1px solid black;\n",
       "    border-collapse: collapse;\n",
       "  }\n",
       "  th, td {\n",
       "    padding: 5px;\n",
       "  }\n",
       "  th {\n",
       "    text-align: left;\n",
       "  }\n",
       "</style><div class='table-result-container'><table class='table-result'><thead style='background-color: white'><tr><th>index</th><th>YEAR</th><th>MONTH</th><th>DAY</th><th>DAY_OF_WEEK</th><th>AIRLINE</th><th>FLIGHT_NUMBER</th><th>TAIL_NUMBER</th><th>ORIGIN_AIRPORT</th><th>DESTINATION_AIRPORT</th><th>SCHEDULED_DEPARTURE</th><th>DEPARTURE_TIME</th><th>DEPARTURE_DELAY</th><th>TAXI_OUT</th><th>WHEELS_OFF</th><th>SCHEDULED_TIME</th><th>ELAPSED_TIME</th><th>AIR_TIME</th><th>DISTANCE</th><th>WHEELS_ON</th><th>TAXI_IN</th><th>SCHEDULED_ARRIVAL</th><th>ARRIVAL_TIME</th><th>ARRIVAL_DELAY</th><th>DIVERTED</th><th>CANCELLED</th><th>AIR_SYSTEM_DELAY</th><th>SECURITY_DELAY</th><th>AIRLINE_DELAY</th><th>LATE_AIRCRAFT_DELAY</th><th>WEATHER_DELAY</th><th>ORIGIN_AIRPORT_CLEAN</th><th>DESTINATION_AIRPORT_CLEAN</th><th>SEASON</th><th>SCHEDULED_DEPARTURE_PERIOD</th><th>IS_WEEKEND</th><th>DELAYED_DEPARTURE_FLAG</th><th>ROUTE</th><th>TOTAL_KNOWN_DELAY</th></tr></thead><tbody><tr><td>1</td><td>2015</td><td>1</td><td>1</td><td>4</td><td>NK</td><td>235</td><td>N605NK</td><td>ACY</td><td>FLL</td><td>1235</td><td>1404</td><td>89</td><td>9</td><td>1413</td><td>165</td><td>162</td><td>132</td><td>977</td><td>1625</td><td>21</td><td>1520</td><td>1646</td><td>86</td><td>0</td><td>0</td><td>86</td><td>0</td><td>0</td><td>0</td><td>0</td><td>ACY</td><td>FLL</td><td>Winter</td><td>Midday</td><td>0</td><td>1</td><td>ACY_FLL</td><td>86</td></tr><tr><td>2</td><td>2015</td><td>1</td><td>1</td><td>4</td><td>UA</td><td>1562</td><td>N36247</td><td>ANC</td><td>ORD</td><td>2023</td><td>2102</td><td>39</td><td>23</td><td>2125</td><td>357</td><td>339</td><td>312</td><td>2846</td><td>537</td><td>4</td><td>520</td><td>541</td><td>21</td><td>0</td><td>0</td><td>0</td><td>0</td><td>18</td><td>3</td><td>0</td><td>ANC</td><td>ORD</td><td>Winter</td><td>Evening</td><td>0</td><td>1</td><td>ANC_ORD</td><td>21</td></tr><tr><td>3</td><td>2015</td><td>1</td><td>1</td><td>4</td><td>DL</td><td>1491</td><td>N803DN</td><td>ATL</td><td>TPA</td><td>1805</td><td>1854</td><td>49</td><td>16</td><td>1910</td><td>85</td><td>79</td><td>60</td><td>406</td><td>2010</td><td>3</td><td>1930</td><td>2013</td><td>43</td><td>0</td><td>0</td><td>0</td><td>0</td><td>0</td><td>43</td><td>0</td><td>ATL</td><td>TPA</td><td>Winter</td><td>Evening</td><td>0</td><td>1</td><td>ATL_TPA</td><td>43</td></tr><tr><td>4</td><td>2015</td><td>1</td><td>1</td><td>4</td><td>B6</td><td>1837</td><td>N353JB</td><td>BOS</td><td>DTW</td><td>1955</td><td>2004</td><td>9</td><td>24</td><td>2028</td><td>137</td><td>153</td><td>121</td><td>632</td><td>2229</td><td>8</td><td>2212</td><td>2237</td><td>25</td><td>0</td><td>0</td><td>16</td><td>9</td><td>0</td><td>0</td><td>0</td><td>BOS</td><td>DTW</td><td>Winter</td><td>Evening</td><td>0</td><td>0</td><td>BOS_DTW</td><td>25</td></tr><tr><td>5</td><td>2015</td><td>1</td><td>1</td><td>4</td><td>AA</td><td>1096</td><td>N3APAA</td><td>BOS</td><td>JFK</td><td>1745</td><td>1823</td><td>38</td><td>14</td><td>1837</td><td>90</td><td>78</td><td>56</td><td>187</td><td>1933</td><td>8</td><td>1915</td><td>1941</td><td>26</td><td>0</td><td>0</td><td>0</td><td>0</td><td>2</td><td>24</td><td>0</td><td>BOS</td><td>JFK</td><td>Winter</td><td>Afternoon</td><td>0</td><td>1</td><td>BOS_JFK</td><td>26</td></tr><tr><td>6</td><td>2015</td><td>1</td><td>1</td><td>4</td><td>B6</td><td>951</td><td>N663JB</td><td>BOS</td><td>MCO</td><td>1553</td><td>1706</td><td>73</td><td>23</td><td>1729</td><td>206</td><td>192</td><td>166</td><td>1121</td><td>2015</td><td>3</td><td>1919</td><td>2018</td><td>59</td><td>0</td><td>0</td><td>0</td><td>0</td><td>55</td><td>4</td><td>0</td><td>BOS</td><td>MCO</td><td>Winter</td><td>Afternoon</td><td>0</td><td>1</td><td>BOS_MCO</td><td>59</td></tr><tr><td>7</td><td>2015</td><td>1</td><td>1</td><td>4</td><td>AA</td><td>1533</td><td>N5BVAA</td><td>BOS</td><td>MIA</td><td>1705</td><td>1813</td><td>68</td><td>15</td><td>1828</td><td>215</td><td>200</td><td>176</td><td>1258</td><td>2124</td><td>9</td><td>2040</td><td>2133</td><td>53</td><td>0</td><td>0</td><td>0</td><td>0</td><td>0</td><td>53</td><td>0</td><td>BOS</td><td>MIA</td><td>Winter</td><td>Afternoon</td><td>0</td><td>1</td><td>BOS_MIA</td><td>53</td></tr><tr><td>8</td><td>2015</td><td>1</td><td>1</td><td>4</td><td>WN</td><td>125</td><td>N358SW</td><td>BWI</td><td>JAX</td><td>2020</td><td>2055</td><td>35</td><td>19</td><td>2114</td><td>125</td><td>127</td><td>102</td><td>663</td><td>2256</td><td>6</td><td>2225</td><td>2302</td><td>37</td><td>0</td><td>0</td><td>2</td><td>0</td><td>35</td><td>0</td><td>0</td><td>BWI</td><td>JAX</td><td>Winter</td><td>Evening</td><td>0</td><td>1</td><td>BWI_JAX</td><td>37</td></tr><tr><td>9</td><td>2015</td><td>1</td><td>1</td><td>4</td><td>WN</td><td>1129</td><td>N272WN</td><td>BWI</td><td>SAN</td><td>1815</td><td>1820</td><td>5</td><td>10</td><td>1830</td><td>355</td><td>367</td><td>353</td><td>2295</td><td>2123</td><td>4</td><td>2110</td><td>2127</td><td>17</td><td>0</td><td>0</td><td>17</td><td>0</td><td>0</td><td>0</td><td>0</td><td>BWI</td><td>SAN</td><td>Winter</td><td>Evening</td><td>0</td><td>0</td><td>BWI_SAN</td><td>17</td></tr><tr><td>10</td><td>2015</td><td>1</td><td>1</td><td>4</td><td>WN</td><td>623</td><td>N8612K</td><td>BWI</td><td>SAT</td><td>2035</td><td>2210</td><td>95</td><td>20</td><td>2230</td><td>240</td><td>247</td><td>223</td><td>1407</td><td>113</td><td>4</td><td>2335</td><td>117</td><td>102</td><td>0</td><td>0</td><td>7</td><td>0</td><td>95</td><td>0</td><td>0</td><td>BWI</td><td>SAT</td><td>Winter</td><td>Evening</td><td>0</td><td>1</td><td>BWI_SAT</td><td>102</td></tr></tbody></table></div>"
      ]
     },
     "metadata": {
      "application/vnd.databricks.v1+output": {
       "addedWidgets": {},
       "aggData": [],
       "aggError": "",
       "aggOverflow": false,
       "aggSchema": [],
       "aggSeriesLimitReached": false,
       "aggType": "",
       "arguments": {},
       "columnCustomDisplayInfos": {},
       "data": [
        [
         1,
         2015,
         1,
         1,
         4,
         "NK",
         235,
         "N605NK",
         "ACY",
         "FLL",
         1235,
         1404,
         89,
         9,
         1413,
         165,
         162,
         132,
         977,
         1625,
         21,
         1520,
         1646,
         86,
         0,
         0,
         86,
         0,
         0,
         0,
         0,
         "ACY",
         "FLL",
         "Winter",
         "Midday",
         0,
         1,
         "ACY_FLL",
         86
        ],
        [
         2,
         2015,
         1,
         1,
         4,
         "UA",
         1562,
         "N36247",
         "ANC",
         "ORD",
         2023,
         2102,
         39,
         23,
         2125,
         357,
         339,
         312,
         2846,
         537,
         4,
         520,
         541,
         21,
         0,
         0,
         0,
         0,
         18,
         3,
         0,
         "ANC",
         "ORD",
         "Winter",
         "Evening",
         0,
         1,
         "ANC_ORD",
         21
        ],
        [
         3,
         2015,
         1,
         1,
         4,
         "DL",
         1491,
         "N803DN",
         "ATL",
         "TPA",
         1805,
         1854,
         49,
         16,
         1910,
         85,
         79,
         60,
         406,
         2010,
         3,
         1930,
         2013,
         43,
         0,
         0,
         0,
         0,
         0,
         43,
         0,
         "ATL",
         "TPA",
         "Winter",
         "Evening",
         0,
         1,
         "ATL_TPA",
         43
        ],
        [
         4,
         2015,
         1,
         1,
         4,
         "B6",
         1837,
         "N353JB",
         "BOS",
         "DTW",
         1955,
         2004,
         9,
         24,
         2028,
         137,
         153,
         121,
         632,
         2229,
         8,
         2212,
         2237,
         25,
         0,
         0,
         16,
         9,
         0,
         0,
         0,
         "BOS",
         "DTW",
         "Winter",
         "Evening",
         0,
         0,
         "BOS_DTW",
         25
        ],
        [
         5,
         2015,
         1,
         1,
         4,
         "AA",
         1096,
         "N3APAA",
         "BOS",
         "JFK",
         1745,
         1823,
         38,
         14,
         1837,
         90,
         78,
         56,
         187,
         1933,
         8,
         1915,
         1941,
         26,
         0,
         0,
         0,
         0,
         2,
         24,
         0,
         "BOS",
         "JFK",
         "Winter",
         "Afternoon",
         0,
         1,
         "BOS_JFK",
         26
        ],
        [
         6,
         2015,
         1,
         1,
         4,
         "B6",
         951,
         "N663JB",
         "BOS",
         "MCO",
         1553,
         1706,
         73,
         23,
         1729,
         206,
         192,
         166,
         1121,
         2015,
         3,
         1919,
         2018,
         59,
         0,
         0,
         0,
         0,
         55,
         4,
         0,
         "BOS",
         "MCO",
         "Winter",
         "Afternoon",
         0,
         1,
         "BOS_MCO",
         59
        ],
        [
         7,
         2015,
         1,
         1,
         4,
         "AA",
         1533,
         "N5BVAA",
         "BOS",
         "MIA",
         1705,
         1813,
         68,
         15,
         1828,
         215,
         200,
         176,
         1258,
         2124,
         9,
         2040,
         2133,
         53,
         0,
         0,
         0,
         0,
         0,
         53,
         0,
         "BOS",
         "MIA",
         "Winter",
         "Afternoon",
         0,
         1,
         "BOS_MIA",
         53
        ],
        [
         8,
         2015,
         1,
         1,
         4,
         "WN",
         125,
         "N358SW",
         "BWI",
         "JAX",
         2020,
         2055,
         35,
         19,
         2114,
         125,
         127,
         102,
         663,
         2256,
         6,
         2225,
         2302,
         37,
         0,
         0,
         2,
         0,
         35,
         0,
         0,
         "BWI",
         "JAX",
         "Winter",
         "Evening",
         0,
         1,
         "BWI_JAX",
         37
        ],
        [
         9,
         2015,
         1,
         1,
         4,
         "WN",
         1129,
         "N272WN",
         "BWI",
         "SAN",
         1815,
         1820,
         5,
         10,
         1830,
         355,
         367,
         353,
         2295,
         2123,
         4,
         2110,
         2127,
         17,
         0,
         0,
         17,
         0,
         0,
         0,
         0,
         "BWI",
         "SAN",
         "Winter",
         "Evening",
         0,
         0,
         "BWI_SAN",
         17
        ],
        [
         10,
         2015,
         1,
         1,
         4,
         "WN",
         623,
         "N8612K",
         "BWI",
         "SAT",
         2035,
         2210,
         95,
         20,
         2230,
         240,
         247,
         223,
         1407,
         113,
         4,
         2335,
         117,
         102,
         0,
         0,
         7,
         0,
         95,
         0,
         0,
         "BWI",
         "SAT",
         "Winter",
         "Evening",
         0,
         1,
         "BWI_SAT",
         102
        ]
       ],
       "datasetInfos": [],
       "dbfsResultPath": null,
       "isJsonSchema": true,
       "metadata": {},
       "overflow": false,
       "plotOptions": {
        "customPlotOptions": {},
        "displayType": "table",
        "pivotAggregation": null,
        "pivotColumns": null,
        "xColumns": null,
        "yColumns": null
       },
       "removedWidgets": [],
       "schema": [
        {
         "metadata": "{}",
         "name": "index",
         "type": "\"integer\""
        },
        {
         "metadata": "{}",
         "name": "YEAR",
         "type": "\"integer\""
        },
        {
         "metadata": "{}",
         "name": "MONTH",
         "type": "\"integer\""
        },
        {
         "metadata": "{}",
         "name": "DAY",
         "type": "\"integer\""
        },
        {
         "metadata": "{}",
         "name": "DAY_OF_WEEK",
         "type": "\"integer\""
        },
        {
         "metadata": "{}",
         "name": "AIRLINE",
         "type": "\"string\""
        },
        {
         "metadata": "{}",
         "name": "FLIGHT_NUMBER",
         "type": "\"integer\""
        },
        {
         "metadata": "{}",
         "name": "TAIL_NUMBER",
         "type": "\"string\""
        },
        {
         "metadata": "{}",
         "name": "ORIGIN_AIRPORT",
         "type": "\"string\""
        },
        {
         "metadata": "{}",
         "name": "DESTINATION_AIRPORT",
         "type": "\"string\""
        },
        {
         "metadata": "{}",
         "name": "SCHEDULED_DEPARTURE",
         "type": "\"integer\""
        },
        {
         "metadata": "{}",
         "name": "DEPARTURE_TIME",
         "type": "\"integer\""
        },
        {
         "metadata": "{}",
         "name": "DEPARTURE_DELAY",
         "type": "\"integer\""
        },
        {
         "metadata": "{}",
         "name": "TAXI_OUT",
         "type": "\"integer\""
        },
        {
         "metadata": "{}",
         "name": "WHEELS_OFF",
         "type": "\"integer\""
        },
        {
         "metadata": "{}",
         "name": "SCHEDULED_TIME",
         "type": "\"integer\""
        },
        {
         "metadata": "{}",
         "name": "ELAPSED_TIME",
         "type": "\"integer\""
        },
        {
         "metadata": "{}",
         "name": "AIR_TIME",
         "type": "\"integer\""
        },
        {
         "metadata": "{}",
         "name": "DISTANCE",
         "type": "\"integer\""
        },
        {
         "metadata": "{}",
         "name": "WHEELS_ON",
         "type": "\"integer\""
        },
        {
         "metadata": "{}",
         "name": "TAXI_IN",
         "type": "\"integer\""
        },
        {
         "metadata": "{}",
         "name": "SCHEDULED_ARRIVAL",
         "type": "\"integer\""
        },
        {
         "metadata": "{}",
         "name": "ARRIVAL_TIME",
         "type": "\"integer\""
        },
        {
         "metadata": "{}",
         "name": "ARRIVAL_DELAY",
         "type": "\"integer\""
        },
        {
         "metadata": "{}",
         "name": "DIVERTED",
         "type": "\"integer\""
        },
        {
         "metadata": "{}",
         "name": "CANCELLED",
         "type": "\"integer\""
        },
        {
         "metadata": "{}",
         "name": "AIR_SYSTEM_DELAY",
         "type": "\"integer\""
        },
        {
         "metadata": "{}",
         "name": "SECURITY_DELAY",
         "type": "\"integer\""
        },
        {
         "metadata": "{}",
         "name": "AIRLINE_DELAY",
         "type": "\"integer\""
        },
        {
         "metadata": "{}",
         "name": "LATE_AIRCRAFT_DELAY",
         "type": "\"integer\""
        },
        {
         "metadata": "{}",
         "name": "WEATHER_DELAY",
         "type": "\"integer\""
        },
        {
         "metadata": "{}",
         "name": "ORIGIN_AIRPORT_CLEAN",
         "type": "\"string\""
        },
        {
         "metadata": "{}",
         "name": "DESTINATION_AIRPORT_CLEAN",
         "type": "\"string\""
        },
        {
         "metadata": "{}",
         "name": "SEASON",
         "type": "\"string\""
        },
        {
         "metadata": "{}",
         "name": "SCHEDULED_DEPARTURE_PERIOD",
         "type": "\"string\""
        },
        {
         "metadata": "{}",
         "name": "IS_WEEKEND",
         "type": "\"integer\""
        },
        {
         "metadata": "{}",
         "name": "DELAYED_DEPARTURE_FLAG",
         "type": "\"integer\""
        },
        {
         "metadata": "{}",
         "name": "ROUTE",
         "type": "\"string\""
        },
        {
         "metadata": "{}",
         "name": "TOTAL_KNOWN_DELAY",
         "type": "\"integer\""
        }
       ],
       "type": "table"
      }
     },
     "output_type": "display_data"
    }
   ],
   "source": [
    "cleaned_train_df.limit(10).display()"
   ]
  },
  {
   "cell_type": "code",
   "execution_count": 0,
   "metadata": {
    "application/vnd.databricks.v1+cell": {
     "cellMetadata": {
      "byteLimit": 2048000,
      "rowLimit": 10000
     },
     "inputWidgets": {},
     "nuid": "f3dd3f01-f4e5-48c1-8798-f86c99abfc49",
     "showTitle": false,
     "tableResultSettingsMap": {},
     "title": ""
    }
   },
   "outputs": [],
   "source": [
    "def plot_categorical_distribution(df, column_name, title=None, xlabel=None, ylabel=\"Count\", figsize=(8, 4)):\n",
    "    \"\"\"\n",
    "    Plots the distribution of a categorical column from a PySpark DataFrame.\n",
    "\n",
    "    Parameters:\n",
    "        df (PySpark DataFrame): The input DataFrame.\n",
    "        column_name (str): The name of the categorical column to analyze.\n",
    "        title (str): Plot title.\n",
    "        xlabel (str): X-axis label.\n",
    "        ylabel (str): Y-axis label (default: \"Count\").\n",
    "        figsize (tuple): Size of the plot.\n",
    "    \"\"\"\n",
    "    dist_df = (\n",
    "        df.groupBy(column_name)\n",
    "        .count()\n",
    "        .toPandas()\n",
    "        .sort_values(\"count\", ascending=False)\n",
    "    )\n",
    "\n",
    "    plt.figure(figsize=figsize)\n",
    "    plt.bar(dist_df[column_name], dist_df[\"count\"])\n",
    "    plt.title(title if title else f\"{column_name} Distribution\")\n",
    "    plt.xlabel(xlabel if xlabel else column_name)\n",
    "    plt.ylabel(ylabel)\n",
    "    plt.xticks(rotation=45)\n",
    "    plt.tight_layout()\n",
    "    plt.show()"
   ]
  },
  {
   "cell_type": "code",
   "execution_count": 0,
   "metadata": {
    "application/vnd.databricks.v1+cell": {
     "cellMetadata": {
      "byteLimit": 2048000,
      "rowLimit": 10000
     },
     "inputWidgets": {},
     "nuid": "845e1b31-f38c-4483-a988-b3e20dff6385",
     "showTitle": false,
     "tableResultSettingsMap": {},
     "title": ""
    }
   },
   "outputs": [
    {
     "output_type": "display_data",
     "data": {
      "image/png": "[encoded data removed]"
     },
     "metadata": {
      "application/vnd.databricks.v1+output": {
       "addedWidgets": {},
       "arguments": {},
       "data": "data:image/png;base64,iVBORw0KGgoAAAANSUhEUgAAAjgAAAEYCAYAAABRMYxdAAAAOXRFWHRTb2Z0d2FyZQBNYXRwbG90bGliIHZlcnNpb24zLjUuMSwgaHR0cHM6Ly9tYXRwbG90bGliLm9yZy/YYfK9AAAACXBIWXMAAAsTAAALEwEAmpwYAAAkRElEQVR4nO3deZhkdX3v8fdHRlBcWGSCbDqoRAUUxGExaqKCbEbBKCgSGQyK8aJBXCFRMahRbjAiUchFRdEYlqAGDCaKCCrXgA6KKCAysg6yDKsBFRn83j/Or2Pdtofpmeme6jr9fj1PP1Pnd06d86upp7o/9dtOqgpJkqQ+eciwKyBJkjTVDDiSJKl3DDiSJKl3DDiSJKl3DDiSJKl3DDiSJKl3DDiSeivJfyRZMEXnem6SKwe2r02yy1Scu53vsiTPm6rzSbOdAUeaBZI8J8l3ktyd5I4k/zfJ9m3fgUkeSHLPuJ+Nx53j/CR3JllrXPmmSb6Q5LZ2/h8nOXBg/1pJPpjk+iS/SnJVkrcnybhz/zrJZgNluyS59kFeUyW5t9X19iTnJnnF4DFVtUdVnTyJ/59K8qQHO6aqvl1VT17euSYjyWeSvH/c+beqqvOn4vySDDhS7yV5NPDvwD8C6wObAH8L3Ddw2H9V1SPH/fx84BzzgOcCBbxk3CU+B9wAPB54DPBq4JaB/f8K7AzsCTyq7T8Y+Oi489wLvHsFX942VfVI4MnAZ4CPJTlyBc+xXEnmTPU5JU0vA47Uf38IUFWnVNUDVfWrqvpaVV26Auc4ALiQLkSM7/LZHvhMVd1bVUur6gdV9R8ASXYGdgVeVlU/bvsvBP4cOGRcq8lxwH5JnriiL7CqbquqzwFvAI5I8ph2/fOTvLY9flKSb7ZWptuSnNbKv9VO88PWGvSKJM9LsjjJO5PcDHx6rGz8a09yeWvZ+nSSh7VzHpjkgsEDx1qJkhwM7A+8o13vy23//3R5tVavY5P8vP0cO9ZyNlC3tya5NclNSV6zov9nUt8ZcKT++ynwQJKTk+yRZL2VOMcBwOfbz25JNhzYdyHw8SSvTPK4cc97IXBRVd0wWFhVFwGL6Vp2xtwIfIKudWllnQnMAXaYYN/7gK8B6wGb0rVoUVV/3PZv01quTmvbj6Vr8Xo8XYvTRPYHdgOeSBck37W8ClbViXT/j/+7Xe/FExz2N8BOwLbANu31DJ77scA6dK1xB9H9/6/M+yr1lgFH6rmq+gXwHLrupU8AS5KcNS6k7JTkroGfn43tSPIcuj/yp1fVxcDPgFcNPHcf4Nt03UvXJLlkbHwPsAFw0zKqdlPbP+iDwIuTbLWSr/V+4Da6YDLe/e11bFxVv66qCyY4ZtBvgSOr6r6q+tUyjvlYVd1QVXcAHwD2W5l6T2B/4KiqurWqltCFvlcP7L+/7b+/qr4C3EPXTSepMeBIs0BVXVFVB1bVpsDWwMbAsQOHXFhV6w78DHYTLQC+VlW3te1/YaCbqqrurKrDq2orYEPgEuDf2iDi24CNllGtjdr+wXouAT4GHLUyrzPJQ4G5wB0T7H4HEOC7bcbSXyzndEuq6tfLOWawZeo6uv/XqbBxO9+yzn17VS0d2P4l8MgpurbUCwYcaZapqp/QjaXZennHJnk4sC/wJ0lubuNRDgO2SbLNBOe+DTiG7o/x+sDXgR0HZ0e18+4IbAZ8Y4LL/j3wfOCZK/CyxuwFLAW+O0Hdbq6q11XVxsDrgeOXM3OqJnG9wdf1OGBsYPa9wNpjO5I8dgXP/XO61qaJzi1pEgw4Us8leUobkLpp296Mrivlwkk8fW/gAWBLuvEg2wJPpeuSOqCd7+gkWyeZk+RRdAN9F1XV7VX1deBc4AtJtkqyRpKdgH8GTqiqq8ZfsKruAj5M1+Iy2de4fpL9gY8DR1fV7RMcs8/Y/wFwJ13I+G3bvgV4wmSvN+CQNk1+fbpxM2Pjd34IbJVk2zbw+L3jnre8650CvCvJ3CQbAO+h+z+TNEkGHKn//hvYEbgoyb10webHwFsHjnlWfn8dnO3puqI+XVXXtxaQm6vqZrpupP3b9Om1gS8BdwFX07U8DE4lfxlwHvCfdGNF/hn4FPCmB6nzR+mC1fL8MMk9wCLgtcBhVfWeZRy7ffs/uAc4Czi0qq5u+94LnNzGH+07ieuO+Re6gctX041Nej9AVf2Urpvt68BVwPjxPp8CtmzX+7cJzvt+YCFwKfAj4Ptj55Y0OamaTCusJEnS6LAFR5Ik9Y4BR5Ik9Y4BR5Ik9Y4BR5Ik9c6su4HcBhtsUPPmzRt2NSRJ0hS4+OKLb6uquePLZ13AmTdvHgsXLhx2NSRJ0hRIct1E5XZRSZKk3jHgSJKk3jHgSJKk3jHgSJKk3jHgSJKk3jHgSJKk3jHgSJKk3jHgSJKk3pl1C/1Nl3mHnz3sKsxq137oRcOugiRpBrEFR5Ik9Y4BR5Ik9Y4BR5Ik9Y4BR5Ik9Y4BR5Ik9Y4BR5Ik9Y4BR5Ik9Y4BR5Ik9Y4BR5Ik9Y4BR5Ik9Y4BR5Ik9Y4BR5Ik9Y4BR5Ik9Y4BR5Ik9Y4BR5Ik9c60BZwkJyW5NcmPB8rWT3JOkqvav+u18iQ5LsmiJJcm2W7gOQva8VclWTBQ/swkP2rPOS5Jpuu1SJKk0TKdLTifAXYfV3Y4cG5VbQGc27YB9gC2aD8HAydAF4iAI4EdgR2AI8dCUTvmdQPPG38tSZI0S82ZrhNX1beSzBtXvBfwvPb4ZOB84J2t/LNVVcCFSdZNslE79pyqugMgyTnA7knOBx5dVRe28s8CewP/MV2vR7PbvMPPHnYVZr1rP/SiYVdB0ghZ3WNwNqyqm9rjm4EN2+NNgBsGjlvcyh6sfPEE5RNKcnCShUkWLlmyZNVegSRJmvGGNsi4tdbUarrWiVU1v6rmz507d3VcUpIkDdHqDji3tK4n2r+3tvIbgc0Gjtu0lT1Y+aYTlEuSJK32gHMWMDYTagFw5kD5AW021U7A3a0r66vArknWa4OLdwW+2vb9IslObfbUAQPnkiRJs9y0DTJOcgrdIOENkiymmw31IeD0JAcB1wH7tsO/AuwJLAJ+CbwGoKruSPI+4HvtuKPGBhwD/4tuptbD6QYXO8BYkiQB0zuLar9l7Np5gmMLOGQZ5zkJOGmC8oXA1qtSR0mS1E+uZCxJknrHgCNJknrHgCNJknrHgCNJknpn2gYZS9Io8XYcw+WtODTVbMGRJEm9Y8CRJEm9Y8CRJEm9Y8CRJEm9Y8CRJEm9Y8CRJEm9Y8CRJEm9Y8CRJEm9Y8CRJEm9Y8CRJEm9Y8CRJEm9Y8CRJEm9Y8CRJEm9Y8CRJEm9Y8CRJEm9Y8CRJEm9Y8CRJEm9Y8CRJEm9Y8CRJEm9M5SAk+SwJJcl+XGSU5I8LMnmSS5KsijJaUnWbMeu1bYXtf3zBs5zRCu/Msluw3gtkiRp5lntASfJJsBfAfOramtgDeCVwNHAR6rqScCdwEHtKQcBd7byj7TjSLJle95WwO7A8UnWWJ2vRZIkzUzD6qKaAzw8yRxgbeAm4AXAGW3/ycDe7fFebZu2f+ckaeWnVtV9VXUNsAjYYfVUX5IkzWSrPeBU1Y3AMcD1dMHmbuBi4K6qWtoOWwxs0h5vAtzQnru0Hf+YwfIJnvP/SXJwkoVJFi5ZsmRqX5AkSZpxhtFFtR5d68vmwMbAI+i6mKZNVZ1YVfOrav7cuXOn81KSJGkGGEYX1S7ANVW1pKruB74IPBtYt3VZAWwK3Nge3whsBtD2rwPcPlg+wXMkSdIsNoyAcz2wU5K121ianYHLgfOAl7djFgBntsdntW3a/m9UVbXyV7ZZVpsDWwDfXU2vQZIkzWBzln/I1Kqqi5KcAXwfWAr8ADgROBs4Ncn7W9mn2lM+BXwuySLgDrqZU1TVZUlOpwtHS4FDquqB1fpiJEnSjLTaAw5AVR0JHDmu+GommAVVVb8G9lnGeT4AfGDKKyhJkkaaKxlLkqTeMeBIkqTeMeBIkqTeMeBIkqTeMeBIkqTeMeBIkqTeMeBIkqTeMeBIkqTeMeBIkqTeMeBIkqTeMeBIkqTeMeBIkqTeMeBIkqTeMeBIkqTemTPsCkiSNN3mHX72sKswq137oRet9mvagiNJknpnUgEnybMnUyZJkjQTTLYF5x8nWSZJkjR0DzoGJ8mzgD8C5iZ5y8CuRwNrTGfFJEmSVtbyBhmvCTyyHfeogfJfAC+frkpJkiStigcNOFX1TeCbST5TVdetpjpJkiStkslOE18ryYnAvMHnVNULpqNSkiRJq2KyAedfgX8CPgk8MH3VkSRJWnWTDThLq+qEaa2JJEnSFJnsNPEvJ/lfSTZKsv7Yz8peNMm6Sc5I8pMkVyR5VjvnOUmuav+u145NkuOSLEpyaZLtBs6zoB1/VZIFK1sfSZLUL5MNOAuAtwPfAS5uPwtX4bofBf6zqp4CbANcARwOnFtVWwDntm2APYAt2s/BwAkALWAdCewI7AAcORaKJEnS7DapLqqq2nyqLphkHeCPgQPbuX8D/CbJXsDz2mEnA+cD7wT2Aj5bVQVc2Fp/NmrHnlNVd7TzngPsDpwyVXWVJEmjaVIBJ8kBE5VX1WdX4pqbA0uATyfZhq416FBgw6q6qR1zM7Bhe7wJcMPA8xe3smWVT1T/g+laf3jc4x63ElWWJEmjZLJdVNsP/DwXeC/wkpW85hxgO+CEqnoGcC+/644CoLXW1Eqe//dU1YlVNb+q5s+dO3eqTitJkmaoyXZRvWlwO8m6wKkrec3FwOKquqhtn0EXcG5JslFV3dS6oG5t+28ENht4/qat7EZ+16U1Vn7+StZJkiT1yGRbcMa7l66raYVV1c3ADUme3Ip2Bi4HzqIbzEz798z2+CzggDabaifg7taV9VVg1yTrtcHFu7YySZI0y012DM6X+V2X0RrAU4HTV+G6bwI+n2RN4GrgNXRh6/QkBwHXAfu2Y78C7AksAn7ZjqWq7kjyPuB77bijxgYcS5Kk2W2yC/0dM/B4KXBdVS1e2YtW1SXA/Al27TzBsQUcsozznASctLL1kCRJ/TSpLqp2082f0N1RfD3gN9NZKUmSpFUxqYCTZF/gu8A+dF1HFyV5+XRWTJIkaWVNtovqb4Dtq+pWgCRzga/TzYCSJEmaUSY7i+ohY+GmuX0FnitJkrRaTbYF5z+TfJXf3QbhFXSzmyRJkmacBw04SZ5EdwuFtyf5M+A5bdd/AZ+f7spJkiStjOW14BwLHAFQVV8EvgiQ5Glt34unsW6SJEkrZXnjaDasqh+NL2xl86alRpIkSatoeQFn3QfZ9/AprIckSdKUWV7AWZjkdeMLk7wWuHh6qiRJkrRqljcG583Al5Lsz+8CzXxgTeCl01gvSZKklfagAaeqbgH+KMnzga1b8dlV9Y1pr5kkSdJKmtQ6OFV1HnDeNNdFkiRpSrgasSRJ6h0DjiRJ6h0DjiRJ6h0DjiRJ6h0DjiRJ6h0DjiRJ6h0DjiRJ6h0DjiRJ6h0DjiRJ6h0DjiRJ6p2hBZwkayT5QZJ/b9ubJ7koyaIkpyVZs5Wv1bYXtf3zBs5xRCu/MsluQ3opkiRphhlmC86hwBUD20cDH6mqJwF3Age18oOAO1v5R9pxJNkSeCWwFbA7cHySNVZT3SVJ0gw2lICTZFPgRcAn23aAFwBntENOBvZuj/dq27T9O7fj9wJOrar7quoaYBGww2p5AZIkaUYbVgvOscA7gN+27ccAd1XV0ra9GNikPd4EuAGg7b+7Hf8/5RM85/+T5OAkC5MsXLJkyRS+DEmSNBOt9oCT5E+BW6vq4tV1zao6sarmV9X8uXPnrq7LSpKkIZkzhGs+G3hJkj2BhwGPBj4KrJtkTmul2RS4sR1/I7AZsDjJHGAd4PaB8jGDz5EkSbPYam/BqaojqmrTqppHN0j4G1W1P3Ae8PJ22ALgzPb4rLZN2/+NqqpW/so2y2pzYAvgu6vpZUiSpBlsGC04y/JO4NQk7wd+AHyqlX8K+FySRcAddKGIqrosyenA5cBS4JCqemD1V1uSJM00Qw04VXU+cH57fDUTzIKqql8D+yzj+R8APjB9NZQkSaPIlYwlSVLvGHAkSVLvGHAkSVLvGHAkSVLvGHAkSVLvGHAkSVLvGHAkSVLvGHAkSVLvGHAkSVLvGHAkSVLvGHAkSVLvGHAkSVLvGHAkSVLvGHAkSVLvGHAkSVLvGHAkSVLvGHAkSVLvGHAkSVLvGHAkSVLvGHAkSVLvGHAkSVLvGHAkSVLvGHAkSVLvGHAkSVLvrPaAk2SzJOcluTzJZUkObeXrJzknyVXt3/VaeZIcl2RRkkuTbDdwrgXt+KuSLFjdr0WSJM1Mw2jBWQq8taq2BHYCDkmyJXA4cG5VbQGc27YB9gC2aD8HAydAF4iAI4EdgR2AI8dCkSRJmt1We8Cpqpuq6vvt8X8DVwCbAHsBJ7fDTgb2bo/3Aj5bnQuBdZNsBOwGnFNVd1TVncA5wO6r75VIkqSZaqhjcJLMA54BXARsWFU3tV03Axu2x5sANww8bXErW1b5RNc5OMnCJAuXLFkydS9AkiTNSEMLOEkeCXwBeHNV/WJwX1UVUFN1rao6sarmV9X8uXPnTtVpJUnSDDWUgJPkoXTh5vNV9cVWfEvreqL9e2srvxHYbODpm7ayZZVLkqRZbhizqAJ8Criiqv5hYNdZwNhMqAXAmQPlB7TZVDsBd7eurK8CuyZZrw0u3rWVSZKkWW7OEK75bODVwI+SXNLK/hr4EHB6koOA64B9276vAHsCi4BfAq8BqKo7krwP+F477qiqumO1vAJJkjSjrfaAU1UXAFnG7p0nOL6AQ5ZxrpOAk6audpIkqQ9cyViSJPWOAUeSJPWOAUeSJPWOAUeSJPWOAUeSJPWOAUeSJPWOAUeSJPWOAUeSJPWOAUeSJPWOAUeSJPWOAUeSJPWOAUeSJPWOAUeSJPWOAUeSJPWOAUeSJPWOAUeSJPWOAUeSJPWOAUeSJPWOAUeSJPWOAUeSJPWOAUeSJPWOAUeSJPWOAUeSJPWOAUeSJPXOyAecJLsnuTLJoiSHD7s+kiRp+EY64CRZA/g4sAewJbBfki2HWytJkjRsIx1wgB2ARVV1dVX9BjgV2GvIdZIkSUOWqhp2HVZakpcDu1fVa9v2q4Edq+qN4447GDi4bT4ZuHK1VnQ0bADcNuxKaFr5Hveb72+/+f4u2+Orau74wjnDqMnqVlUnAicOux4zWZKFVTV/2PXQ9PE97jff337z/V1xo95FdSOw2cD2pq1MkiTNYqMecL4HbJFk8yRrAq8EzhpynSRJ0pCNdBdVVS1N8kbgq8AawElVddmQqzWq7MLrP9/jfvP97Tff3xU00oOMJUmSJjLqXVSSJEm/x4AjSZJ6x4AjSZJ6x4CjSUuSgccjPUBdncH3tG37O0EaMeM/x+r4y0yTkiTVRqQneRPwNj9Uo23ce/pSgKr67XBrpenQltFQD437HPs7eYABR5My8AHaB9geOKWcgjfSBt7TlwNHJdlwyFXSFBr7Y5fkqcArk6w73Bppqk3wxfPzSQ5NstWQqzYjGHA0Kek8AngDsENVXdfK1xhuzbQqkmwPvA94R1Xd4jf9fhj7w5fkBcDHgL8HXppkgyFXTVNoINw8G3gRcB7wB8Bbk2w7xKrNCAYcLdO45s61q+pe4ADg9iT/BFBVDxhyRscETdh3AT8DDk/yyKr6jeNwRl8LNzvRhZu3AR8Gdgf2TLLOUCunKZXkZcBpwIeq6hPA54GfAG9MMqvvXeVCf1quJK8H5gNXA+cANwOfAK6qqr8aZt00eeOas58DPBS4GJgLHAKsAxxaVfckeYjjcUZbktcCz6mqA9v2fsCRwNHAF6rqF0OsnlbS4Oe4bT8UuBS4rqp2b2VPobt10VzgLVV131AqO2R+U9ODSnIA8Od0TdwHA7tX1WLgtcAzkxwzzPpp8gbCzWHAB+ne168AjwL+CbgTOCnJIww3o2dgzM1YK933gbWSbAdQVae0sj2ApwylklplA5/jXZLsUlX3A08DNk7y+XbMT+hact4zW8MNjPi9qDR92i/JOcATgEOBHYBFdN/+oOvaeDldK4BGRJKnA8+vqucmeQvwuKq6pHVLfQJ4DfBo4N5h1lMrrnVL7QxsmeTWqjotyU3Ai5M8CbgOeCxwJfDmJPs7UWB0jGuBfT1dq+uvk+wGfATYDvhOkrOq6iVVddUQqzsj2IKj/zE49qI69wM/Bz4FHFhVL6yq+5O8Fdi/qm6qquuHVV8t3+B4iyR/ACwGFiY5AdgV2LPtfglwDfCuqrpptVdUK21sDFySZ9GF1LWBY1tL3TvpWub2oWuFfStwBl2AdezciBgXbh4GPA54Ft1neG26L6FzgT8C1kmysVPGHYOjCSTZg24k/heBTYBjgC8BXwB2A44AXlVVlw+tklquNiNqT+CJdH/QnkgXVt9F976+oqpuTbIAeAuwa1XdMqz6asW0GVH3VtWvkjyNrgv521V1epLHAxcBf19VH27HrwM8H3gP8Jqq+uGw6q7JGxdu3g7sCGwDHFRV30oyD3g7UMD7q+rmoVV2hrEFR+NXKP4L4KPAzsBC4B7gRGBrusBzEPBqw83MV1W/oXsPX003uPS41jd/Gl0X498mOZ5uls2rDDejI8nadDMaH9uKnkq3PtUzkmzQlnHYAXhvkg8BVNXdwLbAAsPN6BgIN8+n+4J5DN2XzWOTPL2qrqWbJfcbwLFzA2zBmeXGfTvYAHghcEFV3ZDkg3RBZ9+qurbtv6+q/nuIVdZyjHtPH03XavMQ4ArgvVW1NMk2wMZ0LXXfrqqrh1ZhrbDWnfwoYE26tak+ALwYeBndH79vVdUdSR4HbFFV5w6tslop4z7HO9F9SflRVb2jlb0N2Bf4y6r6fpI5VbV0eDWeeWzBmcXaVOCxD9CbgW/TdT+9FqCqjgC+CnwzyROr6jbDzcw27pfi1nTrF+0D/BXweLpxGNANDr++qk423IyWgSn8T6CbEbUxXSvcWXSz4vYGdknymKq6vqrOdTzG6Bn4HD+RriX2B8DmbXFOquoY4N+BjyRZC1tvfo8BZxYbmwqc5LnAVsB+wHHA3CSva8e8m66Lyqa+GW5cYD0M+FfgzCQnVNWNdFPDH5vkAuAEuu5HjZiq+m1bufYYuj98p9GNqXpne/wNupAzZ+A5fn5HUAs3x9C1zL2Hbi2yVw2EnKOAl1bVfS7t8PvsoprFWjP3lsB3gJOr6k1J5tJ1Uz0H+ElVHTfMOmpykjy0zXoba85+C/A6YCnd2idfr6pD0t1u40DgnKr66bDqq5XXBhS/EfhhVR2fZA7d4OE9gbuBo4ANnQ03+trv4+fT3Ybhy8CZwN/SdS2fUFUXD7F6M54tOLPMYFN1Vf22qn5MN8VwjyTbV9US4D/ovhluHm/QN+O1rqjXJ3lIm1Hxt3Rr2YzdXuOZwPOT/EtV3VtVHzfcjLSn0LW4Pj3Jhm3cxbl03ckbAJsbbkbPuMkeBybZtP0+Phf4N+DPgF2A99It97B4CNUcKbbgzFLplnHfFvhiVX0jyYHA39DNkLqwBZvfupz7zNaasA8GTqL7wnI93eyZNwGnA+dVdxPNR9F1XbwEuNkui9ExNq4qyRZ0s9/uBp4BHEY37uZrVXVba5Fdr6puH15ttTLS3QfunvZ4LeBwula6barq520NqyPpbplzVFWdPbzajg5XMp4lxg0+3QNYAHwTWNCmGh6b5AHg7CS7V9X3hllfTdoadH/sXk43Tmp94N3Aw4H9gYckOa+qbkqyg8Fm9LRwszvdWLhv0bXgvBQ4nq4bcs0kZ7dv+4abEZPuXlKvTXItXdfTLlW1b5KHAxe1z+1NSa4EfgFcMrzajhYDziwwLtw8gW4VzCOq6oIkewMvSHJoVX00yVK6lU81gyXZHLijqn7a1jk5ne7O0UvoAs5RdLMqDgHuT/JFnGUxMpJsBDysqq5pU/pfSLd6+LfbAPL/out6/ALdVOGvDa+2WhXVrQ5/Nt2wgLvoWmCpqsNbr9WFSU6jC7W7tQkDmgS7qGaRNhX8DXQDT6+vqj1a+UvoPjzfq6rjh1dDTUaSP6SbLXMl8OaqujndTVFfQNdf/xTgAeDvgOcCl/tLcXSkuxP0F+lC6nl0Y2seSte9eG1VPZDkaOCeqnpfko2r6ufDq7FWVeuCOgx4BXBkVX1uYN+f0i3oeEFbqFOT5CDjWaJNBX8B3beDPwKelOQTAFV1Ft2U4i8Mr4ZaAVcDlwHPBo5OsidwXyv/Bd3aGBsBb6uqcww3o6MNEj8D+HBVndpWl94V+CWwT1U90A69HnhMe+yA4hGW5E/ohgz8A90g4vckOaTtezFwaVV90nCz4mzBmQWSrE+3lPfTgT+vqiuSPJLuXjU/qqpXDrWCmpS2Ku3DWrfUBnQDiR9CN5tiC+CP6Vp1Xke3CNzt5e0XRkqS1wDbVtWhbdDwdnRr3GxJt1jjmXTT/t9A903/rKFVVitlcMhA294FeBXwE+DjwOZ0LXjfBHYHXlDeGXylOAan55K8CLiYbin3dwAvTvLbqrqyrZfyjdbf78yaGaytX/NuugGlX6qqf0tyNfBruvEXG9Pdj2h/4K6qetPwaqtVcDXdgNPd6LorHk6b7Qj8lC7EPoHu9ilXDaxqrBExMB7yuVX17ar6epL76ELOm4Cj6W6R8yzgg640vvLsouqxNt3wT4CT6boujqP7Nrh3kq3abRd2qKqbDDczW1vP5t104zE+luQNwM/pBpg+oaouA/6CbirpR4dWUa2q79F1Fx9Nt5bR8XRdyl+gG1j8Urquqf3hd6uRa+ZLsuHA40cBb0xyAkBVfZtuosB+wIfolug43XCzauyi6pEka1fVL8eVbUA3k2Y+3R/ADekGs/2YbtbNUsPNaEmyHd0fwHPoxuGsAxxUVT/zG30/JFm/qu4Y2H4e3Xu+E1135GeAl1TVbcOon1ZMGzh+Od2Xj8uq6pNJng4cRNfQ8FdtOYAT21PeWVXOZl1FBpyeaF1RLwT+N93S3ltXd7PMsTE4bwX+EPhLupDj+IwRlmRTYDe6MRpvoHt/P0rXAu6HuifaGikvpLuP2F+PLfAW7xw9Utrn9VS62y3sAtzQHt9J9zneum0fQDdO8trh1LRf7KLqgTaN8O/oVq39OfB/gZcl+WuA9k3wa8AT6f4I/sRwM9qqajHwWboVTz8JfKW6W28YbnqihZsd6O4r9q6qOjsN3TIAGhHt8/pdui8kewBfp+tm/ADdbRjupRtI/peGm6ljC86IS/JY4BTgHVX1vSSPqKp7k/wxXTP2P1TVx5LsB2wDHOeaGdJoaCHnMW2toxhgR8/ArTbWpPtS8ma6tao+TdfN/GjgZuD9djlOLWdRjb77gPuBXyd5GPD21l9/C10z6BvbmI1dgN0NN9LoqO4O8Te3x4abEdTCzdiNNK+iW7LjmcBhbTbkk4FbHXMz9WzBGXHtg/MWusXAtqJr+rwAuIJu5dMrgPOB3xhuJGl4Wpj5JvDxqnrfsOvTd7bgjLj27eD/AN8BNgPOrKr7AJK8jm4VzGuHWEVJEtDWHzscmDfRrFdNLQcZ90BV3VNV/9XWTRgLN/sATwMuHG7tJEkDLqQbbKxpZhdVz7RViV9Bt1z/K6rqx0OukiRpgK03q4cBp2eSPJzupppXVtWiYddHkqRhMOBIkqTecQyOJEnqHQOOJEnqHQOOJEnqHQOOJEnqHQOOJEnqHQOOpBkjyd8kuSzJpUkuSbJjkvOTXNm2L0lyxrjnXJLk1HFlOyW5qO27Isl7B/bt3c5/RZIfJdl7YN9nktyYZK22vUGSa6f1RUuaFt6qQdKMkORZwJ8C21XVfUk2ANZsu/evqoUTPOepwBrAc5M8oqrubbtOBvatqh8mWQN4cjt+G+AY4IVVdU2SzYFzklxdVZe25z4A/AVwwjS9VEmrgS04kmaKjYDbxm43UlW3TeIGsfsBnwO+Buw1UP4HwE3tPA9U1eWt/G3A31XVNW3fNcAHgbcPPPdY4LAkfgGURpgBR9JM8TVgsyQ/TXJ8kj8Z2Pf5gS6qvx8ofwVwKnAKXdgZ8xHgyiRfSvL6JA9r5VsBF4+77sJWPuZ64ALg1VPwmiQNiQFH0oxQVfcAzwQOBpYApyU5sO3ev6q2bT9vB0gyn67F53rgXOAZSdZv5zoKmE8Xml4F/OcKVmesVcffkdKI8sMracZo3UnnV9WRwBuBlz3I4fsBT2mDgH8GPHrw+Kr6WVWdAOwMbJPkMcDldCFq0DOBy8bV4yrgEmDfVXpBkobGgCNpRkjy5CRbDBRtC1y3jGMfQhc+nlZV86pqHt0YnP3a/hclSTt8C7qBw3fRDTA+Ism8dtw84K+BD09wmQ/QjdmRNIIcRCdppngk8I9J1gWWAovouqvOoBuD86t23G3A+4Abxw1C/hawZZKN6MbPfCTJL9u59q+qB4BLkrwT+HKShwL3A++oqkvGV6aqLkvyfWC7qX+pkqabdxOXJEm9YxeVJEnqHQOOJEnqHQOOJEnqHQOOJEnqHQOOJEnqHQOOJEnqHQOOJEnqnf8Hkdjv3cFVA1sAAAAASUVORK5CYII=\n",
       "datasetInfos": [],
       "metadata": {},
       "removedWidgets": [],
       "type": "image"
      }
     },
     "output_type": "display_data"
    },
    {
     "output_type": "display_data",
     "data": {
      "image/png": "[encoded data removed]"
     },
     "metadata": {
      "application/vnd.databricks.v1+output": {
       "addedWidgets": {},
       "arguments": {},
       "data": "data:image/png;base64,iVBORw0KGgoAAAANSUhEUgAAAjgAAAEYCAYAAABRMYxdAAAAOXRFWHRTb2Z0d2FyZQBNYXRwbG90bGliIHZlcnNpb24zLjUuMSwgaHR0cHM6Ly9tYXRwbG90bGliLm9yZy/YYfK9AAAACXBIWXMAAAsTAAALEwEAmpwYAAA45klEQVR4nO3dd5xdVbn/8c+X0A0QSkAIJSCI0kGk66UIBAFBQQJSQr/+AAsiGooXFL2XJlVBEZAiUgSEICAdBaUFEJAeESHU0LsQeH5/PGvIZjyTTJKZ2Wf2fN+v17zmnL332Xudfcp+zlrPWksRgZmZmVmTzFB3AczMzMx6mgMcMzMzaxwHOGZmZtY4DnDMzMyscRzgmJmZWeM4wDEzM7PGcYBjZmZmjeMAx8zMAJD0C0k/6KF9LSrpDUmDyv0bJe3eE/su+7tS0qie2p81jwMc65ckrSPpr5JelfSSpL9I+mxl/YKSTpP0jKTXJT0k6YeSPlbWh6QlO+3zUEm/qdwPSW+WL+mOv+9Vtn2v7Pt1SY9I+pmkBSuP31nSzS3K/rikL5TbZ0j6cRfPcbqOP5lzt66kDyr7HC/pgur5m4rjvyHplfJarFl57OCy7sounv/bZf2z5RwMLhfXjuO8W9n/G+Vitq6k8S329+GFsxvl6vzcO/7W7LzfFsd4p2z7gqSLO851Kf+7nfZ3T1k3vJzHjuWPSxrd4nx8oXJ/YUnnSHqxnP/bJW02mdfmRUnXSRo5hefQcd5fr5ybr0v68DoQEV+PiMMmt59WZW4lIp6IiMER8f6U9teN433ks1n2v0lEnDm9+7bmcoBj/Y6kOYE/ACcC8wDDgB8C/y7r5wFuAWYD1oyIOYANgSHAJ6bycCuWL+mOvyMr684v+54H+DLwceDO7gQZbXD8pyNiMDAHsAbwEHCTpA2m8viDgaHAzcDFklTWbUW+HhtK+niL429eHrsSsDJwQLm4Di7L/7dj/+Vvk248p87lmg+4Afhdq+fe6e+Wbux3n7LfT5LvpWMr647stL8VOz12SHns1sAPJG3Y6gDlvXsz8C6wbHkOxwK/lbR1p81XLPtcGjgD+JmkQ6bwHDYv75nFgMOB7wOnTeExU03SjD29T7Op5QDH+qNPAkTEuRHxfkS8HRFXR8S9Zf13gNeBHSLi8bLtkxHxrco2PSYi3ouI+4GRwARgv54+Rm8dP9L4iPgf4FTgiGk5PnAmGWDNWxaPAn4B3AvsMJnHPgtcRQY6PSoiJgLnAMMkDe3B/b4EXAQsNw2PHQvcT9fPd1/gDWC3iHi2vLfPBX4C/LQSQFb3+UJEnA38P+AASfN23qbFY16NiDHke2aUpOXgozWKkuaT9IdS2/OSpJskzSDpbGBR4LKOWr1KTdVukp4Arq8sqwY7nyg1Uq9JurQEdB01ax+pneuoJZI0AjgQGNmpdqxaczeDpIMl/UvS85LOkjRXWddRjlGSnig1cAdN6RxZ/+cAx/qjR4D3JZ0paRNJc3da/wXg4oj4oC8LVariLwU+15fH7cHjXwysotKM112SZgF2Bp6MiBckLQasSwYX5wA7TeaxCwObAOOmscyTK9fM5dgvAi/34H7nI2uo7p6Gx65BBkZdPd8NgYtavHcvIIOKT05m95cCMwKrdbc8EXE7MJ7W75n9yrqhwAJkkBERsSPwBKUWrlOt3n8BnwY27uKQOwG7AgsCE4ETulHGP/LRGr3OtWOQ77+dgfWAJYDBwM86bbMOWdu1AfA/kj49pWNb/+YAx/qdiHiN/LIK4FfABEljJC1QNpkXeKYbu7qr/Dp9RdIrwOgpbSOpqy/uDk+TTUY9pS+P/zQgsvmlO8ffppy3J4HPkM1kADsC90bEA8B5wLKSVu50rEskvV4e+zwwpaaVqdFRrreBPYCtS21Oh4U6PadXuhnUnVD2ew/5/vpOZd13O+2vc27IC5LeJptOTwIu6eIY89H6vftMZX1LpSbtBab+9e/qPfMeGYgsVmoJb4opz858aES8GRFvd7H+7Ij4e0S8CfyAfK0GTWV5W9keOCYiHouIN4ADgG071R79sNSI3UO+hq0CJWsQBzjWL0XEgxGxc0QsTP4iXgg4rqx+kfxinpJVImJIxx+ZkzDZbSLiqinscxjwUrk9EZipxTYzkReP7pie40+tYWTQ+Eo3j39BWTZ/RKwfEXeW5TuRNTdExFPAn8gmq6otSy7IusCnmMyFu6K75/OC8nouAPydDL6qnu70nIaUC+6UfLNsOywito+ICZV1R3faX+fnOx9Zq7Af+ZxbPQ/IAKXVe3fByvqWJM1E1rZM7evf1XvmKLKm6WpJj6lTcnQXnpyK9f8iz0N3XvspWajsr7rvGcn3QIdnK7ffIl8PazAHONbvRcRDZJJlR07EtcCXq71D+kI53ubATWXRE8Ci1bwJSbMD8/PRL+PeOv7U+jJwVzcv9l2VYS1gKTIX5FlJzwKrA19rlXgaEX8iX7uju7H7J4D5JH14YSrndjFanM+IeAHYEzi0hxO/p0nJFzsGeAfYq4vNrgW+0uK9uw0ZHDwymUNsQQaBt3e3TMqec8PIxObO5X09IvaLiCWALwHfqSShd1WTM6UankUqtxclA9MXgDeB2SvlGkQGa93d79Pk+6C674nAc1N4nDWYAxzrdyR9StJ+JX8DSYsA2wG3lk2OAeYEziz5IEgaJukYSSv0QnlmLO3555KJtseUVbeRF7PRkmYtzSCHA2P56AV5UFnf8TdzDx2/O49VOTeHALuTeRbTYxRwDbAMmUi7Ehl4zkbm2rRyHNnbarJNBhHxBHlOj1B2K58F2J+8SN7axWMeJpOYvzeVz6M3HQ58T9KsLdYdC8wFnCbp4+X9sB1wELB/qyYiSfNI2h74OXBERLw4pQJImlPZ9fw84DcRcV+LbTaTtGQJIl8F3gc6coOeI3NdptYOkpYpgf6PgAtL7tgjwKySNi01UQcDs1Qe9xwwfDI/Ws4F9pW0eAmAO3J2JnaxvQ0ADnCsP3qdrBW4TdKb5MXt75TeQ6WXy1rkhe+2kutxHfklPbXJrPfoo+ObHFdZN1LSG2W/Y8imsc9ExNOlHP8GNiWbJMYDj5FV6dt0ulCNJvNFOv6u74njT8FC5bFvAHcAywPrRsTVU/H8P6JcsLcBTiw9gDr+/gmczX82UwFQmnrOAv6nG+UeSdaAjQOeIhNGN42IdybzmKOAPSXNX+4vpP8cB2erbhx7cr7XaX9dNiUBl5NJz3t0XlGCk3WAWYEHyNf0O8COEXF+p83vKa/hODI43bf0hpucyyq5TweRwfAuXWy7FFmj9AYldygibijr/g84uOQbfXcKx6w6m6yxe5Z8jt+E7NVF1mqdSr6ub5KfmQ4dXf1flHRXi/2eXvb9Z+Cf5A+Lb0xFuayBNOWcMTMzM7P+xTU4ZmZm1jgOcMwaSNKBLZphWk6dYKmL8/WGpFrGNTKz6eMmKjMzM2ucATdfyHzzzRfDhw+vuxhmZmbWA+68884XIuI/pmMZcAHO8OHDGTt2bN3FMDMzsx4gqeW4Ys7BMTMzs8ZxgGNmZmaN4wDHzMzMGscBjpmZmTWOAxwzMzNrHAc4ZmZm1jgOcMzMzKxxBtw4OL1l+OjL6y5Cr3j88E3rLoKZmdlUcw2OmZmZNY4DHDMzM2scBzhmZmbWOA5wzMzMrHEc4JiZmVnjOMAxMzOzxnGAY2ZmZo3jAMfMzMwaxwGOmZmZNY4DHDMzM2scBzhmZmbWOL0W4Eg6XdLzkv5eWTaPpGskPVr+z12WS9IJksZJulfSKpXHjCrbPyppVGX5ZyTdVx5zgiT11nMxMzOz/qU3a3DOAEZ0WjYauC4ilgKuK/cBNgGWKn97AidDBkTAIcDqwGrAIR1BUdlmj8rjOh/LzMzMBqheC3Ai4s/AS50WbwGcWW6fCWxZWX5WpFuBIZIWBDYGromIlyLiZeAaYERZN2dE3BoRAZxV2ZeZmZkNcH2dg7NARDxTbj8LLFBuDwOerGw3viyb3PLxLZabmZmZ1ZdkXGpeoi+OJWlPSWMljZ0wYUJfHNLMzMxq1NcBznOleYny//my/Clgkcp2C5dlk1u+cIvlLUXEKRGxakSsOnTo0Ol+EmZmZtbe+jrAGQN09IQaBVxaWb5T6U21BvBqacq6CthI0twluXgj4Kqy7jVJa5TeUztV9mVmZmYD3Iy9tWNJ5wLrAvNJGk/2hjocuEDSbsC/gG3K5lcAXwTGAW8BuwBExEuSDgPuKNv9KCI6Epf3IntqzQZcWf7MzMzMei/AiYjtuli1QYttA9i7i/2cDpzeYvlYYLnpKaOZmZk1k0cyNjMzs8ZxgGNmZmaN4wDHzMzMGscBjpmZmTWOAxwzMzNrHAc4ZmZm1jgOcMzMzKxxHOCYmZlZ4zjAMTMzs8ZxgGNmZmaN4wDHzMzMGscBjpmZmTWOAxwzMzNrHAc4ZmZm1jgOcMzMzKxxHOCYmZlZ4zjAMTMzs8ZxgGNmZmaNM2PdBbBmGj768rqL0OMeP3zTuotgZmbd5BocMzMzaxwHOGZmZtY4tQQ4kvaVdL+kv0s6V9KskhaXdJukcZLOlzRz2XaWcn9cWT+8sp8DyvKHJW1cx3MxMzOz9tPnAY6kYcA3gVUjYjlgELAtcARwbEQsCbwM7FYeshvwcll+bNkOScuUxy0LjABOkjSoL5+LmZmZtae6mqhmBGaTNCMwO/AMsD5wYVl/JrBlub1FuU9Zv4EkleXnRcS/I+KfwDhgtb4pvpmZmbWzPg9wIuIp4GjgCTKweRW4E3glIiaWzcYDw8rtYcCT5bETy/bzVpe3eMxHSNpT0lhJYydMmNCzT8jMzMzaTh1NVHOTtS+LAwsBHyObmHpNRJwSEatGxKpDhw7tzUOZmZlZG6ijieoLwD8jYkJEvAdcDKwNDClNVgALA0+V208BiwCU9XMBL1aXt3iMmZmZDWB1BDhPAGtImr3k0mwAPADcAGxdthkFXFpujyn3Keuvj4goy7ctvawWB5YCbu+j52BmZmZtrM9HMo6I2yRdCNwFTATuBk4BLgfOk/Tjsuy08pDTgLMljQNeIntOERH3S7qADI4mAntHxPt9+mTMzMysLdUyVUNEHAIc0mnxY7ToBRUR7wBf7WI/PwF+0uMFNDMzs37NIxmbmZlZ4zjAMTMzs8ZxgGNmZmaNU0sOjtlAMnz05XUXocc9fvimdRfBzGyyXINjZmZmjeMAx8zMzBrHAY6ZmZk1jgMcMzMzaxwHOGZmZtY4DnDMzMyscRzgmJmZWeM4wDEzM7PGcYBjZmZmjeMAx8zMzBqnWwGOpLW7s8zMzMysHXS3BufEbi4zMzMzq91kJ9uUtCawFjBU0ncqq+YEBvVmwczMzMym1ZRmE58ZGFy2m6Oy/DVg694qlJmZmdn0mGyAExF/Av4k6YyI+FcflcnMzMxsukypBqfDLJJOAYZXHxMR6/dGoczMzMymR3cDnN8BvwBOBd7vveKYmZmZTb/u9qKaGBEnR8TtEXFnx9+0HlTSEEkXSnpI0oOS1pQ0j6RrJD1a/s9dtpWkEySNk3SvpFUq+xlVtn9U0qhpLY+ZmZk1S3cDnMsk7SVpwRKIzCNpnuk47vHAHyPiU8CKwIPAaOC6iFgKuK7cB9gEWKr87QmcDFCOfwiwOrAacEhHUGRmZmYDW3ebqDpqR/avLAtgiak9oKS5gM8DOwNExLvAu5K2ANYtm50J3Ah8H9gCOCsiAri11P4sWLa9JiJeKvu9BhgBnDu1ZTIzM7Nm6VaAExGL9+AxFwcmAL+WtCJwJ/AtYIGIeKZs8yywQLk9DHiy8vjxZVlXy/+DpD3J2h8WXXTRnnkWZmZm1ra6FeBI2qnV8og4axqPuQrwjYi4TdLxTGqO6thvSIpp2HdLEXEKcArAqquu2mP7NTMzs/bU3Rycz1b+PgccCnxpGo85HhgfEbeV+xeSAc9zpemJ8v/5sv4pYJHK4xcuy7pabmZmZgNctwKciPhG5W8PMiAZPC0HjIhngSclLV0WbQA8AIxhUq7PKODScnsMsFPpTbUG8GppyroK2EjS3CW5eKOyzMzMzAa47iYZd/YmmUszrb4BnCNpZuAxYBcy2LpA0m7Av4BtyrZXAF8ExgFvlW2JiJckHQbcUbb7UUfCsZmZmQ1s3c3BuYzsNQU5yeangQum9aAR8Tdg1RarNmixbQB7d7Gf04HTp7UcZmZm1kzdrcE5unJ7IvCviBjfC+UxMzMzm27dzcH5E/AQOaP43MC7vVkoMzMzs+nRrQBH0jbA7cBXydyY2yRt3ZsFMzMzM5tW3W2iOgj4bEQ8DyBpKHAt2cXbzMzMrK10dxycGTqCm+LFqXismZmZWZ/qbg3OHyVdxaR5nkaS3bfNzMzM2s5kAxxJS5JzRO0v6SvAOmXVLcA5vV04MzMzs2kxpRqc44ADACLiYuBiAEnLl3Wb92LZzMzMzKbJlPJoFoiI+zovLMuG90qJzMzMzKbTlAKcIZNZN1sPlsPMzMysx0wpwBkraY/OCyXtDtzZO0UyMzMzmz5TysH5NvB7SdszKaBZFZgZ+HIvlsvMzMxsmk02wImI54C1JK0HLFcWXx4R1/d6yczMzMymUbfGwYmIG4AberksZmZmZj3CoxGbmZlZ4zjAMTMzs8bp7lQNZmbTbfjoy+suQo97/PBN6y6CmbXgGhwzMzNrHAc4ZmZm1jgOcMzMzKxxagtwJA2SdLekP5T7i0u6TdI4SedLmrksn6XcH1fWD6/s44Cy/GFJG9f0VMzMzKzN1FmD8y3gwcr9I4BjI2JJ4GVgt7J8N+DlsvzYsh2SlgG2BZYFRgAnSRrUR2U3MzOzNlZLgCNpYWBT4NRyX8D6wIVlkzOBLcvtLcp9yvoNyvZbAOdFxL8j4p/AOGC1PnkCZmZm1tbqqsE5Dvge8EG5Py/wSkRMLPfHA8PK7WHAkwBl/atl+w+Xt3iMmZmZDWB9HuBI2gx4PiL6bDZySXtKGitp7IQJE/rqsGZmZlaTOmpw1ga+JOlx4Dyyaep4YIikjoEHFwaeKrefAhYBKOvnAl6sLm/xmI+IiFMiYtWIWHXo0KE9+2zMzMys7fR5gBMRB0TEwhExnEwSvj4iticn89y6bDYKuLTcHlPuU9ZfHxFRlm9belktDiwF3N5HT8PMzMzaWDtN1fB94DxJPwbuBk4ry08DzpY0DniJDIqIiPslXQA8AEwE9o6I9/u+2GZmZtZuag1wIuJG4MZy+zFa9IKKiHeAr3bx+J8AP+m9EpqZmVl/5JGMzczMrHEc4JiZmVnjOMAxMzOzxnGAY2ZmZo3jAMfMzMwaxwGOmZmZNY4DHDMzM2scBzhmZmbWOO00krGZ2YAxfPTldRehVzx++KZ1F8EMcA2OmZmZNZADHDMzM2scBzhmZmbWOA5wzMzMrHGcZGxmZrVywrX1BtfgmJmZWeM4wDEzM7PGcYBjZmZmjeMAx8zMzBrHAY6ZmZk1jgMcMzMzaxwHOGZmZtY4fR7gSFpE0g2SHpB0v6RvleXzSLpG0qPl/9xluSSdIGmcpHslrVLZ16iy/aOSRvX1czEzM7P2VEcNzkRgv4hYBlgD2FvSMsBo4LqIWAq4rtwH2ARYqvztCZwMGRABhwCrA6sBh3QERWZmZjaw9XmAExHPRMRd5fbrwIPAMGAL4Myy2ZnAluX2FsBZkW4FhkhaENgYuCYiXoqIl4FrgBF990zMzMysXdWagyNpOLAycBuwQEQ8U1Y9CyxQbg8Dnqw8bHxZ1tXyVsfZU9JYSWMnTJjQc0/AzMzM2lJtAY6kwcBFwLcj4rXquogIIHrqWBFxSkSsGhGrDh06tKd2a2ZmZm2qlgBH0kxkcHNORFxcFj9Xmp4o/58vy58CFqk8fOGyrKvlZmZmNsDV0YtKwGnAgxFxTGXVGKCjJ9Qo4NLK8p1Kb6o1gFdLU9ZVwEaS5i7JxRuVZWZmZjbAzVjDMdcGdgTuk/S3suxA4HDgAkm7Af8CtinrrgC+CIwD3gJ2AYiIlyQdBtxRtvtRRLzUJ8/AzMzM2lqfBzgRcTOgLlZv0GL7APbuYl+nA6f3XOnMzMysCTySsZmZmTWOAxwzMzNrHAc4ZmZm1jgOcMzMzKxxHOCYmZlZ4zjAMTMzs8ZxgGNmZmaN4wDHzMzMGscBjpmZmTWOAxwzMzNrHAc4ZmZm1jgOcMzMzKxxHOCYmZlZ4zjAMTMzs8ZxgGNmZmaN4wDHzMzMGscBjpmZmTWOAxwzMzNrHAc4ZmZm1jgOcMzMzKxxHOCYmZlZ4/T7AEfSCEkPSxonaXTd5TEzM7P6zVh3AaaHpEHAz4ENgfHAHZLGRMQD9ZbMzMxs6g0ffXndRegVjx++aZ8fs7/X4KwGjIuIxyLiXeA8YIuay2RmZmY1U0TUXYZpJmlrYERE7F7u7wisHhH7dNpuT2DPcndp4OE+LWjPmw94oe5CtAmfi0l8Lj7K52MSn4tJfC4macq5WCwihnZe2K+bqLorIk4BTqm7HD1F0tiIWLXucrQDn4tJfC4+yudjEp+LSXwuJmn6uejvTVRPAYtU7i9clpmZmdkA1t8DnDuApSQtLmlmYFtgTM1lMjMzs5r16yaqiJgoaR/gKmAQcHpE3F9zsfpCY5rbeoDPxSQ+Fx/l8zGJz8UkPheTNPpc9OskYzMzM7NW+nsTlZmZmdl/cIBjZmZmjeMAx8zMzKaozB7Qcbvtc3gd4JjZgCVJdZfBrD8oPZU3lbSApOWBHaoBTztygNNgkv7j9W21bKCQtKikT9ddDmsrM8PA/lxMC0nLlAtevyZpsKQ1y+01JK1Qd5na2CBAwB+BS4GbI+L9eos0ef5QN1hEfAAg6fOSVpc0JCI+GEhf5h2/0MuX2CnANyUtVm+p6idpZUn7112OOkn6BHB1x+ei7vK0u8pnaUXgcuDKdv8F3w0zAEdIuhA4Fl8TuxQRbwPPAAsCTwPvwUebrdqNX8wGqla7S/o68Bvgv8kvpI8PpCAnIkLSCOAY4K/A54BRkpaut2R9r3KBWgfYFdhF0jfrLVXfq7z3nwHuA+bvtNxaKJ+lTYDjgP8jz9tl/SEXoxVJiojXgCOBEcAjEfG3sm6Qmy8/StKMEXE7sDpwBvAzSatHxPuSFpb0sXpL+J/8gW6gKIMbSVoXWA5YMyJ2BW4gg5wFBkKQozQ7eTE/OiJ+RI52/Ung/w20mpxygVoX+C3wJ+A8YB1JB9RZrhrMV/6/A3wAfA8m1Xhaa+WX+o7AeRFxSkQsTzZb/LHju6S/BAWSBpXPwwxkkPtlYH1JPwEoTS9z1FnGukmaV9Iy5fZmwHmSzgHejYhTye+QQ8pguz8DFqivtK01+gI30FR+oQ+SNDfwY2Alygc1Ig4ErgRukzR/07/QI70FPAYsJ2lwRPwd+DmwNbBFrQWsxxLAMRFxIflL/GRgk/Il1Wgl4F0AuKo0zw0ng5uZJK1da+H6gXLRfxSo5l3sBKwA/Kps09Yjx5aL9uBS6/AFsiZqhYi4BlgL2EnSaEnLAqdImqu/BG09qdTKHQjsXIKbg4HTyaapW0tLwNHAReR36akR8VhtBe6CA5yGKNWtHV8uM0XEy8A2wEvAliXg6Qhyfg0MrqekvasS5C1ZcgUAriar0zsuYhOAh4C9JG3Q96XsOy2+nCcC/12+oF4DbiEnqF1f0lf6vIB9oHoOIuI5skZvfuAg4HxgJrKms9/UQPSFymdpBUlLSRpC1gLvLWm1stkw4PfASpJ2q6ek3SNpNmBf4MAS3BwNvAkcLunbEfEksAbwFeCXZE3Vq+0etPWGiJhI/vj5GBnA3BARV0TE/sC5wF8kLRwRpwGbRcQf2vGz46kaGkbS7mR78tPAtcDNwDnAjcCvIuKl+krXuzqCPElfBH4B3A8MioiNJO1B5t/MDywKbAaMBMZFxO9qK3QfKDk3qwJ/AB4Hvg+sAnwLmJfMQbgPeDIijq+pmL2i8p74ArApmYd1Q0S8UNYfDKwGrAx8ISIerq+07UPSDKUZewOySfOPwBDg/5FBwDeAJ4D/Ij9LGwATIuK39ZR4ysoFeBOyzJ8GzoyIiyStRX4mboiI4yTNCgyJiGc7/XAcECqfmUFk7f9h5HfmoRFxd9nmWOBrwGLAe+3am8oBToNI2pH8hfJ98sL1HeAE4BqyW9+5wIlNa5qSNHNEvFtuf5KsTj0+Iu6UdCX5Ph8haQ4yQW4c8AngJGDTiBhXV9l7S+UCtQ75S+xhcnLd84G7yFykzchunzuR52VtMhn9gyZ9qZck85+SX9TfAv5G/jr/U1k/J/m5uSsiLqurnO2g02dpVfI9chUZAO8GbE7WgL0BLAy8CixFnt+REfFQHeWekpJz8365vSZZe/cesHNEvCppDeAnZO+w49v1gt3bKsHN0uT36HHk9+XhZM33xZVE7KXb/QeBm6iaZQ7gpxFxTUScR/7a+hrwOrAz8PsGBjfzAvtKmkPSYOCHwJJk8iMRsQkwUdLYiHg9Iq4t6/4P2KppwU25WFOCm+XI87FjRGxNfnl/Dlg5In4IrA+sRyYHHkDm5rzf34MbSfMrh0aYpZyPrwBbkl/Qc5LNEtuWCx2lqW4hshZiwJK0IJlzMbgk3x4JbAc8FxFvkE3bY8gg+RMRcS+Zj7M/sFO7BjeQ+UOS1pR0QkTcAhwCjCe/O+aMiFuBHwB/dnCjzYGjyNyq/YFPkfk48wDbS1q5POTRekrafQ5w+qku2jsFfLdy/+9kcLNQRDwUEU/0SeH61hDyC3cOYG7yi+ufwFrKcU6IiM2AF0tVNBHxD2CjknDcGMoeY38oibSQSbTLkT1EiIhfAWOBzSTtALwNzEZW2W8ZEQ/0eaF7x05kTdRaJXg5iMw9+hGwDjke0kZkkDN/aZIYBJxaU3nbxSDgz2Texfxkk97jTOpl9hpwJtn7boaybDzwlYi4p4byTlElj+jz5OdgpKRjIuJOsul+CJmTM2dE/DUixtZX2nqUhOKOXpaLk8HNaPJH8a3kZ2kx8sfSXMBbZfu2/7HsJqp+TtJ2wCLAi+QXzyFkG/nXgM8D3yS/gJ6urZC9TNIs5AdycbJada5y/w7gyoh4tLLtoPJrrpFt6yURdBiwXEScL2kLYE/g0og4pWyzB3BLR4AnaZaI+HddZe4p1ddU0pFk0Ptb4C/A0sBvIuIzpfr9p8B3O2odlGN8TKyp6LWr/HqfmWzSfJVslniDbKK6NyL2Ltt+2NzTrlo0SV1EXrDnBEYBT0XE1yV9jmyuPa76PTFQlFq73YEjI+LfKr3HImLtsn5J4AgggEMi4v76Sjv1HOD0Y8quvTuQH95PkIlzXwX2I5PC5ge+1bSaCviPXmMdo9JuD3wc+F/yi+ww8uJ2cuQonAOCpA3Ji9LIiPhdqXLeFbguIn5W2W6G/vArrLsqF+kNyAB3fuAV8ov5Rkm/I4PgOcngZkxTA92pUU0qLcH/4mTTxCtkDsbr5OdobETsWV9Ju6fUYG4EnB8R70raGPh8RBxUEmc/DlwGXBsR35M0e+RwEgNKqd0SmUP1FhkPPCHpXDLn6ojyfvg2sCJZm3cE8O/+8plxgNOPSToV+Fkl6evHZPb/PuWX2KAmX9glbUp+kT1K/lKficw76ugZNBd5Dtqy+rynVC5Qc5EJwq+Xi/zvgd0j4gJJXwb2IKubx/eXL6jukDRrRLxTLl6LkAH/DhHxoKTDyGTYX0bErcrxbl6LiPsc3ExSErF3IXtLXc2kJr3nyUHcXgdWLPkrbU05PMS/gRfIucYWA34HrB8Rj5RtjiST6i+JiKPqKmtdJC1ENuWeFRFPS/o12Vz9fTLg2ZT83JxD5iseQeax7VSaKvsF5+D0E51zbkoA83HgC5XFl1ImD4yId5sY3FTa1D9NfgE/R9ZenUqOSnsymUR6MPBo04Mb+LDtfAvywn6tcvj068gvpJMlbR8Rvyd7jDzZpIt6SSJ+QNK6pUnibeA1MtglIn5ANlWdJGn9iPhLRNxX1jXmPEyPkjS6P3Av2bz9bfLHwQ/I4GBfsitwWwc3JZ9qV/IHz8PAoWTN5R3koKdjSqLxeuSwAOcxcEcrnplMqt+1dM7YnQxivwc8CRxP5jKuR7YSPEjmOPavaTkiwn9t/kepaSu3NybHMOkYnOwRYLeybkdy7Js56i5zL5+PtcneHNuW+/OTzVEXkz2CFgCWqrucfXg+ViAHYFuFvBjdTf5ahazheoucIE91lrMXn//OZA+pNcr9o8i8o+Hl/hfL+Vm67rK22x85bcmDwDbl/kpkYHMk2XtmATKfq/ayduO5bEn+0NmLTJhen7xQf5cM2HYja6iuB5YnB7AbA8za1M9Gi3M0IzBjub0kWbP1EzLQG0T2lDsJWKRsI2BDsnPCSnWXf2r/3ETVj0jahayZeBh4gOzRMCP5Jr0Z+Ax50e9XiWBTS9JSwBXAXyJi57JsKPnrYxmyR9B79ZWw75Rz8f/IL6SvlmV7khf4gyLiKknzRAMHeKzkjMxPXtjWIn9xvk/moc1A/grdCvh2RNxQW2HbkCaN4j2abNr+bFm+PNk9fHbgwGjz/JTK+2AQGeSsT/YgPYV8T2xDvg9Ojoi3S6eEtcjBQLeKBuYotiJpCeBs4Lby/15yRPtTyPN1IlmL8xuyie/rkU2/G5MDov6jloJPBwc4baxTr5CRZCS9D/lrfCT56+rn5KzIc5C17s/VVNxeU8kxWZlshnqSDOyuB86OiCPKdkOBuaO0szddSSYeCfyDHN/mtIi4qKzbB/g62QX85chxcRqXc6JJM8X/gPx8jCTPxTNk7dUKZDLpdbUVsg1J+gw5VcF+5MXtDGCWiNiqrF8ReDPafJyo0iNudzJv6M+RPYE2IWu6HyWnXFiT7Dn1CDnw6Sxk0PvXaOOxe3paec1/Q9Z430T2kLuHDP52IWs5fw68CywbOc5Rv+YAp011Cm6WJKtZtwGWiIhXSg7KluTkiadHm7ePTy9JXyJrr64kxzL5BjkS6UXk6JqH1le6vqec5fckYNeIeEzSd8nA9+bIfBskLRI5v05jlG6tK0fEFeX+weTsxkeW+3uSuVmbR8Qd9ZW0fZUE05uAMRGxb8lrm4vsMfXxiBhRZ/mmhqT/Ii/MjwIXkN+HR5HB7ozk9BGnSloXeD7KWE/9oat7T1MO3rgaWTs3E5k8/H0y0NmZDHzOiIhd6ypjT3OScZuqBDc7kYmzo8kpF36rHE79QbKr44PkL/hGUvo4Oe3ERmSuxSzAS5HjVnwF+FrpJj4glG6w32TSqLyQbefjgQ0lbV2WPVVD8XrbysDjKpPHkuO1fBI+TED/Nfl5uFbSkNJsYRWRY2L9ihy1+LORXiGTi18uv/T7hcjpNj5P1mb/hpx/bnuyt+DGwKGSdo6IGyPigY5OCgMtuIEPB+a7ixwYdV6yKX+fiBhN1oIdAlxYYxF7nGtw2pikbcjEuH0i4lHlXErHkB/mrSPHePhw7pgmUo4yO5FsL/8LeT52KedjIzKpepZoYI+xqs7NS+UX6d7k5JG/jYjnJM1H9hq5rATAjSFpMWBoRIwt3eGPI8f6uQy4E7iEHLF4TWAL4NyIuKue0raXShPvSmSPw44fRduTc3PtFmUE3/5as1GapY4kR69+vdTsLE/mon0ncooWAyTNRE6++y3g/og4rNP6xjRlO8BpIy0uYruSyZMjo8x4LeljZdmgiNimSW/GzkqtzP+R7cMnkr1hPleCm/XIqujtouEjkFYuUBuRk2LOSo4yuzp5MX8IuChy9uNGjchbfnHPQeZPvArsHRHXStqNTBQ9j0yavISswVoL2DfKpJlN/nx0R+W9sykZFN5MDgJ6DflLfj1ynqHt+nuTnqQvkt8Tn+1Iqq88/wH9PoBJQ2yU8zEjGeSMBu6JiENqLVwv6V992husRc7NhIg4XdL7wI8kPR8Rf4qIN8uX+1zQvLE8qh9CMqH4JbI69Xgy+e1oSWPI7tAHNj24gQ+/kNYlpxf4KTl+xdVkcPMeOWDXjJJOLvcbo7wPXlMORLYqsJ9yaonTJL1LjtGhiFhfORfX/BHxeMfnqWmfj+6SNF9EvFDeO4PJ5OtdIuLm8l7aiOxWf3qpGZ61xuL2iIi4QtIHwEPKma5f7nj9B9r7oBLYrUo26b8REfdUvl8nSrqTrPVq615y08M5OG2iEtx8l7yY/0LS/uTgfUcAxyp7zRARb0XEM7UVtheUi1PHeZi73P4nOQ7DjyMH7DuA/LU+iJyCYkzHB7ZpJC2qHHW3w4bkXEpnRMSO5C/xS0oOwhXANZGDOzbmi7xUpXe4ERhH5qPtLmnTiDibDPR2lbRTZHfmf8HAu6BVlRytx0oCNpEzgc9K9i4jIm4EHgN2KjV+x0fETXWVtydFxB/JGt8V6y5LnUpwMwI4izwXd0tap/q5iIj3IicY/Vtd5extDnDaiHK8gRERsSlZLb8s8GpEnEHmoBwiabamXdSVXT0Pl7SApEWB00qgB9lbSpI2L7/I/jciTonS7bdpF7KSVD0nGcidVt4TkN2e5+rYLiL2B56UNG9EXBTNmQkcAEmfIp//emXR1eTzX4Mc/2kvSSMi4hyyZ93d0Lz3wzSahxzP5JuSvlOWnQXMU5qqIAdue4Mc66ZRIuLyyLnHGvU92V2SZlAOmbEf8CWyefd+sqdZxzYD4ty4iapGkmaKjw5IF8AfJH2LfG3+u0Tiy0TEKZLOj4Yl00r6JJlHcWJkouy8lLlPlN1Z3yA/nMNqLGafqTTJnEFJBFT2BLoUuEzSg+RorEuQAfAc5EzyTTM/2fy0rKRfkM2VB5BdXG8jayRGKycMPbO+YrafyDm4DiBz1vZSDmx3Ejly7V6SRpEJuAdGP5pXaGoNpGC3vMazRfaGm4v83rwG2AT4Gjmg4XPK8dTuiIjHaitsH3KAUxNJQ4BtJJ1DNj8MIUeW3JociXW9yMHZvg2sKWlURLxaU3F7hXIsl3OAH0bEJcpxGkZGxEmStiKnotiaMiqtpAvJ7uGNmQG7qlPAeyP5nriS7AlyJHlx/yn5fvk0MDoiHu/zgvaBiPizpM+TPaWeZlJC8TDgOrI76wzksAEDXqkF/SxwRUmwvZl8//yYHLX2/Yg4snyGVgKeiIh7nXzb/5UfQKsDw0o+1drkuGmrkXMVLhg5gvMq5Gjve9RW2D7mXlQ1KNn+Q8hck0OBZ8l20pnJL6SJZI+Qf5NdgXeIBg4nLmkdcvTRGcr9a4G7S/NLdbtNyaTr22soZp8oTTIHAr+OiBtKFfI5wOPkZIF7kHPG/JV838wdEf9o+gWqNNEdR45IvDIwgpyi4zo1rMfYtJI0Gzng5Qiyh+Uz5NxsZ5HB4Biyie/KiDiwrnJa71FOr3EUWTM3OiLOLnmNt5HNkS+QP4wOiYhL6ytp33KA08ckLU7+ulqX7K75A/KCtX5EvChpOJlnsCaZYPvLaPDcUsrxK35OJj3+OSJ+VFk3f0Q832n7Rl7QS23FjWQuSUeTzLVkrc2Z5Pvlv4GfRxkyYKAoAe7RZK+fV1s07Q545XO0B3A7+d1xL9nk/cVyf2EyGf1LMQB6Hg4U1e9DSUeTTdfXATdGxP2ldmcUOSDo+Ij4S1O/Q1txgNPHJM1MjmEyD9nMsDE5iuRIYMeIeEjSCqX6eIamNsdUKSf9uwqYueP5SlqTnBV4/4h4ts7y9ZVSo3UVOSXHWuSkgcPIeXPuLssfiTIo20BSeoScCXwqIl6uuzztotMFbivy++Qqsqfh7OR75tsR8YikWSPinfpKaz2p0hV8SbLWLoBFyFr/Z8keh7MACw/E7wxwgNNnJC0QZSJMST8lZ4A+JiIOLssOJn+t/4a8sG0bEU1MHm2pNNudEBFLKmfIvoisar2i5qL1KTfJdK3U5LxZujlbUf0hVJJIR5DzM/0WmLV0E29s7edAVr43/xe4nBwv7Ptky8DuZBrEF8kpGf5SVxnr5ACnD5T8igfIUTbvI2dwXY6sTnwjJs2G/XVyrIqfNK3bb3eUX+kXk7Pbfjcirqy5SLVwk8zk+UI9SeVX/IfBr3Iuss3JCTUviYgXfM6aR9JqZM7Vl8lpN7Yju4TvQnYgWoMcZuRPtRWyZg5w+oCkhYFzgT+QtTNPltvzAouRb8Kflm0bPbfUlJTmqjmjzIg9ULlJxqZE0rJk4vlWEfF+p+aqbckxUPaPiCZOujogdXqN1yFHel+IHAx2V3IohbnIIUaeqK2gbcID/fWBiBhP9oRZBdiUrD7elmymmgBsImmHsvmA/qUeEddFxO8HykBUXYkckXVXBviIrPafynAKkHkXE4AFK+s6huI/j5xk0sFNAygnmO0Yobjj9b+FnIduE+CgyNHe/0EmFM9fS0HbjAOcXla5UI8mk8DmA54iqw9vIdtIP0V25xtQg1NNjs+DR2S1SfTRaSvmKP/fBmYj8y2IohLkDIjk/KYrg/jdJWlfgDI+2gyRs76LzLXZoPSk25jsCj4gk4o7cxNVHyhfODORXcKXAD5DJtBeImkR4K2BlFBsZt2nHHZ/J3IE66eB68kcrT+SvaV+ARwaEffWVkjrVaVX6aXA/0TEL8qyGSMnzZwfOIGs/R8z0IaRmByPZNwHSm3Eu5J+A/yJHMvkkrLuyTrLZmZtbziwFDkQ6CXAd8gRvkcA75LD8i8BDJihJQaaiLil9Ji6RhIlyOmonRhMjnj+u4h4ywnlk7iJqg9FxMNkU9WgMsqkmdlkRcQdZKeE2YGvAvdFxN7APkwKbo6QNJ+Dm+YqzU4bAv8naa+SWL4umd85PiLeKts5uCkc4PS9W8lkYzOzKZK0ITka8a1kD5m9JC0bOTfdvmQ34cvIsZOswSpBzqGSfkk2T+4REdfVW7L25ACnj0XEQ+Qgfm/VXRYza2+lK/gOwKURcTk5TtQcwBaSlo+IDyJiAjCUDIKs4UqQsyk5S/gPIuJiFTUXre04B6cGDm7MbHLKHEKzkqNaDyF7y1DmEvqAvLh9RdIT5LxlHyPzc2wAiIg7JC0YEW8456Zr7kVlZtYmKiMTV+cZOpacRf7kiHilbLc28GKpEcbzTA08nd8rdZenHTnAMTNrA5UL1gZkD6m/kl3C5yFzLa4FTouIl1o8xhc5s06cg2Nm1gZKoDKCHNPkXuB75ESKAvYEtgD+W9KM1cdU/5vZJA5wzMxqImkJSaMkzShpAWArMpB5muwx9S6wP/A+mWx83UCeUd5sajjAMTOrgaSlyV5Rb0bExIh4DjiYHMDtMGBt4HRy+P3vAc9HxO11ldesv3GAY2bWxyQtA/wSODEiLiw1OGsAz5O9pmYos8i/B9wPnOTel2ZTxwGOmVkfKhNnjgFej4jTSpfwq4DVynyZdwKvSrqVHMDvVx29pcys+9yLysysj0n6LHA58ENgLeDZiNiv0zZrA29ExD3uJWU29RzgmJnVQNKqwDXAQxGxZmX5amRtzs9qK5xZA7iJysysBmXI/XWBT0naA0DSWsBpgJukzKaTa3DMzGpUanKuAH4HLA8cUeadMrPp4ADHzKxmJSfnemDHiLik5uKYNYIDHDOzNiBpsCdPNOs5zsExM2sPb9ZdALMmcQ2OmZmZNY5rcMzMzKxxHOCYmZlZ4zjAMTMzs8ZxgGNmZmaN4wDHrI1IOkjS/ZLulfQ3SatLmknS4ZIelXSXpFskbVK2f1zSfJXHryvpD+X2zpImlP10/C0jabiktyXdLelBSbdL2rmyj0MlfbdTuT48jqQ3WpT7UElPdTrWkFKeV8uxHpb0Z0mbTeEcVPf1qKSLy+zbHetvLPvqOM6FLR73d0lfqjzm25LekTRXp3P1atn+IUlHS1q+st+XJP2z3L62em4r+zhD0tadynWPpDskrdTp/N1X2fcJk3n+Z1SOe5ekNVss/5ukv7Z4nR+StG+r11Lp4HJOH5F0g6RlW5TxPkkPSPqxpFkn91qZtbMZ6y6AmaVyIdsMWCUi/l0CipmBw4AFgeXK8gWA/+rmbs+PiH06HWc48I+IWLncXwK4WJIi4tfT8RSOjYijOx0L4KaI2KzcXwm4RNLbEXFdd/YlaSRwvaTlI2JCWb99meqg5eMkfRq4SdL8EfEBsB1wB/AVoPocb4qIzSTNBtwN/D4iVirHPQP4Q0R0BFDrduMcbB8RYyXtAhwFbFhZt15EvNCNfQDsHxEXStoI+CWwQnV5i+3Pj4h9JM0LPCzpwoh4stM2e5MTe64YEW+VfY+RtGxEvFMto6TBwCnl2KO6WWaztuIaHLP2sSDwQkT8G6BcDF8B9gC+UVn+XERc0FMHjYjHgO8A3+ypfU7mWH8DfgTsM4VNq485H7ga+NpUPOZBYCIwn6RPAIOBg8lAp9X2bwN/A4Z19xhTcEsP7evPwJLd3TgiXgTGke+lzr4P7BMRb5Vtrwb+CmzfYj9vAF8HtpQ0zzSU26x2DnDM2sfVwCKl+eAkSf9FXtyeiIjXJvO4GzqaLYBTO60b2anZaLYu9nEX8KnpLP++lePcMJntpuVYnR9zTuVYR3XeWNLqwAfABGBb4DzgJmDpUgPWefu5gaXIgKInjAAu6bTshkqZ923xmFY2B+6r3D+qso9zOm8saVFgVuDeTsvnBD5WgtmqscCytFDec/8kz4tZv+MmKrM2UYbp/wzwOWA94Hzgf7vx0A+bPkozSjV/plUTVat9VBd2NfrnlEYF/Y8mqi60LMBUPqarJqp9Je0AvA6MjIiQtB3w5Yj4QNJFwFeBn5XtPyfpHvIiflxEPDuZMnTnvJwjaWayxmilTttNTRPVUZIOJgO03SrLu2qiGinp82QQuE+lyWl6TctrZdYWXINj1kYi4v2IuDEiDiGbcTYHFi2/wHvTysCD5faLwNyd1s9BNpf19LF6+jHHRsRKEfG5iLhJ0vJk8HKNpMfJ2pxqM9VNEbEiWYuxWzUxuIVW52UeoBq0bA8sAZwJnNiN8nZl//I8NoyIv3dj+/MjYgUyx+ZwSR+vriy1MW+WfKuqzwD3t9qhpDmA4cAjU116szbgAMesTUhaWlK1OWAl4GHgNOD4UjOApKGSvtqDxx0OHM2kC/KfgS+VCxySvgLcExHv98CxVgB+APx8Kh6zFbARcO40HHI74NCIGF7+FgIWkrRYdaOI+CdwOJmn0pVHy2M/Xcq1GLAimbtT3VeQz3ENSdPb7DdVSq3W2cC3Wqw+Cjiho5lS0heAdYDfdt6wJBmfBFwSES/3XonNeo+bqMzax2DgRElDyATZccCewGvAj4EHJL1DTsr4P93c50hJ61Tu7wU8DXxC0t1kvsbrwAkRcQZARNwr6WfAzZICeB7YvbKP2SWNr9w/pvzvaB7qsGX5/7lyrNnLvr45hR5U1X19DPg7sH6lBxVkU9Db5fYLEfGFLvazLfDFTst+X5bf1mn5L4DvShoeEY933lHpwbYD8OvSffo9YPeIeLXFtm9L+imwP5OamG6Q1BEk3hsRO3VR5snpaLrqsFqLbY4A7pLUuXnzRLIG6r5SjmeBLUqCdYcblG2YM5Dn6bBpKKNZW/Bkm2ZmZtY4bqIyMzOzxnETlZnVQtJBZI+mqt9FxE/qKE9fk/RzYO1Oi4+fzsEWzaxwE5WZmZk1jpuozMzMrHEc4JiZmVnjOMAxMzOzxnGAY2ZmZo3z/wF0y89JTjmHEgAAAABJRU5ErkJggg==\n",
       "datasetInfos": [],
       "metadata": {},
       "removedWidgets": [],
       "type": "image"
      }
     },
     "output_type": "display_data"
    },
    {
     "output_type": "display_data",
     "data": {
      "image/png": "[encoded data removed]"
     },
     "metadata": {
      "application/vnd.databricks.v1+output": {
       "addedWidgets": {},
       "arguments": {},
       "data": "data:image/png;base64,iVBORw0KGgoAAAANSUhEUgAAAjgAAAEYCAYAAABRMYxdAAAAOXRFWHRTb2Z0d2FyZQBNYXRwbG90bGliIHZlcnNpb24zLjUuMSwgaHR0cHM6Ly9tYXRwbG90bGliLm9yZy/YYfK9AAAACXBIWXMAAAsTAAALEwEAmpwYAAAj40lEQVR4nO3de5QlVX328e/jjCCKBpCRcA1GSSIgoiIgiMFLuHlBDRGIykQR9BWSsGJU1DcLvN9iYohKxEiEiCLxElBRXkQEUUAGISASwoRgGO5yEUUUB3/vH7Vbj233dM9MnznTdb6ftc7qU7t2Ve3dp7vP07t21UlVIUmS1CcPGnUDJEmS5poBR5Ik9Y4BR5Ik9Y4BR5Ik9Y4BR5Ik9Y4BR5Ik9Y4BR5Ik9Y4BR5ImSfKmJP88h/v7cZLfbc8/nuTtc7jvf0ryN3O1P6kvDDjSPJLk+iTPbs/XSfL+JMvaG+j1ST4ww/ZvTPLlSWXXTlN2UHteSe5tx5h4vL6tOzbJzyetu3tgP5XksQPLf53k5iTbJdkzyS8mbfvjJE9tdb+e5KdJthzY/tlJrp/0/bgvyY+S3J3kW0lenWTav20D+/1RknuSXJrk6CTrTtSpqndW1StX9L0c2NeM9apq/aq6bqZ6szjenyW5YNK+X11Vb1vdfUt9Y8CR5q83AjsBOwMPB/YEvjPDNucDuyVZAJBkU+DBwBMnlT221Z3whPYmPfF478C6T09at8FUB07yf4GjgD+sqqta8U2Ttl2/qi4c2OxeYKbRiedV1cOB3wHeDbwB+NgM2xzZttkUeC1wEHBmksyw3UpJsnAu9ydp9gw40vz1FODzVXVTda6vqpNn2OYSukCzY1veAzgXuGZS2X9X1U1z1dB2SuaVwNOr6r9WYtPjgIOTPGamilX1w6o6AzgQWJxk+1lsc29VfR14PvBU4Dmtvccm+UR7/pAkn0hyRxsluiTJJkneQfe9+mAbefpgq19JjkhyLXDtQNljBw69cZKz2yjSeUl+p9XbutX9ZTCaGCVK8jjgn4CnDo6UTT7lleSwJEuT3JnkjCSbDayrNsJ1bevLh+Y61ElrCwOONH9dBPxVktckefxs3qiq6n7gYuDprejpwDeACyaVnf+bW6+yd9OFjqevwmmaG4GPAm+Z7QZV9W1gGV34mO02/wssmWabxcBvAVsCjwReDdxXVW+m+94d2UaejhzY5gXALsC20xzyJcDbgI2By4FTZtHGq9uxL5xupCzJM4F3AS+mG536PnDqpGrPpQvHO7R6e890bGk+MuBI89e7gPfQvVkuAW5MsngW253Hr8LMHnRv0t+YVHbepG2+0/7jn3gMvim+eNK6cydtuxfwlRYiJtts0rZ3J3nYFP18XpLtZtG3CTcBG61E/RVt83O6YPPYqnqgqi6tqntm2Ne7qurOqrpvmvVfqqrzq+pnwJvpRmW2nKbuyngJcGJVfaft+41t31sP1Hl3Vd3dXo9z+dXIndQrBhxpnmpvth+qqt2BDYB3ACe2Uxkrcj7wtCQbAYuq6lrgW3RzczYCtuc3R3CeVFUbDDzOGlh32qR1z5i07UHAAUmmGoW5adK2G1TVvZP6eTvwQeCtM/Rr0ObAnStRf0Xb/CtwFnBqkpuSvDfJg2fY1w2zXV9VP27H3Wz66rO2Gd2ozeC+76Dr24RbBp7/BFh/Do4rrXUMOFIPVNV9VfUh4C6mPy0y4UK6Uy6HAd9s299DN4JxGF3o+J85bN5/Ac8GXpPk6FXcx/uAZwBPnqlikqfQvaFfMFPdgW22bPv+xuR1VfXzqnpLVW0L7EZ3iueQidXT7HK68gmDV4atTzdydBPdpGqAhw7U/e2V2O9NdJOtJ/b9MLrRpxtn2E7qHQOONE8lOapdar1ekoXt9NTDgctWtF07bbIE+Ct+/Q39glY2l/NvJo55FV3IeV2So1Zh+7uB9wOvn65OkkckeS7dnJNPVNWVM+03yUOT/CFwOvBt4Mwp6jyjzXFaANxDd8rqF231rcDvrmR3APZL8rQk69DNxbmoqm5oo1U3Ai9NsiDJK4DBCda3Alu07abyKeDlSXZsl72/E7i4qq5fhTZK85oBR5q/fkL3pn8L8APgCOCPZzmR9zzgUfz6KMc3WtlUAec/8uv3qvnAwLoD85v3snnU5B1U1X/QTWg9JsmrW/FmU2z7x9O0+R+AB6Yo/0KSH9Gd9nkz8HfAy6fvOtBd+fQjusDwAeCzwD5V9Ysp6v428Bm6cHM13ffuXwfadECSu5IcN8MxB30SOIbu1NSTgZcOrDsMeB3dqaXt6E4fTvgacBVwS5IfTN5pVX2V7rL6zwI304Wjg1aiXVJvpGqmEU9JkqT5xREcSZLUO95lU+qZJFsB35tm9bbTXK4tSb3iKSpJktQ7YzeCs/HGG9fWW2896mZIkqQ5cOmll/6gqhZNLh+7gLP11luzZMmSUTdDkiTNgSTfn6rcScaSJKl3DDiSJKl3DDiSJKl3DDiSJKl3DDiSJKl3DDiSJKl3DDiSJKl3DDiSJKl3xu5Gf8O09dFfGnUTpLXe9e9+zqibIGkMOIIjSZJ6x4AjSZJ6x4AjSZJ6x4AjSZJ6x4AjSZJ6x4AjSZJ6x4AjSZJ6x4AjSZJ6x4AjSZJ6x4AjSZJ6x4AjSZJ6x4AjSZJ6x4AjSZJ6x4AjSZJ6x4AjSZJ6x4AjSZJ6x4AjSZJ6x4AjSZJ6Z2gBJ8mWSc5N8r0kVyX5y1Z+bJIbk1zeHvsNbPPGJEuTXJNk74HyfVrZ0iRHD5Q/OsnFrfzTSdYZVn8kSdL8McwRnOXAa6tqW2BX4Igk27Z1f19VO7bHmQBt3UHAdsA+wIeTLEiyAPgQsC+wLXDwwH7e0/b1WOAu4NAh9keSJM0TQws4VXVzVX2nPf8RcDWw+Qo22R84tap+VlX/AywFdm6PpVV1XVXdD5wK7J8kwDOBz7TtTwJeMJTOSJKkeWWNzMFJsjXwRODiVnRkkiuSnJhkw1a2OXDDwGbLWtl05Y8E7q6q5ZPKpzr+4UmWJFly++23z0WXJEnSWmzoASfJ+sBngaOq6h7geOAxwI7AzcD7h92Gqjqhqnaqqp0WLVo07MNJkqQRWzjMnSd5MF24OaWqPgdQVbcOrP8o8MW2eCOw5cDmW7Qypim/A9ggycI2ijNYX5IkjbFhXkUV4GPA1VX1dwPlmw5UeyHw3fb8DOCgJOsmeTSwDfBt4BJgm3bF1Dp0E5HPqKoCzgUOaNsvBk4fVn8kSdL8McwRnN2BlwFXJrm8lb2J7iqoHYECrgdeBVBVVyU5Dfge3RVYR1TVAwBJjgTOAhYAJ1bVVW1/bwBOTfJ24DK6QCVJksbc0AJOVV0AZIpVZ65gm3cA75ii/Myptquq6+iuspIkSfol72QsSZJ6x4AjSZJ6x4AjSZJ6x4AjSZJ6x4AjSZJ6x4AjSZJ6x4AjSZJ6x4AjSZJ6x4AjSZJ6x4AjSZJ6x4AjSZJ6x4AjSZJ6x4AjSZJ6x4AjSZJ6x4AjSZJ6x4AjSZJ6x4AjSZJ6x4AjSZJ6x4AjSZJ6x4AjSZJ6x4AjSZJ6x4AjSZJ6x4AjSZJ6x4AjSZJ6Z2gBJ8mWSc5N8r0kVyX5y1a+UZKzk1zbvm7YypPkuCRLk1yR5EkD+1rc6l+bZPFA+ZOTXNm2OS5JhtUfSZI0fwxzBGc58Nqq2hbYFTgiybbA0cA5VbUNcE5bBtgX2KY9DgeOhy4QAccAuwA7A8dMhKJW57CB7fYZYn8kSdI8MbSAU1U3V9V32vMfAVcDmwP7Aye1aicBL2jP9wdOrs5FwAZJNgX2Bs6uqjur6i7gbGCftu4RVXVRVRVw8sC+JEnSGFsjc3CSbA08EbgY2KSqbm6rbgE2ac83B24Y2GxZK1tR+bIpyiVJ0pgbesBJsj7wWeCoqrpncF0beak10IbDkyxJsuT2228f9uEkSdKIDTXgJHkwXbg5pao+14pvbaeXaF9va+U3AlsObL5FK1tR+RZTlP+Gqjqhqnaqqp0WLVq0ep2SJElrvWFeRRXgY8DVVfV3A6vOACauhFoMnD5Qfki7mmpX4IftVNZZwF5JNmyTi/cCzmrr7kmyazvWIQP7kiRJY2zhEPe9O/Ay4Mokl7eyNwHvBk5LcijwfeDFbd2ZwH7AUuAnwMsBqurOJG8DLmn13lpVd7bnrwE+DqwHfLk9JEnSmBtawKmqC4Dp7kvzrCnqF3DENPs6EThxivIlwPar0UxJktRD3slYkiT1jgFHkiT1jgFHkiT1jgFHkiT1jgFHkiT1jgFHkiT1jgFHkiT1jgFHkiT1jgFHkiT1jgFHkiT1jgFHkiT1jgFHkiT1jgFHkiT1jgFHkiT1jgFHkiT1jgFHkiT1jgFHkiT1zqwCTpLdZ1MmSZK0NpjtCM4/zrJMkiRp5BauaGWSpwK7AYuS/NXAqkcAC4bZMEmSpFW1woADrAOs3+o9fKD8HuCAYTVKkiRpdaww4FTVecB5ST5eVd9fQ22SJElaLTON4ExYN8kJwNaD21TVM4fRKEmSpNUx24Dzb8A/Af8MPDC85kiSJK2+2Qac5VV1/FBbIkmSNEdme5n4F5K8JsmmSTaaeKxogyQnJrktyXcHyo5NcmOSy9tjv4F1b0yyNMk1SfYeKN+nlS1NcvRA+aOTXNzKP51knZXotyRJ6rHZBpzFwOuAbwGXtseSGbb5OLDPFOV/X1U7tseZAEm2BQ4CtmvbfDjJgiQLgA8B+wLbAge3ugDvaft6LHAXcOgs+yJJknpuVqeoqurRK7vjqjo/ydazrL4/cGpV/Qz4nyRLgZ3buqVVdR1AklOB/ZNcDTwT+NNW5yTgWMDTaJIkaXYBJ8khU5VX1cmrcMwj2/6WAK+tqruAzYGLBuosa2UAN0wq3wV4JHB3VS2fov5U7T8cOBxgq622WoUmS5Kk+WS2p6ieMvDYg2605PmrcLzjgccAOwI3A+9fhX2stKo6oap2qqqdFi1atCYOKUmSRmi2p6j+fHA5yQbAqSt7sKq6dWAfHwW+2BZvBLYcqLpFK2Oa8juADZIsbKM4g/UlSdKYm+0IzmT3Ais9LyfJpgOLLwQmrrA6AzgoybpJHg1sA3wbuATYpl0xtQ7dROQzqqqAc/nVx0UsBk5fpZ5IkqTeme0cnC8A1RYXAI8DTpthm08BewIbJ1kGHAPsmWTHtq/rgVcBVNVVSU4DvgcsB46oqgfafo4EzmrHPbGqrmqHeANwapK3A5cBH5tNXyRJUv/N9kZ/fzvwfDnw/apatqINqurgKYqnDSFV9Q7gHVOUnwmcOUX5dfzqSitJkqRfmtUpqvahm/9J94niGwL3D7NRkiRJq2NWASfJi+nmxPwJ8GLg4iQHrHgrSZKk0ZjtKao3A0+pqtsAkiwCvgp8ZlgNkyRJWlWzvYrqQRPhprljJbaVJElao2Y7gvOVJGcBn2rLBzLFxF9JkqS1wQoDTpLHAptU1euSvAh4Wlt1IXDKsBsnSZK0KmYawfkA8EaAqvoc8DmAJI9v6543xLZJkiStkpnm0WxSVVdOLmxlWw+lRZIkSatppoCzwQrWrTeH7ZAkSZozMwWcJUkOm1yY5JXApcNpkiRJ0uqZaQ7OUcDnk7yEXwWanYB16D4sU5Ikaa2zwoBTVbcCuyV5BrB9K/5SVX1t6C2TJElaRbO6D05VnQucO+S2SJIkzQnvRixJknrHgCNJknrHgCNJknrHgCNJknrHgCNJknrHgCNJknrHgCNJknrHgCNJknrHgCNJknrHgCNJknrHgCNJknrHgCNJknpnaAEnyYlJbkvy3YGyjZKcneTa9nXDVp4kxyVZmuSKJE8a2GZxq39tksUD5U9OcmXb5rgkGVZfJEnS/DLMEZyPA/tMKjsaOKeqtgHOacsA+wLbtMfhwPHQBSLgGGAXYGfgmIlQ1OocNrDd5GNJkqQxNbSAU1XnA3dOKt4fOKk9Pwl4wUD5ydW5CNggyabA3sDZVXVnVd0FnA3s09Y9oqouqqoCTh7YlyRJGnNreg7OJlV1c3t+C7BJe745cMNAvWWtbEXly6Yon1KSw5MsSbLk9ttvX70eSJKktd7IJhm3kZdaQ8c6oap2qqqdFi1atCYOKUmSRmhNB5xb2+kl2tfbWvmNwJYD9bZoZSsq32KKckmSpDUecM4AJq6EWgycPlB+SLuaalfgh+1U1lnAXkk2bJOL9wLOauvuSbJru3rqkIF9SZKkMbdwWDtO8ilgT2DjJMvoroZ6N3BakkOB7wMvbtXPBPYDlgI/AV4OUFV3JnkbcEmr99aqmpi4/Bq6K7XWA77cHpIkScMLOFV18DSrnjVF3QKOmGY/JwInTlG+BNh+ddooSatj66O/NOomSPPC9e9+zho/pncyliRJvWPAkSRJvWPAkSRJvWPAkSRJvWPAkSRJvWPAkSRJvWPAkSRJvWPAkSRJvWPAkSRJvWPAkSRJvWPAkSRJvWPAkSRJvWPAkSRJvWPAkSRJvWPAkSRJvWPAkSRJvWPAkSRJvWPAkSRJvWPAkSRJvWPAkSRJvWPAkSRJvWPAkSRJvWPAkSRJvWPAkSRJvTOSgJPk+iRXJrk8yZJWtlGSs5Nc275u2MqT5LgkS5NckeRJA/tZ3Opfm2TxKPoiSZLWPqMcwXlGVe1YVTu15aOBc6pqG+CctgywL7BNexwOHA9dIAKOAXYBdgaOmQhFkiRpvK1Np6j2B05qz08CXjBQfnJ1LgI2SLIpsDdwdlXdWVV3AWcD+6zhNkuSpLXQqAJOAf8vyaVJDm9lm1TVze35LcAm7fnmwA0D2y5rZdOVS5KkMbdwRMd9WlXdmORRwNlJ/nNwZVVVkpqrg7UQdTjAVlttNVe7lSRJa6mRjOBU1Y3t623A5+nm0NzaTj3Rvt7Wqt8IbDmw+RatbLryqY53QlXtVFU7LVq0aC67IkmS1kJrPOAkeViSh088B/YCvgucAUxcCbUYOL09PwM4pF1NtSvww3Yq6yxgryQbtsnFe7UySZI05kZximoT4PNJJo7/yar6SpJLgNOSHAp8H3hxq38msB+wFPgJ8HKAqrozyduAS1q9t1bVnWuuG5IkaW21xgNOVV0HPGGK8juAZ01RXsAR0+zrRODEuW6jJEma39amy8QlSZLmhAFHkiT1jgFHkiT1jgFHkiT1jgFHkiT1jgFHkiT1jgFHkiT1jgFHkiT1jgFHkiT1jgFHkiT1jgFHkiT1jgFHkiT1jgFHkiT1jgFHkiT1jgFHkiT1jgFHkiT1jgFHkiT1jgFHkiT1jgFHkiT1jgFHkiT1jgFHkiT1jgFHkiT1jgFHkiT1jgFHkiT1jgFHkiT1zrwPOEn2SXJNkqVJjh51eyRJ0ujN64CTZAHwIWBfYFvg4CTbjrZVkiRp1OZ1wAF2BpZW1XVVdT9wKrD/iNskSZJGbOGoG7CaNgduGFheBuwyuVKSw4HD2+KPk1yzBtq2NtkY+MGoGzEi9n0tk/essUOtlf1fQ+z7+For+z/k3/vfmapwvgecWamqE4ATRt2OUUmypKp2GnU7RsG+j2ffYbz7b9/Hs+9g/wfN91NUNwJbDixv0cokSdIYm+8B5xJgmySPTrIOcBBwxojbJEmSRmxen6KqquVJjgTOAhYAJ1bVVSNu1tpobE/PYd/H2Tj3376Pr3Hv/y+lqkbdBkmSpDk1309RSZIk/QYDjiRJ6h0DjjQmkmTUbRilce7/OPdd48uAI/Vcku0Aakwn3CV5MIxn/8f9tdd4M+CMoSRPSbLNqNuxpiR5bpJ3JvnHJBtPvOGNgyR7A6eM0+s9KMnzgeOSnJRkuyQbjbpNa4qvfRYl2WxS2ViMZCXZL8nzRt2OUTPgjJn2R+9TwMMGynr7S5/kycA/ARfR9fkfgeck+a2RNmwNaG/uxwBHVNW1fX6dp5Jke+B44N+AW4EjgEOSbD7Shq0BvvY5APgScHqStyXZA7qRrL5/L5L8EfA+4N5Rt2XUvEx8jCT5Q+BjwOFV9bUk61XVfUkeXFU/T/KgqvrFqNs5l5IcDPxRVb2iLb8K2An4AnAm8EAfh+/bH/HLgB9V1R5JNgFeRvc5NZ+m+5DaH42yjcOW5FnAK6vq4Lb8XGBPus+vO6mq7h5d64YjycQ/rZcDPxzH1z7JI4HT6QLtrcCRwEOAb1XV50bZtmFLsifwceCAqlqSZH1gXeCuvv1tnw1HcMZEkgXAvsB3gEuS/A7wwSQfBt6V5DE9/QW4GNgsyW4AVfURuu/BS4GH9THcwC/nXDwN2CjJZ4BP0N3Yc0PgL4EdRti8oUrykPZ0CbBlkhcCVNUXgfOA7eje7PvoUe33eHdgw3F77ZuFdG/qP62qW4C/B/4XeGqSXUfasuF7GPBw4K4kGwKnAqcA/5hk/5G2bAQMOGOiqh4A3kv3i/5+urs/Xwl8Ffgh8IYk6/Vh+DbJjkkel2TbqroOuBTYI8kfAFTV8cD9wOtG2c5hSLJ9kt9PskNV/RjYBdiR7r/Xd1fVq4CbgUNG2c5hSfJM4NA2OvlD4CRgtzZ6SVV9AfgpcNToWjkcSfYBrk+ybxuh2QV4AmPy2k+oqluBf6f7Odisqu4APtlW7zeyhg1ZklTVl+hC7HnAhXQjWYcB/wPsk+RhK9hF7xhwei7JLkkOTPKsqroTeDvwE+AfquoDbcj2q8CCqrpvvo9oJNmX7vTTEcBpSf6Y7rTc7wL7T7zRAd+m+z70RpL96OZXvRb4SJLntZDzOODYgfC6FPhxG9XrjfYG/wHgiqq6rxV/DbgbeH6SF7ey/wB+OnA6Z95rfX878Hng8UkeUlX30r32bxmD1/45Sd6S5D1tIvmXgF8AByfZvKp+APwD8IwkvRq9S/LsJG8C3pFk/ar6BPAXwMeq6qNVdQPwEeD36O/I5dSqykdPH3SnpK6l+8N3E/BnrXw9YJ2Bei8BvgI8fNRtXo2+Blifbl7N81vZU4H/Bg4EtgaOBc6lG7b9X+Dxo273HPZ/J+A/6f5rD91/6f9AN1z/oIF6r6Qb0dpu1G2e4/7vANxFN/cAuj/ki9pjXeAVdKesPks3B2eHUbd5Dvv+h3RzbnYFnkx3WnbjKer19bXfhW6E4k/p3sjPA3YGXgi8q/0ebAf8CXABsP6o2zyHfX8OcAXwf+hGKy8CHtLWDf7evwj4JvDIUbd5jX5/Rt0AH0N6Ybu0fgXwjLb8LOA6YPNJ9Y6km5PSiz96wFvp5tc8uC3vDFwPvKgtbwE8D9hq1G2d437vA7xsYPlpLcwtaMsL6f6b/2Kfgt1Af3dub25HtrD3FeBkuoB/UKvz8PZmuNmo2zvHfV8M7Dyw/C+t7wvb8oL22p/R09f+UOAjA8t/DZzWfg4eBxwNnA+cAzxp1O2dw35vSvcP3Z4DZScB20+q9+r2XrD9mmzf2vAYeQN8DOmFhd8G9mvPJ/7QfXEw4NCN5HysTz/4wGvaH/hHDJTtQfff+2NG3b4h933TgefrA2cOLC+aKB91O4fY/93pTlHd3X4OFrbXfhnwhFG3bw30f+L3/Ent93qrgXXr9PW1pxu9Oxn4g4Gy1wPfADZoyxvSXVQw8vbOYb8fATynPV9AN+Xki8Ahk+otpif/wK7sozfnoPXrqrt64Fvt+fKBVY+C7g6n1c1TOKyqvjuCJs6piTkGVfVh4KHA8Ul+q10C/w26/2AeGGUbh2Wg7zcPFC8EtkiyIMmfAR9P8tDq5uT0ysRcmqr6Jt1l0Ie2n4MH2mv/FXp8T5CB13/i9/xqYHO6kEdbd38fX/vmFmA58EcT82uq6r3ANXSnbqiqu6qbk9QbVXUP3agUwC+qu3rucrqLRkiyd5J1q+qkqrpqRM0cKQNOTwxe/TTwB+/utrywrVofWN4mW/5LkkfWPL40vF0t9NR0dyb+5c9yVR3Ylj8AvCLJEXTzFJZPuaN5aKq+T5o0ex/dKck30A1Rv76qejOpelL/f/mzX1UX0k0yp6oqyYHAE+m+H70w2PckC1o/09Y9qP3j8hfAs5PsPNrWDsfgJOmquo3uBp57000qfnxbtZQe/lMzqe8/bV8nLg5Z3uocQHeTy81+YwdjZOHMVTRPLKD9cLc/eIM37Zv4Jb+M7nz0FnT/5d6x5ps5N5K8CHgncGN7LEny8fZfDVV1cJJX0P2CP4Fu4vGykTV4Dq2o7xOve1X9rN3g7aXAH1fV1aNs81yaof+pqvtbqP9TuvkYB1fVjSNs8pyZzWvfgu4dwJfpJt/2RpLfq6r/qqoHWrh7oL3mlyX5G+BVwO5Jim5e1gtG2uA5NFXfp6i2nO42ILcDz62qXr3+K8s7GfdAuzT6ULorJJZV1b+28l+7M3GSE+iuJNi1qq4ZSWPnQPuv/RPAcVX1zXYp+K5097Z5b3X3Pxmsv25V/WwETZ1zK9P3duno56rqP0fT2rm3kv1/IXBlVS0dTWvn1ir83K9Xv7pcft5Ldyfq04B/r6o/bWUTIWci3G1MN9/mKcCFfXmDX1HfJ9U7iO4jOl4wn//GzxVPUc1zbQj6OLr7X1wPvC7JOwEG/pub8GHgiT35wX8EMPEhgp+nm1z3YGDitvw7J3lSW3//mm/eUM3U913af3vv7FO4GTCb1/5xVfX5voSbATP1/SkDP/c/XfPNG450N6g7ku4Gjfcn+QR0NzBNsnDgH7nlVXVtVX2yR+FmhX0fqLc+3X2f9urJ3/jVZsCZ/9YBvl5Vp1TVp/jVeeh3wC9Dzp5Jjqiqy6vq+lE2di5U1c+BvwNelGSP9sftAroJdk9Psh7dFTU3tfq9GaacZd93A3r5WUMr8drfPbJGDsks+/40+vlzfy/dvYw+SXfa8SEDb/QT806eALw0yUMG5yTOd7Ps+46tzp3V3dhPeIpq3kv3adnH0N3E785W9tt090d4T1V9Osl2wD19+sFP93lDr6S7RPQTVXV+K/863fyi/x5h84ZqnPsO493/ce77oHQfqHkCcF9VvTTJDnQjW99ok457a5z7vrKcZDzPVdWlSZbRXQq7cyu7JcmHaJeE9/ESwar6aZJTgALemO5zpn5Gd+favl4OC4x332G8+z/OfR9UVXckeRXwviTX0J2NePo4vMGPc99XlgFnHkuyTnX3t3hNki8muYDuVvW30N2qfts2B6f6NFw9oaruSvJR4Ht0V0/8FHhpdR+212vj3HcY7/6Pc98HVdUPklxB95E0f1S/fh+oXhvnvq8MT1HNU4NXSCV5I91nkLyI7gZf99NdGn1AH0dvptLuDVE1j+/rs6rGue8w3v0f875vSHdl0Wur6opRt2dNGue+rwwDzjw0Kdy8F9i9qnZvy4+ju5PvHX2YUCxJ00n3qem9uVpsZYxz32fLgDPPTAo3f0v3KbnPq1//OAZJksaal4nPMwPh5v3AtrRwk4Hbd0uSNO4MOPNQkq2A36f7+IHlK7httyRJY8lTVPNU+/yVMtxIkvSbDDiSJKl3PEUlSZJ6x4AjSZJ6x4AjSZJ6x4AjSZJ6x4AjSZJ6x4AjSZJ6x4AjSZJ6x4AjaSiS/Lh9fVCS45J8N8mVSS5J8uhptvnLJB8YWP5Ikq8OLP95kuPa8weSXD7wOLqVfz3JNQPln2nlxyb56/b8IUnOTnLsLPa1ZOD4OyX5enu+Z5IfJrmsHe/8JM+dw2+hpNWwcNQNkNR7BwKbATtU1S+SbAHcO03dbwIvGVh+ArBg4I7duwGnt3X3VdWO0+znJVW1ZKoVSdYBPgtcWlXHzmJfj0qyb1V9eYp136iq57b97gj8e5L7quqcafYlaQ1xBEfSsG0K3DzxQbFVtayq7pqm7uXA7yVZL8lvAfe1sse39bvRhaBVtRD4NHBtVR09y23eB7x5pkpVdTnwVuDIVW6dpDljwJE0bKcBz2unft6f5InTVayq5cBlwFOAXYGLgYuA3ZJsTvfxMje06utNOq104MCuThkof99A+euB+6vqqEmHXtG+LgTuT/KMWfT1O8AfzKKepCHzFJWkoaqqZUl+H3hme5yT5E9WcBrnW3QjNevRhYtrgTcBt7d1E1blFNUFdGHp96rqv2a5L4C3A/8XeMMK6gBkhvWS1hBHcCQNXVX9rKq+XFWvA94JvGAF1b9JF3CeShdwrga2bWXfWsF2s3E+cBTw5SSbznajqvoaXeDadYaqT6Rrr6QRM+BIGqokT0qyWXv+IGAH4Psr2ORCuiCxqKpuq6qiG73Zn9WbfwNAVX0W+FvgK0k2WIlN3053imtKSXYA/gb40Go1UNKc8BSVpGF7FPDRJOu25W8DH5yuclXdleR24KqB4guB3YH/GChbL8nlA8tfGZg4fEqS+9rzH1TVsycd4/gkmwBnJNlrhn1NbHNma9egPZJcBjwUuA34C6+gktYO6f45kiRJ6g9PUUmSpN7xFJWkkUhyMbDupOKXVdWVo2iPpH7xFJUkSeodT1FJkqTeMeBIkqTeMeBIkqTeMeBIkqTe+f/JOhveupOFbAAAAABJRU5ErkJggg==\n",
       "datasetInfos": [],
       "metadata": {},
       "removedWidgets": [],
       "type": "image"
      }
     },
     "output_type": "display_data"
    },
    {
     "output_type": "display_data",
     "data": {
      "image/png": "[encoded data removed]"
     },
     "metadata": {
      "application/vnd.databricks.v1+output": {
       "addedWidgets": {},
       "arguments": {},
       "data": "data:image/png;base64,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\n",
       "datasetInfos": [],
       "metadata": {},
       "removedWidgets": [],
       "type": "image"
      }
     },
     "output_type": "display_data"
    },
    {
     "output_type": "display_data",
     "data": {
      "image/png": "[encoded data removed]"
     },
     "metadata": {
      "application/vnd.databricks.v1+output": {
       "addedWidgets": {},
       "arguments": {},
       "data": "data:image/png;base64,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\n",
       "datasetInfos": [],
       "metadata": {},
       "removedWidgets": [],
       "type": "image"
      }
     },
     "output_type": "display_data"
    }
   ],
   "source": [
    "# List of categorical columns to plot\n",
    "categorical_columns = [\n",
    "    \"SEASON\",\n",
    "    \"SCHEDULED_DEPARTURE_PERIOD\",\n",
    "    \"IS_WEEKEND\",\n",
    "    \"DELAYED_DEPARTURE_FLAG\",\n",
    "    \"ROUTE\"\n",
    "]\n",
    "\n",
    "# Loop through and plot each\n",
    "for column in categorical_columns:\n",
    "    plot_categorical_distribution(\n",
    "        cleaned_train_df,\n",
    "        column_name=column,\n",
    "        title=f\"{column} Distribution\",\n",
    "        xlabel=column\n",
    "    )"
   ]
  },
  {
   "cell_type": "markdown",
   "metadata": {
    "application/vnd.databricks.v1+cell": {
     "cellMetadata": {},
     "inputWidgets": {},
     "nuid": "11ecd570-4e80-42c6-a287-4b85aef71a9c",
     "showTitle": false,
     "tableResultSettingsMap": {},
     "title": ""
    }
   },
   "source": [
    "### HHMM columns to minutes from midnight"
   ]
  },
  {
   "cell_type": "code",
   "execution_count": 0,
   "metadata": {
    "application/vnd.databricks.v1+cell": {
     "cellMetadata": {
      "byteLimit": 2048000,
      "rowLimit": 10000
     },
     "inputWidgets": {},
     "nuid": "44bcb845-f00b-41e0-8697-4169aff12c0d",
     "showTitle": false,
     "tableResultSettingsMap": {},
     "title": ""
    }
   },
   "outputs": [],
   "source": [
    "def hhmm_to_minutes(colname):\n",
    "    return ((floor(col(colname) / 100) * 60 + (col(colname) % 100)) % 1440).alias(colname + \"_min\")"
   ]
  },
  {
   "cell_type": "code",
   "execution_count": 0,
   "metadata": {
    "application/vnd.databricks.v1+cell": {
     "cellMetadata": {
      "byteLimit": 2048000,
      "rowLimit": 10000
     },
     "inputWidgets": {},
     "nuid": "643242aa-14f7-4461-af79-4b3077e5c3c5",
     "showTitle": false,
     "tableResultSettingsMap": {},
     "title": ""
    }
   },
   "outputs": [],
   "source": [
    "cleaned_train_df = cleaned_train_df.withColumn(\"SCHEDULED_DEPARTURE_min\", hhmm_to_minutes(\"SCHEDULED_DEPARTURE\"))\n",
    "cleaned_train_df = cleaned_train_df.withColumn(\"SCHEDULED_ARRIVAL_min\", hhmm_to_minutes(\"SCHEDULED_ARRIVAL\"))\n",
    "cleaned_train_df = cleaned_train_df.withColumn(\"DEPARTURE_TIME_min\", hhmm_to_minutes(\"DEPARTURE_TIME\"))\n",
    "cleaned_train_df = cleaned_train_df.withColumn(\"WHEELS_OFF_min\", hhmm_to_minutes(\"WHEELS_OFF\"))\n",
    "cleaned_train_df = cleaned_train_df.withColumn(\"ARRIVAL_TIME_min\", hhmm_to_minutes(\"ARRIVAL_TIME\"))\n",
    "cleaned_train_df = cleaned_train_df.withColumn(\"DEPARTURE_TIME_min\", hhmm_to_minutes(\"DEPARTURE_TIME\"))"
   ]
  },
  {
   "cell_type": "code",
   "execution_count": 0,
   "metadata": {
    "application/vnd.databricks.v1+cell": {
     "cellMetadata": {
      "byteLimit": 2048000,
      "rowLimit": 10000
     },
     "inputWidgets": {},
     "nuid": "1e547de0-7353-45ea-ad14-a910381f27f9",
     "showTitle": false,
     "tableResultSettingsMap": {},
     "title": ""
    }
   },
   "outputs": [],
   "source": [
    "cleaned_val_df = cleaned_val_df.withColumn(\"SCHEDULED_DEPARTURE_min\", hhmm_to_minutes(\"SCHEDULED_DEPARTURE\"))\n",
    "cleaned_val_df = cleaned_val_df.withColumn(\"SCHEDULED_ARRIVAL_min\", hhmm_to_minutes(\"SCHEDULED_ARRIVAL\"))\n",
    "cleaned_val_df = cleaned_val_df.withColumn(\"DEPARTURE_TIME_min\", hhmm_to_minutes(\"DEPARTURE_TIME\"))\n",
    "cleaned_val_df = cleaned_val_df.withColumn(\"WHEELS_OFF_min\", hhmm_to_minutes(\"WHEELS_OFF\"))\n",
    "cleaned_val_df = cleaned_val_df.withColumn(\"ARRIVAL_TIME_min\", hhmm_to_minutes(\"ARRIVAL_TIME\"))\n",
    "cleaned_val_df = cleaned_val_df.withColumn(\"DEPARTURE_TIME_min\", hhmm_to_minutes(\"DEPARTURE_TIME\"))"
   ]
  },
  {
   "cell_type": "code",
   "execution_count": 0,
   "metadata": {
    "application/vnd.databricks.v1+cell": {
     "cellMetadata": {
      "byteLimit": 2048000,
      "rowLimit": 10000
     },
     "inputWidgets": {},
     "nuid": "f30298d9-90e5-46ed-af2b-cf37b10997fc",
     "showTitle": false,
     "tableResultSettingsMap": {},
     "title": ""
    }
   },
   "outputs": [],
   "source": [
    "cleaned_test_df = cleaned_test_df.withColumn(\"SCHEDULED_DEPARTURE_min\", hhmm_to_minutes(\"SCHEDULED_DEPARTURE\"))\n",
    "cleaned_test_df = cleaned_test_df.withColumn(\"SCHEDULED_ARRIVAL_min\", hhmm_to_minutes(\"SCHEDULED_ARRIVAL\"))\n",
    "cleaned_test_df = cleaned_test_df.withColumn(\"DEPARTURE_TIME_min\", hhmm_to_minutes(\"DEPARTURE_TIME\"))\n",
    "cleaned_test_df = cleaned_test_df.withColumn(\"WHEELS_OFF_min\", hhmm_to_minutes(\"WHEELS_OFF\"))\n",
    "cleaned_test_df = cleaned_test_df.withColumn(\"ARRIVAL_TIME_min\", hhmm_to_minutes(\"ARRIVAL_TIME\"))\n",
    "cleaned_test_df = cleaned_test_df.withColumn(\"DEPARTURE_TIME_min\", hhmm_to_minutes(\"DEPARTURE_TIME\"))"
   ]
  },
  {
   "cell_type": "markdown",
   "metadata": {
    "application/vnd.databricks.v1+cell": {
     "cellMetadata": {},
     "inputWidgets": {},
     "nuid": "60d5c405-9e45-4891-926a-b5c2e8c8583c",
     "showTitle": false,
     "tableResultSettingsMap": {},
     "title": ""
    }
   },
   "source": [
    "# 2.8 Outliers"
   ]
  },
  {
   "cell_type": "code",
   "execution_count": 0,
   "metadata": {
    "application/vnd.databricks.v1+cell": {
     "cellMetadata": {
      "byteLimit": 2048000,
      "rowLimit": 10000
     },
     "inputWidgets": {},
     "nuid": "a7645138-d6d2-4ba4-93ac-de0708ef0610",
     "showTitle": false,
     "tableResultSettingsMap": {},
     "title": ""
    }
   },
   "outputs": [
    {
     "output_type": "stream",
     "name": "stdout",
     "output_type": "stream",
     "text": [
      "Numeric features: ['YEAR', 'MONTH', 'DAY', 'DAY_OF_WEEK', 'FLIGHT_NUMBER', 'SCHEDULED_DEPARTURE', 'DEPARTURE_TIME', 'DEPARTURE_DELAY', 'TAXI_OUT', 'WHEELS_OFF', 'SCHEDULED_TIME', 'ELAPSED_TIME', 'AIR_TIME', 'DISTANCE', 'WHEELS_ON', 'TAXI_IN', 'SCHEDULED_ARRIVAL', 'ARRIVAL_TIME', 'ARRIVAL_DELAY', 'DIVERTED', 'CANCELLED', 'AIR_SYSTEM_DELAY', 'SECURITY_DELAY', 'AIRLINE_DELAY', 'LATE_AIRCRAFT_DELAY', 'WEATHER_DELAY']\n"
     ]
    }
   ],
   "source": [
    "# Get all numeric column names\n",
    "numeric_features = [field.name for field in df.schema.fields if isinstance(field.dataType, NumericType)]\n",
    "\n",
    "print(\"Numeric features:\", numeric_features)"
   ]
  },
  {
   "cell_type": "code",
   "execution_count": 0,
   "metadata": {
    "application/vnd.databricks.v1+cell": {
     "cellMetadata": {
      "byteLimit": 2048000,
      "rowLimit": 10000
     },
     "inputWidgets": {},
     "nuid": "4972e3e8-6730-4477-ad32-368ca36477df",
     "showTitle": false,
     "tableResultSettingsMap": {},
     "title": ""
    }
   },
   "outputs": [
    {
     "output_type": "display_data",
     "data": {
      "image/png": "[encoded data removed]"
     },
     "metadata": {
      "application/vnd.databricks.v1+output": {
       "addedWidgets": {},
       "arguments": {},
       "data": "data:image/png;base64,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\n",
       "datasetInfos": [],
       "metadata": {},
       "removedWidgets": [],
       "type": "image"
      }
     },
     "output_type": "display_data"
    }
   ],
   "source": [
    "plot_df = cleaned_train_df.select(numeric_features).toPandas()\n",
    "\n",
    "plt.figure(figsize=(20, 12))\n",
    "plot_df.boxplot(rot=90)\n",
    "plt.title(\"Box Plots of Numerical Features (Outlier Detection)\")\n",
    "plt.xticks(rotation=45)\n",
    "plt.tight_layout()\n",
    "plt.show()"
   ]
  },
  {
   "cell_type": "markdown",
   "metadata": {
    "application/vnd.databricks.v1+cell": {
     "cellMetadata": {},
     "inputWidgets": {},
     "nuid": "850a7469-4848-497d-a928-1134be4d31a4",
     "showTitle": false,
     "tableResultSettingsMap": {},
     "title": ""
    }
   },
   "source": [
    "## Functions"
   ]
  },
  {
   "cell_type": "code",
   "execution_count": 0,
   "metadata": {
    "application/vnd.databricks.v1+cell": {
     "cellMetadata": {
      "byteLimit": 2048000,
      "rowLimit": 10000
     },
     "inputWidgets": {},
     "nuid": "3cb7334f-69cc-4a74-9387-2a9a0b81689a",
     "showTitle": false,
     "tableResultSettingsMap": {},
     "title": ""
    }
   },
   "outputs": [],
   "source": [
    "def cap_at_percentile(df, column, percentile):\n",
    "    threshold = df.approxQuantile(column, [percentile], 0.01)[0]\n",
    "    return df.withColumn(column, when(col(column) > threshold, threshold).otherwise(col(column)))\n"
   ]
  },
  {
   "cell_type": "markdown",
   "metadata": {
    "application/vnd.databricks.v1+cell": {
     "cellMetadata": {},
     "inputWidgets": {},
     "nuid": "1bb5bb08-51e8-4b76-bd8b-a413486d81e2",
     "showTitle": false,
     "tableResultSettingsMap": {},
     "title": ""
    }
   },
   "source": [
    "## Distance"
   ]
  },
  {
   "cell_type": "code",
   "execution_count": 0,
   "metadata": {
    "application/vnd.databricks.v1+cell": {
     "cellMetadata": {
      "byteLimit": 2048000,
      "rowLimit": 10000
     },
     "inputWidgets": {},
     "nuid": "a2c5c2c4-7eb2-45a5-bb88-4a5d6275df0e",
     "showTitle": false,
     "tableResultSettingsMap": {},
     "title": ""
    }
   },
   "outputs": [
    {
     "output_type": "stream",
     "name": "stdout",
     "output_type": "stream",
     "text": [
      "+-----------------+-----------------+---+----+\n|             mean|           stddev|min| max|\n+-----------------+-----------------+---+----+\n|833.8115040704657|609.7695134345798| 31|4983|\n+-----------------+-----------------+---+----+\n\nQ1 (25th percentile): 372.0\nMedian (50th percentile): 668.0\nQ3 (75th percentile): 1055.0\nIQR of DISTANCE: 683.0\n95th percentile: 2105.0\n97.5th percentile: 2419.0\n99th percentile: 4983.0\n"
     ]
    }
   ],
   "source": [
    "# Mean, std, min, max\n",
    "cleaned_train_df.select(\n",
    "    mean(\"DISTANCE\").alias(\"mean\"),\n",
    "    stddev(\"DISTANCE\").alias(\"stddev\"),\n",
    "    min(\"DISTANCE\").alias(\"min\"),\n",
    "    max(\"DISTANCE\").alias(\"max\")\n",
    ").show()\n",
    "\n",
    "# percentiles\n",
    "percentiles = cleaned_train_df.approxQuantile(\"DISTANCE\", [0.25, 0.5, 0.75, 0.95, 0.975, 0.99], 0.01)\n",
    "q1, q2, q3, p95, p975, p99 = percentiles\n",
    "iqr = q3 - q1\n",
    "\n",
    "print(f\"Q1 (25th percentile): {q1}\")\n",
    "print(f\"Median (50th percentile): {q2}\")\n",
    "print(f\"Q3 (75th percentile): {q3}\")\n",
    "print(f\"IQR of DISTANCE: {iqr}\")\n",
    "print(f\"95th percentile: {p95}\")\n",
    "print(f\"97.5th percentile: {p975}\")\n",
    "print(f\"99th percentile: {p99}\")"
   ]
  },
  {
   "cell_type": "code",
   "execution_count": 0,
   "metadata": {
    "application/vnd.databricks.v1+cell": {
     "cellMetadata": {
      "byteLimit": 2048000,
      "rowLimit": 10000
     },
     "inputWidgets": {},
     "nuid": "cbd35ab0-7308-4e3c-a33a-a6f0bdc8573a",
     "showTitle": false,
     "tableResultSettingsMap": {},
     "title": ""
    }
   },
   "outputs": [
    {
     "output_type": "stream",
     "name": "stdout",
     "output_type": "stream",
     "text": [
      "Percentage of values above 95th percentile: 5.96%\nPercentage of values above 97.5th percentile: 3.43%\n"
     ]
    }
   ],
   "source": [
    "# Total number of rows\n",
    "total_count = cleaned_train_df.count()\n",
    "\n",
    "# Count values above 95th and 97.5th percentile\n",
    "above_95_count = cleaned_train_df.filter(col(\"DISTANCE\") > p95).count()\n",
    "above_975_count = cleaned_train_df.filter(col(\"DISTANCE\") > p975).count()\n",
    "\n",
    "# Calculate percentages\n",
    "percent_above_95 = (above_95_count / total_count) * 100\n",
    "percent_above_975 = (above_975_count / total_count) * 100\n",
    "\n",
    "print(f\"Percentage of values above 95th percentile: {percent_above_95:.2f}%\")\n",
    "print(f\"Percentage of values above 97.5th percentile: {percent_above_975:.2f}%\")"
   ]
  },
  {
   "cell_type": "markdown",
   "metadata": {
    "application/vnd.databricks.v1+cell": {
     "cellMetadata": {},
     "inputWidgets": {},
     "nuid": "21ac9965-ec43-43a7-a57c-2e0d6cb82436",
     "showTitle": false,
     "tableResultSettingsMap": {},
     "title": ""
    }
   },
   "source": [
    "As observed in the boxplot, DISTANCE contains outliers. To reduce their impact on the model, we cap the values at the 97.5th percentile.\n"
   ]
  },
  {
   "cell_type": "code",
   "execution_count": 0,
   "metadata": {
    "application/vnd.databricks.v1+cell": {
     "cellMetadata": {
      "byteLimit": 2048000,
      "rowLimit": 10000
     },
     "inputWidgets": {},
     "nuid": "3549a1b1-8565-45b0-8aba-900358c623d6",
     "showTitle": false,
     "tableResultSettingsMap": {},
     "title": ""
    }
   },
   "outputs": [],
   "source": [
    "cleaned_train_df = cap_at_percentile(cleaned_train_df, \"DISTANCE\", 0.975)\n",
    "cleaned_val_df = cap_at_percentile(cleaned_val_df, \"DISTANCE\", 0.975)\n",
    "cleaned_test_df = cap_at_percentile(cleaned_test_df, \"DISTANCE\", 0.975)"
   ]
  },
  {
   "cell_type": "code",
   "execution_count": 0,
   "metadata": {
    "application/vnd.databricks.v1+cell": {
     "cellMetadata": {
      "byteLimit": 2048000,
      "rowLimit": 10000
     },
     "inputWidgets": {},
     "nuid": "f5796357-72ea-4567-80af-f83b53450189",
     "showTitle": false,
     "tableResultSettingsMap": {},
     "title": ""
    }
   },
   "outputs": [
    {
     "output_type": "display_data",
     "data": {
      "image/png": "[encoded data removed]"
     },
     "metadata": {
      "application/vnd.databricks.v1+output": {
       "addedWidgets": {},
       "arguments": {},
       "data": "data:image/png;base64,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\n",
       "datasetInfos": [],
       "metadata": {},
       "removedWidgets": [],
       "type": "image"
      }
     },
     "output_type": "display_data"
    }
   ],
   "source": [
    "plot_df = cleaned_train_df.select(\"DISTANCE\").toPandas()\n",
    "\n",
    "plt.figure(figsize=(20, 12))\n",
    "plot_df.boxplot(rot=90)\n",
    "plt.title(\"Box Plot of DISTANCE\")\n",
    "plt.xticks(rotation=45)\n",
    "plt.tight_layout()\n",
    "plt.show()"
   ]
  },
  {
   "cell_type": "markdown",
   "metadata": {
    "application/vnd.databricks.v1+cell": {
     "cellMetadata": {},
     "inputWidgets": {},
     "nuid": "b63e929d-138e-451f-af3f-575ffdd0d5af",
     "showTitle": false,
     "tableResultSettingsMap": {},
     "title": ""
    }
   },
   "source": [
    "# 2.9 Encoding"
   ]
  },
  {
   "cell_type": "markdown",
   "metadata": {
    "application/vnd.databricks.v1+cell": {
     "cellMetadata": {},
     "inputWidgets": {},
     "nuid": "316e8dd2-04e6-469e-87f9-a58c4ba61cd1",
     "showTitle": false,
     "tableResultSettingsMap": {},
     "title": ""
    }
   },
   "source": [
    "## 2.9.1 Low Cardinality (One-Hot Encoding)"
   ]
  },
  {
   "cell_type": "code",
   "execution_count": 0,
   "metadata": {
    "application/vnd.databricks.v1+cell": {
     "cellMetadata": {
      "byteLimit": 2048000,
      "rowLimit": 10000
     },
     "inputWidgets": {},
     "nuid": "f224174f-536c-4049-968c-ff6701e1f9c3",
     "showTitle": false,
     "tableResultSettingsMap": {},
     "title": ""
    }
   },
   "outputs": [],
   "source": [
    "# List of low-cardinality features\n",
    "low_cardinality_cols = [\"SEASON\", \"SCHEDULED_DEPARTURE_PERIOD\"]\n",
    "\n",
    "# Apply StringIndexer and OneHotEncoder\n",
    "indexers = [StringIndexer(inputCol=col, outputCol=f\"{col}_index\", handleInvalid='keep')\n",
    "    for col in low_cardinality_cols]\n",
    "\n",
    "encoders = [OneHotEncoder(inputCol=f\"{col}_index\", outputCol=f\"{col}_vec\")\n",
    "    for col in low_cardinality_cols]\n",
    "\n",
    "# Build and apply the pipeline\n",
    "pipeline = Pipeline(stages=indexers + encoders)\n",
    "encoded_model = pipeline.fit(cleaned_train_df)\n",
    "\n",
    "train_df_encoded = encoded_model.transform(cleaned_train_df)\n",
    "val_df_encoded = encoded_model.transform(cleaned_val_df)\n",
    "test_df_encoded = encoded_model.transform(cleaned_test_df)"
   ]
  },
  {
   "cell_type": "markdown",
   "metadata": {
    "application/vnd.databricks.v1+cell": {
     "cellMetadata": {},
     "inputWidgets": {},
     "nuid": "9accdb74-f9bb-42fe-b394-110f8af6a6b3",
     "showTitle": false,
     "tableResultSettingsMap": {},
     "title": ""
    }
   },
   "source": [
    "## 2.9.2 High Cardinality (Frequency Encoding)"
   ]
  },
  {
   "cell_type": "code",
   "execution_count": 0,
   "metadata": {
    "application/vnd.databricks.v1+cell": {
     "cellMetadata": {
      "byteLimit": 2048000,
      "rowLimit": 10000
     },
     "inputWidgets": {},
     "nuid": "5dfe42e1-6c59-4002-8845-3806eeb67881",
     "showTitle": false,
     "tableResultSettingsMap": {},
     "title": ""
    }
   },
   "outputs": [],
   "source": [
    "# High-cardinality columns\n",
    "high_cardinality_cols = [\"FLIGHT_NUMBER\",\"TAIL_NUMBER\", \"AIRLINE\", \"ORIGIN_AIRPORT_CLEAN\", \"DESTINATION_AIRPORT_CLEAN\", \"ROUTE\"]\n",
    "\n",
    "# Apply frequency encoding\n",
    "for column in high_cardinality_cols:\n",
    "    freq_df = cleaned_train_df.groupBy(column).count()\n",
    "    total = cleaned_train_df.count()\n",
    "    \n",
    "    # Add frequency column\n",
    "    freq_df = freq_df.withColumn(f\"{column}_freq\", round(col(\"count\") / total, 6)).drop(\"count\")\n",
    "    \n",
    "    # Compute median frequency in training data\n",
    "    median_freq = freq_df.approxQuantile(f\"{column}_freq\", [0.5], 0.001)[0]\n",
    "    \n",
    "    # Join frequency back to main DataFrame (in val and test, replace the freq of unseen values with the median in train)\n",
    "    train_df_encoded = train_df_encoded.join(freq_df, on=column, how=\"left\")\n",
    "    val_df_encoded = val_df_encoded.join(freq_df, on=column, how=\"left\").fillna({f\"{column}_freq\": median_freq})\n",
    "    test_df_encoded = test_df_encoded.join(freq_df, on=column, how=\"left\").fillna({f\"{column}_freq\": median_freq})"
   ]
  },
  {
   "cell_type": "code",
   "execution_count": 0,
   "metadata": {
    "application/vnd.databricks.v1+cell": {
     "cellMetadata": {
      "byteLimit": 2048000,
      "rowLimit": 10000
     },
     "inputWidgets": {},
     "nuid": "2e1e8092-56b3-4ad1-9894-a2f2a9efc5bd",
     "showTitle": false,
     "tableResultSettingsMap": {},
     "title": ""
    }
   },
   "outputs": [
    {
     "output_type": "display_data",
     "data": {
      "text/html": [
       "<style scoped>\n",
       "  .table-result-container {\n",
       "    max-height: 300px;\n",
       "    overflow: auto;\n",
       "  }\n",
       "  table, th, td {\n",
       "    border: 1px solid black;\n",
       "    border-collapse: collapse;\n",
       "  }\n",
       "  th, td {\n",
       "    padding: 5px;\n",
       "  }\n",
       "  th {\n",
       "    text-align: left;\n",
       "  }\n",
       "</style><div class='table-result-container'><table class='table-result'><thead style='background-color: white'><tr><th>SEASON_vec</th><th>SCHEDULED_DEPARTURE_PERIOD_vec</th><th>FLIGHT_NUMBER_freq</th><th>TAIL_NUMBER_freq</th><th>AIRLINE_freq</th><th>ORIGIN_AIRPORT_CLEAN_freq</th><th>DESTINATION_AIRPORT_CLEAN_freq</th><th>ROUTE_freq</th></tr></thead><tbody><tr><td>Map(vectorType -> sparse, length -> 4, indices -> List(2), values -> List(1.0))</td><td>Map(vectorType -> sparse, length -> 7, indices -> List(4), values -> List(1.0))</td><td>1.07E-4</td><td>1.33E-4</td><td>0.10407</td><td>1.07E-4</td><td>1.33E-4</td><td>2.7E-5</td></tr><tr><td>Map(vectorType -> sparse, length -> 4, indices -> List(0), values -> List(1.0))</td><td>Map(vectorType -> sparse, length -> 7, indices -> List(6), values -> List(1.0))</td><td>4.0E-4</td><td>2.14E-4</td><td>0.055412</td><td>2.67E-4</td><td>0.022821</td><td>8.0E-5</td></tr><tr><td>Map(vectorType -> sparse, length -> 4, indices -> List(1), values -> List(1.0))</td><td>Map(vectorType -> sparse, length -> 7, indices -> List(4), values -> List(1.0))</td><td>5.87E-4</td><td>1.87E-4</td><td>0.055412</td><td>2.67E-4</td><td>0.02106</td><td>1.87E-4</td></tr><tr><td>Map(vectorType -> sparse, length -> 4, indices -> List(2), values -> List(1.0))</td><td>Map(vectorType -> sparse, length -> 7, indices -> List(4), values -> List(1.0))</td><td>5.87E-4</td><td>4.0E-4</td><td>0.055412</td><td>2.67E-4</td><td>0.02106</td><td>1.87E-4</td></tr><tr><td>Map(vectorType -> sparse, length -> 4, indices -> List(2), values -> List(1.0))</td><td>Map(vectorType -> sparse, length -> 7, indices -> List(4), values -> List(1.0))</td><td>5.87E-4</td><td>2.4E-4</td><td>0.055412</td><td>2.67E-4</td><td>0.02106</td><td>1.87E-4</td></tr><tr><td>Map(vectorType -> sparse, length -> 4, indices -> List(2), values -> List(1.0))</td><td>Map(vectorType -> sparse, length -> 7, indices -> List(4), values -> List(1.0))</td><td>5.87E-4</td><td>2.94E-4</td><td>0.055412</td><td>2.67E-4</td><td>0.02106</td><td>1.87E-4</td></tr><tr><td>Map(vectorType -> sparse, length -> 4, indices -> List(0), values -> List(1.0))</td><td>Map(vectorType -> sparse, length -> 7, indices -> List(4), values -> List(1.0))</td><td>5.87E-4</td><td>4.0E-4</td><td>0.055412</td><td>2.67E-4</td><td>0.02106</td><td>1.87E-4</td></tr><tr><td>Map(vectorType -> sparse, length -> 4, indices -> List(1), values -> List(1.0))</td><td>Map(vectorType -> sparse, length -> 7, indices -> List(3), values -> List(1.0))</td><td>1.07E-4</td><td>4.27E-4</td><td>0.10407</td><td>1.07E-4</td><td>0.017857</td><td>8.0E-5</td></tr><tr><td>Map(vectorType -> sparse, length -> 4, indices -> List(1), values -> List(1.0))</td><td>Map(vectorType -> sparse, length -> 7, indices -> List(3), values -> List(1.0))</td><td>1.07E-4</td><td>1.33E-4</td><td>0.10407</td><td>1.07E-4</td><td>0.017857</td><td>8.0E-5</td></tr><tr><td>Map(vectorType -> sparse, length -> 4, indices -> List(0), values -> List(1.0))</td><td>Map(vectorType -> sparse, length -> 7, indices -> List(3), values -> List(1.0))</td><td>1.07E-4</td><td>2.67E-4</td><td>0.10407</td><td>1.07E-4</td><td>0.017857</td><td>8.0E-5</td></tr></tbody></table></div>"
      ]
     },
     "metadata": {
      "application/vnd.databricks.v1+output": {
       "addedWidgets": {},
       "aggData": [],
       "aggError": "",
       "aggOverflow": false,
       "aggSchema": [],
       "aggSeriesLimitReached": false,
       "aggType": "",
       "arguments": {},
       "columnCustomDisplayInfos": {},
       "data": [
        [
         {
          "indices": [
           2
          ],
          "length": 4,
          "values": [
           1.0
          ],
          "vectorType": "sparse"
         },
         {
          "indices": [
           4
          ],
          "length": 7,
          "values": [
           1.0
          ],
          "vectorType": "sparse"
         },
         1.07E-4,
         1.33E-4,
         0.10407,
         1.07E-4,
         1.33E-4,
         2.7E-5
        ],
        [
         {
          "indices": [
           0
          ],
          "length": 4,
          "values": [
           1.0
          ],
          "vectorType": "sparse"
         },
         {
          "indices": [
           6
          ],
          "length": 7,
          "values": [
           1.0
          ],
          "vectorType": "sparse"
         },
         4.0E-4,
         2.14E-4,
         0.055412,
         2.67E-4,
         0.022821,
         8.0E-5
        ],
        [
         {
          "indices": [
           1
          ],
          "length": 4,
          "values": [
           1.0
          ],
          "vectorType": "sparse"
         },
         {
          "indices": [
           4
          ],
          "length": 7,
          "values": [
           1.0
          ],
          "vectorType": "sparse"
         },
         5.87E-4,
         1.87E-4,
         0.055412,
         2.67E-4,
         0.02106,
         1.87E-4
        ],
        [
         {
          "indices": [
           2
          ],
          "length": 4,
          "values": [
           1.0
          ],
          "vectorType": "sparse"
         },
         {
          "indices": [
           4
          ],
          "length": 7,
          "values": [
           1.0
          ],
          "vectorType": "sparse"
         },
         5.87E-4,
         4.0E-4,
         0.055412,
         2.67E-4,
         0.02106,
         1.87E-4
        ],
        [
         {
          "indices": [
           2
          ],
          "length": 4,
          "values": [
           1.0
          ],
          "vectorType": "sparse"
         },
         {
          "indices": [
           4
          ],
          "length": 7,
          "values": [
           1.0
          ],
          "vectorType": "sparse"
         },
         5.87E-4,
         2.4E-4,
         0.055412,
         2.67E-4,
         0.02106,
         1.87E-4
        ],
        [
         {
          "indices": [
           2
          ],
          "length": 4,
          "values": [
           1.0
          ],
          "vectorType": "sparse"
         },
         {
          "indices": [
           4
          ],
          "length": 7,
          "values": [
           1.0
          ],
          "vectorType": "sparse"
         },
         5.87E-4,
         2.94E-4,
         0.055412,
         2.67E-4,
         0.02106,
         1.87E-4
        ],
        [
         {
          "indices": [
           0
          ],
          "length": 4,
          "values": [
           1.0
          ],
          "vectorType": "sparse"
         },
         {
          "indices": [
           4
          ],
          "length": 7,
          "values": [
           1.0
          ],
          "vectorType": "sparse"
         },
         5.87E-4,
         4.0E-4,
         0.055412,
         2.67E-4,
         0.02106,
         1.87E-4
        ],
        [
         {
          "indices": [
           1
          ],
          "length": 4,
          "values": [
           1.0
          ],
          "vectorType": "sparse"
         },
         {
          "indices": [
           3
          ],
          "length": 7,
          "values": [
           1.0
          ],
          "vectorType": "sparse"
         },
         1.07E-4,
         4.27E-4,
         0.10407,
         1.07E-4,
         0.017857,
         8.0E-5
        ],
        [
         {
          "indices": [
           1
          ],
          "length": 4,
          "values": [
           1.0
          ],
          "vectorType": "sparse"
         },
         {
          "indices": [
           3
          ],
          "length": 7,
          "values": [
           1.0
          ],
          "vectorType": "sparse"
         },
         1.07E-4,
         1.33E-4,
         0.10407,
         1.07E-4,
         0.017857,
         8.0E-5
        ],
        [
         {
          "indices": [
           0
          ],
          "length": 4,
          "values": [
           1.0
          ],
          "vectorType": "sparse"
         },
         {
          "indices": [
           3
          ],
          "length": 7,
          "values": [
           1.0
          ],
          "vectorType": "sparse"
         },
         1.07E-4,
         2.67E-4,
         0.10407,
         1.07E-4,
         0.017857,
         8.0E-5
        ]
       ],
       "datasetInfos": [],
       "dbfsResultPath": null,
       "isJsonSchema": true,
       "metadata": {},
       "overflow": false,
       "plotOptions": {
        "customPlotOptions": {},
        "displayType": "table",
        "pivotAggregation": null,
        "pivotColumns": null,
        "xColumns": null,
        "yColumns": null
       },
       "removedWidgets": [],
       "schema": [
        {
         "metadata": "{\"ml_attr\":{\"attrs\":{\"binary\":[{\"idx\":0,\"name\":\"Summer\"},{\"idx\":1,\"name\":\"Winter\"},{\"idx\":2,\"name\":\"Spring\"},{\"idx\":3,\"name\":\"Autumn\"}]},\"num_attrs\":4}}",
         "name": "SEASON_vec",
         "type": "{\"type\":\"udt\",\"class\":\"org.apache.spark.ml.linalg.VectorUDT\",\"pyClass\":\"pyspark.ml.linalg.VectorUDT\",\"sqlType\":{\"type\":\"struct\",\"fields\":[{\"name\":\"type\",\"type\":\"byte\",\"nullable\":false,\"metadata\":{}},{\"name\":\"size\",\"type\":\"integer\",\"nullable\":true,\"metadata\":{}},{\"name\":\"indices\",\"type\":{\"type\":\"array\",\"elementType\":\"integer\",\"containsNull\":false},\"nullable\":true,\"metadata\":{}},{\"name\":\"values\",\"type\":{\"type\":\"array\",\"elementType\":\"double\",\"containsNull\":false},\"nullable\":true,\"metadata\":{}}]}}"
        },
        {
         "metadata": "{\"ml_attr\":{\"attrs\":{\"binary\":[{\"idx\":0,\"name\":\"Afternoon\"},{\"idx\":1,\"name\":\"Evening\"},{\"idx\":2,\"name\":\"Morning\"},{\"idx\":3,\"name\":\"Midday\"},{\"idx\":4,\"name\":\"Early Morning\"},{\"idx\":5,\"name\":\"Night\"},{\"idx\":6,\"name\":\"Late Night\"}]},\"num_attrs\":7}}",
         "name": "SCHEDULED_DEPARTURE_PERIOD_vec",
         "type": "{\"type\":\"udt\",\"class\":\"org.apache.spark.ml.linalg.VectorUDT\",\"pyClass\":\"pyspark.ml.linalg.VectorUDT\",\"sqlType\":{\"type\":\"struct\",\"fields\":[{\"name\":\"type\",\"type\":\"byte\",\"nullable\":false,\"metadata\":{}},{\"name\":\"size\",\"type\":\"integer\",\"nullable\":true,\"metadata\":{}},{\"name\":\"indices\",\"type\":{\"type\":\"array\",\"elementType\":\"integer\",\"containsNull\":false},\"nullable\":true,\"metadata\":{}},{\"name\":\"values\",\"type\":{\"type\":\"array\",\"elementType\":\"double\",\"containsNull\":false},\"nullable\":true,\"metadata\":{}}]}}"
        },
        {
         "metadata": "{}",
         "name": "FLIGHT_NUMBER_freq",
         "type": "\"double\""
        },
        {
         "metadata": "{}",
         "name": "TAIL_NUMBER_freq",
         "type": "\"double\""
        },
        {
         "metadata": "{}",
         "name": "AIRLINE_freq",
         "type": "\"double\""
        },
        {
         "metadata": "{}",
         "name": "ORIGIN_AIRPORT_CLEAN_freq",
         "type": "\"double\""
        },
        {
         "metadata": "{}",
         "name": "DESTINATION_AIRPORT_CLEAN_freq",
         "type": "\"double\""
        },
        {
         "metadata": "{}",
         "name": "ROUTE_freq",
         "type": "\"double\""
        }
       ],
       "type": "table"
      }
     },
     "output_type": "display_data"
    }
   ],
   "source": [
    "# Show final encoded columns\n",
    "encoded_cols = [f\"{column}_vec\" for column in low_cardinality_cols] + \\\n",
    "               [f\"{column}_freq\" for column in high_cardinality_cols]\n",
    "\n",
    "train_df_encoded.select(encoded_cols).limit(10).display()"
   ]
  },
  {
   "cell_type": "markdown",
   "metadata": {
    "application/vnd.databricks.v1+cell": {
     "cellMetadata": {},
     "inputWidgets": {},
     "nuid": "efeffd02-5fda-4110-85c8-7a7418bbf5d3",
     "showTitle": false,
     "tableResultSettingsMap": {},
     "title": ""
    }
   },
   "source": [
    "### Check Unseen Values in Val"
   ]
  },
  {
   "cell_type": "code",
   "execution_count": 0,
   "metadata": {
    "application/vnd.databricks.v1+cell": {
     "cellMetadata": {
      "byteLimit": 2048000,
      "rowLimit": 10000
     },
     "inputWidgets": {},
     "nuid": "4057c6cd-c904-4340-b42e-6fb009efb0c2",
     "showTitle": false,
     "tableResultSettingsMap": {},
     "title": ""
    }
   },
   "outputs": [
    {
     "output_type": "stream",
     "name": "stdout",
     "output_type": "stream",
     "text": [
      "Median of _freq columns in train:\nFLIGHT_NUMBER_freq: 0.00024\nTAIL_NUMBER_freq: 0.000294\nAIRLINE_freq: 0.10407\nORIGIN_AIRPORT_CLEAN_freq: 0.020099\nDESTINATION_AIRPORT_CLEAN_freq: 0.017857\nROUTE_freq: 0.000454\n"
     ]
    }
   ],
   "source": [
    "from pyspark.sql.functions import expr, col\n",
    "\n",
    "freq_columns = [f\"{col}_freq\" for col in high_cardinality_cols]\n",
    "\n",
    "print(f\"Median of _freq columns in train:\")\n",
    "for freq_col in freq_columns:\n",
    "    median_val = train_df_encoded.approxQuantile(freq_col, [0.5], 0.001)[0]\n",
    "    print(f\"{freq_col}: {median_val}\")"
   ]
  },
  {
   "cell_type": "code",
   "execution_count": 0,
   "metadata": {
    "application/vnd.databricks.v1+cell": {
     "cellMetadata": {
      "byteLimit": 2048000,
      "rowLimit": 10000
     },
     "inputWidgets": {},
     "nuid": "2edec486-cf79-419c-831a-e961294e57b7",
     "showTitle": false,
     "tableResultSettingsMap": {},
     "title": ""
    }
   },
   "outputs": [
    {
     "output_type": "stream",
     "name": "stdout",
     "output_type": "stream",
     "text": [
      "Top 5 unseen values in val for column: FLIGHT_NUMBER\n+-------------+-----+---------+\n|FLIGHT_NUMBER|count|frequency|\n+-------------+-----+---------+\n|4167         |3    |3.74E-4  |\n|5547         |3    |3.74E-4  |\n|5245         |3    |3.74E-4  |\n|6195         |3    |3.74E-4  |\n|4577         |3    |3.74E-4  |\n+-------------+-----+---------+\n\nTop 5 unseen values in val for column: TAIL_NUMBER\n+-----------+-----+---------+\n|TAIL_NUMBER|count|frequency|\n+-----------+-----+---------+\n|N19141     |3    |3.74E-4  |\n|N624AG     |2    |2.49E-4  |\n|N585SW     |2    |2.49E-4  |\n|N640AA     |1    |1.25E-4  |\n|N76054     |1    |1.25E-4  |\n+-----------+-----+---------+\n\nTop 5 unseen values in val for column: AIRLINE\n+-------+-----+---------+\n|AIRLINE|count|frequency|\n+-------+-----+---------+\n+-------+-----+---------+\n\nTop 5 unseen values in val for column: ORIGIN_AIRPORT_CLEAN\n+--------------------+-----+---------+\n|ORIGIN_AIRPORT_CLEAN|count|frequency|\n+--------------------+-----+---------+\n|DLG                 |1    |1.25E-4  |\n|BRD                 |1    |1.25E-4  |\n+--------------------+-----+---------+\n\nTop 5 unseen values in val for column: DESTINATION_AIRPORT_CLEAN\n+-------------------------+-----+---------+\n|DESTINATION_AIRPORT_CLEAN|count|frequency|\n+-------------------------+-----+---------+\n|UST                      |1    |1.25E-4  |\n|NYL                      |1    |1.25E-4  |\n|DVL                      |1    |1.25E-4  |\n|MMH                      |1    |1.25E-4  |\n+-------------------------+-----+---------+\n\nTop 5 unseen values in val for column: ROUTE\n+-------+-----+---------+\n|ROUTE  |count|frequency|\n+-------+-----+---------+\n|ORD_HSV|4    |4.98E-4  |\n|LGB_AUS|3    |3.74E-4  |\n|LAN_MSP|3    |3.74E-4  |\n|CAE_IAD|2    |2.49E-4  |\n|BNA_SAN|2    |2.49E-4  |\n+-------+-----+---------+\n\n"
     ]
    }
   ],
   "source": [
    "# total rows in val to calculate frequency\n",
    "val_total = val_df_encoded.count()  \n",
    "\n",
    "for col_name in high_cardinality_cols:\n",
    "    print(f\"Top 5 unseen values in val for column: {col_name}\")\n",
    "    \n",
    "    # Distinct train values\n",
    "    train_values = cleaned_train_df.select(col_name).distinct()\n",
    "    \n",
    "    # Count per val value\n",
    "    val_counts = val_df_encoded.groupBy(col_name).count()\n",
    "    \n",
    "    # Unseen in train\n",
    "    unseen_vals = val_counts.join(train_values, on=col_name, how='left_anti')\n",
    "    \n",
    "    # Add relative frequency column, sort and show top 5\n",
    "    unseen_vals = unseen_vals.withColumn(\"frequency\", round(col(\"count\") / val_total, 6)) \\\n",
    "                             .orderBy(desc(\"count\")) \\\n",
    "                             .limit(5)\n",
    "    \n",
    "    unseen_vals.show(truncate=False)"
   ]
  },
  {
   "cell_type": "markdown",
   "metadata": {
    "application/vnd.databricks.v1+cell": {
     "cellMetadata": {},
     "inputWidgets": {},
     "nuid": "d970ba8b-03ce-4977-9d7f-97d327d5f324",
     "showTitle": false,
     "tableResultSettingsMap": {},
     "title": ""
    }
   },
   "source": [
    "# 2.10 Coherence Checking"
   ]
  },
  {
   "cell_type": "markdown",
   "metadata": {
    "application/vnd.databricks.v1+cell": {
     "cellMetadata": {},
     "inputWidgets": {},
     "nuid": "eda96c02-f828-438c-9287-771588504af5",
     "showTitle": false,
     "tableResultSettingsMap": {},
     "title": ""
    }
   },
   "source": [
    "## 2.10.1 Duplicated rows (after mapping airports)"
   ]
  },
  {
   "cell_type": "markdown",
   "metadata": {
    "application/vnd.databricks.v1+cell": {
     "cellMetadata": {},
     "inputWidgets": {},
     "nuid": "7c18f824-461d-40e1-a5f1-7b5ce7a26927",
     "showTitle": false,
     "tableResultSettingsMap": {},
     "title": ""
    }
   },
   "source": [
    "We noticed airport codes repeated so we have to treat that"
   ]
  },
  {
   "cell_type": "code",
   "execution_count": 0,
   "metadata": {
    "application/vnd.databricks.v1+cell": {
     "cellMetadata": {
      "byteLimit": 2048000,
      "rowLimit": 10000
     },
     "inputWidgets": {},
     "nuid": "4df2a251-5654-4e97-bbe0-57789e496382",
     "showTitle": false,
     "tableResultSettingsMap": {},
     "title": ""
    }
   },
   "outputs": [
    {
     "output_type": "stream",
     "name": "stdout",
     "output_type": "stream",
     "text": [
      "Duplicate indexes in train_df:\n"
     ]
    },
    {
     "output_type": "display_data",
     "data": {
      "text/html": [
       "<style scoped>\n",
       "  .table-result-container {\n",
       "    max-height: 300px;\n",
       "    overflow: auto;\n",
       "  }\n",
       "  table, th, td {\n",
       "    border: 1px solid black;\n",
       "    border-collapse: collapse;\n",
       "  }\n",
       "  th, td {\n",
       "    padding: 5px;\n",
       "  }\n",
       "  th {\n",
       "    text-align: left;\n",
       "  }\n",
       "</style><div class='table-result-container'><table class='table-result'><thead style='background-color: white'><tr><th>index</th><th>count</th></tr></thead><tbody><tr><td>1022</td><td>2</td></tr><tr><td>1058</td><td>2</td></tr><tr><td>2373</td><td>2</td></tr><tr><td>2374</td><td>2</td></tr><tr><td>2413</td><td>2</td></tr><tr><td>2421</td><td>2</td></tr><tr><td>3905</td><td>2</td></tr><tr><td>5091</td><td>2</td></tr><tr><td>5116</td><td>2</td></tr><tr><td>6286</td><td>2</td></tr></tbody></table></div>"
      ]
     },
     "metadata": {
      "application/vnd.databricks.v1+output": {
       "addedWidgets": {},
       "aggData": [],
       "aggError": "",
       "aggOverflow": false,
       "aggSchema": [],
       "aggSeriesLimitReached": false,
       "aggType": "",
       "arguments": {},
       "columnCustomDisplayInfos": {},
       "data": [
        [
         1022,
         2
        ],
        [
         1058,
         2
        ],
        [
         2373,
         2
        ],
        [
         2374,
         2
        ],
        [
         2413,
         2
        ],
        [
         2421,
         2
        ],
        [
         3905,
         2
        ],
        [
         5091,
         2
        ],
        [
         5116,
         2
        ],
        [
         6286,
         2
        ]
       ],
       "datasetInfos": [],
       "dbfsResultPath": null,
       "isJsonSchema": true,
       "metadata": {},
       "overflow": false,
       "plotOptions": {
        "customPlotOptions": {},
        "displayType": "table",
        "pivotAggregation": null,
        "pivotColumns": null,
        "xColumns": null,
        "yColumns": null
       },
       "removedWidgets": [],
       "schema": [
        {
         "metadata": "{}",
         "name": "index",
         "type": "\"integer\""
        },
        {
         "metadata": "{}",
         "name": "count",
         "type": "\"long\""
        }
       ],
       "type": "table"
      }
     },
     "output_type": "display_data"
    }
   ],
   "source": [
    "duplicate_indexes_train = (\n",
    "    train_df_encoded.groupBy(\"index\")\n",
    "    .agg(count(\"*\").alias(\"count\"))\n",
    "    .filter(col(\"count\") > 1)\n",
    ")\n",
    "\n",
    "print(\"Duplicate indexes in train_df:\")\n",
    "duplicate_indexes_train.limit(10).display()"
   ]
  },
  {
   "cell_type": "code",
   "execution_count": 0,
   "metadata": {
    "application/vnd.databricks.v1+cell": {
     "cellMetadata": {
      "byteLimit": 2048000,
      "rowLimit": 10000
     },
     "inputWidgets": {},
     "nuid": "d1402c32-25a5-4a22-b97b-d8ec5f381c6d",
     "showTitle": false,
     "tableResultSettingsMap": {},
     "title": ""
    }
   },
   "outputs": [
    {
     "output_type": "display_data",
     "data": {
      "text/html": [
       "<style scoped>\n",
       "  .table-result-container {\n",
       "    max-height: 300px;\n",
       "    overflow: auto;\n",
       "  }\n",
       "  table, th, td {\n",
       "    border: 1px solid black;\n",
       "    border-collapse: collapse;\n",
       "  }\n",
       "  th, td {\n",
       "    padding: 5px;\n",
       "  }\n",
       "  th {\n",
       "    text-align: left;\n",
       "  }\n",
       "</style><div class='table-result-container'><table class='table-result'><thead style='background-color: white'><tr><th>index</th><th>ORIGIN_AIRPORT</th><th>DESTINATION_AIRPORT</th><th>ORIGIN_AIRPORT_CLEAN</th><th>DESTINATION_AIRPORT_CLEAN</th></tr></thead><tbody><tr><td>1022</td><td>10423</td><td>10693</td><td>AUS</td><td>BNA</td></tr><tr><td>1022</td><td>10423</td><td>10693</td><td>BSM</td><td>BNA</td></tr><tr><td>1058</td><td>12173</td><td>12982</td><td>HIK</td><td>LIH</td></tr><tr><td>1058</td><td>12173</td><td>12982</td><td>HNL</td><td>LIH</td></tr><tr><td>2373</td><td>10423</td><td>11259</td><td>AUS</td><td>DAL</td></tr><tr><td>2373</td><td>10423</td><td>11259</td><td>BSM</td><td>DAL</td></tr><tr><td>2374</td><td>10423</td><td>13930</td><td>AUS</td><td>ORD</td></tr><tr><td>2374</td><td>10423</td><td>13930</td><td>BSM</td><td>ORD</td></tr><tr><td>2413</td><td>12478</td><td>12173</td><td>JFK</td><td>HIK</td></tr><tr><td>2413</td><td>12478</td><td>12173</td><td>JFK</td><td>HNL</td></tr></tbody></table></div>"
      ]
     },
     "metadata": {
      "application/vnd.databricks.v1+output": {
       "addedWidgets": {},
       "aggData": [],
       "aggError": "",
       "aggOverflow": false,
       "aggSchema": [],
       "aggSeriesLimitReached": false,
       "aggType": "",
       "arguments": {},
       "columnCustomDisplayInfos": {},
       "data": [
        [
         1022,
         "10423",
         "10693",
         "AUS",
         "BNA"
        ],
        [
         1022,
         "10423",
         "10693",
         "BSM",
         "BNA"
        ],
        [
         1058,
         "12173",
         "12982",
         "HIK",
         "LIH"
        ],
        [
         1058,
         "12173",
         "12982",
         "HNL",
         "LIH"
        ],
        [
         2373,
         "10423",
         "11259",
         "AUS",
         "DAL"
        ],
        [
         2373,
         "10423",
         "11259",
         "BSM",
         "DAL"
        ],
        [
         2374,
         "10423",
         "13930",
         "AUS",
         "ORD"
        ],
        [
         2374,
         "10423",
         "13930",
         "BSM",
         "ORD"
        ],
        [
         2413,
         "12478",
         "12173",
         "JFK",
         "HIK"
        ],
        [
         2413,
         "12478",
         "12173",
         "JFK",
         "HNL"
        ]
       ],
       "datasetInfos": [],
       "dbfsResultPath": null,
       "isJsonSchema": true,
       "metadata": {},
       "overflow": false,
       "plotOptions": {
        "customPlotOptions": {},
        "displayType": "table",
        "pivotAggregation": null,
        "pivotColumns": null,
        "xColumns": null,
        "yColumns": null
       },
       "removedWidgets": [],
       "schema": [
        {
         "metadata": "{}",
         "name": "index",
         "type": "\"integer\""
        },
        {
         "metadata": "{}",
         "name": "ORIGIN_AIRPORT",
         "type": "\"string\""
        },
        {
         "metadata": "{}",
         "name": "DESTINATION_AIRPORT",
         "type": "\"string\""
        },
        {
         "metadata": "{}",
         "name": "ORIGIN_AIRPORT_CLEAN",
         "type": "\"string\""
        },
        {
         "metadata": "{}",
         "name": "DESTINATION_AIRPORT_CLEAN",
         "type": "\"string\""
        }
       ],
       "type": "table"
      }
     },
     "output_type": "display_data"
    }
   ],
   "source": [
    "duplicate_rows = train_df_encoded.join(\n",
    "    duplicate_indexes_train.select(\"index\"),\n",
    "    on=\"index\",\n",
    "    how=\"inner\")\n",
    "    \n",
    "columns_to_show = [\n",
    "    \"index\", \"ORIGIN_AIRPORT\", \"DESTINATION_AIRPORT\",\n",
    "    \"ORIGIN_AIRPORT_CLEAN\", \"DESTINATION_AIRPORT_CLEAN\"\n",
    "]\n",
    "\n",
    "duplicate_rows.select(columns_to_show).limit(10).display()"
   ]
  },
  {
   "cell_type": "code",
   "execution_count": 0,
   "metadata": {
    "application/vnd.databricks.v1+cell": {
     "cellMetadata": {
      "byteLimit": 2048000,
      "rowLimit": 10000
     },
     "inputWidgets": {},
     "nuid": "ba70ee36-dfa2-4793-b4d4-336274e641c9",
     "showTitle": false,
     "tableResultSettingsMap": {},
     "title": ""
    }
   },
   "outputs": [],
   "source": [
    "origin_train_mapping = (\n",
    "    train_df_encoded.groupBy(\"ORIGIN_AIRPORT\")\n",
    "    .agg(min(\"ORIGIN_AIRPORT_CLEAN\").alias(\"PREFERRED_ORIGIN_AIRPORT_CLEAN\"))\n",
    ")\n",
    "\n",
    "destination_train_mapping = (\n",
    "    train_df_encoded.groupBy(\"DESTINATION_AIRPORT\")\n",
    "    .agg(min(\"DESTINATION_AIRPORT_CLEAN\").alias(\"PREFERRED_DESTINATION_AIRPORT_CLEAN\"))\n",
    ")\n",
    "\n",
    "# Join and overwrite ORIGIN_AIRPORT_CLEAN\n",
    "train_df_encoded = train_df_encoded.join(\n",
    "    origin_train_mapping, on=\"ORIGIN_AIRPORT\", how=\"left\"\n",
    ")\n",
    "\n",
    "# Join and overwrite DESTINATION_AIRPORT_CLEAN\n",
    "train_df_encoded = train_df_encoded.join(\n",
    "    destination_train_mapping, on=\"DESTINATION_AIRPORT\", how=\"left\"\n",
    ")"
   ]
  },
  {
   "cell_type": "code",
   "execution_count": 0,
   "metadata": {
    "application/vnd.databricks.v1+cell": {
     "cellMetadata": {
      "byteLimit": 2048000,
      "rowLimit": 10000
     },
     "inputWidgets": {},
     "nuid": "d56b9407-0572-4dee-a646-9cf1a626b9cb",
     "showTitle": false,
     "tableResultSettingsMap": {},
     "title": ""
    }
   },
   "outputs": [
    {
     "output_type": "display_data",
     "data": {
      "text/html": [
       "<style scoped>\n",
       "  .table-result-container {\n",
       "    max-height: 300px;\n",
       "    overflow: auto;\n",
       "  }\n",
       "  table, th, td {\n",
       "    border: 1px solid black;\n",
       "    border-collapse: collapse;\n",
       "  }\n",
       "  th, td {\n",
       "    padding: 5px;\n",
       "  }\n",
       "  th {\n",
       "    text-align: left;\n",
       "  }\n",
       "</style><div class='table-result-container'><table class='table-result'><thead style='background-color: white'><tr><th>index</th><th>ORIGIN_AIRPORT</th><th>DESTINATION_AIRPORT</th><th>ORIGIN_AIRPORT_CLEAN</th><th>DESTINATION_AIRPORT_CLEAN</th><th>PREFERRED_ORIGIN_AIRPORT_CLEAN</th><th>PREFERRED_DESTINATION_AIRPORT_CLEAN</th></tr></thead><tbody><tr><td>37267</td><td>10397</td><td>10423</td><td>ATL</td><td>AUS</td><td>ATL</td><td>AUS</td></tr><tr><td>37267</td><td>10397</td><td>10423</td><td>ATL</td><td>BSM</td><td>ATL</td><td>AUS</td></tr><tr><td>37268</td><td>10397</td><td>10423</td><td>ATL</td><td>AUS</td><td>ATL</td><td>AUS</td></tr><tr><td>37268</td><td>10397</td><td>10423</td><td>ATL</td><td>BSM</td><td>ATL</td><td>AUS</td></tr><tr><td>1022</td><td>10423</td><td>10693</td><td>AUS</td><td>BNA</td><td>AUS</td><td>BNA</td></tr><tr><td>1022</td><td>10423</td><td>10693</td><td>BSM</td><td>BNA</td><td>AUS</td><td>BNA</td></tr><tr><td>2373</td><td>10423</td><td>11259</td><td>AUS</td><td>DAL</td><td>AUS</td><td>DAL</td></tr><tr><td>2373</td><td>10423</td><td>11259</td><td>BSM</td><td>DAL</td><td>AUS</td><td>DAL</td></tr><tr><td>2374</td><td>10423</td><td>13930</td><td>AUS</td><td>ORD</td><td>AUS</td><td>ORD</td></tr><tr><td>2374</td><td>10423</td><td>13930</td><td>BSM</td><td>ORD</td><td>AUS</td><td>ORD</td></tr></tbody></table></div>"
      ]
     },
     "metadata": {
      "application/vnd.databricks.v1+output": {
       "addedWidgets": {},
       "aggData": [],
       "aggError": "",
       "aggOverflow": false,
       "aggSchema": [],
       "aggSeriesLimitReached": false,
       "aggType": "",
       "arguments": {},
       "columnCustomDisplayInfos": {},
       "data": [
        [
         37267,
         "10397",
         "10423",
         "ATL",
         "AUS",
         "ATL",
         "AUS"
        ],
        [
         37267,
         "10397",
         "10423",
         "ATL",
         "BSM",
         "ATL",
         "AUS"
        ],
        [
         37268,
         "10397",
         "10423",
         "ATL",
         "AUS",
         "ATL",
         "AUS"
        ],
        [
         37268,
         "10397",
         "10423",
         "ATL",
         "BSM",
         "ATL",
         "AUS"
        ],
        [
         1022,
         "10423",
         "10693",
         "AUS",
         "BNA",
         "AUS",
         "BNA"
        ],
        [
         1022,
         "10423",
         "10693",
         "BSM",
         "BNA",
         "AUS",
         "BNA"
        ],
        [
         2373,
         "10423",
         "11259",
         "AUS",
         "DAL",
         "AUS",
         "DAL"
        ],
        [
         2373,
         "10423",
         "11259",
         "BSM",
         "DAL",
         "AUS",
         "DAL"
        ],
        [
         2374,
         "10423",
         "13930",
         "AUS",
         "ORD",
         "AUS",
         "ORD"
        ],
        [
         2374,
         "10423",
         "13930",
         "BSM",
         "ORD",
         "AUS",
         "ORD"
        ]
       ],
       "datasetInfos": [],
       "dbfsResultPath": null,
       "isJsonSchema": true,
       "metadata": {},
       "overflow": false,
       "plotOptions": {
        "customPlotOptions": {},
        "displayType": "table",
        "pivotAggregation": null,
        "pivotColumns": null,
        "xColumns": null,
        "yColumns": null
       },
       "removedWidgets": [],
       "schema": [
        {
         "metadata": "{}",
         "name": "index",
         "type": "\"integer\""
        },
        {
         "metadata": "{}",
         "name": "ORIGIN_AIRPORT",
         "type": "\"string\""
        },
        {
         "metadata": "{}",
         "name": "DESTINATION_AIRPORT",
         "type": "\"string\""
        },
        {
         "metadata": "{}",
         "name": "ORIGIN_AIRPORT_CLEAN",
         "type": "\"string\""
        },
        {
         "metadata": "{}",
         "name": "DESTINATION_AIRPORT_CLEAN",
         "type": "\"string\""
        },
        {
         "metadata": "{}",
         "name": "PREFERRED_ORIGIN_AIRPORT_CLEAN",
         "type": "\"string\""
        },
        {
         "metadata": "{}",
         "name": "PREFERRED_DESTINATION_AIRPORT_CLEAN",
         "type": "\"string\""
        }
       ],
       "type": "table"
      }
     },
     "output_type": "display_data"
    }
   ],
   "source": [
    "duplicate_rows = train_df_encoded.join(\n",
    "    duplicate_indexes_train.select(\"index\"),\n",
    "    on=\"index\",\n",
    "    how=\"inner\")\n",
    "\n",
    "columns_to_show = [\n",
    "    \"index\", \"ORIGIN_AIRPORT\", \"DESTINATION_AIRPORT\",\n",
    "    \"ORIGIN_AIRPORT_CLEAN\", \"DESTINATION_AIRPORT_CLEAN\", \n",
    "    \"PREFERRED_ORIGIN_AIRPORT_CLEAN\", \"PREFERRED_DESTINATION_AIRPORT_CLEAN\"\n",
    "]\n",
    "\n",
    "duplicate_rows.select(columns_to_show).limit(10).display()"
   ]
  },
  {
   "cell_type": "code",
   "execution_count": 0,
   "metadata": {
    "application/vnd.databricks.v1+cell": {
     "cellMetadata": {
      "byteLimit": 2048000,
      "rowLimit": 10000
     },
     "inputWidgets": {},
     "nuid": "f4cdf305-45d6-47c4-b77f-300470560c71",
     "showTitle": false,
     "tableResultSettingsMap": {},
     "title": ""
    }
   },
   "outputs": [],
   "source": [
    "cleaned_train_df = train_df_encoded.filter(\n",
    "    (col(\"ORIGIN_AIRPORT_CLEAN\") == col(\"PREFERRED_ORIGIN_AIRPORT_CLEAN\")) &\n",
    "    (col(\"DESTINATION_AIRPORT_CLEAN\") == col(\"PREFERRED_DESTINATION_AIRPORT_CLEAN\"))\n",
    ")\n",
    "\n",
    "cleaned_train_df = cleaned_train_df.drop(\n",
    "    \"PREFERRED_ORIGIN_AIRPORT_CLEAN\",\n",
    "    \"PREFERRED_DESTINATION_AIRPORT_CLEAN\"\n",
    ")"
   ]
  },
  {
   "cell_type": "code",
   "execution_count": 0,
   "metadata": {
    "application/vnd.databricks.v1+cell": {
     "cellMetadata": {
      "byteLimit": 2048000,
      "rowLimit": 10000
     },
     "inputWidgets": {},
     "nuid": "4d3237ba-7a7f-4796-b25e-d85c3643923e",
     "showTitle": false,
     "tableResultSettingsMap": {},
     "title": ""
    }
   },
   "outputs": [],
   "source": [
    "origin_val_mapping = (\n",
    "    val_df_encoded.groupBy(\"ORIGIN_AIRPORT\")\n",
    "    .agg(min(\"ORIGIN_AIRPORT_CLEAN\").alias(\"PREFERRED_ORIGIN_AIRPORT_CLEAN\"))\n",
    ")\n",
    "\n",
    "destination_val_mapping = (\n",
    "    val_df_encoded.groupBy(\"DESTINATION_AIRPORT\")\n",
    "    .agg(min(\"DESTINATION_AIRPORT_CLEAN\").alias(\"PREFERRED_DESTINATION_AIRPORT_CLEAN\"))\n",
    ")\n",
    "\n",
    "# Join and overwrite ORIGIN_AIRPORT_CLEAN\n",
    "val_df_encoded = val_df_encoded.join(\n",
    "    origin_val_mapping, on=\"ORIGIN_AIRPORT\", how=\"left\"\n",
    ")\n",
    "\n",
    "# Join and overwrite DESTINATION_AIRPORT_CLEAN\n",
    "val_df_encoded = val_df_encoded.join(\n",
    "    destination_val_mapping, on=\"DESTINATION_AIRPORT\", how=\"left\"\n",
    ")\n",
    "\n",
    "cleaned_val_df = val_df_encoded.filter(\n",
    "    (col(\"ORIGIN_AIRPORT_CLEAN\") == col(\"PREFERRED_ORIGIN_AIRPORT_CLEAN\")) &\n",
    "    (col(\"DESTINATION_AIRPORT_CLEAN\") == col(\"PREFERRED_DESTINATION_AIRPORT_CLEAN\"))\n",
    ")\n",
    "\n",
    "cleaned_val_df = cleaned_val_df.drop(\n",
    "    \"PREFERRED_ORIGIN_AIRPORT_CLEAN\",\n",
    "    \"PREFERRED_DESTINATION_AIRPORT_CLEAN\"\n",
    ")"
   ]
  },
  {
   "cell_type": "code",
   "execution_count": 0,
   "metadata": {
    "application/vnd.databricks.v1+cell": {
     "cellMetadata": {
      "byteLimit": 2048000,
      "rowLimit": 10000
     },
     "inputWidgets": {},
     "nuid": "763f36e3-50ac-410b-992b-80f8adc811a7",
     "showTitle": false,
     "tableResultSettingsMap": {},
     "title": ""
    }
   },
   "outputs": [],
   "source": [
    "origin_test_mapping = (\n",
    "    test_df_encoded.groupBy(\"ORIGIN_AIRPORT\")\n",
    "    .agg(min(\"ORIGIN_AIRPORT_CLEAN\").alias(\"PREFERRED_ORIGIN_AIRPORT_CLEAN\"))\n",
    ")\n",
    "\n",
    "destination_test_mapping = (\n",
    "    test_df_encoded.groupBy(\"DESTINATION_AIRPORT\")\n",
    "    .agg(min(\"DESTINATION_AIRPORT_CLEAN\").alias(\"PREFERRED_DESTINATION_AIRPORT_CLEAN\"))\n",
    ")\n",
    "\n",
    "# Join and overwrite ORIGIN_AIRPORT_CLEAN\n",
    "test_df_encoded = test_df_encoded.join(\n",
    "    origin_test_mapping, on=\"ORIGIN_AIRPORT\", how=\"left\"\n",
    ")\n",
    "\n",
    "# Join and overwrite DESTINATION_AIRPORT_CLEAN\n",
    "test_df_encoded = test_df_encoded.join(\n",
    "    destination_test_mapping, on=\"DESTINATION_AIRPORT\", how=\"left\"\n",
    ")\n",
    "\n",
    "cleaned_test_df = test_df_encoded.filter(\n",
    "    (col(\"ORIGIN_AIRPORT_CLEAN\") == col(\"PREFERRED_ORIGIN_AIRPORT_CLEAN\")) &\n",
    "    (col(\"DESTINATION_AIRPORT_CLEAN\") == col(\"PREFERRED_DESTINATION_AIRPORT_CLEAN\"))\n",
    ")\n",
    "\n",
    "cleaned_test_df = cleaned_test_df.drop(\n",
    "    \"PREFERRED_ORIGIN_AIRPORT_CLEAN\",\n",
    "    \"PREFERRED_DESTINATION_AIRPORT_CLEAN\"\n",
    ")"
   ]
  },
  {
   "cell_type": "code",
   "execution_count": 0,
   "metadata": {
    "application/vnd.databricks.v1+cell": {
     "cellMetadata": {
      "byteLimit": 2048000,
      "rowLimit": 10000
     },
     "inputWidgets": {},
     "nuid": "999bf8f7-27e2-4eda-b25b-9102530c4991",
     "showTitle": false,
     "tableResultSettingsMap": {},
     "title": ""
    }
   },
   "outputs": [
    {
     "output_type": "stream",
     "name": "stdout",
     "output_type": "stream",
     "text": [
      "train_df → total: 37396\nval_df → total: 8013\ntest_df → total: 8020\n"
     ]
    }
   ],
   "source": [
    "total_train_rows = cleaned_train_df.count()\n",
    "total_val_rows = cleaned_val_df.count()\n",
    "total_test_rows = cleaned_test_df.count()\n",
    "\n",
    "print(f\"train_df → total: {total_train_rows}\")\n",
    "print(f\"val_df → total: {total_val_rows}\")\n",
    "print(f\"test_df → total: {total_test_rows}\")"
   ]
  },
  {
   "cell_type": "markdown",
   "metadata": {
    "application/vnd.databricks.v1+cell": {
     "cellMetadata": {},
     "inputWidgets": {},
     "nuid": "e221f9db-ab6e-43c9-85eb-3b9eb02f86e4",
     "showTitle": false,
     "tableResultSettingsMap": {},
     "title": ""
    }
   },
   "source": [
    "## 2.10.2 Columns and datatypes"
   ]
  },
  {
   "cell_type": "code",
   "execution_count": 0,
   "metadata": {
    "application/vnd.databricks.v1+cell": {
     "cellMetadata": {},
     "inputWidgets": {},
     "nuid": "3b348347-19e3-4657-a06d-afc2c4633e97",
     "showTitle": false,
     "tableResultSettingsMap": {},
     "title": ""
    }
   },
   "outputs": [],
   "source": [
    "#checking if all datasets have the same number of columns\n",
    "train_cols_count = len(cleaned_train_df.columns)\n",
    "val_cols_count = len(cleaned_val_df.columns)\n",
    "test_cols_count = len(cleaned_test_df.columns)\n",
    "\n",
    "if train_cols_count == val_cols_count == test_cols_count:\n",
    "    print(\"All datasets have the same number of columns\")\n",
    "else:\n",
    "    print(\"Datasets have different columns\")\n"
   ]
  },
  {
   "cell_type": "code",
   "execution_count": 0,
   "metadata": {
    "application/vnd.databricks.v1+cell": {
     "cellMetadata": {},
     "inputWidgets": {},
     "nuid": "38fcda06-f14b-42a8-b789-26446a820a20",
     "showTitle": false,
     "tableResultSettingsMap": {},
     "title": ""
    }
   },
   "outputs": [],
   "source": [
    "#check if the columns and datatypes match\n",
    "train_cols = set(cleaned_train_df.dtypes)\n",
    "val_cols = set(cleaned_val_df.dtypes)\n",
    "test_cols = set(cleaned_test_df.dtypes)\n",
    "\n",
    "if train_cols == val_cols == test_cols:\n",
    "    print(\"All datasets have matching columns and data types.\")\n",
    "else:\n",
    "    print(\"There are differences in columns or data types.\")"
   ]
  },
  {
   "cell_type": "markdown",
   "metadata": {
    "application/vnd.databricks.v1+cell": {
     "cellMetadata": {},
     "inputWidgets": {},
     "nuid": "e0ebd1c7-91d8-4ec3-9789-21c4e7e5f690",
     "showTitle": false,
     "tableResultSettingsMap": {},
     "title": ""
    }
   },
   "source": [
    "## 2.10.3 Null values"
   ]
  },
  {
   "cell_type": "code",
   "execution_count": 0,
   "metadata": {
    "application/vnd.databricks.v1+cell": {
     "cellMetadata": {},
     "inputWidgets": {},
     "nuid": "e50a1c82-b890-4dc6-a16e-c758f668ef2f",
     "showTitle": false,
     "tableResultSettingsMap": {},
     "title": ""
    }
   },
   "outputs": [],
   "source": [
    "#function to check the presence of NaN values or null values\n",
    "def check_missing_values(df, df_name):\n",
    "    print(f\"Missing values in {df_name}:\")\n",
    "\n",
    "    # Split columns by type\n",
    "    numeric_types = ['int', 'double', 'bigint', 'float']\n",
    "    string_cols = [c for c, t in df.dtypes if t == 'string']\n",
    "    numeric_cols = [c for c, t in df.dtypes if t in numeric_types]\n",
    "    vector_cols = [field.name for field in df.schema.fields if isinstance(field.dataType, VectorUDT)]\n",
    "\n",
    "    #check Null and NaN for numeric\n",
    "    numeric_missing = df.select([\n",
    "        count(when(col(c).isNull() | isnan(col(c)), c)).alias(c) for c in numeric_cols\n",
    "    ])\n",
    "\n",
    "    # check only null for string\n",
    "    string_missing = df.select([\n",
    "        count(when(col(c).isNull(), c)).alias(c) for c in string_cols\n",
    "    ])\n",
    "\n",
    "    # check nulls in vector columns \n",
    "    vector_missing = df.select([\n",
    "        count(when(col(c).isNull(), c)).alias(c) for c in vector_cols\n",
    "    ])\n",
    "\n",
    "    # Display both\n",
    "    print(\"Numeric columns:\")\n",
    "    display(numeric_missing)\n",
    "    print(\"String columns:\")\n",
    "    display(string_missing)\n",
    "    print(\"Vector columns:\")\n",
    "    display(vector_missing)\n"
   ]
  },
  {
   "cell_type": "code",
   "execution_count": 0,
   "metadata": {
    "application/vnd.databricks.v1+cell": {
     "cellMetadata": {},
     "inputWidgets": {},
     "nuid": "4284a311-2d68-4dd8-8d75-264d71486955",
     "showTitle": false,
     "tableResultSettingsMap": {},
     "title": ""
    }
   },
   "outputs": [],
   "source": [
    "check_missing_values(cleaned_train_df, \"cleaned_train_df\")\n",
    "check_missing_values(cleaned_val_df, \"cleaned_val_df\")\n",
    "check_missing_values(cleaned_test_df, \"cleaned_test_df\")\n"
   ]
  },
  {
   "cell_type": "markdown",
   "metadata": {
    "application/vnd.databricks.v1+cell": {
     "cellMetadata": {},
     "inputWidgets": {},
     "nuid": "64496ceb-6dc9-4a5b-806f-8a67544f1243",
     "showTitle": false,
     "tableResultSettingsMap": {},
     "title": ""
    }
   },
   "source": [
    "**Conclusion**: No missing values"
   ]
  },
  {
   "cell_type": "markdown",
   "metadata": {
    "application/vnd.databricks.v1+cell": {
     "cellMetadata": {},
     "inputWidgets": {},
     "nuid": "97e91249-828d-406d-93fb-2e43e105d3a0",
     "showTitle": false,
     "tableResultSettingsMap": {},
     "title": ""
    }
   },
   "source": [
    "## 2.10.4 Unique values"
   ]
  },
  {
   "cell_type": "code",
   "execution_count": 0,
   "metadata": {
    "application/vnd.databricks.v1+cell": {
     "cellMetadata": {},
     "inputWidgets": {},
     "nuid": "be811746-5b71-4def-bfd7-1793d06ef488",
     "showTitle": false,
     "tableResultSettingsMap": {},
     "title": ""
    }
   },
   "outputs": [],
   "source": [
    "#check the number of unique values in each column\n",
    "unique_counts = cleaned_train_df.select([\n",
    "    countDistinct(col).alias(col) for col in cleaned_train_df.columns\n",
    "])\n",
    "display(unique_counts)"
   ]
  },
  {
   "cell_type": "code",
   "execution_count": 0,
   "metadata": {
    "application/vnd.databricks.v1+cell": {
     "cellMetadata": {},
     "inputWidgets": {},
     "nuid": "183eec7e-c612-4d17-91f2-5af04256fd33",
     "showTitle": false,
     "tableResultSettingsMap": {},
     "title": ""
    }
   },
   "outputs": [],
   "source": [
    "#check if the values in each column make sense\n",
    "for col_name in cleaned_train_df.columns:\n",
    "    print(f\"Unique values in column: {col_name}\")\n",
    "    cleaned_train_df.select(col_name).distinct().limit(10).display()"
   ]
  },
  {
   "cell_type": "code",
   "execution_count": 0,
   "metadata": {
    "application/vnd.databricks.v1+cell": {
     "cellMetadata": {},
     "inputWidgets": {},
     "nuid": "fc683604-69e9-43b9-98e3-ff440a29f8bb",
     "showTitle": false,
     "tableResultSettingsMap": {},
     "title": ""
    }
   },
   "outputs": [],
   "source": [
    "numeric_types = ['int', 'bigint', 'double']\n",
    "numeric_cols = [c for c, t in cleaned_train_df.dtypes if t in numeric_types]\n",
    "\n",
    "stats = []\n",
    "for c in numeric_cols:\n",
    "    zero_count = cleaned_train_df.filter(col(c) == 0).count()\n",
    "    neg_count = cleaned_train_df.filter(col(c) < 0).count()\n",
    "    stats.append((c, zero_count > 0, neg_count > 0, zero_count, neg_count))\n",
    "\n",
    "result_df = spark.createDataFrame(stats, schema=[\"column\", \"has_zero\", \"has_negative\", \"zero_count\", \"negative_count\"])\n",
    "result_df.limit(10).display()"
   ]
  },
  {
   "cell_type": "markdown",
   "metadata": {
    "application/vnd.databricks.v1+cell": {
     "cellMetadata": {},
     "inputWidgets": {},
     "nuid": "044fd3b8-e0ac-4240-8709-1531554d5946",
     "showTitle": false,
     "tableResultSettingsMap": {},
     "title": ""
    }
   },
   "source": [
    "## 2.10.5 Time columns"
   ]
  },
  {
   "cell_type": "markdown",
   "metadata": {
    "application/vnd.databricks.v1+cell": {
     "cellMetadata": {},
     "inputWidgets": {},
     "nuid": "6542abd8-a7b3-4144-ab2f-baa3fa7fff65",
     "showTitle": false,
     "tableResultSettingsMap": {},
     "title": ""
    }
   },
   "source": [
    "### Schedule vs Actual Departure Time"
   ]
  },
  {
   "cell_type": "code",
   "execution_count": 0,
   "metadata": {
    "application/vnd.databricks.v1+cell": {
     "cellMetadata": {
      "byteLimit": 2048000,
      "rowLimit": 10000
     },
     "inputWidgets": {},
     "nuid": "57378ec8-2b74-468c-b132-f5498424f785",
     "showTitle": false,
     "tableResultSettingsMap": {},
     "title": ""
    }
   },
   "outputs": [
    {
     "output_type": "stream",
     "name": "stdout",
     "output_type": "stream",
     "text": [
      "+-----------------------+---------------+------------------+---------------------------+------------+\n|SCHEDULED_DEPARTURE_min|DEPARTURE_DELAY|DEPARTURE_TIME_min|EXPECTED_DEPARTURE_TIME_min|DIFF_MINUTES|\n+-----------------------+---------------+------------------+---------------------------+------------+\n|                    360|             -7|               353|                        353|           0|\n|                    555|              9|               564|                        564|           0|\n|                    960|            195|              1155|                       1155|           0|\n|                    493|            323|               816|                        816|           0|\n|                   1106|             68|              1174|                       1174|           0|\n|                    450|             29|               479|                        479|           0|\n|                    790|             50|               840|                        840|           0|\n|                   1075|            110|              1185|                       1185|           0|\n|                   1030|            324|              1354|                       1354|           0|\n|                    485|             32|               517|                        517|           0|\n|                    790|             23|               813|                        813|           0|\n|                    846|            177|              1023|                       1023|           0|\n|                    612|            231|               843|                        843|           0|\n|                    611|            181|               792|                        792|           0|\n|                    735|              8|               743|                        743|           0|\n|                   1040|             10|              1050|                       1050|           0|\n|                    840|            126|               966|                        966|           0|\n|                    905|              0|               905|                        905|           0|\n|                    505|             83|               588|                        588|           0|\n|                    475|             -9|               466|                        466|           0|\n+-----------------------+---------------+------------------+---------------------------+------------+\nonly showing top 20 rows\n\nNo mismatches — the times match exactly.\n"
     ]
    }
   ],
   "source": [
    "#check if the scheduled departure plus the delay equals the departure time\n",
    "\n",
    "# 2400 corresponds to 24:00 (midnight) that is 1440 minutes but we want it to be 0\n",
    "# Apply modulo 1440 to wrap around expected departure time\n",
    "df_check = cleaned_train_df.withColumn(\n",
    "    \"EXPECTED_DEPARTURE_TIME_min\",\n",
    "    expr(\"((SCHEDULED_DEPARTURE_min + DEPARTURE_DELAY) % 1440)\")\n",
    ")\n",
    "\n",
    "# Check the difference from actual departure\n",
    "df_check = df_check.withColumn(\n",
    "    \"DIFF_MINUTES\",\n",
    "    col(\"EXPECTED_DEPARTURE_TIME_min\") - col(\"DEPARTURE_TIME_min\")\n",
    ")\n",
    "\n",
    "# Show mismatches\n",
    "df_check.select(\n",
    "    \"SCHEDULED_DEPARTURE_min\", \"DEPARTURE_DELAY\", \"DEPARTURE_TIME_min\",\n",
    "    \"EXPECTED_DEPARTURE_TIME_min\", \"DIFF_MINUTES\"\n",
    ").orderBy(expr(\"abs(DIFF_MINUTES)\").desc()).show()\n",
    "\n",
    "# Check if there are any mismatches\n",
    "mismatches = df_check.filter(expr(\"DIFF_MINUTES != 0\")).count()\n",
    "\n",
    "if mismatches > 0:\n",
    "    print(f\"There are {mismatches} mismatch(es) between expected and actual departure times.\")\n",
    "else:\n",
    "    print(\"No mismatches — the times match exactly.\")"
   ]
  },
  {
   "cell_type": "markdown",
   "metadata": {
    "application/vnd.databricks.v1+cell": {
     "cellMetadata": {},
     "inputWidgets": {},
     "nuid": "6160d0eb-d44a-4d4c-9569-30d8fe0692c7",
     "showTitle": false,
     "tableResultSettingsMap": {},
     "title": ""
    }
   },
   "source": [
    "We verified that the feature DEPARTURE_TIME aligns with the sum of SCHEDULED_DEPARTURE and DEPARTURE_DELAY. This confirms that the delay information is correctly encoded, and no mismatches were detected."
   ]
  },
  {
   "cell_type": "markdown",
   "metadata": {
    "application/vnd.databricks.v1+cell": {
     "cellMetadata": {},
     "inputWidgets": {},
     "nuid": "bef16bbd-24ab-45e9-b2fd-c113f5cbda76",
     "showTitle": false,
     "tableResultSettingsMap": {},
     "title": ""
    }
   },
   "source": [
    "### Consistency Between Scheduled Times (Departure and Arrival)"
   ]
  },
  {
   "cell_type": "code",
   "execution_count": 0,
   "metadata": {
    "application/vnd.databricks.v1+cell": {
     "cellMetadata": {
      "byteLimit": 2048000,
      "rowLimit": 10000
     },
     "inputWidgets": {},
     "nuid": "a41120d0-e318-44f6-bc15-7afd7931131f",
     "showTitle": false,
     "tableResultSettingsMap": {},
     "title": ""
    }
   },
   "outputs": [
    {
     "output_type": "display_data",
     "data": {
      "text/html": [
       "<style scoped>\n",
       "  .table-result-container {\n",
       "    max-height: 300px;\n",
       "    overflow: auto;\n",
       "  }\n",
       "  table, th, td {\n",
       "    border: 1px solid black;\n",
       "    border-collapse: collapse;\n",
       "  }\n",
       "  th, td {\n",
       "    padding: 5px;\n",
       "  }\n",
       "  th {\n",
       "    text-align: left;\n",
       "  }\n",
       "</style><div class='table-result-container'><table class='table-result'><thead style='background-color: white'><tr><th>SCHEDULED_DEPARTURE_min</th><th>SCHEDULED_TIME</th><th>SCHEDULED_ARRIVAL_min</th><th>EXPECTED_ARRIVAL_TIME_min</th><th>DIFF_MINUTES</th></tr></thead><tbody><tr><td>1311</td><td>149</td><td>1400</td><td>20</td><td>1380</td></tr><tr><td>1320</td><td>160</td><td>1420</td><td>40</td><td>1380</td></tr><tr><td>1310</td><td>105</td><td>35</td><td>1415</td><td>-1380</td></tr><tr><td>1325</td><td>143</td><td>1408</td><td>28</td><td>1380</td></tr><tr><td>1320</td><td>90</td><td>30</td><td>1410</td><td>-1380</td></tr><tr><td>1335</td><td>116</td><td>1391</td><td>11</td><td>1380</td></tr><tr><td>1270</td><td>170</td><td>1380</td><td>0</td><td>1380</td></tr><tr><td>1310</td><td>130</td><td>1380</td><td>0</td><td>1380</td></tr><tr><td>1330</td><td>54</td><td>4</td><td>1384</td><td>-1380</td></tr><tr><td>1255</td><td>140</td><td>15</td><td>1395</td><td>-1380</td></tr></tbody></table></div>"
      ]
     },
     "metadata": {
      "application/vnd.databricks.v1+output": {
       "addedWidgets": {},
       "aggData": [],
       "aggError": "",
       "aggOverflow": false,
       "aggSchema": [],
       "aggSeriesLimitReached": false,
       "aggType": "",
       "arguments": {},
       "columnCustomDisplayInfos": {},
       "data": [
        [
         1311,
         149,
         1400,
         20,
         1380
        ],
        [
         1320,
         160,
         1420,
         40,
         1380
        ],
        [
         1310,
         105,
         35,
         1415,
         -1380
        ],
        [
         1325,
         143,
         1408,
         28,
         1380
        ],
        [
         1320,
         90,
         30,
         1410,
         -1380
        ],
        [
         1335,
         116,
         1391,
         11,
         1380
        ],
        [
         1270,
         170,
         1380,
         0,
         1380
        ],
        [
         1310,
         130,
         1380,
         0,
         1380
        ],
        [
         1330,
         54,
         4,
         1384,
         -1380
        ],
        [
         1255,
         140,
         15,
         1395,
         -1380
        ]
       ],
       "datasetInfos": [],
       "dbfsResultPath": null,
       "isJsonSchema": true,
       "metadata": {},
       "overflow": false,
       "plotOptions": {
        "customPlotOptions": {},
        "displayType": "table",
        "pivotAggregation": null,
        "pivotColumns": null,
        "xColumns": null,
        "yColumns": null
       },
       "removedWidgets": [],
       "schema": [
        {
         "metadata": "{}",
         "name": "SCHEDULED_DEPARTURE_min",
         "type": "\"long\""
        },
        {
         "metadata": "{}",
         "name": "SCHEDULED_TIME",
         "type": "\"integer\""
        },
        {
         "metadata": "{}",
         "name": "SCHEDULED_ARRIVAL_min",
         "type": "\"long\""
        },
        {
         "metadata": "{}",
         "name": "EXPECTED_ARRIVAL_TIME_min",
         "type": "\"long\""
        },
        {
         "metadata": "{}",
         "name": "DIFF_MINUTES",
         "type": "\"long\""
        }
       ],
       "type": "table"
      }
     },
     "output_type": "display_data"
    },
    {
     "output_type": "stream",
     "name": "stdout",
     "output_type": "stream",
     "text": [
      "Found 18320 mismatches in 37396: arrival time does not match expected value in some rows.\n"
     ]
    }
   ],
   "source": [
    "df_check = cleaned_train_df.withColumn(\n",
    "    \"EXPECTED_ARRIVAL_TIME_min\",\n",
    "    ((col(\"SCHEDULED_DEPARTURE_min\") + col(\"SCHEDULED_TIME\")) % 1440)\n",
    ").withColumn(\n",
    "    \"DIFF_MINUTES\",\n",
    "    col(\"SCHEDULED_ARRIVAL_min\") - col(\"EXPECTED_ARRIVAL_TIME_min\")\n",
    "\n",
    ")\n",
    "\n",
    "# Show mismatches\n",
    "df_check.select(\n",
    "    \"SCHEDULED_DEPARTURE_min\", \"SCHEDULED_TIME\", \"SCHEDULED_ARRIVAL_min\",\n",
    "    \"EXPECTED_ARRIVAL_TIME_min\", \"DIFF_MINUTES\"\n",
    ").orderBy(expr(\"abs(DIFF_MINUTES)\").desc()).limit(10).display()\n",
    "\n",
    "# Count mismatches (non-zero differences)\n",
    "mismatches = df_check.filter(col(\"DIFF_MINUTES\") != 0).count()\n",
    "total = df_check.count()\n",
    "\n",
    "# Print result\n",
    "if mismatches == 0:\n",
    "    print(\"No mismatches: scheduled arrival time matches the sum of scheduled departure and scheduled time.\")\n",
    "else:\n",
    "    print(f\"Found {mismatches} mismatches in {total}: arrival time does not match expected value in some rows.\")\n",
    "\n"
   ]
  },
  {
   "cell_type": "code",
   "execution_count": 0,
   "metadata": {
    "application/vnd.databricks.v1+cell": {
     "cellMetadata": {
      "byteLimit": 2048000,
      "rowLimit": 10000
     },
     "inputWidgets": {},
     "nuid": "8ff6983b-e991-4116-bc54-9153002e9319",
     "showTitle": false,
     "tableResultSettingsMap": {},
     "title": ""
    }
   },
   "outputs": [
    {
     "output_type": "display_data",
     "data": {
      "text/html": [
       "<style scoped>\n",
       "  .table-result-container {\n",
       "    max-height: 300px;\n",
       "    overflow: auto;\n",
       "  }\n",
       "  table, th, td {\n",
       "    border: 1px solid black;\n",
       "    border-collapse: collapse;\n",
       "  }\n",
       "  th, td {\n",
       "    padding: 5px;\n",
       "  }\n",
       "  th {\n",
       "    text-align: left;\n",
       "  }\n",
       "</style><div class='table-result-container'><table class='table-result'><thead style='background-color: white'><tr><th>DIFF_MINUTES</th><th>count</th></tr></thead><tbody><tr><td>-1380</td><td>193</td></tr><tr><td>-1320</td><td>119</td></tr><tr><td>-1260</td><td>79</td></tr><tr><td>-360</td><td>6</td></tr><tr><td>-300</td><td>25</td></tr><tr><td>-240</td><td>16</td></tr><tr><td>-180</td><td>967</td></tr><tr><td>-120</td><td>1782</td></tr><tr><td>-60</td><td>5560</td></tr><tr><td>60</td><td>5838</td></tr></tbody></table></div>"
      ]
     },
     "metadata": {
      "application/vnd.databricks.v1+output": {
       "addedWidgets": {},
       "aggData": [],
       "aggError": "",
       "aggOverflow": false,
       "aggSchema": [],
       "aggSeriesLimitReached": false,
       "aggType": "",
       "arguments": {},
       "columnCustomDisplayInfos": {},
       "data": [
        [
         -1380,
         193
        ],
        [
         -1320,
         119
        ],
        [
         -1260,
         79
        ],
        [
         -360,
         6
        ],
        [
         -300,
         25
        ],
        [
         -240,
         16
        ],
        [
         -180,
         967
        ],
        [
         -120,
         1782
        ],
        [
         -60,
         5560
        ],
        [
         60,
         5838
        ]
       ],
       "datasetInfos": [],
       "dbfsResultPath": null,
       "isJsonSchema": true,
       "metadata": {},
       "overflow": false,
       "plotOptions": {
        "customPlotOptions": {},
        "displayType": "table",
        "pivotAggregation": null,
        "pivotColumns": null,
        "xColumns": null,
        "yColumns": null
       },
       "removedWidgets": [],
       "schema": [
        {
         "metadata": "{}",
         "name": "DIFF_MINUTES",
         "type": "\"long\""
        },
        {
         "metadata": "{}",
         "name": "count",
         "type": "\"long\""
        }
       ],
       "type": "table"
      }
     },
     "output_type": "display_data"
    }
   ],
   "source": [
    "mismatches = df_check.filter(col(\"DIFF_MINUTES\") != 0)\n",
    "\n",
    "# Group by the difference value and count how many times each occurs\n",
    "mismatches.groupBy(\"DIFF_MINUTES\").count().orderBy(\"DIFF_MINUTES\").limit(10).display()"
   ]
  },
  {
   "cell_type": "markdown",
   "metadata": {
    "application/vnd.databricks.v1+cell": {
     "cellMetadata": {},
     "inputWidgets": {},
     "nuid": "76a2fd21-0a54-42d0-af1a-ed12644727ec",
     "showTitle": false,
     "tableResultSettingsMap": {},
     "title": ""
    }
   },
   "source": [
    "The discrepancies observed between the expected and scheduled arrival times are likely due to differences in time zones between departure and arrival airports. This is supported by the fact that many mismatches consistently differ by 60-minute intervals, which aligns with typical time zone offsets."
   ]
  },
  {
   "cell_type": "code",
   "execution_count": 0,
   "metadata": {
    "application/vnd.databricks.v1+cell": {
     "cellMetadata": {
      "byteLimit": 2048000,
      "rowLimit": 10000
     },
     "inputWidgets": {},
     "nuid": "336d5df7-3a79-4bcf-8918-8fea8ea705b6",
     "showTitle": false,
     "tableResultSettingsMap": {},
     "title": ""
    }
   },
   "outputs": [
    {
     "output_type": "display_data",
     "data": {
      "text/html": [
       "<style scoped>\n",
       "  .table-result-container {\n",
       "    max-height: 300px;\n",
       "    overflow: auto;\n",
       "  }\n",
       "  table, th, td {\n",
       "    border: 1px solid black;\n",
       "    border-collapse: collapse;\n",
       "  }\n",
       "  th, td {\n",
       "    padding: 5px;\n",
       "  }\n",
       "  th {\n",
       "    text-align: left;\n",
       "  }\n",
       "</style><div class='table-result-container'><table class='table-result'><thead style='background-color: white'><tr><th>ROUTE</th><th>DIFF_MINUTES</th></tr></thead><tbody><tr><td>ABQ_MCI</td><td>60</td></tr><tr><td>ABQ_DAL</td><td>60</td></tr><tr><td>ABQ_LAX</td><td>-60</td></tr><tr><td>ABQ_MCI</td><td>60</td></tr><tr><td>AEX_ATL</td><td>60</td></tr><tr><td>AEX_ATL</td><td>60</td></tr><tr><td>ATL_GTR</td><td>-60</td></tr><tr><td>ATL_MCI</td><td>-60</td></tr><tr><td>ATL_ORD</td><td>-60</td></tr><tr><td>ATL_LFT</td><td>-60</td></tr></tbody></table></div>"
      ]
     },
     "metadata": {
      "application/vnd.databricks.v1+output": {
       "addedWidgets": {},
       "aggData": [],
       "aggError": "",
       "aggOverflow": false,
       "aggSchema": [],
       "aggSeriesLimitReached": false,
       "aggType": "",
       "arguments": {},
       "columnCustomDisplayInfos": {},
       "data": [
        [
         "ABQ_MCI",
         60
        ],
        [
         "ABQ_DAL",
         60
        ],
        [
         "ABQ_LAX",
         -60
        ],
        [
         "ABQ_MCI",
         60
        ],
        [
         "AEX_ATL",
         60
        ],
        [
         "AEX_ATL",
         60
        ],
        [
         "ATL_GTR",
         -60
        ],
        [
         "ATL_MCI",
         -60
        ],
        [
         "ATL_ORD",
         -60
        ],
        [
         "ATL_LFT",
         -60
        ]
       ],
       "datasetInfos": [],
       "dbfsResultPath": null,
       "isJsonSchema": true,
       "metadata": {},
       "overflow": false,
       "plotOptions": {
        "customPlotOptions": {},
        "displayType": "table",
        "pivotAggregation": null,
        "pivotColumns": null,
        "xColumns": null,
        "yColumns": null
       },
       "removedWidgets": [],
       "schema": [
        {
         "metadata": "{}",
         "name": "ROUTE",
         "type": "\"string\""
        },
        {
         "metadata": "{}",
         "name": "DIFF_MINUTES",
         "type": "\"long\""
        }
       ],
       "type": "table"
      }
     },
     "output_type": "display_data"
    }
   ],
   "source": [
    "mismatches = df_check.filter(col(\"DIFF_MINUTES\") != 0)\n",
    "mismatches.select(\"ROUTE\", \"DIFF_MINUTES\").limit(10).display()"
   ]
  },
  {
   "cell_type": "markdown",
   "metadata": {
    "application/vnd.databricks.v1+cell": {
     "cellMetadata": {},
     "inputWidgets": {},
     "nuid": "8557ae0a-aa29-417f-8202-5f993f0de562",
     "showTitle": false,
     "tableResultSettingsMap": {},
     "title": ""
    }
   },
   "source": [
    "ABQ_MCI\n",
    "( Albuquerque International Sunport - Kansas City International Airport )\n",
    "<br>\n",
    "Time Zone Difference: +1 (= 60 minutes)\n",
    "\n",
    "ABQ_DAL\n",
    "( Albuquerque International Sunport - Dallas Love Field )\n",
    "<br>\n",
    "Time Zone Difference: +1 (= 60 minutes)\n",
    "\n",
    "ABQ_LAX\n",
    "( Albuquerque International Sunport - Los Angeles International Airport )\n",
    "<br>\n",
    "Time Zone Difference: -1 (= -60 minutes)\n",
    "\n",
    "<br>\n",
    "This discrepancie is due to time zone differences, it isn't an incoherence in our dataset."
   ]
  },
  {
   "cell_type": "markdown",
   "metadata": {
    "application/vnd.databricks.v1+cell": {
     "cellMetadata": {},
     "inputWidgets": {},
     "nuid": "aca94f30-2849-427d-b642-33be56883c5d",
     "showTitle": false,
     "tableResultSettingsMap": {},
     "title": ""
    }
   },
   "source": [
    "### Negative delays"
   ]
  },
  {
   "cell_type": "code",
   "execution_count": 0,
   "metadata": {
    "application/vnd.databricks.v1+cell": {
     "cellMetadata": {
      "byteLimit": 2048000,
      "rowLimit": 10000
     },
     "inputWidgets": {},
     "nuid": "0cedd56e-b93e-4089-bcd4-fa1ed9c7c3fa",
     "showTitle": false,
     "tableResultSettingsMap": {},
     "title": ""
    }
   },
   "outputs": [
    {
     "output_type": "display_data",
     "data": {
      "text/html": [
       "<style scoped>\n",
       "  .table-result-container {\n",
       "    max-height: 300px;\n",
       "    overflow: auto;\n",
       "  }\n",
       "  table, th, td {\n",
       "    border: 1px solid black;\n",
       "    border-collapse: collapse;\n",
       "  }\n",
       "  th, td {\n",
       "    padding: 5px;\n",
       "  }\n",
       "  th {\n",
       "    text-align: left;\n",
       "  }\n",
       "</style><div class='table-result-container'><table class='table-result'><thead style='background-color: white'><tr><th>DEPARTURE_DELAY</th><th>SCHEDULED_DEPARTURE_min</th><th>DEPARTURE_TIME_min</th></tr></thead><tbody><tr><td>-29</td><td>490</td><td>461</td></tr><tr><td>-25</td><td>1052</td><td>1027</td></tr><tr><td>-24</td><td>486</td><td>462</td></tr><tr><td>-21</td><td>158</td><td>137</td></tr><tr><td>-21</td><td>1385</td><td>1364</td></tr><tr><td>-21</td><td>1026</td><td>1005</td></tr><tr><td>-17</td><td>1219</td><td>1202</td></tr><tr><td>-16</td><td>1425</td><td>1409</td></tr><tr><td>-16</td><td>420</td><td>404</td></tr><tr><td>-15</td><td>440</td><td>425</td></tr></tbody></table></div>"
      ]
     },
     "metadata": {
      "application/vnd.databricks.v1+output": {
       "addedWidgets": {},
       "aggData": [],
       "aggError": "",
       "aggOverflow": false,
       "aggSchema": [],
       "aggSeriesLimitReached": false,
       "aggType": "",
       "arguments": {},
       "columnCustomDisplayInfos": {},
       "data": [
        [
         -29,
         490,
         461
        ],
        [
         -25,
         1052,
         1027
        ],
        [
         -24,
         486,
         462
        ],
        [
         -21,
         158,
         137
        ],
        [
         -21,
         1385,
         1364
        ],
        [
         -21,
         1026,
         1005
        ],
        [
         -17,
         1219,
         1202
        ],
        [
         -16,
         1425,
         1409
        ],
        [
         -16,
         420,
         404
        ],
        [
         -15,
         440,
         425
        ]
       ],
       "datasetInfos": [],
       "dbfsResultPath": null,
       "isJsonSchema": true,
       "metadata": {},
       "overflow": false,
       "plotOptions": {
        "customPlotOptions": {},
        "displayType": "table",
        "pivotAggregation": null,
        "pivotColumns": null,
        "xColumns": null,
        "yColumns": null
       },
       "removedWidgets": [],
       "schema": [
        {
         "metadata": "{}",
         "name": "DEPARTURE_DELAY",
         "type": "\"integer\""
        },
        {
         "metadata": "{}",
         "name": "SCHEDULED_DEPARTURE_min",
         "type": "\"long\""
        },
        {
         "metadata": "{}",
         "name": "DEPARTURE_TIME_min",
         "type": "\"long\""
        }
       ],
       "type": "table"
      }
     },
     "output_type": "display_data"
    },
    {
     "output_type": "stream",
     "name": "stdout",
     "output_type": "stream",
     "text": [
      "Number of rows with DEPARTURE_DELAY < -10: 98\n"
     ]
    }
   ],
   "source": [
    "#rows in which departure delay is negative, the flights departure before their scheduled time\n",
    "cleaned_train_df \\\n",
    "    .filter(col(\"DEPARTURE_DELAY\") < 0) \\\n",
    "    .select(\"DEPARTURE_DELAY\", \"SCHEDULED_DEPARTURE_min\",\"DEPARTURE_TIME_min\") \\\n",
    "    .distinct() \\\n",
    "    .orderBy(\"DEPARTURE_DELAY\") \\\n",
    "    .limit(10) \\\n",
    "    .display()\n",
    "\n",
    "count = cleaned_train_df.filter(col(\"DEPARTURE_DELAY\") < -10).count()\n",
    "\n",
    "print(f\"Number of rows with DEPARTURE_DELAY < -10: {count}\") #since it is a small number of rows in comparison with the total number of rows, we will cap all values above -10 to this value"
   ]
  },
  {
   "cell_type": "code",
   "execution_count": 0,
   "metadata": {
    "application/vnd.databricks.v1+cell": {
     "cellMetadata": {
      "byteLimit": 2048000,
      "rowLimit": 10000
     },
     "inputWidgets": {},
     "nuid": "079b09c5-5dbf-4bfb-b900-0a67bc0940b8",
     "showTitle": false,
     "tableResultSettingsMap": {},
     "title": ""
    }
   },
   "outputs": [],
   "source": [
    "cleaned_train_df = cleaned_train_df.filter(col(\"DEPARTURE_DELAY\") >= -10)\n",
    "cleaned_val_df = cleaned_val_df.filter(col(\"DEPARTURE_DELAY\") >= -10)\n",
    "cleaned_test_df = cleaned_test_df.filter(col(\"DEPARTURE_DELAY\") >= -10)"
   ]
  },
  {
   "cell_type": "markdown",
   "metadata": {
    "application/vnd.databricks.v1+cell": {
     "cellMetadata": {},
     "inputWidgets": {},
     "nuid": "21089cbf-7865-4f3d-93aa-9613fa060ded",
     "showTitle": false,
     "tableResultSettingsMap": {},
     "title": ""
    }
   },
   "source": [
    "## 2.10.6 Delays"
   ]
  },
  {
   "cell_type": "code",
   "execution_count": 0,
   "metadata": {
    "application/vnd.databricks.v1+cell": {
     "cellMetadata": {},
     "inputWidgets": {},
     "nuid": "5ebea9b4-efc4-4659-8c04-c3c5fcab6360",
     "showTitle": false,
     "tableResultSettingsMap": {},
     "title": ""
    }
   },
   "outputs": [],
   "source": [
    "#check if there are no delays then the scheduled arrival is equal to the arrival time\n",
    "cleaned_train_df.filter(\n",
    "    (cleaned_train_df.AIR_SYSTEM_DELAY == 0) &\n",
    "    (cleaned_train_df.SECURITY_DELAY == 0) &\n",
    "    (cleaned_train_df.AIRLINE_DELAY == 0) &\n",
    "    (cleaned_train_df.LATE_AIRCRAFT_DELAY == 0) &\n",
    "    (cleaned_train_df.WEATHER_DELAY == 0) &\n",
    "    ((cleaned_train_df.SCHEDULED_ARRIVAL != cleaned_train_df.ARRIVAL_TIME) | (cleaned_train_df.SCHEDULED_DEPARTURE != cleaned_train_df.DEPARTURE_TIME))\n",
    ").limit(10).display()\n",
    "# 0 rows, no incoherence"
   ]
  },
  {
   "cell_type": "markdown",
   "metadata": {
    "application/vnd.databricks.v1+cell": {
     "cellMetadata": {},
     "inputWidgets": {},
     "nuid": "b04f1c22-3df3-44e7-996d-1bf3da1316d4",
     "showTitle": false,
     "tableResultSettingsMap": {},
     "title": ""
    }
   },
   "source": [
    "# 2.11 Drop Features and Feature Treatment"
   ]
  },
  {
   "cell_type": "markdown",
   "metadata": {
    "application/vnd.databricks.v1+cell": {
     "cellMetadata": {},
     "inputWidgets": {},
     "nuid": "c34e61b3-92ac-4ceb-a22e-4455dc6d6b06",
     "showTitle": false,
     "tableResultSettingsMap": {},
     "title": ""
    }
   },
   "source": [
    "\n",
    "We aim to predict **ARRIVAL_DELAY** for flights after departure has already occurred. This means that we can safely use any features that become available after the flight takes off.\n",
    "\n",
    "However, to avoid data leakage, we must still exclude variables that contain or imply the final arrival delay itself, or any information that can only be known after landing.\n",
    "\n",
    "---\n",
    "\n",
    "## Features to Exclude (Post Arrival Information or Leakage Risk)\n",
    "\n",
    "| Feature                | Reason for Exclusion                                                                 |\n",
    "|------------------------|---------------------------------------------------------------------------------------|\n",
    "| ARRIVAL_TIME         | Actual arrival time — directly reveals the target.                                   |\n",
    "| TAXI_IN              | Time spent taxiing after landing — only known after arrival.                         |\n",
    "| WHEELS_ON            | Time the aircraft touched the runway — post-flight metric.                           |\n",
    "| ELAPSED_TIME         | Total actual time of flight — includes arrival info.                                 |\n",
    "| CANCELLED            | Indicates flight didn’t operate — not relevant when flight has already departed.     |\n",
    "| DIVERTED             | Only known after the flight ends — may distort predictions if included.              |\n",
    "| AIR_TIME             | Only known after the flight ends — reflects the actual flying duration from WHEELS_OFF to WHEELS_ON             |\n",
    "\n",
    "We do not exclude ARRIVAL_DELAY, TOTAL_KNOWN_DELAY, AIR_SYSTEM_DELAY, SECURITY_DELAY, AIRLINE_DELAY, LATE_AIRCRAFT_DELAY and WEATHER_DELAY because these features are going to be used later on to define target variables."
   ]
  },
  {
   "cell_type": "code",
   "execution_count": 0,
   "metadata": {
    "application/vnd.databricks.v1+cell": {
     "cellMetadata": {
      "byteLimit": 2048000,
      "rowLimit": 10000
     },
     "inputWidgets": {},
     "nuid": "cd6fa69f-33b0-4b04-96b7-96a1fec5a4c9",
     "showTitle": false,
     "tableResultSettingsMap": {},
     "title": ""
    }
   },
   "outputs": [
    {
     "output_type": "stream",
     "name": "stdout",
     "output_type": "stream",
     "text": [
      "Out[113]: ['DESTINATION_AIRPORT',\n 'ORIGIN_AIRPORT',\n 'ROUTE',\n 'DESTINATION_AIRPORT_CLEAN',\n 'ORIGIN_AIRPORT_CLEAN',\n 'AIRLINE',\n 'TAIL_NUMBER',\n 'FLIGHT_NUMBER',\n 'index',\n 'YEAR',\n 'MONTH',\n 'DAY',\n 'DAY_OF_WEEK',\n 'SCHEDULED_DEPARTURE',\n 'DEPARTURE_TIME',\n 'DEPARTURE_DELAY',\n 'TAXI_OUT',\n 'WHEELS_OFF',\n 'SCHEDULED_TIME',\n 'ELAPSED_TIME',\n 'AIR_TIME',\n 'DISTANCE',\n 'WHEELS_ON',\n 'TAXI_IN',\n 'SCHEDULED_ARRIVAL',\n 'ARRIVAL_TIME',\n 'ARRIVAL_DELAY',\n 'DIVERTED',\n 'CANCELLED',\n 'AIR_SYSTEM_DELAY',\n 'SECURITY_DELAY',\n 'AIRLINE_DELAY',\n 'LATE_AIRCRAFT_DELAY',\n 'WEATHER_DELAY',\n 'SEASON',\n 'SCHEDULED_DEPARTURE_PERIOD',\n 'IS_WEEKEND',\n 'DELAYED_DEPARTURE_FLAG',\n 'TOTAL_KNOWN_DELAY',\n 'SCHEDULED_DEPARTURE_min',\n 'SCHEDULED_ARRIVAL_min',\n 'DEPARTURE_TIME_min',\n 'WHEELS_OFF_min',\n 'ARRIVAL_TIME_min',\n 'SEASON_index',\n 'SCHEDULED_DEPARTURE_PERIOD_index',\n 'SEASON_vec',\n 'SCHEDULED_DEPARTURE_PERIOD_vec',\n 'FLIGHT_NUMBER_freq',\n 'TAIL_NUMBER_freq',\n 'AIRLINE_freq',\n 'ORIGIN_AIRPORT_CLEAN_freq',\n 'DESTINATION_AIRPORT_CLEAN_freq',\n 'ROUTE_freq']"
     ]
    }
   ],
   "source": [
    "cleaned_train_df.columns"
   ]
  },
  {
   "cell_type": "code",
   "execution_count": 0,
   "metadata": {
    "application/vnd.databricks.v1+cell": {
     "cellMetadata": {
      "byteLimit": 2048000,
      "rowLimit": 10000
     },
     "inputWidgets": {},
     "nuid": "370949da-c124-4b3c-836c-466b882c4e3c",
     "showTitle": false,
     "tableResultSettingsMap": {},
     "title": ""
    }
   },
   "outputs": [],
   "source": [
    "# List of columns to drop\n",
    "cols_to_drop = [\n",
    "    \"ARRIVAL_TIME\",\n",
    "    \"TAXI_IN\",\n",
    "    \"WHEELS_ON\",\n",
    "    \"ELAPSED_TIME\",\n",
    "    \"CANCELLED\",\n",
    "    \"DIVERTED\",\n",
    "    \"AIR_TIME\"]\n",
    "\n",
    "# Drop from DataFrames\n",
    "cleaned_train_df = cleaned_train_df.drop(*cols_to_drop)\n",
    "cleaned_val_df = cleaned_val_df.drop(*cols_to_drop)\n",
    "cleaned_test_df = cleaned_test_df.drop(*cols_to_drop)"
   ]
  },
  {
   "cell_type": "code",
   "execution_count": 0,
   "metadata": {
    "application/vnd.databricks.v1+cell": {
     "cellMetadata": {
      "byteLimit": 2048000,
      "rowLimit": 10000
     },
     "inputWidgets": {},
     "nuid": "792bd95a-daae-41e4-a1fb-3def29a58344",
     "showTitle": false,
     "tableResultSettingsMap": {},
     "title": ""
    }
   },
   "outputs": [
    {
     "output_type": "stream",
     "name": "stdout",
     "output_type": "stream",
     "text": [
      "Out[115]: ['SEASON_index',\n 'SCHEDULED_DEPARTURE_PERIOD_index',\n 'TAIL_NUMBER',\n 'ORIGIN_AIRPORT',\n 'DESTINATION_AIRPORT',\n 'SCHEDULED_DEPARTURE',\n 'SCHEDULED_ARRIVAL',\n 'DEPARTURE_TIME',\n 'WHEELS_OFF']"
     ]
    }
   ],
   "source": [
    "# Define columns to drop\n",
    "cols_to_drop = [\n",
    "    # 'YEAR',\n",
    "    # 'MONTH',\n",
    "    # 'DAY',\n",
    "    'SEASON_index',\n",
    "    'SCHEDULED_DEPARTURE_PERIOD_index',\n",
    "    'TAIL_NUMBER', \n",
    "    'ORIGIN_AIRPORT', # wrong one\n",
    "    'DESTINATION_AIRPORT', # wrong one\n",
    "    \"SCHEDULED_DEPARTURE\", # HHMM\n",
    "    \"SCHEDULED_ARRIVAL\", # HHMM\n",
    "    \"DEPARTURE_TIME\", # HHMM\n",
    "    \"WHEELS_OFF\" # HHMM\n",
    "]\n",
    "\n",
    "# Drop from DataFrames\n",
    "cleaned_train_df = cleaned_train_df.drop(*cols_to_drop)\n",
    "cleaned_val_df = cleaned_val_df.drop(*cols_to_drop)\n",
    "cleaned_test_df = cleaned_test_df.drop(*cols_to_drop)\n",
    "\n",
    "cols_to_drop"
   ]
  },
  {
   "cell_type": "markdown",
   "metadata": {
    "application/vnd.databricks.v1+cell": {
     "cellMetadata": {},
     "inputWidgets": {},
     "nuid": "c332b9c0-7a5d-418e-9baa-db3f08486fc5",
     "showTitle": false,
     "tableResultSettingsMap": {},
     "title": ""
    }
   },
   "source": [
    "# 2.12 Rename Columns"
   ]
  },
  {
   "cell_type": "code",
   "execution_count": 0,
   "metadata": {
    "application/vnd.databricks.v1+cell": {
     "cellMetadata": {
      "byteLimit": 2048000,
      "rowLimit": 10000
     },
     "inputWidgets": {},
     "nuid": "dc16b6b3-2448-4399-ae11-078b260913c4",
     "showTitle": false,
     "tableResultSettingsMap": {},
     "title": ""
    }
   },
   "outputs": [],
   "source": [
    "# Rename columns for clarity\n",
    "cleaned_train_df = cleaned_train_df.withColumnRenamed(\"ORIGIN_AIRPORT_CLEAN_freq\", \"ORIGIN_AIRPORT_freq\")\n",
    "cleaned_train_df = cleaned_train_df.withColumnRenamed(\"DESTINATION_AIRPORT_CLEAN_freq\", \"DESTINATION_AIRPORT_freq\")\n",
    "cleaned_val_df = cleaned_val_df.withColumnRenamed(\"ORIGIN_AIRPORT_CLEAN_freq\", \"ORIGIN_AIRPORT_freq\")\n",
    "cleaned_val_df = cleaned_val_df.withColumnRenamed(\"DESTINATION_AIRPORT_CLEAN_freq\", \"DESTINATION_AIRPORT_freq\")\n",
    "cleaned_test_df = cleaned_test_df.withColumnRenamed(\"ORIGIN_AIRPORT_CLEAN_freq\", \"ORIGIN_AIRPORT_freq\")\n",
    "cleaned_test_df = cleaned_test_df.withColumnRenamed(\"DESTINATION_AIRPORT_CLEAN_freq\", \"DESTINATION_AIRPORT_freq\")"
   ]
  },
  {
   "cell_type": "code",
   "execution_count": 0,
   "metadata": {
    "application/vnd.databricks.v1+cell": {
     "cellMetadata": {
      "byteLimit": 2048000,
      "rowLimit": 10000
     },
     "inputWidgets": {},
     "nuid": "f178bfa9-9b43-4bb3-ae96-2ac3fcdbe551",
     "showTitle": false,
     "tableResultSettingsMap": {},
     "title": ""
    }
   },
   "outputs": [],
   "source": [
    "cleaned_train_df = cleaned_train_df.withColumnRenamed(\"ORIGIN_AIRPORT_CLEAN\", \"ORIGIN_AIRPORT\")\n",
    "cleaned_train_df = cleaned_train_df.withColumnRenamed(\"DESTINATION_AIRPORT_CLEAN\", \"DESTINATION_AIRPORT\")\n",
    "cleaned_val_df = cleaned_val_df.withColumnRenamed(\"ORIGIN_AIRPORT_CLEAN\", \"ORIGIN_AIRPORT\")\n",
    "cleaned_val_df = cleaned_val_df.withColumnRenamed(\"DESTINATION_AIRPORT_CLEAN\", \"DESTINATION_AIRPORT\")\n",
    "cleaned_test_df = cleaned_test_df.withColumnRenamed(\"ORIGIN_AIRPORT_CLEAN\", \"ORIGIN_AIRPORT\")\n",
    "cleaned_test_df = cleaned_test_df.withColumnRenamed(\"DESTINATION_AIRPORT_CLEAN\", \"DESTINATION_AIRPORT\")"
   ]
  },
  {
   "cell_type": "markdown",
   "metadata": {
    "application/vnd.databricks.v1+cell": {
     "cellMetadata": {},
     "inputWidgets": {},
     "nuid": "a824972c-0c56-4de3-8101-998ecc166942",
     "showTitle": false,
     "tableResultSettingsMap": {},
     "title": ""
    }
   },
   "source": [
    "# 2.13 Export Dataframe"
   ]
  },
  {
   "cell_type": "code",
   "execution_count": 0,
   "metadata": {
    "application/vnd.databricks.v1+cell": {
     "cellMetadata": {
      "byteLimit": 2048000,
      "rowLimit": 10000
     },
     "inputWidgets": {},
     "nuid": "18e5c8a3-3f63-4383-a14b-26868beba65b",
     "showTitle": false,
     "tableResultSettingsMap": {},
     "title": ""
    }
   },
   "outputs": [],
   "source": [
    "# Export train DataFrame as a Delta table\n",
    "cleaned_train_df.write.mode(\"overwrite\") \\\n",
    "    .option(\"overwriteSchema\", \"true\") \\\n",
    "    .format(\"delta\") \\\n",
    "    .save(\"/dbfs/FileStore/tables/train_df\")\n",
    "\n",
    "# Export val DataFrame as a Delta tablecleaned_\n",
    "cleaned_val_df.write.mode(\"overwrite\") \\\n",
    "    .option(\"overwriteSchema\", \"true\") \\\n",
    "    .format(\"delta\") \\\n",
    "    .save(\"/dbfs/FileStore/tables/val_df\")\n",
    "\n",
    "# Export test DataFrame as a Delta tablecleaned_\n",
    "cleaned_test_df.write.mode(\"overwrite\") \\\n",
    "    .option(\"overwriteSchema\", \"true\") \\\n",
    "    .format(\"delta\") \\\n",
    "    .save(\"/dbfs/FileStore/tables/test_df\")\n"
   ]
  },
  {
   "cell_type": "code",
   "execution_count": 0,
   "metadata": {
    "application/vnd.databricks.v1+cell": {
     "cellMetadata": {
      "byteLimit": 2048000,
      "rowLimit": 10000
     },
     "inputWidgets": {},
     "nuid": "1bd10f61-39e5-4684-9229-175c0cbd46f1",
     "showTitle": false,
     "tableResultSettingsMap": {},
     "title": ""
    }
   },
   "outputs": [
    {
     "output_type": "display_data",
     "data": {
      "text/html": [
       "<style scoped>\n",
       "  .table-result-container {\n",
       "    max-height: 300px;\n",
       "    overflow: auto;\n",
       "  }\n",
       "  table, th, td {\n",
       "    border: 1px solid black;\n",
       "    border-collapse: collapse;\n",
       "  }\n",
       "  th, td {\n",
       "    padding: 5px;\n",
       "  }\n",
       "  th {\n",
       "    text-align: left;\n",
       "  }\n",
       "</style><div class='table-result-container'><table class='table-result'><thead style='background-color: white'><tr><th>ROUTE</th><th>DESTINATION_AIRPORT</th><th>ORIGIN_AIRPORT</th><th>AIRLINE</th><th>FLIGHT_NUMBER</th><th>index</th><th>YEAR</th><th>MONTH</th><th>DAY</th><th>DAY_OF_WEEK</th><th>DEPARTURE_DELAY</th><th>TAXI_OUT</th><th>SCHEDULED_TIME</th><th>DISTANCE</th><th>ARRIVAL_DELAY</th><th>AIR_SYSTEM_DELAY</th><th>SECURITY_DELAY</th><th>AIRLINE_DELAY</th><th>LATE_AIRCRAFT_DELAY</th><th>WEATHER_DELAY</th><th>SEASON</th><th>SCHEDULED_DEPARTURE_PERIOD</th><th>IS_WEEKEND</th><th>DELAYED_DEPARTURE_FLAG</th><th>TOTAL_KNOWN_DELAY</th><th>SCHEDULED_DEPARTURE_min</th><th>SCHEDULED_ARRIVAL_min</th><th>DEPARTURE_TIME_min</th><th>WHEELS_OFF_min</th><th>ARRIVAL_TIME_min</th><th>SEASON_vec</th><th>SCHEDULED_DEPARTURE_PERIOD_vec</th><th>FLIGHT_NUMBER_freq</th><th>TAIL_NUMBER_freq</th><th>AIRLINE_freq</th><th>ORIGIN_AIRPORT_freq</th><th>DESTINATION_AIRPORT_freq</th><th>ROUTE_freq</th></tr></thead><tbody><tr><td>ACY_FLL</td><td>FLL</td><td>ACY</td><td>NK</td><td>235</td><td>1</td><td>2015</td><td>1</td><td>1</td><td>4</td><td>89</td><td>9</td><td>165</td><td>977.0</td><td>86</td><td>86</td><td>0</td><td>0</td><td>0</td><td>0</td><td>Winter</td><td>Midday</td><td>0</td><td>1</td><td>86</td><td>755</td><td>920</td><td>844</td><td>853</td><td>1006</td><td>Map(vectorType -> sparse, length -> 4, indices -> List(1), values -> List(1.0))</td><td>Map(vectorType -> sparse, length -> 7, indices -> List(3), values -> List(1.0))</td><td>3.2E-4</td><td>3.47E-4</td><td>0.031523</td><td>7.47E-4</td><td>0.016228</td><td>1.07E-4</td></tr><tr><td>ANC_ORD</td><td>ORD</td><td>ANC</td><td>UA</td><td>1562</td><td>2</td><td>2015</td><td>1</td><td>1</td><td>4</td><td>39</td><td>23</td><td>357</td><td>2419.0</td><td>21</td><td>0</td><td>0</td><td>18</td><td>3</td><td>0</td><td>Winter</td><td>Evening</td><td>0</td><td>1</td><td>21</td><td>1223</td><td>320</td><td>1262</td><td>1285</td><td>341</td><td>Map(vectorType -> sparse, length -> 4, indices -> List(1), values -> List(1.0))</td><td>Map(vectorType -> sparse, length -> 7, indices -> List(1), values -> List(1.0))</td><td>2.94E-4</td><td>2.14E-4</td><td>0.097264</td><td>0.001975</td><td>0.057547</td><td>3.47E-4</td></tr><tr><td>ATL_TPA</td><td>TPA</td><td>ATL</td><td>DL</td><td>1491</td><td>3</td><td>2015</td><td>1</td><td>1</td><td>4</td><td>49</td><td>16</td><td>85</td><td>406.0</td><td>43</td><td>0</td><td>0</td><td>0</td><td>43</td><td>0</td><td>Winter</td><td>Evening</td><td>0</td><td>1</td><td>43</td><td>1085</td><td>1170</td><td>1134</td><td>1150</td><td>1213</td><td>Map(vectorType -> sparse, length -> 4, indices -> List(1), values -> List(1.0))</td><td>Map(vectorType -> sparse, length -> 7, indices -> List(1), values -> List(1.0))</td><td>3.74E-4</td><td>1.07E-4</td><td>0.109462</td><td>0.054451</td><td>0.011744</td><td>0.001201</td></tr><tr><td>BOS_DTW</td><td>DTW</td><td>BOS</td><td>B6</td><td>1837</td><td>4</td><td>2015</td><td>1</td><td>1</td><td>4</td><td>9</td><td>24</td><td>137</td><td>632.0</td><td>25</td><td>16</td><td>9</td><td>0</td><td>0</td><td>0</td><td>Winter</td><td>Evening</td><td>0</td><td>0</td><td>25</td><td>1195</td><td>1332</td><td>1204</td><td>1228</td><td>1357</td><td>Map(vectorType -> sparse, length -> 4, indices -> List(1), values -> List(1.0))</td><td>Map(vectorType -> sparse, length -> 7, indices -> List(1), values -> List(1.0))</td><td>1.87E-4</td><td>3.74E-4</td><td>0.055412</td><td>0.020259</td><td>0.017937</td><td>6.14E-4</td></tr><tr><td>BOS_JFK</td><td>JFK</td><td>BOS</td><td>AA</td><td>1096</td><td>5</td><td>2015</td><td>1</td><td>1</td><td>4</td><td>38</td><td>14</td><td>90</td><td>187.0</td><td>26</td><td>0</td><td>0</td><td>2</td><td>24</td><td>0</td><td>Winter</td><td>Afternoon</td><td>0</td><td>1</td><td>26</td><td>1065</td><td>1155</td><td>1103</td><td>1117</td><td>1181</td><td>Map(vectorType -> sparse, length -> 4, indices -> List(1), values -> List(1.0))</td><td>Map(vectorType -> sparse, length -> 7, indices -> List(0), values -> List(1.0))</td><td>2.67E-4</td><td>2.67E-4</td><td>0.122488</td><td>0.020259</td><td>0.02106</td><td>0.001281</td></tr><tr><td>BOS_MCO</td><td>MCO</td><td>BOS</td><td>B6</td><td>951</td><td>6</td><td>2015</td><td>1</td><td>1</td><td>4</td><td>73</td><td>23</td><td>206</td><td>1121.0</td><td>59</td><td>0</td><td>0</td><td>55</td><td>4</td><td>0</td><td>Winter</td><td>Afternoon</td><td>0</td><td>1</td><td>59</td><td>953</td><td>1159</td><td>1026</td><td>1049</td><td>1218</td><td>Map(vectorType -> sparse, length -> 4, indices -> List(1), values -> List(1.0))</td><td>Map(vectorType -> sparse, length -> 7, indices -> List(0), values -> List(1.0))</td><td>2.4E-4</td><td>1.87E-4</td><td>0.055412</td><td>0.020259</td><td>0.022821</td><td>5.07E-4</td></tr><tr><td>BOS_MIA</td><td>MIA</td><td>BOS</td><td>AA</td><td>1533</td><td>7</td><td>2015</td><td>1</td><td>1</td><td>4</td><td>68</td><td>15</td><td>215</td><td>1258.0</td><td>53</td><td>0</td><td>0</td><td>0</td><td>53</td><td>0</td><td>Winter</td><td>Afternoon</td><td>0</td><td>1</td><td>53</td><td>1025</td><td>1240</td><td>1093</td><td>1108</td><td>1293</td><td>Map(vectorType -> sparse, length -> 4, indices -> List(1), values -> List(1.0))</td><td>Map(vectorType -> sparse, length -> 7, indices -> List(0), values -> List(1.0))</td><td>1.6E-4</td><td>5.3E-5</td><td>0.122488</td><td>0.020259</td><td>0.013746</td><td>3.47E-4</td></tr><tr><td>BWI_JAX</td><td>JAX</td><td>BWI</td><td>WN</td><td>125</td><td>8</td><td>2015</td><td>1</td><td>1</td><td>4</td><td>35</td><td>19</td><td>125</td><td>663.0</td><td>37</td><td>2</td><td>0</td><td>35</td><td>0</td><td>0</td><td>Winter</td><td>Evening</td><td>0</td><td>1</td><td>37</td><td>1220</td><td>1345</td><td>1255</td><td>1274</td><td>1382</td><td>Map(vectorType -> sparse, length -> 4, indices -> List(1), values -> List(1.0))</td><td>Map(vectorType -> sparse, length -> 7, indices -> List(1), values -> List(1.0))</td><td>3.47E-4</td><td>4.0E-4</td><td>0.224236</td><td>0.020099</td><td>0.00395</td><td>3.74E-4</td></tr><tr><td>BWI_SAN</td><td>SAN</td><td>BWI</td><td>WN</td><td>1129</td><td>9</td><td>2015</td><td>1</td><td>1</td><td>4</td><td>5</td><td>10</td><td>355</td><td>2295.0</td><td>17</td><td>17</td><td>0</td><td>0</td><td>0</td><td>0</td><td>Winter</td><td>Evening</td><td>0</td><td>0</td><td>17</td><td>1095</td><td>1270</td><td>1100</td><td>1110</td><td>1287</td><td>Map(vectorType -> sparse, length -> 4, indices -> List(1), values -> List(1.0))</td><td>Map(vectorType -> sparse, length -> 7, indices -> List(1), values -> List(1.0))</td><td>3.47E-4</td><td>2.67E-4</td><td>0.224236</td><td>0.020099</td><td>0.013693</td><td>1.6E-4</td></tr><tr><td>BWI_SAT</td><td>SAT</td><td>BWI</td><td>WN</td><td>623</td><td>10</td><td>2015</td><td>1</td><td>1</td><td>4</td><td>95</td><td>20</td><td>240</td><td>1407.0</td><td>102</td><td>7</td><td>0</td><td>95</td><td>0</td><td>0</td><td>Winter</td><td>Evening</td><td>0</td><td>1</td><td>102</td><td>1235</td><td>1415</td><td>1330</td><td>1350</td><td>77</td><td>Map(vectorType -> sparse, length -> 4, indices -> List(1), values -> List(1.0))</td><td>Map(vectorType -> sparse, length -> 7, indices -> List(1), values -> List(1.0))</td><td>4.54E-4</td><td>4.0E-4</td><td>0.224236</td><td>0.020099</td><td>0.006833</td><td>2.4E-4</td></tr></tbody></table></div>"
      ]
     },
     "metadata": {
      "application/vnd.databricks.v1+output": {
       "addedWidgets": {},
       "aggData": [],
       "aggError": "",
       "aggOverflow": false,
       "aggSchema": [],
       "aggSeriesLimitReached": false,
       "aggType": "",
       "arguments": {},
       "columnCustomDisplayInfos": {},
       "data": [
        [
         "ACY_FLL",
         "FLL",
         "ACY",
         "NK",
         235,
         1,
         2015,
         1,
         1,
         4,
         89,
         9,
         165,
         977.0,
         86,
         86,
         0,
         0,
         0,
         0,
         "Winter",
         "Midday",
         0,
         1,
         86,
         755,
         920,
         844,
         853,
         1006,
         {
          "indices": [
           1
          ],
          "length": 4,
          "values": [
           1.0
          ],
          "vectorType": "sparse"
         },
         {
          "indices": [
           3
          ],
          "length": 7,
          "values": [
           1.0
          ],
          "vectorType": "sparse"
         },
         3.2E-4,
         3.47E-4,
         0.031523,
         7.47E-4,
         0.016228,
         1.07E-4
        ],
        [
         "ANC_ORD",
         "ORD",
         "ANC",
         "UA",
         1562,
         2,
         2015,
         1,
         1,
         4,
         39,
         23,
         357,
         2419.0,
         21,
         0,
         0,
         18,
         3,
         0,
         "Winter",
         "Evening",
         0,
         1,
         21,
         1223,
         320,
         1262,
         1285,
         341,
         {
          "indices": [
           1
          ],
          "length": 4,
          "values": [
           1.0
          ],
          "vectorType": "sparse"
         },
         {
          "indices": [
           1
          ],
          "length": 7,
          "values": [
           1.0
          ],
          "vectorType": "sparse"
         },
         2.94E-4,
         2.14E-4,
         0.097264,
         0.001975,
         0.057547,
         3.47E-4
        ],
        [
         "ATL_TPA",
         "TPA",
         "ATL",
         "DL",
         1491,
         3,
         2015,
         1,
         1,
         4,
         49,
         16,
         85,
         406.0,
         43,
         0,
         0,
         0,
         43,
         0,
         "Winter",
         "Evening",
         0,
         1,
         43,
         1085,
         1170,
         1134,
         1150,
         1213,
         {
          "indices": [
           1
          ],
          "length": 4,
          "values": [
           1.0
          ],
          "vectorType": "sparse"
         },
         {
          "indices": [
           1
          ],
          "length": 7,
          "values": [
           1.0
          ],
          "vectorType": "sparse"
         },
         3.74E-4,
         1.07E-4,
         0.109462,
         0.054451,
         0.011744,
         0.001201
        ],
        [
         "BOS_DTW",
         "DTW",
         "BOS",
         "B6",
         1837,
         4,
         2015,
         1,
         1,
         4,
         9,
         24,
         137,
         632.0,
         25,
         16,
         9,
         0,
         0,
         0,
         "Winter",
         "Evening",
         0,
         0,
         25,
         1195,
         1332,
         1204,
         1228,
         1357,
         {
          "indices": [
           1
          ],
          "length": 4,
          "values": [
           1.0
          ],
          "vectorType": "sparse"
         },
         {
          "indices": [
           1
          ],
          "length": 7,
          "values": [
           1.0
          ],
          "vectorType": "sparse"
         },
         1.87E-4,
         3.74E-4,
         0.055412,
         0.020259,
         0.017937,
         6.14E-4
        ],
        [
         "BOS_JFK",
         "JFK",
         "BOS",
         "AA",
         1096,
         5,
         2015,
         1,
         1,
         4,
         38,
         14,
         90,
         187.0,
         26,
         0,
         0,
         2,
         24,
         0,
         "Winter",
         "Afternoon",
         0,
         1,
         26,
         1065,
         1155,
         1103,
         1117,
         1181,
         {
          "indices": [
           1
          ],
          "length": 4,
          "values": [
           1.0
          ],
          "vectorType": "sparse"
         },
         {
          "indices": [
           0
          ],
          "length": 7,
          "values": [
           1.0
          ],
          "vectorType": "sparse"
         },
         2.67E-4,
         2.67E-4,
         0.122488,
         0.020259,
         0.02106,
         0.001281
        ],
        [
         "BOS_MCO",
         "MCO",
         "BOS",
         "B6",
         951,
         6,
         2015,
         1,
         1,
         4,
         73,
         23,
         206,
         1121.0,
         59,
         0,
         0,
         55,
         4,
         0,
         "Winter",
         "Afternoon",
         0,
         1,
         59,
         953,
         1159,
         1026,
         1049,
         1218,
         {
          "indices": [
           1
          ],
          "length": 4,
          "values": [
           1.0
          ],
          "vectorType": "sparse"
         },
         {
          "indices": [
           0
          ],
          "length": 7,
          "values": [
           1.0
          ],
          "vectorType": "sparse"
         },
         2.4E-4,
         1.87E-4,
         0.055412,
         0.020259,
         0.022821,
         5.07E-4
        ],
        [
         "BOS_MIA",
         "MIA",
         "BOS",
         "AA",
         1533,
         7,
         2015,
         1,
         1,
         4,
         68,
         15,
         215,
         1258.0,
         53,
         0,
         0,
         0,
         53,
         0,
         "Winter",
         "Afternoon",
         0,
         1,
         53,
         1025,
         1240,
         1093,
         1108,
         1293,
         {
          "indices": [
           1
          ],
          "length": 4,
          "values": [
           1.0
          ],
          "vectorType": "sparse"
         },
         {
          "indices": [
           0
          ],
          "length": 7,
          "values": [
           1.0
          ],
          "vectorType": "sparse"
         },
         1.6E-4,
         5.3E-5,
         0.122488,
         0.020259,
         0.013746,
         3.47E-4
        ],
        [
         "BWI_JAX",
         "JAX",
         "BWI",
         "WN",
         125,
         8,
         2015,
         1,
         1,
         4,
         35,
         19,
         125,
         663.0,
         37,
         2,
         0,
         35,
         0,
         0,
         "Winter",
         "Evening",
         0,
         1,
         37,
         1220,
         1345,
         1255,
         1274,
         1382,
         {
          "indices": [
           1
          ],
          "length": 4,
          "values": [
           1.0
          ],
          "vectorType": "sparse"
         },
         {
          "indices": [
           1
          ],
          "length": 7,
          "values": [
           1.0
          ],
          "vectorType": "sparse"
         },
         3.47E-4,
         4.0E-4,
         0.224236,
         0.020099,
         0.00395,
         3.74E-4
        ],
        [
         "BWI_SAN",
         "SAN",
         "BWI",
         "WN",
         1129,
         9,
         2015,
         1,
         1,
         4,
         5,
         10,
         355,
         2295.0,
         17,
         17,
         0,
         0,
         0,
         0,
         "Winter",
         "Evening",
         0,
         0,
         17,
         1095,
         1270,
         1100,
         1110,
         1287,
         {
          "indices": [
           1
          ],
          "length": 4,
          "values": [
           1.0
          ],
          "vectorType": "sparse"
         },
         {
          "indices": [
           1
          ],
          "length": 7,
          "values": [
           1.0
          ],
          "vectorType": "sparse"
         },
         3.47E-4,
         2.67E-4,
         0.224236,
         0.020099,
         0.013693,
         1.6E-4
        ],
        [
         "BWI_SAT",
         "SAT",
         "BWI",
         "WN",
         623,
         10,
         2015,
         1,
         1,
         4,
         95,
         20,
         240,
         1407.0,
         102,
         7,
         0,
         95,
         0,
         0,
         "Winter",
         "Evening",
         0,
         1,
         102,
         1235,
         1415,
         1330,
         1350,
         77,
         {
          "indices": [
           1
          ],
          "length": 4,
          "values": [
           1.0
          ],
          "vectorType": "sparse"
         },
         {
          "indices": [
           1
          ],
          "length": 7,
          "values": [
           1.0
          ],
          "vectorType": "sparse"
         },
         4.54E-4,
         4.0E-4,
         0.224236,
         0.020099,
         0.006833,
         2.4E-4
        ]
       ],
       "datasetInfos": [],
       "dbfsResultPath": null,
       "isJsonSchema": true,
       "metadata": {},
       "overflow": false,
       "plotOptions": {
        "customPlotOptions": {},
        "displayType": "table",
        "pivotAggregation": null,
        "pivotColumns": null,
        "xColumns": null,
        "yColumns": null
       },
       "removedWidgets": [],
       "schema": [
        {
         "metadata": "{}",
         "name": "ROUTE",
         "type": "\"string\""
        },
        {
         "metadata": "{}",
         "name": "DESTINATION_AIRPORT",
         "type": "\"string\""
        },
        {
         "metadata": "{}",
         "name": "ORIGIN_AIRPORT",
         "type": "\"string\""
        },
        {
         "metadata": "{}",
         "name": "AIRLINE",
         "type": "\"string\""
        },
        {
         "metadata": "{}",
         "name": "FLIGHT_NUMBER",
         "type": "\"integer\""
        },
        {
         "metadata": "{}",
         "name": "index",
         "type": "\"integer\""
        },
        {
         "metadata": "{}",
         "name": "YEAR",
         "type": "\"integer\""
        },
        {
         "metadata": "{}",
         "name": "MONTH",
         "type": "\"integer\""
        },
        {
         "metadata": "{}",
         "name": "DAY",
         "type": "\"integer\""
        },
        {
         "metadata": "{}",
         "name": "DAY_OF_WEEK",
         "type": "\"integer\""
        },
        {
         "metadata": "{}",
         "name": "DEPARTURE_DELAY",
         "type": "\"integer\""
        },
        {
         "metadata": "{}",
         "name": "TAXI_OUT",
         "type": "\"integer\""
        },
        {
         "metadata": "{}",
         "name": "SCHEDULED_TIME",
         "type": "\"integer\""
        },
        {
         "metadata": "{}",
         "name": "DISTANCE",
         "type": "\"double\""
        },
        {
         "metadata": "{}",
         "name": "ARRIVAL_DELAY",
         "type": "\"integer\""
        },
        {
         "metadata": "{}",
         "name": "AIR_SYSTEM_DELAY",
         "type": "\"integer\""
        },
        {
         "metadata": "{}",
         "name": "SECURITY_DELAY",
         "type": "\"integer\""
        },
        {
         "metadata": "{}",
         "name": "AIRLINE_DELAY",
         "type": "\"integer\""
        },
        {
         "metadata": "{}",
         "name": "LATE_AIRCRAFT_DELAY",
         "type": "\"integer\""
        },
        {
         "metadata": "{}",
         "name": "WEATHER_DELAY",
         "type": "\"integer\""
        },
        {
         "metadata": "{}",
         "name": "SEASON",
         "type": "\"string\""
        },
        {
         "metadata": "{}",
         "name": "SCHEDULED_DEPARTURE_PERIOD",
         "type": "\"string\""
        },
        {
         "metadata": "{}",
         "name": "IS_WEEKEND",
         "type": "\"integer\""
        },
        {
         "metadata": "{}",
         "name": "DELAYED_DEPARTURE_FLAG",
         "type": "\"integer\""
        },
        {
         "metadata": "{}",
         "name": "TOTAL_KNOWN_DELAY",
         "type": "\"integer\""
        },
        {
         "metadata": "{}",
         "name": "SCHEDULED_DEPARTURE_min",
         "type": "\"long\""
        },
        {
         "metadata": "{}",
         "name": "SCHEDULED_ARRIVAL_min",
         "type": "\"long\""
        },
        {
         "metadata": "{}",
         "name": "DEPARTURE_TIME_min",
         "type": "\"long\""
        },
        {
         "metadata": "{}",
         "name": "WHEELS_OFF_min",
         "type": "\"long\""
        },
        {
         "metadata": "{}",
         "name": "ARRIVAL_TIME_min",
         "type": "\"long\""
        },
        {
         "metadata": "{\"ml_attr\":{\"attrs\":{\"binary\":[{\"idx\":0,\"name\":\"Summer\"},{\"idx\":1,\"name\":\"Winter\"},{\"idx\":2,\"name\":\"Spring\"},{\"idx\":3,\"name\":\"Autumn\"}]},\"num_attrs\":4}}",
         "name": "SEASON_vec",
         "type": "{\"type\":\"udt\",\"class\":\"org.apache.spark.ml.linalg.VectorUDT\",\"pyClass\":\"pyspark.ml.linalg.VectorUDT\",\"sqlType\":{\"type\":\"struct\",\"fields\":[{\"name\":\"type\",\"type\":\"byte\",\"nullable\":false,\"metadata\":{}},{\"name\":\"size\",\"type\":\"integer\",\"nullable\":true,\"metadata\":{}},{\"name\":\"indices\",\"type\":{\"type\":\"array\",\"elementType\":\"integer\",\"containsNull\":false},\"nullable\":true,\"metadata\":{}},{\"name\":\"values\",\"type\":{\"type\":\"array\",\"elementType\":\"double\",\"containsNull\":false},\"nullable\":true,\"metadata\":{}}]}}"
        },
        {
         "metadata": "{\"ml_attr\":{\"attrs\":{\"binary\":[{\"idx\":0,\"name\":\"Afternoon\"},{\"idx\":1,\"name\":\"Evening\"},{\"idx\":2,\"name\":\"Morning\"},{\"idx\":3,\"name\":\"Midday\"},{\"idx\":4,\"name\":\"Early Morning\"},{\"idx\":5,\"name\":\"Night\"},{\"idx\":6,\"name\":\"Late Night\"}]},\"num_attrs\":7}}",
         "name": "SCHEDULED_DEPARTURE_PERIOD_vec",
         "type": "{\"type\":\"udt\",\"class\":\"org.apache.spark.ml.linalg.VectorUDT\",\"pyClass\":\"pyspark.ml.linalg.VectorUDT\",\"sqlType\":{\"type\":\"struct\",\"fields\":[{\"name\":\"type\",\"type\":\"byte\",\"nullable\":false,\"metadata\":{}},{\"name\":\"size\",\"type\":\"integer\",\"nullable\":true,\"metadata\":{}},{\"name\":\"indices\",\"type\":{\"type\":\"array\",\"elementType\":\"integer\",\"containsNull\":false},\"nullable\":true,\"metadata\":{}},{\"name\":\"values\",\"type\":{\"type\":\"array\",\"elementType\":\"double\",\"containsNull\":false},\"nullable\":true,\"metadata\":{}}]}}"
        },
        {
         "metadata": "{}",
         "name": "FLIGHT_NUMBER_freq",
         "type": "\"double\""
        },
        {
         "metadata": "{}",
         "name": "TAIL_NUMBER_freq",
         "type": "\"double\""
        },
        {
         "metadata": "{}",
         "name": "AIRLINE_freq",
         "type": "\"double\""
        },
        {
         "metadata": "{}",
         "name": "ORIGIN_AIRPORT_freq",
         "type": "\"double\""
        },
        {
         "metadata": "{}",
         "name": "DESTINATION_AIRPORT_freq",
         "type": "\"double\""
        },
        {
         "metadata": "{}",
         "name": "ROUTE_freq",
         "type": "\"double\""
        }
       ],
       "type": "table"
      }
     },
     "output_type": "display_data"
    }
   ],
   "source": [
    "cleaned_train_df.limit(10).display()"
   ]
  },
  {
   "cell_type": "code",
   "execution_count": 0,
   "metadata": {
    "application/vnd.databricks.v1+cell": {
     "cellMetadata": {
      "byteLimit": 2048000,
      "rowLimit": 10000
     },
     "inputWidgets": {},
     "nuid": "49908189-06b0-4ecb-ba53-8f18b4317386",
     "showTitle": false,
     "tableResultSettingsMap": {},
     "title": ""
    }
   },
   "outputs": [
    {
     "output_type": "stream",
     "name": "stdout",
     "output_type": "stream",
     "text": [
      "Out[120]: 37298"
     ]
    }
   ],
   "source": [
    "cleaned_train_df.count()"
   ]
  },
  {
   "cell_type": "code",
   "execution_count": 0,
   "metadata": {
    "application/vnd.databricks.v1+cell": {
     "cellMetadata": {
      "byteLimit": 2048000,
      "rowLimit": 10000
     },
     "inputWidgets": {},
     "nuid": "e9a82a77-3842-4d4a-b1b3-9ccae4155cd5",
     "showTitle": false,
     "tableResultSettingsMap": {},
     "title": ""
    }
   },
   "outputs": [
    {
     "output_type": "stream",
     "name": "stdout",
     "output_type": "stream",
     "text": [
      "Out[121]: 8002"
     ]
    }
   ],
   "source": [
    "cleaned_val_df.count()"
   ]
  },
  {
   "cell_type": "code",
   "execution_count": 0,
   "metadata": {
    "application/vnd.databricks.v1+cell": {
     "cellMetadata": {
      "byteLimit": 2048000,
      "rowLimit": 10000
     },
     "inputWidgets": {},
     "nuid": "f5672203-0ecd-487c-a5c5-b2e0aa23b38d",
     "showTitle": false,
     "tableResultSettingsMap": {},
     "title": ""
    }
   },
   "outputs": [
    {
     "output_type": "stream",
     "name": "stdout",
     "output_type": "stream",
     "text": [
      "Out[122]: 8003"
     ]
    }
   ],
   "source": [
    "cleaned_test_df.count()"
   ]
  }
 ],
 "metadata": {
  "application/vnd.databricks.v1+notebook": {
   "computePreferences": null,
   "dashboards": [],
   "environmentMetadata": null,
   "inputWidgetPreferences": null,
   "language": "python",
   "notebookMetadata": {
    "pythonIndentUnit": 4
   },
   "notebookName": "2_Preprocessing-8",
   "widgets": {}
  }
 },
 "nbformat": 4,
 "nbformat_minor": 0
}