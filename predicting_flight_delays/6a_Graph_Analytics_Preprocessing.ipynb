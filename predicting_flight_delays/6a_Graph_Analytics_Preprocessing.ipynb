{
 "cells": [
  {
   "cell_type": "markdown",
   "metadata": {
    "application/vnd.databricks.v1+cell": {
     "cellMetadata": {
      "byteLimit": 2048000,
      "rowLimit": 10000
     },
     "inputWidgets": {},
     "nuid": "47efbf76-1828-4734-b014-2c1d512dd763",
     "showTitle": false,
     "tableResultSettingsMap": {},
     "title": ""
    }
   },
   "source": [
    "# 6a. Graph Analytics - Preprocessing"
   ]
  },
  {
   "cell_type": "markdown",
   "metadata": {
    "application/vnd.databricks.v1+cell": {
     "cellMetadata": {
      "byteLimit": 2048000,
      "rowLimit": 10000
     },
     "inputWidgets": {},
     "nuid": "291d77f1-a956-4ff1-9e80-272b4aa93c53",
     "showTitle": false,
     "tableResultSettingsMap": {},
     "title": ""
    }
   },
   "source": [
    "# 6a.1 Import Libraries"
   ]
  },
  {
   "cell_type": "code",
   "execution_count": 0,
   "metadata": {
    "application/vnd.databricks.v1+cell": {
     "cellMetadata": {
      "byteLimit": 2048000,
      "rowLimit": 10000
     },
     "inputWidgets": {},
     "nuid": "d59a26c1-e43f-4b3f-ac46-6a2ab5b91459",
     "showTitle": false,
     "tableResultSettingsMap": {},
     "title": ""
    }
   },
   "outputs": [],
   "source": [
    "from pyspark.sql.functions import lit, col, desc, abs, isnan, to_date, rand, length, count, when, hour, dayofweek, round, explode, lower, udf, mean, avg, stddev, min, max, coalesce, concat_ws, row_number, monotonically_increasing_id, floor, round as spark_round\n",
    "\n",
    "from pyspark.sql.types import ArrayType, StringType\n",
    "from pyspark.ml.linalg import VectorUDT\n",
    "from pyspark.ml.feature import StringIndexer, OneHotEncoder, VectorAssembler, BucketedRandomProjectionLSH\n",
    "from pyspark.ml import Pipeline\n",
    "from pyspark.sql import SparkSession, DataFrame\n",
    "from pyspark.sql.window import Window\n",
    "from pyspark.sql.types import NumericType\n",
    "from pyspark.sql.functions import countDistinct\n",
    "\n",
    "import matplotlib.pyplot as plt\n",
    "import pandas as pd\n",
    "import seaborn as sns\n",
    "import plotly.express as px\n",
    "from sklearn.impute import KNNImputer\n",
    "from functools import reduce\n",
    "\n",
    "import re"
   ]
  },
  {
   "cell_type": "code",
   "execution_count": 0,
   "metadata": {
    "application/vnd.databricks.v1+cell": {
     "cellMetadata": {
      "byteLimit": 2048000,
      "rowLimit": 10000
     },
     "inputWidgets": {},
     "nuid": "c160d10f-91a0-4c33-9707-bb154174f144",
     "showTitle": false,
     "tableResultSettingsMap": {},
     "title": ""
    }
   },
   "outputs": [],
   "source": [
    "# Initialize Spark session\n",
    "spark = SparkSession.builder.appName(\"Graph_Analytics_Preprocessing\").getOrCreate()"
   ]
  },
  {
   "cell_type": "markdown",
   "metadata": {
    "application/vnd.databricks.v1+cell": {
     "cellMetadata": {
      "byteLimit": 2048000,
      "rowLimit": 10000
     },
     "inputWidgets": {},
     "nuid": "4ac93e39-689e-46c4-9633-a2ed6f9dd11d",
     "showTitle": false,
     "tableResultSettingsMap": {},
     "title": ""
    }
   },
   "source": [
    "# 6a.2 Import Df"
   ]
  },
  {
   "cell_type": "code",
   "execution_count": 0,
   "metadata": {
    "application/vnd.databricks.v1+cell": {
     "cellMetadata": {
      "byteLimit": 2048000,
      "rowLimit": 10000
     },
     "inputWidgets": {},
     "nuid": "8dda6eff-1713-4338-a945-18261a01d534",
     "showTitle": false,
     "tableResultSettingsMap": {},
     "title": ""
    }
   },
   "outputs": [
    {
     "output_type": "display_data",
     "data": {
      "text/html": [
       "<style scoped>\n",
       "  .table-result-container {\n",
       "    max-height: 300px;\n",
       "    overflow: auto;\n",
       "  }\n",
       "  table, th, td {\n",
       "    border: 1px solid black;\n",
       "    border-collapse: collapse;\n",
       "  }\n",
       "  th, td {\n",
       "    padding: 5px;\n",
       "  }\n",
       "  th {\n",
       "    text-align: left;\n",
       "  }\n",
       "</style><div class='table-result-container'><table class='table-result'><thead style='background-color: white'><tr><th>YEAR</th><th>MONTH</th><th>DAY</th><th>DAY_OF_WEEK</th><th>AIRLINE</th><th>FLIGHT_NUMBER</th><th>TAIL_NUMBER</th><th>ORIGIN_AIRPORT</th><th>DESTINATION_AIRPORT</th><th>SCHEDULED_DEPARTURE</th><th>DEPARTURE_TIME</th><th>DEPARTURE_DELAY</th><th>TAXI_OUT</th><th>WHEELS_OFF</th><th>SCHEDULED_TIME</th><th>ELAPSED_TIME</th><th>AIR_TIME</th><th>DISTANCE</th><th>WHEELS_ON</th><th>TAXI_IN</th><th>SCHEDULED_ARRIVAL</th><th>ARRIVAL_TIME</th><th>ARRIVAL_DELAY</th><th>DIVERTED</th><th>CANCELLED</th><th>CANCELLATION_REASON</th><th>AIR_SYSTEM_DELAY</th><th>SECURITY_DELAY</th><th>AIRLINE_DELAY</th><th>LATE_AIRCRAFT_DELAY</th><th>WEATHER_DELAY</th></tr></thead><tbody><tr><td>2015</td><td>1</td><td>1</td><td>4</td><td>NK</td><td>597</td><td>N528NK</td><td>MSP</td><td>FLL</td><td>115</td><td>127</td><td>12</td><td>14</td><td>141</td><td>207</td><td>220</td><td>166</td><td>1487</td><td>527</td><td>40</td><td>542</td><td>607</td><td>25</td><td>0</td><td>0</td><td>null</td><td>25</td><td>0</td><td>0</td><td>0</td><td>0</td></tr><tr><td>2015</td><td>1</td><td>1</td><td>4</td><td>NK</td><td>168</td><td>N629NK</td><td>PHX</td><td>ORD</td><td>125</td><td>237</td><td>72</td><td>9</td><td>246</td><td>204</td><td>175</td><td>156</td><td>1440</td><td>622</td><td>10</td><td>549</td><td>632</td><td>43</td><td>0</td><td>0</td><td>null</td><td>43</td><td>0</td><td>0</td><td>0</td><td>0</td></tr><tr><td>2015</td><td>1</td><td>1</td><td>4</td><td>HA</td><td>17</td><td>N389HA</td><td>LAS</td><td>HNL</td><td>145</td><td>145</td><td>0</td><td>16</td><td>201</td><td>370</td><td>385</td><td>361</td><td>2762</td><td>602</td><td>8</td><td>555</td><td>610</td><td>15</td><td>0</td><td>0</td><td>null</td><td>0</td><td>0</td><td>15</td><td>0</td><td>0</td></tr><tr><td>2015</td><td>1</td><td>1</td><td>4</td><td>B6</td><td>1030</td><td>N239JB</td><td>BQN</td><td>MCO</td><td>307</td><td>304</td><td>-3</td><td>25</td><td>329</td><td>173</td><td>196</td><td>160</td><td>1129</td><td>509</td><td>11</td><td>500</td><td>520</td><td>20</td><td>0</td><td>0</td><td>null</td><td>20</td><td>0</td><td>0</td><td>0</td><td>0</td></tr><tr><td>2015</td><td>1</td><td>1</td><td>4</td><td>B6</td><td>2134</td><td>N307JB</td><td>SJU</td><td>MCO</td><td>400</td><td>535</td><td>95</td><td>9</td><td>544</td><td>185</td><td>175</td><td>163</td><td>1189</td><td>727</td><td>3</td><td>605</td><td>730</td><td>85</td><td>0</td><td>0</td><td>null</td><td>0</td><td>0</td><td>85</td><td>0</td><td>0</td></tr><tr><td>2015</td><td>1</td><td>1</td><td>4</td><td>B6</td><td>2276</td><td>N646JB</td><td>SJU</td><td>BDL</td><td>438</td><td>550</td><td>72</td><td>15</td><td>605</td><td>241</td><td>258</td><td>237</td><td>1666</td><td>902</td><td>6</td><td>739</td><td>908</td><td>89</td><td>0</td><td>0</td><td>null</td><td>17</td><td>0</td><td>72</td><td>0</td><td>0</td></tr><tr><td>2015</td><td>1</td><td>1</td><td>4</td><td>AA</td><td>1057</td><td>N3ASAA</td><td>DFW</td><td>MIA</td><td>515</td><td>703</td><td>108</td><td>15</td><td>718</td><td>161</td><td>155</td><td>133</td><td>1121</td><td>1031</td><td>7</td><td>856</td><td>1038</td><td>102</td><td>0</td><td>0</td><td>null</td><td>0</td><td>0</td><td>0</td><td>0</td><td>102</td></tr><tr><td>2015</td><td>1</td><td>1</td><td>4</td><td>US</td><td>425</td><td>N174US</td><td>PDX</td><td>PHX</td><td>520</td><td>620</td><td>60</td><td>13</td><td>633</td><td>150</td><td>150</td><td>132</td><td>1009</td><td>945</td><td>5</td><td>850</td><td>950</td><td>60</td><td>0</td><td>0</td><td>null</td><td>0</td><td>0</td><td>60</td><td>0</td><td>0</td></tr><tr><td>2015</td><td>1</td><td>1</td><td>4</td><td>AA</td><td>89</td><td>N3KVAA</td><td>IAH</td><td>MIA</td><td>520</td><td>618</td><td>58</td><td>19</td><td>637</td><td>141</td><td>137</td><td>111</td><td>964</td><td>928</td><td>7</td><td>841</td><td>935</td><td>54</td><td>0</td><td>0</td><td>null</td><td>0</td><td>0</td><td>54</td><td>0</td><td>0</td></tr><tr><td>2015</td><td>1</td><td>1</td><td>4</td><td>AA</td><td>328</td><td>N4XKAA</td><td>DEN</td><td>DFW</td><td>530</td><td>623</td><td>53</td><td>32</td><td>655</td><td>125</td><td>138</td><td>96</td><td>641</td><td>931</td><td>10</td><td>835</td><td>941</td><td>66</td><td>0</td><td>0</td><td>null</td><td>13</td><td>0</td><td>53</td><td>0</td><td>0</td></tr></tbody></table></div>"
      ]
     },
     "metadata": {
      "application/vnd.databricks.v1+output": {
       "addedWidgets": {},
       "aggData": [],
       "aggError": "",
       "aggOverflow": false,
       "aggSchema": [],
       "aggSeriesLimitReached": false,
       "aggType": "",
       "arguments": {},
       "columnCustomDisplayInfos": {},
       "data": [
        [
         2015,
         1,
         1,
         4,
         "NK",
         597,
         "N528NK",
         "MSP",
         "FLL",
         115,
         127,
         12,
         14,
         141,
         207,
         220,
         166,
         1487,
         527,
         40,
         542,
         607,
         25,
         0,
         0,
         null,
         25,
         0,
         0,
         0,
         0
        ],
        [
         2015,
         1,
         1,
         4,
         "NK",
         168,
         "N629NK",
         "PHX",
         "ORD",
         125,
         237,
         72,
         9,
         246,
         204,
         175,
         156,
         1440,
         622,
         10,
         549,
         632,
         43,
         0,
         0,
         null,
         43,
         0,
         0,
         0,
         0
        ],
        [
         2015,
         1,
         1,
         4,
         "HA",
         17,
         "N389HA",
         "LAS",
         "HNL",
         145,
         145,
         0,
         16,
         201,
         370,
         385,
         361,
         2762,
         602,
         8,
         555,
         610,
         15,
         0,
         0,
         null,
         0,
         0,
         15,
         0,
         0
        ],
        [
         2015,
         1,
         1,
         4,
         "B6",
         1030,
         "N239JB",
         "BQN",
         "MCO",
         307,
         304,
         -3,
         25,
         329,
         173,
         196,
         160,
         1129,
         509,
         11,
         500,
         520,
         20,
         0,
         0,
         null,
         20,
         0,
         0,
         0,
         0
        ],
        [
         2015,
         1,
         1,
         4,
         "B6",
         2134,
         "N307JB",
         "SJU",
         "MCO",
         400,
         535,
         95,
         9,
         544,
         185,
         175,
         163,
         1189,
         727,
         3,
         605,
         730,
         85,
         0,
         0,
         null,
         0,
         0,
         85,
         0,
         0
        ],
        [
         2015,
         1,
         1,
         4,
         "B6",
         2276,
         "N646JB",
         "SJU",
         "BDL",
         438,
         550,
         72,
         15,
         605,
         241,
         258,
         237,
         1666,
         902,
         6,
         739,
         908,
         89,
         0,
         0,
         null,
         17,
         0,
         72,
         0,
         0
        ],
        [
         2015,
         1,
         1,
         4,
         "AA",
         1057,
         "N3ASAA",
         "DFW",
         "MIA",
         515,
         703,
         108,
         15,
         718,
         161,
         155,
         133,
         1121,
         1031,
         7,
         856,
         1038,
         102,
         0,
         0,
         null,
         0,
         0,
         0,
         0,
         102
        ],
        [
         2015,
         1,
         1,
         4,
         "US",
         425,
         "N174US",
         "PDX",
         "PHX",
         520,
         620,
         60,
         13,
         633,
         150,
         150,
         132,
         1009,
         945,
         5,
         850,
         950,
         60,
         0,
         0,
         null,
         0,
         0,
         60,
         0,
         0
        ],
        [
         2015,
         1,
         1,
         4,
         "AA",
         89,
         "N3KVAA",
         "IAH",
         "MIA",
         520,
         618,
         58,
         19,
         637,
         141,
         137,
         111,
         964,
         928,
         7,
         841,
         935,
         54,
         0,
         0,
         null,
         0,
         0,
         54,
         0,
         0
        ],
        [
         2015,
         1,
         1,
         4,
         "AA",
         328,
         "N4XKAA",
         "DEN",
         "DFW",
         530,
         623,
         53,
         32,
         655,
         125,
         138,
         96,
         641,
         931,
         10,
         835,
         941,
         66,
         0,
         0,
         null,
         13,
         0,
         53,
         0,
         0
        ]
       ],
       "datasetInfos": [],
       "dbfsResultPath": null,
       "isJsonSchema": true,
       "metadata": {},
       "overflow": false,
       "plotOptions": {
        "customPlotOptions": {},
        "displayType": "table",
        "pivotAggregation": null,
        "pivotColumns": null,
        "xColumns": null,
        "yColumns": null
       },
       "removedWidgets": [],
       "schema": [
        {
         "metadata": "{}",
         "name": "YEAR",
         "type": "\"integer\""
        },
        {
         "metadata": "{}",
         "name": "MONTH",
         "type": "\"integer\""
        },
        {
         "metadata": "{}",
         "name": "DAY",
         "type": "\"integer\""
        },
        {
         "metadata": "{}",
         "name": "DAY_OF_WEEK",
         "type": "\"integer\""
        },
        {
         "metadata": "{}",
         "name": "AIRLINE",
         "type": "\"string\""
        },
        {
         "metadata": "{}",
         "name": "FLIGHT_NUMBER",
         "type": "\"integer\""
        },
        {
         "metadata": "{}",
         "name": "TAIL_NUMBER",
         "type": "\"string\""
        },
        {
         "metadata": "{}",
         "name": "ORIGIN_AIRPORT",
         "type": "\"string\""
        },
        {
         "metadata": "{}",
         "name": "DESTINATION_AIRPORT",
         "type": "\"string\""
        },
        {
         "metadata": "{}",
         "name": "SCHEDULED_DEPARTURE",
         "type": "\"integer\""
        },
        {
         "metadata": "{}",
         "name": "DEPARTURE_TIME",
         "type": "\"integer\""
        },
        {
         "metadata": "{}",
         "name": "DEPARTURE_DELAY",
         "type": "\"integer\""
        },
        {
         "metadata": "{}",
         "name": "TAXI_OUT",
         "type": "\"integer\""
        },
        {
         "metadata": "{}",
         "name": "WHEELS_OFF",
         "type": "\"integer\""
        },
        {
         "metadata": "{}",
         "name": "SCHEDULED_TIME",
         "type": "\"integer\""
        },
        {
         "metadata": "{}",
         "name": "ELAPSED_TIME",
         "type": "\"integer\""
        },
        {
         "metadata": "{}",
         "name": "AIR_TIME",
         "type": "\"integer\""
        },
        {
         "metadata": "{}",
         "name": "DISTANCE",
         "type": "\"integer\""
        },
        {
         "metadata": "{}",
         "name": "WHEELS_ON",
         "type": "\"integer\""
        },
        {
         "metadata": "{}",
         "name": "TAXI_IN",
         "type": "\"integer\""
        },
        {
         "metadata": "{}",
         "name": "SCHEDULED_ARRIVAL",
         "type": "\"integer\""
        },
        {
         "metadata": "{}",
         "name": "ARRIVAL_TIME",
         "type": "\"integer\""
        },
        {
         "metadata": "{}",
         "name": "ARRIVAL_DELAY",
         "type": "\"integer\""
        },
        {
         "metadata": "{}",
         "name": "DIVERTED",
         "type": "\"integer\""
        },
        {
         "metadata": "{}",
         "name": "CANCELLED",
         "type": "\"integer\""
        },
        {
         "metadata": "{}",
         "name": "CANCELLATION_REASON",
         "type": "\"string\""
        },
        {
         "metadata": "{}",
         "name": "AIR_SYSTEM_DELAY",
         "type": "\"integer\""
        },
        {
         "metadata": "{}",
         "name": "SECURITY_DELAY",
         "type": "\"integer\""
        },
        {
         "metadata": "{}",
         "name": "AIRLINE_DELAY",
         "type": "\"integer\""
        },
        {
         "metadata": "{}",
         "name": "LATE_AIRCRAFT_DELAY",
         "type": "\"integer\""
        },
        {
         "metadata": "{}",
         "name": "WEATHER_DELAY",
         "type": "\"integer\""
        }
       ],
       "type": "table"
      }
     },
     "output_type": "display_data"
    }
   ],
   "source": [
    "# Import df_eda\n",
    "df = spark.read.format(\"delta\").load(\"/dbfs/FileStore/tables/df_eda\")\n",
    "\n",
    "# Display result\n",
    "df.limit(10).display()"
   ]
  },
  {
   "cell_type": "code",
   "execution_count": 0,
   "metadata": {
    "application/vnd.databricks.v1+cell": {
     "cellMetadata": {
      "byteLimit": 2048000,
      "rowLimit": 10000
     },
     "inputWidgets": {},
     "nuid": "65ab7845-e494-4232-af3d-c5dad3d36f55",
     "showTitle": false,
     "tableResultSettingsMap": {},
     "title": ""
    }
   },
   "outputs": [
    {
     "output_type": "stream",
     "name": "stdout",
     "output_type": "stream",
     "text": [
      "Total rows: 1063439\n"
     ]
    }
   ],
   "source": [
    "print(f\"Total rows: {df.count()}\")"
   ]
  },
  {
   "cell_type": "markdown",
   "metadata": {
    "application/vnd.databricks.v1+cell": {
     "cellMetadata": {
      "byteLimit": 2048000,
      "rowLimit": 10000
     },
     "inputWidgets": {},
     "nuid": "1360edbf-2c75-45bf-8cf1-5648966d0e17",
     "showTitle": false,
     "tableResultSettingsMap": {},
     "title": ""
    }
   },
   "source": [
    "# 6a.3 Preprocessing From Notebook 2"
   ]
  },
  {
   "cell_type": "markdown",
   "metadata": {
    "application/vnd.databricks.v1+cell": {
     "cellMetadata": {
      "byteLimit": 2048000,
      "rowLimit": 10000
     },
     "inputWidgets": {},
     "nuid": "29c4f191-9858-4443-a79a-99096d115c6a",
     "showTitle": false,
     "tableResultSettingsMap": {},
     "title": ""
    }
   },
   "source": [
    "We applied all the preprocessing from the notebook \"2_Preprocessing\", excluding:\n",
    "- Train-Val-Test Split\n",
    "- Encoding"
   ]
  },
  {
   "cell_type": "markdown",
   "metadata": {
    "application/vnd.databricks.v1+cell": {
     "cellMetadata": {
      "byteLimit": 2048000,
      "rowLimit": 10000
     },
     "inputWidgets": {},
     "nuid": "42afa49f-c255-4914-afc8-ac92d1303a60",
     "showTitle": false,
     "tableResultSettingsMap": {},
     "title": ""
    }
   },
   "source": [
    "## 6a.3.1 Sampling"
   ]
  },
  {
   "cell_type": "code",
   "execution_count": 0,
   "metadata": {
    "application/vnd.databricks.v1+cell": {
     "cellMetadata": {
      "byteLimit": 2048000,
      "rowLimit": 10000
     },
     "inputWidgets": {},
     "nuid": "1aa6e8fb-13d8-43be-a768-a088131e21ed",
     "showTitle": false,
     "tableResultSettingsMap": {},
     "title": ""
    }
   },
   "outputs": [],
   "source": [
    "df_sampled = df.sample(withReplacement=False, fraction=0.05, seed=42)"
   ]
  },
  {
   "cell_type": "code",
   "execution_count": 0,
   "metadata": {
    "application/vnd.databricks.v1+cell": {
     "cellMetadata": {
      "byteLimit": 2048000,
      "rowLimit": 10000
     },
     "inputWidgets": {},
     "nuid": "49d81f51-e01d-40f6-a1ed-59b0909379c9",
     "showTitle": false,
     "tableResultSettingsMap": {},
     "title": ""
    }
   },
   "outputs": [
    {
     "output_type": "stream",
     "name": "stdout",
     "output_type": "stream",
     "text": [
      "Total rows of the sampled dataset: 53429\n"
     ]
    }
   ],
   "source": [
    "print(f\"Total rows of the sampled dataset: {df_sampled.count()}\")"
   ]
  },
  {
   "cell_type": "markdown",
   "metadata": {
    "application/vnd.databricks.v1+cell": {
     "cellMetadata": {
      "byteLimit": 2048000,
      "rowLimit": 10000
     },
     "inputWidgets": {},
     "nuid": "3fb4a52f-b429-452b-bbf4-7563bb7e6a25",
     "showTitle": false,
     "tableResultSettingsMap": {},
     "title": ""
    }
   },
   "source": [
    "## 6a.3.2 Treatment of numerical airport codes"
   ]
  },
  {
   "cell_type": "markdown",
   "metadata": {
    "application/vnd.databricks.v1+cell": {
     "cellMetadata": {
      "byteLimit": 2048000,
      "rowLimit": 10000
     },
     "inputWidgets": {},
     "nuid": "f640b793-fdc1-4b11-8de1-868fd6d8cad0",
     "showTitle": false,
     "tableResultSettingsMap": {},
     "title": ""
    }
   },
   "source": [
    "### 6a.3.2.1 Map numeric airport codes to IATA codes"
   ]
  },
  {
   "cell_type": "markdown",
   "metadata": {
    "application/vnd.databricks.v1+cell": {
     "cellMetadata": {
      "byteLimit": 2048000,
      "rowLimit": 10000
     },
     "inputWidgets": {},
     "nuid": "bb199122-a947-464b-8fda-b4a1c7ff621b",
     "showTitle": false,
     "tableResultSettingsMap": {},
     "title": ""
    }
   },
   "source": [
    "We map the numerical airport codes in the dataset to their corresponding IATA codes. This is achieved by importing two auxiliary datasets:\n",
    "\n",
    "- One with the numerical airport codes and their descriptions.\n",
    "- Another containing the IATA codes and their descriptions.\n",
    "\n",
    "We perform a join on the airport description field in order to link the numerical code with the corresponding IATA code."
   ]
  },
  {
   "cell_type": "code",
   "execution_count": 0,
   "metadata": {
    "application/vnd.databricks.v1+cell": {
     "cellMetadata": {
      "byteLimit": 2048000,
      "rowLimit": 10000
     },
     "inputWidgets": {},
     "nuid": "fc2f6d28-3c35-48c7-9c60-181af4fd95a2",
     "showTitle": false,
     "tableResultSettingsMap": {},
     "title": ""
    }
   },
   "outputs": [
    {
     "output_type": "display_data",
     "data": {
      "text/html": [
       "<style scoped>\n",
       "  .table-result-container {\n",
       "    max-height: 300px;\n",
       "    overflow: auto;\n",
       "  }\n",
       "  table, th, td {\n",
       "    border: 1px solid black;\n",
       "    border-collapse: collapse;\n",
       "  }\n",
       "  th, td {\n",
       "    padding: 5px;\n",
       "  }\n",
       "  th {\n",
       "    text-align: left;\n",
       "  }\n",
       "</style><div class='table-result-container'><table class='table-result'><thead style='background-color: white'><tr><th>Code</th><th>Description</th></tr></thead><tbody><tr><td>01A</td><td>Afognak Lake, AK: Afognak Lake Airport</td></tr><tr><td>03A</td><td>Granite Mountain, AK: Bear Creek Mining Strip</td></tr><tr><td>04A</td><td>Lik, AK: Lik Mining Camp</td></tr><tr><td>05A</td><td>Little Squaw, AK: Little Squaw Airport</td></tr><tr><td>06A</td><td>Kizhuyak, AK: Kizhuyak Bay</td></tr><tr><td>07A</td><td>Klawock, AK: Klawock Seaplane Base</td></tr><tr><td>08A</td><td>Elizabeth Island, AK: Elizabeth Island Airport</td></tr><tr><td>09A</td><td>Homer, AK: Augustin Island</td></tr><tr><td>1AK</td><td>Mertarvik, AK: Mertarvik Quarry Road Landing Strip</td></tr><tr><td>1B1</td><td>Hudson, NY: Columbia County</td></tr></tbody></table></div>"
      ]
     },
     "metadata": {
      "application/vnd.databricks.v1+output": {
       "addedWidgets": {},
       "aggData": [],
       "aggError": "",
       "aggOverflow": false,
       "aggSchema": [],
       "aggSeriesLimitReached": false,
       "aggType": "",
       "arguments": {},
       "columnCustomDisplayInfos": {},
       "data": [
        [
         "01A",
         "Afognak Lake, AK: Afognak Lake Airport"
        ],
        [
         "03A",
         "Granite Mountain, AK: Bear Creek Mining Strip"
        ],
        [
         "04A",
         "Lik, AK: Lik Mining Camp"
        ],
        [
         "05A",
         "Little Squaw, AK: Little Squaw Airport"
        ],
        [
         "06A",
         "Kizhuyak, AK: Kizhuyak Bay"
        ],
        [
         "07A",
         "Klawock, AK: Klawock Seaplane Base"
        ],
        [
         "08A",
         "Elizabeth Island, AK: Elizabeth Island Airport"
        ],
        [
         "09A",
         "Homer, AK: Augustin Island"
        ],
        [
         "1AK",
         "Mertarvik, AK: Mertarvik Quarry Road Landing Strip"
        ],
        [
         "1B1",
         "Hudson, NY: Columbia County"
        ]
       ],
       "datasetInfos": [],
       "dbfsResultPath": null,
       "isJsonSchema": true,
       "metadata": {},
       "overflow": false,
       "plotOptions": {
        "customPlotOptions": {},
        "displayType": "table",
        "pivotAggregation": null,
        "pivotColumns": null,
        "xColumns": null,
        "yColumns": null
       },
       "removedWidgets": [],
       "schema": [
        {
         "metadata": "{}",
         "name": "Code",
         "type": "\"string\""
        },
        {
         "metadata": "{}",
         "name": "Description",
         "type": "\"string\""
        }
       ],
       "type": "table"
      }
     },
     "output_type": "display_data"
    }
   ],
   "source": [
    "# File location and type\n",
    "l_airport_file_location = \"/FileStore/tables/L_AIRPORT.csv\"\n",
    "file_type = \"csv\"\n",
    "\n",
    "# CSV options\n",
    "infer_schema = \"true\"\n",
    "first_row_is_header = \"true\"\n",
    "delimiter = \",\"\n",
    "\n",
    "\n",
    "airport = (\n",
    "    spark.read.format(file_type)\n",
    "    .option(\"inferSchema\", infer_schema)\n",
    "    .option(\"header\", first_row_is_header)\n",
    "    .option(\"sep\", delimiter)\n",
    "    .option(\"quote\", '\"') # To handle commas correctly\n",
    "    .option(\"escape\", '\"')\n",
    "    .option(\"multiLine\", \"true\")  # Allow fields to span multiple lines (helps with complex quoted fields)\n",
    "    .option(\"mode\", \"PERMISSIVE\") # Avoid failing on corrupt records\n",
    "    .load(l_airport_file_location)\n",
    ")\n",
    "\n",
    "\n",
    "# Display result\n",
    "airport.limit(10).display()"
   ]
  },
  {
   "cell_type": "code",
   "execution_count": 0,
   "metadata": {
    "application/vnd.databricks.v1+cell": {
     "cellMetadata": {
      "byteLimit": 2048000,
      "rowLimit": 10000
     },
     "inputWidgets": {},
     "nuid": "bf4526ff-8d46-4a59-85c7-28768dfcad64",
     "showTitle": false,
     "tableResultSettingsMap": {},
     "title": ""
    }
   },
   "outputs": [
    {
     "output_type": "display_data",
     "data": {
      "text/html": [
       "<style scoped>\n",
       "  .table-result-container {\n",
       "    max-height: 300px;\n",
       "    overflow: auto;\n",
       "  }\n",
       "  table, th, td {\n",
       "    border: 1px solid black;\n",
       "    border-collapse: collapse;\n",
       "  }\n",
       "  th, td {\n",
       "    padding: 5px;\n",
       "  }\n",
       "  th {\n",
       "    text-align: left;\n",
       "  }\n",
       "</style><div class='table-result-container'><table class='table-result'><thead style='background-color: white'><tr><th>Code</th><th>Description</th></tr></thead><tbody><tr><td>10001</td><td>Afognak Lake, AK: Afognak Lake Airport</td></tr><tr><td>10003</td><td>Granite Mountain, AK: Bear Creek Mining Strip</td></tr><tr><td>10004</td><td>Lik, AK: Lik Mining Camp</td></tr><tr><td>10005</td><td>Little Squaw, AK: Little Squaw Airport</td></tr><tr><td>10006</td><td>Kizhuyak, AK: Kizhuyak Bay</td></tr><tr><td>10007</td><td>Klawock, AK: Klawock Seaplane Base</td></tr><tr><td>10008</td><td>Elizabeth Island, AK: Elizabeth Island Airport</td></tr><tr><td>10009</td><td>Homer, AK: Augustin Island</td></tr><tr><td>10010</td><td>Hudson, NY: Columbia County</td></tr><tr><td>10011</td><td>Peach Springs, AZ: Grand Canyon West</td></tr></tbody></table></div>"
      ]
     },
     "metadata": {
      "application/vnd.databricks.v1+output": {
       "addedWidgets": {},
       "aggData": [],
       "aggError": "",
       "aggOverflow": false,
       "aggSchema": [],
       "aggSeriesLimitReached": false,
       "aggType": "",
       "arguments": {},
       "columnCustomDisplayInfos": {},
       "data": [
        [
         10001,
         "Afognak Lake, AK: Afognak Lake Airport"
        ],
        [
         10003,
         "Granite Mountain, AK: Bear Creek Mining Strip"
        ],
        [
         10004,
         "Lik, AK: Lik Mining Camp"
        ],
        [
         10005,
         "Little Squaw, AK: Little Squaw Airport"
        ],
        [
         10006,
         "Kizhuyak, AK: Kizhuyak Bay"
        ],
        [
         10007,
         "Klawock, AK: Klawock Seaplane Base"
        ],
        [
         10008,
         "Elizabeth Island, AK: Elizabeth Island Airport"
        ],
        [
         10009,
         "Homer, AK: Augustin Island"
        ],
        [
         10010,
         "Hudson, NY: Columbia County"
        ],
        [
         10011,
         "Peach Springs, AZ: Grand Canyon West"
        ]
       ],
       "datasetInfos": [],
       "dbfsResultPath": null,
       "isJsonSchema": true,
       "metadata": {},
       "overflow": false,
       "plotOptions": {
        "customPlotOptions": {},
        "displayType": "table",
        "pivotAggregation": null,
        "pivotColumns": null,
        "xColumns": null,
        "yColumns": null
       },
       "removedWidgets": [],
       "schema": [
        {
         "metadata": "{}",
         "name": "Code",
         "type": "\"integer\""
        },
        {
         "metadata": "{}",
         "name": "Description",
         "type": "\"string\""
        }
       ],
       "type": "table"
      }
     },
     "output_type": "display_data"
    }
   ],
   "source": [
    "# File location and type\n",
    "l_airport_id_file_location = \"/FileStore/tables/L_AIRPORT_ID.csv\"\n",
    "file_type = \"csv\"\n",
    "\n",
    "# CSV options\n",
    "infer_schema = \"true\"\n",
    "first_row_is_header = \"true\"\n",
    "delimiter = \",\"\n",
    "\n",
    "\n",
    "airport_id = (\n",
    "    spark.read.format(file_type)\n",
    "    .option(\"inferSchema\", infer_schema)\n",
    "    .option(\"header\", first_row_is_header)\n",
    "    .option(\"sep\", delimiter)\n",
    "    .option(\"quote\", '\"') # To handle commas correctly\n",
    "    .option(\"escape\", '\"')\n",
    "    .option(\"multiLine\", \"true\")  # Allow fields to span multiple lines (helps with complex quoted fields)\n",
    "    .option(\"mode\", \"PERMISSIVE\") # Avoid failing on corrupt records\n",
    "    .load(l_airport_id_file_location)\n",
    ")\n",
    "\n",
    "\n",
    "# Display result\n",
    "airport_id.limit(10).display()"
   ]
  },
  {
   "cell_type": "code",
   "execution_count": 0,
   "metadata": {
    "application/vnd.databricks.v1+cell": {
     "cellMetadata": {
      "byteLimit": 2048000,
      "rowLimit": 10000
     },
     "inputWidgets": {},
     "nuid": "a1eb854c-ee70-4ce3-aae7-a21a1d473439",
     "showTitle": false,
     "tableResultSettingsMap": {},
     "title": ""
    }
   },
   "outputs": [
    {
     "output_type": "display_data",
     "data": {
      "text/html": [
       "<style scoped>\n",
       "  .table-result-container {\n",
       "    max-height: 300px;\n",
       "    overflow: auto;\n",
       "  }\n",
       "  table, th, td {\n",
       "    border: 1px solid black;\n",
       "    border-collapse: collapse;\n",
       "  }\n",
       "  th, td {\n",
       "    padding: 5px;\n",
       "  }\n",
       "  th {\n",
       "    text-align: left;\n",
       "  }\n",
       "</style><div class='table-result-container'><table class='table-result'><thead style='background-color: white'><tr><th>Description</th><th>airport_id</th><th>iata_code</th></tr></thead><tbody><tr><td>Afognak Lake, AK: Afognak Lake Airport</td><td>10001</td><td>01A</td></tr><tr><td>Granite Mountain, AK: Bear Creek Mining Strip</td><td>10003</td><td>03A</td></tr><tr><td>Lik, AK: Lik Mining Camp</td><td>10004</td><td>04A</td></tr><tr><td>Little Squaw, AK: Little Squaw Airport</td><td>10005</td><td>05A</td></tr><tr><td>Kizhuyak, AK: Kizhuyak Bay</td><td>10006</td><td>06A</td></tr><tr><td>Klawock, AK: Klawock Seaplane Base</td><td>10007</td><td>07A</td></tr><tr><td>Elizabeth Island, AK: Elizabeth Island Airport</td><td>10008</td><td>08A</td></tr><tr><td>Homer, AK: Augustin Island</td><td>10009</td><td>09A</td></tr><tr><td>Hudson, NY: Columbia County</td><td>10010</td><td>1B1</td></tr><tr><td>Peach Springs, AZ: Grand Canyon West</td><td>10011</td><td>DQR</td></tr></tbody></table></div>"
      ]
     },
     "metadata": {
      "application/vnd.databricks.v1+output": {
       "addedWidgets": {},
       "aggData": [],
       "aggError": "",
       "aggOverflow": false,
       "aggSchema": [],
       "aggSeriesLimitReached": false,
       "aggType": "",
       "arguments": {},
       "columnCustomDisplayInfos": {},
       "data": [
        [
         "Afognak Lake, AK: Afognak Lake Airport",
         10001,
         "01A"
        ],
        [
         "Granite Mountain, AK: Bear Creek Mining Strip",
         10003,
         "03A"
        ],
        [
         "Lik, AK: Lik Mining Camp",
         10004,
         "04A"
        ],
        [
         "Little Squaw, AK: Little Squaw Airport",
         10005,
         "05A"
        ],
        [
         "Kizhuyak, AK: Kizhuyak Bay",
         10006,
         "06A"
        ],
        [
         "Klawock, AK: Klawock Seaplane Base",
         10007,
         "07A"
        ],
        [
         "Elizabeth Island, AK: Elizabeth Island Airport",
         10008,
         "08A"
        ],
        [
         "Homer, AK: Augustin Island",
         10009,
         "09A"
        ],
        [
         "Hudson, NY: Columbia County",
         10010,
         "1B1"
        ],
        [
         "Peach Springs, AZ: Grand Canyon West",
         10011,
         "DQR"
        ]
       ],
       "datasetInfos": [],
       "dbfsResultPath": null,
       "isJsonSchema": true,
       "metadata": {},
       "overflow": false,
       "plotOptions": {
        "customPlotOptions": {},
        "displayType": "table",
        "pivotAggregation": null,
        "pivotColumns": null,
        "xColumns": null,
        "yColumns": null
       },
       "removedWidgets": [],
       "schema": [
        {
         "metadata": "{}",
         "name": "Description",
         "type": "\"string\""
        },
        {
         "metadata": "{}",
         "name": "airport_id",
         "type": "\"integer\""
        },
        {
         "metadata": "{}",
         "name": "iata_code",
         "type": "\"string\""
        }
       ],
       "type": "table"
      }
     },
     "output_type": "display_data"
    }
   ],
   "source": [
    "airport_id = airport_id.withColumnRenamed(\"Code\", \"airport_id\")\n",
    "airport = airport.withColumnRenamed(\"Code\", \"iata_code\")\n",
    "\n",
    "# Join on Description\n",
    "airport_full = airport_id.join(airport, on=\"Description\", how=\"inner\")\n",
    "\n",
    "# Final selection\n",
    "airport_full.select(\"iata_code\", \"airport_id\", \"Description\")\n",
    "\n",
    "airport_full.limit(10).display()"
   ]
  },
  {
   "cell_type": "markdown",
   "metadata": {
    "application/vnd.databricks.v1+cell": {
     "cellMetadata": {
      "byteLimit": 2048000,
      "rowLimit": 10000
     },
     "inputWidgets": {},
     "nuid": "fbdc428f-d24b-401f-acff-4fe4507bdc28",
     "showTitle": false,
     "tableResultSettingsMap": {},
     "title": ""
    }
   },
   "source": [
    "### 6a.3.2.2 Function to replace numerical airport codes"
   ]
  },
  {
   "cell_type": "markdown",
   "metadata": {
    "application/vnd.databricks.v1+cell": {
     "cellMetadata": {
      "byteLimit": 2048000,
      "rowLimit": 10000
     },
     "inputWidgets": {},
     "nuid": "58cd9e61-53e5-4143-a6e1-711973ccb057",
     "showTitle": false,
     "tableResultSettingsMap": {},
     "title": ""
    }
   },
   "source": [
    "We define a function to identify and replace numerical airport codes in the ORIGIN_AIRPORT and DESTINATION_AIRPORT columns with their corresponding IATA codes using the mapping dataframe. The function returns a cleaned dataframe with two new columns: ORIGIN_AIRPORT_CLEAN and DESTINATION_AIRPORT_CLEAN."
   ]
  },
  {
   "cell_type": "code",
   "execution_count": 0,
   "metadata": {
    "application/vnd.databricks.v1+cell": {
     "cellMetadata": {
      "byteLimit": 2048000,
      "rowLimit": 10000
     },
     "inputWidgets": {},
     "nuid": "e48977cc-9a0c-42ce-91eb-d91386755e50",
     "showTitle": false,
     "tableResultSettingsMap": {},
     "title": ""
    }
   },
   "outputs": [],
   "source": [
    "def replace_numeric_airports(df, airport_mapping_df):\n",
    "    \"\"\"\n",
    "    Replace numeric airport codes in ORIGIN_AIRPORT and DESTINATION_AIRPORT\n",
    "    with IATA codes.\n",
    "\n",
    "    Parameters:\n",
    "    df (DataFrame): input dataframe\n",
    "    airport_mapping_df (DataFrame): must contain columns ['airport_code', 'iata_code']\n",
    "\n",
    "    Returns:\n",
    "    DataFrame: cleaned DataFrame with ORIGIN_AIRPORT_CLEAN and DESTINATION_AIRPORT_CLEAN\n",
    "    \"\"\"\n",
    "\n",
    "    # Filter numeric origin and destination airport codes\n",
    "    numeric_origin_df = df.filter(col(\"ORIGIN_AIRPORT\").rlike(\"^[0-9]+\")) \\\n",
    "                                .select(col(\"ORIGIN_AIRPORT\").cast(\"string\").alias(\"airport_code\"))\n",
    "\n",
    "    numeric_dest_df = df.filter(col(\"DESTINATION_AIRPORT\").rlike(\"^[0-9]+\")) \\\n",
    "                            .select(col(\"DESTINATION_AIRPORT\").cast(\"string\").alias(\"airport_code\"))\n",
    "\n",
    "    print(\"Unique numeric ORIGIN_AIRPORT codes:\", numeric_origin_df.select(\"airport_code\").distinct().count())\n",
    "    print(\"Unique numeric DESTINATION_AIRPORT codes:\", numeric_dest_df.select(\"airport_code\").distinct().count())\n",
    "\n",
    "    # Union and drop duplicates to get unique codes from both origin and destination\n",
    "    numeric_airports_df = numeric_origin_df.union(numeric_dest_df).distinct()\n",
    "\n",
    "    print(\"Total unique numeric airport codes:\", numeric_airports_df.count())\n",
    "\n",
    "    # Union and drop duplicates to get unique codes from both origin and destination\n",
    "    mapped_airports = numeric_airports_df.select(\"airport_code\").distinct() \\\n",
    "        .join(\n",
    "            airport_full.select(\"airport_id\", \"iata_code\"),\n",
    "            numeric_airports_df[\"airport_code\"] == airport_full[\"airport_id\"],\n",
    "            how=\"left\"\n",
    "        ) \\\n",
    "        .select(\"airport_code\", \"iata_code\") \\\n",
    "        .dropDuplicates()\n",
    "\n",
    "    # Join with mapping for ORIGIN and DESTINATION\n",
    "    joined_df = df \\\n",
    "        .join(mapped_airports.withColumnRenamed(\"airport_code\", \"origin_id\").withColumnRenamed(\"iata_code\", \"origin_iata\"),\n",
    "            df[\"ORIGIN_AIRPORT\"] == col(\"origin_id\"),\n",
    "            how=\"left\") \\\n",
    "        .join(mapped_airports.withColumnRenamed(\"airport_code\", \"dest_id\").withColumnRenamed(\"iata_code\", \"dest_iata\"),\n",
    "            df[\"DESTINATION_AIRPORT\"] == col(\"dest_id\"),\n",
    "            how=\"left\")\n",
    "\n",
    "    # Replace numeric codes with IATA codes if available\n",
    "    replaced_df = joined_df.withColumn(\n",
    "        \"ORIGIN_AIRPORT_CLEAN\",\n",
    "        when(col(\"origin_iata\").isNotNull(), col(\"origin_iata\")).otherwise(col(\"ORIGIN_AIRPORT\"))\n",
    "    ).withColumn(\n",
    "        \"DESTINATION_AIRPORT_CLEAN\",\n",
    "        when(col(\"dest_iata\").isNotNull(), col(\"dest_iata\")).otherwise(col(\"DESTINATION_AIRPORT\"))\n",
    "    )\n",
    "\n",
    "    # Filter numeric origin and destination airport codes\n",
    "    numeric_origin_df = replaced_df.filter(col(\"ORIGIN_AIRPORT_CLEAN\").rlike(\"^[0-9]+\")) \\\n",
    "                                .select(col(\"ORIGIN_AIRPORT_CLEAN\").cast(\"string\").alias(\"airport_code\"))\n",
    "\n",
    "    numeric_dest_df = replaced_df.filter(col(\"DESTINATION_AIRPORT_CLEAN\").rlike(\"^[0-9]+\")) \\\n",
    "                            .select(col(\"DESTINATION_AIRPORT_CLEAN\").cast(\"string\").alias(\"airport_code\"))\n",
    "\n",
    "    # Count numeric entries\n",
    "    print(\"Numeric ORIGIN_AIRPORT_CLEAN count:\", numeric_origin_df.count())\n",
    "    print(\"Numeric DESTINATION_AIRPORT_CLEAN count:\", numeric_dest_df.count())\n",
    "\n",
    "    # Clean up\n",
    "    return replaced_df.drop(\"origin_id\", \"dest_id\", \"origin_iata\", \"dest_iata\")\n"
   ]
  },
  {
   "cell_type": "code",
   "execution_count": 0,
   "metadata": {
    "application/vnd.databricks.v1+cell": {
     "cellMetadata": {
      "byteLimit": 2048000,
      "rowLimit": 10000
     },
     "inputWidgets": {},
     "nuid": "b983d0d3-ea06-4213-bba7-ae7da8202c5d",
     "showTitle": false,
     "tableResultSettingsMap": {},
     "title": ""
    }
   },
   "outputs": [
    {
     "output_type": "stream",
     "name": "stdout",
     "output_type": "stream",
     "text": [
      "Unique numeric ORIGIN_AIRPORT codes: 206\nUnique numeric DESTINATION_AIRPORT codes: 211\nTotal unique numeric airport codes: 253\nNumeric ORIGIN_AIRPORT_CLEAN count: 0\nNumeric DESTINATION_AIRPORT_CLEAN count: 0\n"
     ]
    }
   ],
   "source": [
    "cleaned_sampled_df = replace_numeric_airports(df_sampled, airport_full)"
   ]
  },
  {
   "cell_type": "markdown",
   "metadata": {
    "application/vnd.databricks.v1+cell": {
     "cellMetadata": {
      "byteLimit": 2048000,
      "rowLimit": 10000
     },
     "inputWidgets": {},
     "nuid": "52d7c513-83e5-4812-b78d-8521bfc3c4c3",
     "showTitle": false,
     "tableResultSettingsMap": {},
     "title": ""
    }
   },
   "source": [
    "## 6a.3.3 Missing values"
   ]
  },
  {
   "cell_type": "markdown",
   "metadata": {
    "application/vnd.databricks.v1+cell": {
     "cellMetadata": {
      "byteLimit": 2048000,
      "rowLimit": 10000
     },
     "inputWidgets": {},
     "nuid": "f8018731-128d-4eb5-8edc-ce7433793bef",
     "showTitle": false,
     "tableResultSettingsMap": {},
     "title": ""
    }
   },
   "source": [
    "As seen in 1_EDA, there's missing values in cancelation reason. Since the feature is not relevant for analysis, we will drop it."
   ]
  },
  {
   "cell_type": "code",
   "execution_count": 0,
   "metadata": {
    "application/vnd.databricks.v1+cell": {
     "cellMetadata": {
      "byteLimit": 2048000,
      "rowLimit": 10000
     },
     "inputWidgets": {},
     "nuid": "2f8090d1-59a0-4385-a4fc-93525f3a634d",
     "showTitle": false,
     "tableResultSettingsMap": {},
     "title": ""
    }
   },
   "outputs": [],
   "source": [
    "cleaned_sampled_df = cleaned_sampled_df.drop(\"CANCELLATION_REASON\")"
   ]
  },
  {
   "cell_type": "markdown",
   "metadata": {
    "application/vnd.databricks.v1+cell": {
     "cellMetadata": {
      "byteLimit": 2048000,
      "rowLimit": 10000
     },
     "inputWidgets": {},
     "nuid": "94157be6-c90f-42f0-8bc9-6eb3125e03ad",
     "showTitle": false,
     "tableResultSettingsMap": {},
     "title": ""
    }
   },
   "source": [
    "## 6a.3.4 Feature Engineering"
   ]
  },
  {
   "cell_type": "markdown",
   "metadata": {
    "application/vnd.databricks.v1+cell": {
     "cellMetadata": {
      "byteLimit": 2048000,
      "rowLimit": 10000
     },
     "inputWidgets": {},
     "nuid": "fd7be04d-f278-47b8-98c5-095f7447b779",
     "showTitle": false,
     "tableResultSettingsMap": {},
     "title": ""
    }
   },
   "source": [
    "### 6a.3.4.1 Functions"
   ]
  },
  {
   "cell_type": "markdown",
   "metadata": {
    "application/vnd.databricks.v1+cell": {
     "cellMetadata": {
      "byteLimit": 2048000,
      "rowLimit": 10000
     },
     "inputWidgets": {},
     "nuid": "b61d4236-e6ad-46aa-b57a-4f8a34737a11",
     "showTitle": false,
     "tableResultSettingsMap": {},
     "title": ""
    }
   },
   "source": [
    "#### Seasonality from Month\n",
    "To capture seasonal patterns, we created a new categorical feature SEASON based on MONTH:\n",
    "\n",
    "| Season  | Months                     |\n",
    "|---------|----------------------------|\n",
    "| Winter  | December, January, February |\n",
    "| Spring  | March, April, May           |\n",
    "| Summer  | June, July, August          |\n",
    "| Autumn  | September, October, November |\n"
   ]
  },
  {
   "cell_type": "code",
   "execution_count": 0,
   "metadata": {
    "application/vnd.databricks.v1+cell": {
     "cellMetadata": {
      "byteLimit": 2048000,
      "rowLimit": 10000
     },
     "inputWidgets": {},
     "nuid": "6d31291f-bf76-480a-9f46-e7a3d439a92a",
     "showTitle": false,
     "tableResultSettingsMap": {},
     "title": ""
    }
   },
   "outputs": [],
   "source": [
    "def add_season_column(df):\n",
    "    return df.withColumn(\"SEASON\",\n",
    "        when(col(\"MONTH\").isin(12, 1, 2), \"Winter\")\n",
    "        .when(col(\"MONTH\").isin(3, 4, 5), \"Spring\")\n",
    "        .when(col(\"MONTH\").isin(6, 7, 8), \"Summer\")\n",
    "        .when(col(\"MONTH\").isin(9, 10, 11), \"Autumn\"))"
   ]
  },
  {
   "cell_type": "markdown",
   "metadata": {
    "application/vnd.databricks.v1+cell": {
     "cellMetadata": {
      "byteLimit": 2048000,
      "rowLimit": 10000
     },
     "inputWidgets": {},
     "nuid": "4099cc36-3a87-488d-9fd7-3f37fb2e0ca5",
     "showTitle": false,
     "tableResultSettingsMap": {},
     "title": ""
    }
   },
   "source": [
    "#### Departure Period from Scheduled Time\n",
    "\n",
    "We created a new feature DEPARTURE_PERIOD based on the SCHEDULED_DEPARTURE time. The mapping is as follows:\n",
    "\n",
    "| Period        | Time Range         |\n",
    "|---------------|--------------------|\n",
    "| Early Morning | 04:00 - 07:59      |\n",
    "| Morning       | 08:00 - 11:59      |\n",
    "| Midday        | 12:00 - 13:59      |\n",
    "| Afternoon     | 14:00 - 17:59      |\n",
    "| Evening       | 18:00 - 20:59      |\n",
    "| Night         | 21:00 - 23:59      |\n",
    "| Late Night    | 00:00 - 03:59      |\n"
   ]
  },
  {
   "cell_type": "code",
   "execution_count": 0,
   "metadata": {
    "application/vnd.databricks.v1+cell": {
     "cellMetadata": {
      "byteLimit": 2048000,
      "rowLimit": 10000
     },
     "inputWidgets": {},
     "nuid": "f5521793-f1de-43ba-b47d-4cc09b4d13a3",
     "showTitle": false,
     "tableResultSettingsMap": {},
     "title": ""
    }
   },
   "outputs": [],
   "source": [
    "def add_scheduled_dep_period_column(df):\n",
    "    hour = floor(col(\"SCHEDULED_DEPARTURE\") / 100)\n",
    "    return df.withColumn(\n",
    "        \"SCHEDULED_DEPARTURE_PERIOD\",\n",
    "        when((hour >= 4) & (hour <= 7), \"Early Morning\")\n",
    "        .when((hour >= 8) & (hour <= 11), \"Morning\")\n",
    "        .when((hour >= 12) & (hour <= 13), \"Midday\")\n",
    "        .when((hour >= 14) & (hour <= 17), \"Afternoon\")\n",
    "        .when((hour >= 18) & (hour <= 20), \"Evening\")\n",
    "        .when((hour >= 21) & (hour <= 23), \"Night\")\n",
    "        .otherwise(\"Late Night\")  # 00:00–03:59\n",
    "    )\n"
   ]
  },
  {
   "cell_type": "markdown",
   "metadata": {
    "application/vnd.databricks.v1+cell": {
     "cellMetadata": {
      "byteLimit": 2048000,
      "rowLimit": 10000
     },
     "inputWidgets": {},
     "nuid": "6895edf7-7b84-411e-812f-edf9c1f3f0f6",
     "showTitle": false,
     "tableResultSettingsMap": {},
     "title": ""
    }
   },
   "source": [
    "#### IS_WEEKEND\n"
   ]
  },
  {
   "cell_type": "code",
   "execution_count": 0,
   "metadata": {
    "application/vnd.databricks.v1+cell": {
     "cellMetadata": {
      "byteLimit": 2048000,
      "rowLimit": 10000
     },
     "inputWidgets": {},
     "nuid": "5f86510f-b9e2-4a4d-a2d8-d08778671c5c",
     "showTitle": false,
     "tableResultSettingsMap": {},
     "title": ""
    }
   },
   "outputs": [],
   "source": [
    "def add_is_weekend_column(df):\n",
    "    return df.withColumn(\"IS_WEEKEND\", (col(\"DAY_OF_WEEK\") >= 6).cast(\"int\"))"
   ]
  },
  {
   "cell_type": "markdown",
   "metadata": {
    "application/vnd.databricks.v1+cell": {
     "cellMetadata": {
      "byteLimit": 2048000,
      "rowLimit": 10000
     },
     "inputWidgets": {},
     "nuid": "f3f2d5a8-6a21-44c7-9a27-c4be0cfad61f",
     "showTitle": false,
     "tableResultSettingsMap": {},
     "title": ""
    }
   },
   "source": [
    "#### DELAYED_DEPARTURE_FLAG"
   ]
  },
  {
   "cell_type": "markdown",
   "metadata": {
    "application/vnd.databricks.v1+cell": {
     "cellMetadata": {
      "byteLimit": 2048000,
      "rowLimit": 10000
     },
     "inputWidgets": {},
     "nuid": "a9755ce5-2f2e-43f2-b75f-6a68552901ab",
     "showTitle": false,
     "tableResultSettingsMap": {},
     "title": ""
    }
   },
   "source": [
    "A flight is officially considered “delayed” if its departure is more than 15 minutes late:\n",
    "https://www.oag.com/airline-on-time-performance-defining-late#fifteenmins"
   ]
  },
  {
   "cell_type": "code",
   "execution_count": 0,
   "metadata": {
    "application/vnd.databricks.v1+cell": {
     "cellMetadata": {
      "byteLimit": 2048000,
      "rowLimit": 10000
     },
     "inputWidgets": {},
     "nuid": "316644ed-0e72-4754-a09e-fa835ec96f74",
     "showTitle": false,
     "tableResultSettingsMap": {},
     "title": ""
    }
   },
   "outputs": [],
   "source": [
    "def add_delayed_departure_flag_column(df):\n",
    "    return df.withColumn(\"DELAYED_DEPARTURE_FLAG\", (col(\"DEPARTURE_DELAY\") > 15).cast(\"int\"))"
   ]
  },
  {
   "cell_type": "markdown",
   "metadata": {
    "application/vnd.databricks.v1+cell": {
     "cellMetadata": {
      "byteLimit": 2048000,
      "rowLimit": 10000
     },
     "inputWidgets": {},
     "nuid": "d2e1575f-216c-4b85-bba7-6550a0d381f8",
     "showTitle": false,
     "tableResultSettingsMap": {},
     "title": ""
    }
   },
   "source": [
    "#### ROUTE"
   ]
  },
  {
   "cell_type": "code",
   "execution_count": 0,
   "metadata": {
    "application/vnd.databricks.v1+cell": {
     "cellMetadata": {
      "byteLimit": 2048000,
      "rowLimit": 10000
     },
     "inputWidgets": {},
     "nuid": "10a85acf-6d6c-4379-ba6e-76e53cb924d6",
     "showTitle": false,
     "tableResultSettingsMap": {},
     "title": ""
    }
   },
   "outputs": [],
   "source": [
    "def add_route_column(df):\n",
    "    return df.withColumn(\"ROUTE\", concat_ws(\"_\", col(\"ORIGIN_AIRPORT_CLEAN\"), col(\"DESTINATION_AIRPORT_CLEAN\")))"
   ]
  },
  {
   "cell_type": "markdown",
   "metadata": {
    "application/vnd.databricks.v1+cell": {
     "cellMetadata": {
      "byteLimit": 2048000,
      "rowLimit": 10000
     },
     "inputWidgets": {},
     "nuid": "ab789968-b7b1-49e7-afb5-b682d08416cd",
     "showTitle": false,
     "tableResultSettingsMap": {},
     "title": ""
    }
   },
   "source": [
    "#### TOTAL_KNOWN_DELAY"
   ]
  },
  {
   "cell_type": "markdown",
   "metadata": {
    "application/vnd.databricks.v1+cell": {
     "cellMetadata": {
      "byteLimit": 2048000,
      "rowLimit": 10000
     },
     "inputWidgets": {},
     "nuid": "f678b6dc-e14a-4ed5-b388-6177de0922df",
     "showTitle": false,
     "tableResultSettingsMap": {},
     "title": ""
    }
   },
   "source": [
    "In \"Choerence Checking\" section, is proved to be exactly the same as \"ARRIVAL_DELAY\""
   ]
  },
  {
   "cell_type": "code",
   "execution_count": 0,
   "metadata": {
    "application/vnd.databricks.v1+cell": {
     "cellMetadata": {
      "byteLimit": 2048000,
      "rowLimit": 10000
     },
     "inputWidgets": {},
     "nuid": "ce10caf8-8165-462b-b251-27c0c079fc15",
     "showTitle": false,
     "tableResultSettingsMap": {},
     "title": ""
    }
   },
   "outputs": [],
   "source": [
    "def add_total_known_delay(df):\n",
    "    return df.withColumn(\n",
    "        \"TOTAL_KNOWN_DELAY\",\n",
    "        coalesce(col(\"AIR_SYSTEM_DELAY\"), lit(0)) +\n",
    "        coalesce(col(\"SECURITY_DELAY\"), lit(0)) +\n",
    "        coalesce(col(\"AIRLINE_DELAY\"), lit(0)) +\n",
    "        coalesce(col(\"LATE_AIRCRAFT_DELAY\"), lit(0)) +\n",
    "        coalesce(col(\"WEATHER_DELAY\"), lit(0))\n",
    "    )"
   ]
  },
  {
   "cell_type": "markdown",
   "metadata": {
    "application/vnd.databricks.v1+cell": {
     "cellMetadata": {
      "byteLimit": 2048000,
      "rowLimit": 10000
     },
     "inputWidgets": {},
     "nuid": "4cd2723e-aac6-4d10-9dc8-d49f31986e8e",
     "showTitle": false,
     "tableResultSettingsMap": {},
     "title": ""
    }
   },
   "source": [
    "#### HHMM columns to minutes from midnight"
   ]
  },
  {
   "cell_type": "code",
   "execution_count": 0,
   "metadata": {
    "application/vnd.databricks.v1+cell": {
     "cellMetadata": {
      "byteLimit": 2048000,
      "rowLimit": 10000
     },
     "inputWidgets": {},
     "nuid": "c84c2b0d-ad54-4a9b-89f4-128eaa94fb1f",
     "showTitle": false,
     "tableResultSettingsMap": {},
     "title": ""
    }
   },
   "outputs": [],
   "source": [
    "def hhmm_to_minutes(colname):\n",
    "    return (floor(col(colname) / 100) * 60 + (col(colname) % 100)).alias(colname + \"_min\")"
   ]
  },
  {
   "cell_type": "markdown",
   "metadata": {
    "application/vnd.databricks.v1+cell": {
     "cellMetadata": {
      "byteLimit": 2048000,
      "rowLimit": 10000
     },
     "inputWidgets": {},
     "nuid": "4991f603-a46b-441a-a6cb-4347474fbe31",
     "showTitle": false,
     "tableResultSettingsMap": {},
     "title": ""
    }
   },
   "source": [
    "### 6a.3.4.2 Applying functions"
   ]
  },
  {
   "cell_type": "code",
   "execution_count": 0,
   "metadata": {
    "application/vnd.databricks.v1+cell": {
     "cellMetadata": {
      "byteLimit": 2048000,
      "rowLimit": 10000
     },
     "inputWidgets": {},
     "nuid": "11955eb1-18c0-468b-bc14-5f7f2bcc86ee",
     "showTitle": false,
     "tableResultSettingsMap": {},
     "title": ""
    }
   },
   "outputs": [],
   "source": [
    "cleaned_sampled_df = add_season_column(cleaned_sampled_df)\n",
    "cleaned_sampled_df = add_scheduled_dep_period_column(cleaned_sampled_df)\n",
    "cleaned_sampled_df = add_is_weekend_column(cleaned_sampled_df)\n",
    "cleaned_sampled_df = add_delayed_departure_flag_column(cleaned_sampled_df)\n",
    "cleaned_sampled_df = add_route_column(cleaned_sampled_df)\n",
    "cleaned_sampled_df = add_total_known_delay(cleaned_sampled_df)"
   ]
  },
  {
   "cell_type": "code",
   "execution_count": 0,
   "metadata": {
    "application/vnd.databricks.v1+cell": {
     "cellMetadata": {
      "byteLimit": 2048000,
      "rowLimit": 10000
     },
     "inputWidgets": {},
     "nuid": "76628383-7f9b-47d9-89ad-60d76bf7c08c",
     "showTitle": false,
     "tableResultSettingsMap": {},
     "title": ""
    }
   },
   "outputs": [],
   "source": [
    "cleaned_sampled_df = cleaned_sampled_df.withColumn(\"SCHEDULED_DEPARTURE_min\", hhmm_to_minutes(\"SCHEDULED_DEPARTURE\"))\n",
    "cleaned_sampled_df = cleaned_sampled_df.withColumn(\"SCHEDULED_ARRIVAL_min\", hhmm_to_minutes(\"SCHEDULED_ARRIVAL\"))\n",
    "cleaned_sampled_df = cleaned_sampled_df.withColumn(\"DEPARTURE_TIME_min\", hhmm_to_minutes(\"DEPARTURE_TIME\"))\n",
    "cleaned_sampled_df = cleaned_sampled_df.withColumn(\"WHEELS_OFF_min\", hhmm_to_minutes(\"WHEELS_OFF\"))\n",
    "cleaned_sampled_df = cleaned_sampled_df.withColumn(\"ARRIVAL_TIME_min\", hhmm_to_minutes(\"ARRIVAL_TIME\"))\n",
    "cleaned_sampled_df = cleaned_sampled_df.withColumn(\"DEPARTURE_TIME_min\", hhmm_to_minutes(\"DEPARTURE_TIME\"))"
   ]
  },
  {
   "cell_type": "code",
   "execution_count": 0,
   "metadata": {
    "application/vnd.databricks.v1+cell": {
     "cellMetadata": {
      "byteLimit": 2048000,
      "rowLimit": 10000
     },
     "inputWidgets": {},
     "nuid": "7c2fad15-d5d4-456e-80b4-24e99e20f9a5",
     "showTitle": false,
     "tableResultSettingsMap": {},
     "title": ""
    }
   },
   "outputs": [],
   "source": [
    "def plot_categorical_distribution(df, column_name, title=None, xlabel=None, ylabel=\"Count\", figsize=(8, 4)):\n",
    "    \"\"\"\n",
    "    Plots the distribution of a categorical column from a PySpark DataFrame.\n",
    "\n",
    "    Parameters:\n",
    "        df (PySpark DataFrame): The input DataFrame.\n",
    "        column_name (str): The name of the categorical column to analyze.\n",
    "        title (str): Plot title.\n",
    "        xlabel (str): X-axis label.\n",
    "        ylabel (str): Y-axis label (default: \"Count\").\n",
    "        figsize (tuple): Size of the plot.\n",
    "    \"\"\"\n",
    "    dist_df = (\n",
    "        df.groupBy(column_name)\n",
    "        .count()\n",
    "        .toPandas()\n",
    "        .sort_values(\"count\", ascending=False)\n",
    "    )\n",
    "\n",
    "    plt.figure(figsize=figsize)\n",
    "    plt.bar(dist_df[column_name], dist_df[\"count\"])\n",
    "    plt.title(title if title else f\"{column_name} Distribution\")\n",
    "    plt.xlabel(xlabel if xlabel else column_name)\n",
    "    plt.ylabel(ylabel)\n",
    "    plt.xticks(rotation=45)\n",
    "    plt.tight_layout()\n",
    "    plt.show()"
   ]
  },
  {
   "cell_type": "markdown",
   "metadata": {
    "application/vnd.databricks.v1+cell": {
     "cellMetadata": {
      "byteLimit": 2048000,
      "rowLimit": 10000
     },
     "inputWidgets": {},
     "nuid": "3e7646ae-9c6a-47ae-b641-2194b01857f2",
     "showTitle": false,
     "tableResultSettingsMap": {},
     "title": ""
    }
   },
   "source": [
    "## 6a.3.5 Outliers"
   ]
  },
  {
   "cell_type": "markdown",
   "metadata": {
    "application/vnd.databricks.v1+cell": {
     "cellMetadata": {
      "byteLimit": 2048000,
      "rowLimit": 10000
     },
     "inputWidgets": {},
     "nuid": "c12e8995-52cf-498f-af34-729749a9e32b",
     "showTitle": false,
     "tableResultSettingsMap": {},
     "title": ""
    }
   },
   "source": [
    "As observed in the boxplot, DISTANCE contains outliers. To reduce their impact on the model, we cap the values at the 97.5th percentile.\n"
   ]
  },
  {
   "cell_type": "code",
   "execution_count": 0,
   "metadata": {
    "application/vnd.databricks.v1+cell": {
     "cellMetadata": {
      "byteLimit": 2048000,
      "rowLimit": 10000
     },
     "inputWidgets": {},
     "nuid": "e4038e2f-44d6-4bc7-aa1a-c1154f6ea0e3",
     "showTitle": false,
     "tableResultSettingsMap": {},
     "title": ""
    }
   },
   "outputs": [],
   "source": [
    "def cap_at_percentile(df, column, percentile):\n",
    "    threshold = df.approxQuantile(column, [percentile], 0.01)[0]\n",
    "    return df.withColumn(column, when(col(column) > threshold, threshold).otherwise(col(column)))\n"
   ]
  },
  {
   "cell_type": "code",
   "execution_count": 0,
   "metadata": {
    "application/vnd.databricks.v1+cell": {
     "cellMetadata": {
      "byteLimit": 2048000,
      "rowLimit": 10000
     },
     "inputWidgets": {},
     "nuid": "27fcb944-7167-4a92-b09a-beb91e38e33c",
     "showTitle": false,
     "tableResultSettingsMap": {},
     "title": ""
    }
   },
   "outputs": [],
   "source": [
    "cleaned_sampled_df = cap_at_percentile(cleaned_sampled_df, \"DISTANCE\", 0.975)"
   ]
  },
  {
   "cell_type": "markdown",
   "metadata": {
    "application/vnd.databricks.v1+cell": {
     "cellMetadata": {
      "byteLimit": 2048000,
      "rowLimit": 10000
     },
     "inputWidgets": {},
     "nuid": "3d038fb2-c245-417b-b036-db1ade7f07ff",
     "showTitle": false,
     "tableResultSettingsMap": {},
     "title": ""
    }
   },
   "source": [
    "## 6a.3.6 Coherence Checking"
   ]
  },
  {
   "cell_type": "markdown",
   "metadata": {
    "application/vnd.databricks.v1+cell": {
     "cellMetadata": {
      "byteLimit": 2048000,
      "rowLimit": 10000
     },
     "inputWidgets": {},
     "nuid": "e3137c50-fce7-4f8a-a432-be4c87780079",
     "showTitle": false,
     "tableResultSettingsMap": {},
     "title": ""
    }
   },
   "source": [
    "### 6a.3.6.1 Duplicated rows (after mapping airports)"
   ]
  },
  {
   "cell_type": "markdown",
   "metadata": {
    "application/vnd.databricks.v1+cell": {
     "cellMetadata": {
      "byteLimit": 2048000,
      "rowLimit": 10000
     },
     "inputWidgets": {},
     "nuid": "b25f1f6c-daf0-48ec-ae9d-f383b1d74719",
     "showTitle": false,
     "tableResultSettingsMap": {},
     "title": ""
    }
   },
   "source": [
    "We noticed airport codes repeated so we have to treat that"
   ]
  },
  {
   "cell_type": "code",
   "execution_count": 0,
   "metadata": {
    "application/vnd.databricks.v1+cell": {
     "cellMetadata": {
      "byteLimit": 2048000,
      "rowLimit": 10000
     },
     "inputWidgets": {},
     "nuid": "1d1725c2-819f-4b88-bb09-35f90cb8fb29",
     "showTitle": false,
     "tableResultSettingsMap": {},
     "title": ""
    }
   },
   "outputs": [],
   "source": [
    "origin_train_mapping = (\n",
    "    cleaned_sampled_df.groupBy(\"ORIGIN_AIRPORT\")\n",
    "    .agg(min(\"ORIGIN_AIRPORT_CLEAN\").alias(\"PREFERRED_ORIGIN_AIRPORT_CLEAN\"))\n",
    ")\n",
    "\n",
    "destination_train_mapping = (\n",
    "    cleaned_sampled_df.groupBy(\"DESTINATION_AIRPORT\")\n",
    "    .agg(min(\"DESTINATION_AIRPORT_CLEAN\").alias(\"PREFERRED_DESTINATION_AIRPORT_CLEAN\"))\n",
    ")\n",
    "\n",
    "# Join and overwrite ORIGIN_AIRPORT_CLEAN\n",
    "cleaned_sampled_df = cleaned_sampled_df.join(\n",
    "    origin_train_mapping, on=\"ORIGIN_AIRPORT\", how=\"left\"\n",
    ")\n",
    "\n",
    "# Join and overwrite DESTINATION_AIRPORT_CLEAN\n",
    "cleaned_sampled_df = cleaned_sampled_df.join(\n",
    "    destination_train_mapping, on=\"DESTINATION_AIRPORT\", how=\"left\"\n",
    ")"
   ]
  },
  {
   "cell_type": "code",
   "execution_count": 0,
   "metadata": {
    "application/vnd.databricks.v1+cell": {
     "cellMetadata": {
      "byteLimit": 2048000,
      "rowLimit": 10000
     },
     "inputWidgets": {},
     "nuid": "53e2119f-e8e9-494f-ad16-874187d029c6",
     "showTitle": false,
     "tableResultSettingsMap": {},
     "title": ""
    }
   },
   "outputs": [],
   "source": [
    "cleaned_sampled_df = cleaned_sampled_df.filter(\n",
    "    (col(\"ORIGIN_AIRPORT_CLEAN\") == col(\"PREFERRED_ORIGIN_AIRPORT_CLEAN\")) &\n",
    "    (col(\"DESTINATION_AIRPORT_CLEAN\") == col(\"PREFERRED_DESTINATION_AIRPORT_CLEAN\"))\n",
    ")\n",
    "\n",
    "cleaned_sampled_df = cleaned_sampled_df.drop(\n",
    "    \"PREFERRED_ORIGIN_AIRPORT_CLEAN\",\n",
    "    \"PREFERRED_DESTINATION_AIRPORT_CLEAN\"\n",
    ")"
   ]
  },
  {
   "cell_type": "markdown",
   "metadata": {
    "application/vnd.databricks.v1+cell": {
     "cellMetadata": {
      "byteLimit": 2048000,
      "rowLimit": 10000
     },
     "inputWidgets": {},
     "nuid": "7abc0dca-0264-432a-b88f-4979d4d62022",
     "showTitle": false,
     "tableResultSettingsMap": {},
     "title": ""
    }
   },
   "source": [
    "### 6a.3.6.2 Other coherence checkings"
   ]
  },
  {
   "cell_type": "code",
   "execution_count": 0,
   "metadata": {
    "application/vnd.databricks.v1+cell": {
     "cellMetadata": {
      "byteLimit": 2048000,
      "rowLimit": 10000
     },
     "inputWidgets": {},
     "nuid": "35ca2b10-4946-470c-b6af-cd4dcac1c9cd",
     "showTitle": false,
     "tableResultSettingsMap": {},
     "title": ""
    }
   },
   "outputs": [],
   "source": [
    "#create a new feature, a flag, that indicates if the flight happened during midnight (1) or didn't (0), which would explain an arrival time min smaller than the departure time min, since the conversion counts the minutes since midnight\n",
    "cleaned_sampled_df = cleaned_sampled_df.withColumn(\n",
    "    'TOTAL_FLIGHT_MIDNIGHT_min',\n",
    "    col('DEPARTURE_TIME_min') + col('AIR_TIME')\n",
    ")\n",
    "\n",
    "#function to flag flights that cross midnight\n",
    "def add_crosses_midnight_flag_column(df):\n",
    "    return df.withColumn('CROSSES_MIDNIGHT_FLAG', (col('TOTAL_FLIGHT_MIDNIGHT_min') >= 1440).cast(\"int\"))\n",
    "\n",
    "cleaned_sampled_df = add_crosses_midnight_flag_column(cleaned_sampled_df)"
   ]
  },
  {
   "cell_type": "code",
   "execution_count": 0,
   "metadata": {
    "application/vnd.databricks.v1+cell": {
     "cellMetadata": {
      "byteLimit": 2048000,
      "rowLimit": 10000
     },
     "inputWidgets": {},
     "nuid": "ab0d0085-8b23-407a-853b-ad2e686059f8",
     "showTitle": false,
     "tableResultSettingsMap": {},
     "title": ""
    }
   },
   "outputs": [],
   "source": [
    "#remove rows in which departure delay is negative, the flights departure before their scheduled time\n",
    "cleaned_sampled_df = cleaned_sampled_df.filter(cleaned_sampled_df.DEPARTURE_DELAY >= 0)"
   ]
  },
  {
   "cell_type": "code",
   "execution_count": 0,
   "metadata": {
    "application/vnd.databricks.v1+cell": {
     "cellMetadata": {
      "byteLimit": 2048000,
      "rowLimit": 10000
     },
     "inputWidgets": {},
     "nuid": "3fcd46be-3396-49f4-9a5b-7d6156abdbbb",
     "showTitle": false,
     "tableResultSettingsMap": {},
     "title": ""
    }
   },
   "outputs": [],
   "source": [
    "# remove rows in which the plane left before the scheduled time without being those flights that cross midnight\n",
    "cleaned_sampled_df = cleaned_sampled_df.filter(\n",
    "    cleaned_sampled_df.DEPARTURE_TIME_min >= cleaned_sampled_df.SCHEDULED_DEPARTURE_min\n",
    ")"
   ]
  },
  {
   "cell_type": "code",
   "execution_count": 0,
   "metadata": {
    "application/vnd.databricks.v1+cell": {
     "cellMetadata": {
      "byteLimit": 2048000,
      "rowLimit": 10000
     },
     "inputWidgets": {},
     "nuid": "81bcab81-920f-4684-9d55-d19f97da3065",
     "showTitle": false,
     "tableResultSettingsMap": {},
     "title": ""
    }
   },
   "outputs": [],
   "source": [
    "# remove rows where other time constraints are not satisfied\n",
    "cleaned_sampled_df = cleaned_sampled_df.filter(\n",
    "    ~(\n",
    "        (col('CROSSES_MIDNIGHT_FLAG')!=1) &                               \n",
    "        (col(\"WHEELS_OFF_min\") < col(\"DEPARTURE_TIME_min\")) | \n",
    "        (col(\"WHEELS_ON\") < col(\"WHEELS_OFF\")) |\n",
    "        (col(\"ARRIVAL_TIME\") < col(\"WHEELS_ON\")) |\n",
    "        (col(\"SCHEDULED_ARRIVAL_min\") < col(\"SCHEDULED_DEPARTURE_min\"))\n",
    "    )\n",
    ")"
   ]
  },
  {
   "cell_type": "markdown",
   "metadata": {
    "application/vnd.databricks.v1+cell": {
     "cellMetadata": {
      "byteLimit": 2048000,
      "rowLimit": 10000
     },
     "inputWidgets": {},
     "nuid": "b16320bb-0815-4776-9a03-404834828fe4",
     "showTitle": false,
     "tableResultSettingsMap": {},
     "title": ""
    }
   },
   "source": [
    "## 6a.3.7 Drop and Rename Features"
   ]
  },
  {
   "cell_type": "code",
   "execution_count": 0,
   "metadata": {
    "application/vnd.databricks.v1+cell": {
     "cellMetadata": {
      "byteLimit": 2048000,
      "rowLimit": 10000
     },
     "inputWidgets": {},
     "nuid": "18e84927-ada9-4e5f-b88b-3ac30d16fbca",
     "showTitle": false,
     "tableResultSettingsMap": {},
     "title": ""
    }
   },
   "outputs": [
    {
     "output_type": "stream",
     "name": "stdout",
     "output_type": "stream",
     "text": [
      "root\n |-- DESTINATION_AIRPORT: string (nullable = true)\n |-- ORIGIN_AIRPORT: string (nullable = true)\n |-- YEAR: integer (nullable = true)\n |-- MONTH: integer (nullable = true)\n |-- DAY: integer (nullable = true)\n |-- DAY_OF_WEEK: integer (nullable = true)\n |-- AIRLINE: string (nullable = true)\n |-- FLIGHT_NUMBER: integer (nullable = true)\n |-- TAIL_NUMBER: string (nullable = true)\n |-- SCHEDULED_DEPARTURE: integer (nullable = true)\n |-- DEPARTURE_TIME: integer (nullable = true)\n |-- DEPARTURE_DELAY: integer (nullable = true)\n |-- TAXI_OUT: integer (nullable = true)\n |-- WHEELS_OFF: integer (nullable = true)\n |-- SCHEDULED_TIME: integer (nullable = true)\n |-- ELAPSED_TIME: integer (nullable = true)\n |-- AIR_TIME: integer (nullable = true)\n |-- DISTANCE: double (nullable = true)\n |-- WHEELS_ON: integer (nullable = true)\n |-- TAXI_IN: integer (nullable = true)\n |-- SCHEDULED_ARRIVAL: integer (nullable = true)\n |-- ARRIVAL_TIME: integer (nullable = true)\n |-- ARRIVAL_DELAY: integer (nullable = true)\n |-- DIVERTED: integer (nullable = true)\n |-- CANCELLED: integer (nullable = true)\n |-- AIR_SYSTEM_DELAY: integer (nullable = true)\n |-- SECURITY_DELAY: integer (nullable = true)\n |-- AIRLINE_DELAY: integer (nullable = true)\n |-- LATE_AIRCRAFT_DELAY: integer (nullable = true)\n |-- WEATHER_DELAY: integer (nullable = true)\n |-- ORIGIN_AIRPORT_CLEAN: string (nullable = true)\n |-- DESTINATION_AIRPORT_CLEAN: string (nullable = true)\n |-- SEASON: string (nullable = true)\n |-- SCHEDULED_DEPARTURE_PERIOD: string (nullable = false)\n |-- IS_WEEKEND: integer (nullable = true)\n |-- DELAYED_DEPARTURE_FLAG: integer (nullable = true)\n |-- ROUTE: string (nullable = false)\n |-- TOTAL_KNOWN_DELAY: integer (nullable = false)\n |-- SCHEDULED_DEPARTURE_min: long (nullable = true)\n |-- SCHEDULED_ARRIVAL_min: long (nullable = true)\n |-- DEPARTURE_TIME_min: long (nullable = true)\n |-- WHEELS_OFF_min: long (nullable = true)\n |-- ARRIVAL_TIME_min: long (nullable = true)\n |-- TOTAL_FLIGHT_MIDNIGHT_min: long (nullable = true)\n |-- CROSSES_MIDNIGHT_FLAG: integer (nullable = true)\n\n"
     ]
    }
   ],
   "source": [
    "cleaned_sampled_df.printSchema()"
   ]
  },
  {
   "cell_type": "code",
   "execution_count": 0,
   "metadata": {
    "application/vnd.databricks.v1+cell": {
     "cellMetadata": {
      "byteLimit": 2048000,
      "rowLimit": 10000
     },
     "inputWidgets": {},
     "nuid": "f952d072-df67-49c9-a557-c24ad585abea",
     "showTitle": false,
     "tableResultSettingsMap": {},
     "title": ""
    }
   },
   "outputs": [
    {
     "output_type": "display_data",
     "data": {
      "text/html": [
       "<style scoped>\n",
       "  .table-result-container {\n",
       "    max-height: 300px;\n",
       "    overflow: auto;\n",
       "  }\n",
       "  table, th, td {\n",
       "    border: 1px solid black;\n",
       "    border-collapse: collapse;\n",
       "  }\n",
       "  th, td {\n",
       "    padding: 5px;\n",
       "  }\n",
       "  th {\n",
       "    text-align: left;\n",
       "  }\n",
       "</style><div class='table-result-container'><table class='table-result'><thead style='background-color: white'><tr><th>DESTINATION_AIRPORT</th><th>ORIGIN_AIRPORT</th><th>YEAR</th><th>MONTH</th><th>DAY</th><th>DAY_OF_WEEK</th><th>AIRLINE</th><th>FLIGHT_NUMBER</th><th>TAIL_NUMBER</th><th>SCHEDULED_DEPARTURE</th><th>DEPARTURE_TIME</th><th>DEPARTURE_DELAY</th><th>TAXI_OUT</th><th>WHEELS_OFF</th><th>SCHEDULED_TIME</th><th>ELAPSED_TIME</th><th>AIR_TIME</th><th>DISTANCE</th><th>WHEELS_ON</th><th>TAXI_IN</th><th>SCHEDULED_ARRIVAL</th><th>ARRIVAL_TIME</th><th>ARRIVAL_DELAY</th><th>DIVERTED</th><th>CANCELLED</th><th>AIR_SYSTEM_DELAY</th><th>SECURITY_DELAY</th><th>AIRLINE_DELAY</th><th>LATE_AIRCRAFT_DELAY</th><th>WEATHER_DELAY</th><th>ORIGIN_AIRPORT_CLEAN</th><th>DESTINATION_AIRPORT_CLEAN</th><th>SEASON</th><th>SCHEDULED_DEPARTURE_PERIOD</th><th>IS_WEEKEND</th><th>DELAYED_DEPARTURE_FLAG</th><th>ROUTE</th><th>TOTAL_KNOWN_DELAY</th><th>SCHEDULED_DEPARTURE_min</th><th>SCHEDULED_ARRIVAL_min</th><th>DEPARTURE_TIME_min</th><th>WHEELS_OFF_min</th><th>ARRIVAL_TIME_min</th><th>TOTAL_FLIGHT_MIDNIGHT_min</th><th>CROSSES_MIDNIGHT_FLAG</th></tr></thead><tbody><tr><td>ATL</td><td>ILM</td><td>2015</td><td>12</td><td>19</td><td>6</td><td>EV</td><td>5042</td><td>N850AS</td><td>1046</td><td>1108</td><td>22</td><td>15</td><td>1123</td><td>87</td><td>86</td><td>63</td><td>377.0</td><td>1226</td><td>8</td><td>1213</td><td>1234</td><td>21</td><td>0</td><td>0</td><td>0</td><td>0</td><td>5</td><td>16</td><td>0</td><td>ILM</td><td>ATL</td><td>Winter</td><td>Morning</td><td>1</td><td>1</td><td>ILM_ATL</td><td>21</td><td>646</td><td>733</td><td>668</td><td>683</td><td>754</td><td>731</td><td>0</td></tr><tr><td>CLT</td><td>ILM</td><td>2015</td><td>12</td><td>10</td><td>4</td><td>AA</td><td>1941</td><td>N752US</td><td>725</td><td>833</td><td>68</td><td>12</td><td>845</td><td>70</td><td>55</td><td>39</td><td>185.0</td><td>924</td><td>4</td><td>835</td><td>928</td><td>53</td><td>0</td><td>0</td><td>0</td><td>0</td><td>53</td><td>0</td><td>0</td><td>ILM</td><td>CLT</td><td>Winter</td><td>Early Morning</td><td>0</td><td>1</td><td>ILM_CLT</td><td>53</td><td>445</td><td>515</td><td>513</td><td>525</td><td>568</td><td>552</td><td>0</td></tr><tr><td>ATL</td><td>ILM</td><td>2015</td><td>12</td><td>3</td><td>4</td><td>EV</td><td>5106</td><td>N923EV</td><td>1440</td><td>1820</td><td>220</td><td>16</td><td>1836</td><td>90</td><td>96</td><td>67</td><td>377.0</td><td>1943</td><td>13</td><td>1610</td><td>1956</td><td>226</td><td>0</td><td>0</td><td>6</td><td>0</td><td>220</td><td>0</td><td>0</td><td>ILM</td><td>ATL</td><td>Winter</td><td>Afternoon</td><td>0</td><td>1</td><td>ILM_ATL</td><td>226</td><td>880</td><td>970</td><td>1100</td><td>1116</td><td>1196</td><td>1167</td><td>0</td></tr><tr><td>ATL</td><td>ILM</td><td>2015</td><td>11</td><td>29</td><td>7</td><td>EV</td><td>5239</td><td>N843AS</td><td>1805</td><td>1820</td><td>15</td><td>13</td><td>1833</td><td>91</td><td>93</td><td>68</td><td>377.0</td><td>1941</td><td>12</td><td>1936</td><td>1953</td><td>17</td><td>0</td><td>0</td><td>2</td><td>0</td><td>0</td><td>15</td><td>0</td><td>ILM</td><td>ATL</td><td>Autumn</td><td>Evening</td><td>1</td><td>0</td><td>ILM_ATL</td><td>17</td><td>1085</td><td>1176</td><td>1100</td><td>1113</td><td>1193</td><td>1168</td><td>0</td></tr><tr><td>ATL</td><td>ILM</td><td>2015</td><td>11</td><td>9</td><td>1</td><td>EV</td><td>4870</td><td>N858AS</td><td>1805</td><td>1815</td><td>10</td><td>8</td><td>1823</td><td>91</td><td>97</td><td>69</td><td>377.0</td><td>1932</td><td>20</td><td>1936</td><td>1952</td><td>16</td><td>0</td><td>0</td><td>6</td><td>0</td><td>1</td><td>9</td><td>0</td><td>ILM</td><td>ATL</td><td>Autumn</td><td>Evening</td><td>0</td><td>0</td><td>ILM_ATL</td><td>16</td><td>1085</td><td>1176</td><td>1095</td><td>1103</td><td>1192</td><td>1164</td><td>0</td></tr><tr><td>CLT</td><td>ILM</td><td>2015</td><td>11</td><td>6</td><td>5</td><td>AA</td><td>1821</td><td>N754UW</td><td>1430</td><td>1430</td><td>0</td><td>30</td><td>1500</td><td>70</td><td>87</td><td>50</td><td>185.0</td><td>1550</td><td>7</td><td>1540</td><td>1557</td><td>17</td><td>0</td><td>0</td><td>17</td><td>0</td><td>0</td><td>0</td><td>0</td><td>ILM</td><td>CLT</td><td>Autumn</td><td>Afternoon</td><td>0</td><td>0</td><td>ILM_CLT</td><td>17</td><td>870</td><td>940</td><td>870</td><td>900</td><td>957</td><td>920</td><td>0</td></tr><tr><td>ATL</td><td>ILM</td><td>2015</td><td>5</td><td>18</td><td>1</td><td>EV</td><td>5245</td><td>N936EV</td><td>1250</td><td>1436</td><td>106</td><td>9</td><td>1445</td><td>89</td><td>81</td><td>62</td><td>377.0</td><td>1547</td><td>10</td><td>1419</td><td>1557</td><td>98</td><td>0</td><td>0</td><td>0</td><td>0</td><td>60</td><td>38</td><td>0</td><td>ILM</td><td>ATL</td><td>Spring</td><td>Midday</td><td>0</td><td>1</td><td>ILM_ATL</td><td>98</td><td>770</td><td>859</td><td>876</td><td>885</td><td>957</td><td>938</td><td>0</td></tr><tr><td>ATL</td><td>ILM</td><td>2015</td><td>4</td><td>10</td><td>5</td><td>EV</td><td>4955</td><td>N852AS</td><td>1355</td><td>1507</td><td>72</td><td>13</td><td>1520</td><td>88</td><td>84</td><td>63</td><td>377.0</td><td>1623</td><td>8</td><td>1523</td><td>1631</td><td>68</td><td>0</td><td>0</td><td>0</td><td>0</td><td>0</td><td>68</td><td>0</td><td>ILM</td><td>ATL</td><td>Spring</td><td>Midday</td><td>0</td><td>1</td><td>ILM_ATL</td><td>68</td><td>835</td><td>923</td><td>907</td><td>920</td><td>991</td><td>970</td><td>0</td></tr><tr><td>ATL</td><td>ILM</td><td>2015</td><td>3</td><td>29</td><td>7</td><td>DL</td><td>1969</td><td>N944DL</td><td>725</td><td>823</td><td>58</td><td>9</td><td>832</td><td>94</td><td>78</td><td>59</td><td>377.0</td><td>931</td><td>10</td><td>859</td><td>941</td><td>42</td><td>0</td><td>0</td><td>0</td><td>0</td><td>42</td><td>0</td><td>0</td><td>ILM</td><td>ATL</td><td>Spring</td><td>Early Morning</td><td>1</td><td>1</td><td>ILM_ATL</td><td>42</td><td>445</td><td>539</td><td>503</td><td>512</td><td>581</td><td>562</td><td>0</td></tr><tr><td>DFW</td><td>LAW</td><td>2015</td><td>9</td><td>24</td><td>4</td><td>EV</td><td>2608</td><td>N687JS</td><td>1025</td><td>1028</td><td>3</td><td>12</td><td>1040</td><td>57</td><td>88</td><td>30</td><td>140.0</td><td>1110</td><td>46</td><td>1122</td><td>1156</td><td>34</td><td>0</td><td>0</td><td>31</td><td>0</td><td>3</td><td>0</td><td>0</td><td>LAW</td><td>DFW</td><td>Autumn</td><td>Morning</td><td>0</td><td>0</td><td>LAW_DFW</td><td>34</td><td>625</td><td>682</td><td>628</td><td>640</td><td>716</td><td>658</td><td>0</td></tr></tbody></table></div>"
      ]
     },
     "metadata": {
      "application/vnd.databricks.v1+output": {
       "addedWidgets": {},
       "aggData": [],
       "aggError": "",
       "aggOverflow": false,
       "aggSchema": [],
       "aggSeriesLimitReached": false,
       "aggType": "",
       "arguments": {},
       "columnCustomDisplayInfos": {},
       "data": [
        [
         "ATL",
         "ILM",
         2015,
         12,
         19,
         6,
         "EV",
         5042,
         "N850AS",
         1046,
         1108,
         22,
         15,
         1123,
         87,
         86,
         63,
         377.0,
         1226,
         8,
         1213,
         1234,
         21,
         0,
         0,
         0,
         0,
         5,
         16,
         0,
         "ILM",
         "ATL",
         "Winter",
         "Morning",
         1,
         1,
         "ILM_ATL",
         21,
         646,
         733,
         668,
         683,
         754,
         731,
         0
        ],
        [
         "CLT",
         "ILM",
         2015,
         12,
         10,
         4,
         "AA",
         1941,
         "N752US",
         725,
         833,
         68,
         12,
         845,
         70,
         55,
         39,
         185.0,
         924,
         4,
         835,
         928,
         53,
         0,
         0,
         0,
         0,
         53,
         0,
         0,
         "ILM",
         "CLT",
         "Winter",
         "Early Morning",
         0,
         1,
         "ILM_CLT",
         53,
         445,
         515,
         513,
         525,
         568,
         552,
         0
        ],
        [
         "ATL",
         "ILM",
         2015,
         12,
         3,
         4,
         "EV",
         5106,
         "N923EV",
         1440,
         1820,
         220,
         16,
         1836,
         90,
         96,
         67,
         377.0,
         1943,
         13,
         1610,
         1956,
         226,
         0,
         0,
         6,
         0,
         220,
         0,
         0,
         "ILM",
         "ATL",
         "Winter",
         "Afternoon",
         0,
         1,
         "ILM_ATL",
         226,
         880,
         970,
         1100,
         1116,
         1196,
         1167,
         0
        ],
        [
         "ATL",
         "ILM",
         2015,
         11,
         29,
         7,
         "EV",
         5239,
         "N843AS",
         1805,
         1820,
         15,
         13,
         1833,
         91,
         93,
         68,
         377.0,
         1941,
         12,
         1936,
         1953,
         17,
         0,
         0,
         2,
         0,
         0,
         15,
         0,
         "ILM",
         "ATL",
         "Autumn",
         "Evening",
         1,
         0,
         "ILM_ATL",
         17,
         1085,
         1176,
         1100,
         1113,
         1193,
         1168,
         0
        ],
        [
         "ATL",
         "ILM",
         2015,
         11,
         9,
         1,
         "EV",
         4870,
         "N858AS",
         1805,
         1815,
         10,
         8,
         1823,
         91,
         97,
         69,
         377.0,
         1932,
         20,
         1936,
         1952,
         16,
         0,
         0,
         6,
         0,
         1,
         9,
         0,
         "ILM",
         "ATL",
         "Autumn",
         "Evening",
         0,
         0,
         "ILM_ATL",
         16,
         1085,
         1176,
         1095,
         1103,
         1192,
         1164,
         0
        ],
        [
         "CLT",
         "ILM",
         2015,
         11,
         6,
         5,
         "AA",
         1821,
         "N754UW",
         1430,
         1430,
         0,
         30,
         1500,
         70,
         87,
         50,
         185.0,
         1550,
         7,
         1540,
         1557,
         17,
         0,
         0,
         17,
         0,
         0,
         0,
         0,
         "ILM",
         "CLT",
         "Autumn",
         "Afternoon",
         0,
         0,
         "ILM_CLT",
         17,
         870,
         940,
         870,
         900,
         957,
         920,
         0
        ],
        [
         "ATL",
         "ILM",
         2015,
         5,
         18,
         1,
         "EV",
         5245,
         "N936EV",
         1250,
         1436,
         106,
         9,
         1445,
         89,
         81,
         62,
         377.0,
         1547,
         10,
         1419,
         1557,
         98,
         0,
         0,
         0,
         0,
         60,
         38,
         0,
         "ILM",
         "ATL",
         "Spring",
         "Midday",
         0,
         1,
         "ILM_ATL",
         98,
         770,
         859,
         876,
         885,
         957,
         938,
         0
        ],
        [
         "ATL",
         "ILM",
         2015,
         4,
         10,
         5,
         "EV",
         4955,
         "N852AS",
         1355,
         1507,
         72,
         13,
         1520,
         88,
         84,
         63,
         377.0,
         1623,
         8,
         1523,
         1631,
         68,
         0,
         0,
         0,
         0,
         0,
         68,
         0,
         "ILM",
         "ATL",
         "Spring",
         "Midday",
         0,
         1,
         "ILM_ATL",
         68,
         835,
         923,
         907,
         920,
         991,
         970,
         0
        ],
        [
         "ATL",
         "ILM",
         2015,
         3,
         29,
         7,
         "DL",
         1969,
         "N944DL",
         725,
         823,
         58,
         9,
         832,
         94,
         78,
         59,
         377.0,
         931,
         10,
         859,
         941,
         42,
         0,
         0,
         0,
         0,
         42,
         0,
         0,
         "ILM",
         "ATL",
         "Spring",
         "Early Morning",
         1,
         1,
         "ILM_ATL",
         42,
         445,
         539,
         503,
         512,
         581,
         562,
         0
        ],
        [
         "DFW",
         "LAW",
         2015,
         9,
         24,
         4,
         "EV",
         2608,
         "N687JS",
         1025,
         1028,
         3,
         12,
         1040,
         57,
         88,
         30,
         140.0,
         1110,
         46,
         1122,
         1156,
         34,
         0,
         0,
         31,
         0,
         3,
         0,
         0,
         "LAW",
         "DFW",
         "Autumn",
         "Morning",
         0,
         0,
         "LAW_DFW",
         34,
         625,
         682,
         628,
         640,
         716,
         658,
         0
        ]
       ],
       "datasetInfos": [],
       "dbfsResultPath": null,
       "isJsonSchema": true,
       "metadata": {},
       "overflow": false,
       "plotOptions": {
        "customPlotOptions": {},
        "displayType": "table",
        "pivotAggregation": null,
        "pivotColumns": null,
        "xColumns": null,
        "yColumns": null
       },
       "removedWidgets": [],
       "schema": [
        {
         "metadata": "{}",
         "name": "DESTINATION_AIRPORT",
         "type": "\"string\""
        },
        {
         "metadata": "{}",
         "name": "ORIGIN_AIRPORT",
         "type": "\"string\""
        },
        {
         "metadata": "{}",
         "name": "YEAR",
         "type": "\"integer\""
        },
        {
         "metadata": "{}",
         "name": "MONTH",
         "type": "\"integer\""
        },
        {
         "metadata": "{}",
         "name": "DAY",
         "type": "\"integer\""
        },
        {
         "metadata": "{}",
         "name": "DAY_OF_WEEK",
         "type": "\"integer\""
        },
        {
         "metadata": "{}",
         "name": "AIRLINE",
         "type": "\"string\""
        },
        {
         "metadata": "{}",
         "name": "FLIGHT_NUMBER",
         "type": "\"integer\""
        },
        {
         "metadata": "{}",
         "name": "TAIL_NUMBER",
         "type": "\"string\""
        },
        {
         "metadata": "{}",
         "name": "SCHEDULED_DEPARTURE",
         "type": "\"integer\""
        },
        {
         "metadata": "{}",
         "name": "DEPARTURE_TIME",
         "type": "\"integer\""
        },
        {
         "metadata": "{}",
         "name": "DEPARTURE_DELAY",
         "type": "\"integer\""
        },
        {
         "metadata": "{}",
         "name": "TAXI_OUT",
         "type": "\"integer\""
        },
        {
         "metadata": "{}",
         "name": "WHEELS_OFF",
         "type": "\"integer\""
        },
        {
         "metadata": "{}",
         "name": "SCHEDULED_TIME",
         "type": "\"integer\""
        },
        {
         "metadata": "{}",
         "name": "ELAPSED_TIME",
         "type": "\"integer\""
        },
        {
         "metadata": "{}",
         "name": "AIR_TIME",
         "type": "\"integer\""
        },
        {
         "metadata": "{}",
         "name": "DISTANCE",
         "type": "\"double\""
        },
        {
         "metadata": "{}",
         "name": "WHEELS_ON",
         "type": "\"integer\""
        },
        {
         "metadata": "{}",
         "name": "TAXI_IN",
         "type": "\"integer\""
        },
        {
         "metadata": "{}",
         "name": "SCHEDULED_ARRIVAL",
         "type": "\"integer\""
        },
        {
         "metadata": "{}",
         "name": "ARRIVAL_TIME",
         "type": "\"integer\""
        },
        {
         "metadata": "{}",
         "name": "ARRIVAL_DELAY",
         "type": "\"integer\""
        },
        {
         "metadata": "{}",
         "name": "DIVERTED",
         "type": "\"integer\""
        },
        {
         "metadata": "{}",
         "name": "CANCELLED",
         "type": "\"integer\""
        },
        {
         "metadata": "{}",
         "name": "AIR_SYSTEM_DELAY",
         "type": "\"integer\""
        },
        {
         "metadata": "{}",
         "name": "SECURITY_DELAY",
         "type": "\"integer\""
        },
        {
         "metadata": "{}",
         "name": "AIRLINE_DELAY",
         "type": "\"integer\""
        },
        {
         "metadata": "{}",
         "name": "LATE_AIRCRAFT_DELAY",
         "type": "\"integer\""
        },
        {
         "metadata": "{}",
         "name": "WEATHER_DELAY",
         "type": "\"integer\""
        },
        {
         "metadata": "{}",
         "name": "ORIGIN_AIRPORT_CLEAN",
         "type": "\"string\""
        },
        {
         "metadata": "{}",
         "name": "DESTINATION_AIRPORT_CLEAN",
         "type": "\"string\""
        },
        {
         "metadata": "{}",
         "name": "SEASON",
         "type": "\"string\""
        },
        {
         "metadata": "{}",
         "name": "SCHEDULED_DEPARTURE_PERIOD",
         "type": "\"string\""
        },
        {
         "metadata": "{}",
         "name": "IS_WEEKEND",
         "type": "\"integer\""
        },
        {
         "metadata": "{}",
         "name": "DELAYED_DEPARTURE_FLAG",
         "type": "\"integer\""
        },
        {
         "metadata": "{}",
         "name": "ROUTE",
         "type": "\"string\""
        },
        {
         "metadata": "{}",
         "name": "TOTAL_KNOWN_DELAY",
         "type": "\"integer\""
        },
        {
         "metadata": "{}",
         "name": "SCHEDULED_DEPARTURE_min",
         "type": "\"long\""
        },
        {
         "metadata": "{}",
         "name": "SCHEDULED_ARRIVAL_min",
         "type": "\"long\""
        },
        {
         "metadata": "{}",
         "name": "DEPARTURE_TIME_min",
         "type": "\"long\""
        },
        {
         "metadata": "{}",
         "name": "WHEELS_OFF_min",
         "type": "\"long\""
        },
        {
         "metadata": "{}",
         "name": "ARRIVAL_TIME_min",
         "type": "\"long\""
        },
        {
         "metadata": "{}",
         "name": "TOTAL_FLIGHT_MIDNIGHT_min",
         "type": "\"long\""
        },
        {
         "metadata": "{}",
         "name": "CROSSES_MIDNIGHT_FLAG",
         "type": "\"integer\""
        }
       ],
       "type": "table"
      }
     },
     "output_type": "display_data"
    }
   ],
   "source": [
    "cleaned_sampled_df.limit(10).display()"
   ]
  },
  {
   "cell_type": "code",
   "execution_count": 0,
   "metadata": {
    "application/vnd.databricks.v1+cell": {
     "cellMetadata": {
      "byteLimit": 2048000,
      "rowLimit": 10000
     },
     "inputWidgets": {},
     "nuid": "49a6e745-1cba-470c-b465-e1413b178993",
     "showTitle": false,
     "tableResultSettingsMap": {},
     "title": ""
    }
   },
   "outputs": [],
   "source": [
    "# Define columns to drop\n",
    "cols_to_drop = [\n",
    "    # 'YEAR',\n",
    "    # 'MONTH',\n",
    "    # 'DAY',\n",
    "    'ORIGIN_AIRPORT', # wrong one\n",
    "    'DESTINATION_AIRPORT', # wrong one\n",
    "    \"SCHEDULED_DEPARTURE\", # HHMM\n",
    "    \"SCHEDULED_ARRIVAL\", # HHMM\n",
    "    \"DEPARTURE_TIME\", # HHMM\n",
    "    \"WHEELS_OFF\", # HHMM\n",
    "    \"DELAYED_DEPARTURE_FLAG\", # for graph analytics, diverted and cancelled flights will be filtered out\n",
    "    \"TOTAL_KNOWN_DELAY\" # equal to arrival_delay\n",
    "]\n",
    "\n",
    "# Drop from DataFrames\n",
    "cleaned_sampled_df = cleaned_sampled_df.drop(*cols_to_drop)"
   ]
  },
  {
   "cell_type": "code",
   "execution_count": 0,
   "metadata": {
    "application/vnd.databricks.v1+cell": {
     "cellMetadata": {
      "byteLimit": 2048000,
      "rowLimit": 10000
     },
     "inputWidgets": {},
     "nuid": "78437336-fe2f-4770-8b4e-4ad4e73eefcd",
     "showTitle": false,
     "tableResultSettingsMap": {},
     "title": ""
    }
   },
   "outputs": [],
   "source": [
    "# Rename columns for clarity\n",
    "cleaned_sampled_df = cleaned_sampled_df.withColumnRenamed(\"ORIGIN_AIRPORT_CLEAN\", \"ORIGIN_AIRPORT\")\n",
    "cleaned_sampled_df = cleaned_sampled_df.withColumnRenamed(\"DESTINATION_AIRPORT_CLEAN\", \"DESTINATION_AIRPORT\")"
   ]
  },
  {
   "cell_type": "markdown",
   "metadata": {
    "application/vnd.databricks.v1+cell": {
     "cellMetadata": {},
     "inputWidgets": {},
     "nuid": "a9331f47-e453-4a42-aca8-c97e70b3f2e7",
     "showTitle": false,
     "tableResultSettingsMap": {},
     "title": ""
    }
   },
   "source": [
    "# 6a.4 Add Airports Data"
   ]
  },
  {
   "cell_type": "code",
   "execution_count": 0,
   "metadata": {
    "application/vnd.databricks.v1+cell": {
     "cellMetadata": {},
     "inputWidgets": {},
     "nuid": "3071773e-eda8-4ed7-a155-b1f2e5f7eb7d",
     "showTitle": false,
     "tableResultSettingsMap": {},
     "title": ""
    }
   },
   "outputs": [],
   "source": []
  },
  {
   "cell_type": "markdown",
   "metadata": {
    "application/vnd.databricks.v1+cell": {
     "cellMetadata": {
      "byteLimit": 2048000,
      "rowLimit": 10000
     },
     "inputWidgets": {},
     "nuid": "275856fb-ed9c-47f0-88fc-a9a9cf39d1f4",
     "showTitle": false,
     "tableResultSettingsMap": {},
     "title": ""
    }
   },
   "source": [
    "# 6a.5 Export Dataframe"
   ]
  },
  {
   "cell_type": "code",
   "execution_count": 0,
   "metadata": {
    "application/vnd.databricks.v1+cell": {
     "cellMetadata": {
      "byteLimit": 2048000,
      "rowLimit": 10000
     },
     "inputWidgets": {},
     "nuid": "01e84c9d-cb78-43d8-bfab-e4b2b17f3f2c",
     "showTitle": false,
     "tableResultSettingsMap": {},
     "title": ""
    }
   },
   "outputs": [],
   "source": [
    "cleaned_sampled_df.write.mode(\"overwrite\") \\\n",
    "    .option(\"overwriteSchema\", \"true\") \\\n",
    "    .format(\"delta\") \\\n",
    "    .save(\"/dbfs/FileStore/tables/df_graph\")"
   ]
  },
  {
   "cell_type": "code",
   "execution_count": 0,
   "metadata": {
    "application/vnd.databricks.v1+cell": {
     "cellMetadata": {
      "byteLimit": 2048000,
      "rowLimit": 10000
     },
     "inputWidgets": {},
     "nuid": "e5df55a5-9cf5-49d8-bdcc-647c39843b57",
     "showTitle": false,
     "tableResultSettingsMap": {},
     "title": ""
    }
   },
   "outputs": [
    {
     "output_type": "display_data",
     "data": {
      "text/html": [
       "<style scoped>\n",
       "  .table-result-container {\n",
       "    max-height: 300px;\n",
       "    overflow: auto;\n",
       "  }\n",
       "  table, th, td {\n",
       "    border: 1px solid black;\n",
       "    border-collapse: collapse;\n",
       "  }\n",
       "  th, td {\n",
       "    padding: 5px;\n",
       "  }\n",
       "  th {\n",
       "    text-align: left;\n",
       "  }\n",
       "</style><div class='table-result-container'><table class='table-result'><thead style='background-color: white'><tr><th>YEAR</th><th>MONTH</th><th>DAY</th><th>DAY_OF_WEEK</th><th>AIRLINE</th><th>FLIGHT_NUMBER</th><th>TAIL_NUMBER</th><th>DEPARTURE_DELAY</th><th>TAXI_OUT</th><th>SCHEDULED_TIME</th><th>ELAPSED_TIME</th><th>AIR_TIME</th><th>DISTANCE</th><th>WHEELS_ON</th><th>TAXI_IN</th><th>ARRIVAL_TIME</th><th>ARRIVAL_DELAY</th><th>DIVERTED</th><th>CANCELLED</th><th>AIR_SYSTEM_DELAY</th><th>SECURITY_DELAY</th><th>AIRLINE_DELAY</th><th>LATE_AIRCRAFT_DELAY</th><th>WEATHER_DELAY</th><th>ORIGIN_AIRPORT</th><th>DESTINATION_AIRPORT</th><th>SEASON</th><th>SCHEDULED_DEPARTURE_PERIOD</th><th>IS_WEEKEND</th><th>ROUTE</th><th>SCHEDULED_DEPARTURE_min</th><th>SCHEDULED_ARRIVAL_min</th><th>DEPARTURE_TIME_min</th><th>WHEELS_OFF_min</th><th>ARRIVAL_TIME_min</th><th>TOTAL_FLIGHT_MIDNIGHT_min</th><th>CROSSES_MIDNIGHT_FLAG</th></tr></thead><tbody><tr><td>2015</td><td>10</td><td>17</td><td>6</td><td>EV</td><td>5144</td><td>N921EV</td><td>9</td><td>33</td><td>102</td><td>132</td><td>91</td><td>425.0</td><td>1128</td><td>8</td><td>1136</td><td>39</td><td>0</td><td>0</td><td>30</td><td>0</td><td>9</td><td>0</td><td>0</td><td>ABE</td><td>DTW</td><td>Autumn</td><td>Morning</td><td>1</td><td>ABE_DTW</td><td>555</td><td>657</td><td>564</td><td>597</td><td>696</td><td>655</td><td>0</td></tr><tr><td>2015</td><td>10</td><td>8</td><td>4</td><td>EV</td><td>5317</td><td>N850AS</td><td>195</td><td>14</td><td>128</td><td>135</td><td>105</td><td>692.0</td><td>2114</td><td>16</td><td>2130</td><td>202</td><td>0</td><td>0</td><td>7</td><td>0</td><td>2</td><td>193</td><td>0</td><td>ABE</td><td>ATL</td><td>Autumn</td><td>Afternoon</td><td>0</td><td>ABE_ATL</td><td>960</td><td>1088</td><td>1155</td><td>1169</td><td>1290</td><td>1260</td><td>0</td></tr><tr><td>2015</td><td>10</td><td>26</td><td>1</td><td>MQ</td><td>3176</td><td>N813MQ</td><td>323</td><td>7</td><td>63</td><td>45</td><td>33</td><td>158.0</td><td>1416</td><td>5</td><td>1421</td><td>305</td><td>0</td><td>0</td><td>0</td><td>0</td><td>305</td><td>0</td><td>0</td><td>ABI</td><td>DFW</td><td>Autumn</td><td>Morning</td><td>0</td><td>ABI_DFW</td><td>493</td><td>556</td><td>816</td><td>823</td><td>861</td><td>849</td><td>0</td></tr><tr><td>2015</td><td>10</td><td>23</td><td>5</td><td>MQ</td><td>3110</td><td>N824MQ</td><td>141</td><td>11</td><td>62</td><td>115</td><td>40</td><td>158.0</td><td>1507</td><td>64</td><td>1611</td><td>194</td><td>0</td><td>0</td><td>53</td><td>0</td><td>0</td><td>0</td><td>141</td><td>ABI</td><td>DFW</td><td>Autumn</td><td>Morning</td><td>0</td><td>ABI_DFW</td><td>715</td><td>777</td><td>856</td><td>867</td><td>971</td><td>896</td><td>0</td></tr><tr><td>2015</td><td>10</td><td>5</td><td>1</td><td>MQ</td><td>3441</td><td>N668MQ</td><td>68</td><td>9</td><td>62</td><td>47</td><td>31</td><td>158.0</td><td>2014</td><td>7</td><td>2021</td><td>53</td><td>0</td><td>0</td><td>0</td><td>0</td><td>0</td><td>53</td><td>0</td><td>ABI</td><td>DFW</td><td>Autumn</td><td>Evening</td><td>0</td><td>ABI_DFW</td><td>1106</td><td>1168</td><td>1174</td><td>1183</td><td>1221</td><td>1205</td><td>0</td></tr><tr><td>2015</td><td>10</td><td>30</td><td>5</td><td>AS</td><td>775</td><td>N528AS</td><td>0</td><td>14</td><td>189</td><td>206</td><td>183</td><td>1180.0</td><td>1857</td><td>9</td><td>1906</td><td>17</td><td>0</td><td>0</td><td>17</td><td>0</td><td>0</td><td>0</td><td>0</td><td>ABQ</td><td>SEA</td><td>Autumn</td><td>Afternoon</td><td>0</td><td>ABQ_SEA</td><td>1000</td><td>1129</td><td>1000</td><td>1014</td><td>1146</td><td>1183</td><td>0</td></tr><tr><td>2015</td><td>10</td><td>23</td><td>5</td><td>WN</td><td>477</td><td>N7827A</td><td>324</td><td>8</td><td>120</td><td>108</td><td>89</td><td>677.0</td><td>2311</td><td>11</td><td>2322</td><td>312</td><td>0</td><td>0</td><td>0</td><td>0</td><td>218</td><td>94</td><td>0</td><td>ABQ</td><td>LAX</td><td>Autumn</td><td>Afternoon</td><td>0</td><td>ABQ_LAX</td><td>1030</td><td>1090</td><td>1354</td><td>1362</td><td>1402</td><td>1443</td><td>1</td></tr><tr><td>2015</td><td>10</td><td>15</td><td>4</td><td>WN</td><td>1703</td><td>N7844A</td><td>32</td><td>7</td><td>75</td><td>69</td><td>54</td><td>349.0</td><td>938</td><td>8</td><td>946</td><td>26</td><td>0</td><td>0</td><td>0</td><td>0</td><td>26</td><td>0</td><td>0</td><td>ABQ</td><td>DEN</td><td>Autumn</td><td>Morning</td><td>0</td><td>ABQ_DEN</td><td>485</td><td>560</td><td>517</td><td>524</td><td>586</td><td>571</td><td>0</td></tr><tr><td>2015</td><td>10</td><td>7</td><td>3</td><td>WN</td><td>1873</td><td>N384SW</td><td>50</td><td>9</td><td>110</td><td>108</td><td>93</td><td>718.0</td><td>1642</td><td>6</td><td>1648</td><td>48</td><td>0</td><td>0</td><td>0</td><td>0</td><td>19</td><td>29</td><td>0</td><td>ABQ</td><td>MCI</td><td>Autumn</td><td>Midday</td><td>0</td><td>ABQ_MCI</td><td>790</td><td>960</td><td>840</td><td>849</td><td>1008</td><td>933</td><td>0</td></tr><tr><td>2015</td><td>10</td><td>6</td><td>2</td><td>UA</td><td>740</td><td>N845UA</td><td>29</td><td>27</td><td>82</td><td>87</td><td>56</td><td>349.0</td><td>922</td><td>4</td><td>926</td><td>34</td><td>0</td><td>0</td><td>5</td><td>0</td><td>29</td><td>0</td><td>0</td><td>ABQ</td><td>DEN</td><td>Autumn</td><td>Early Morning</td><td>0</td><td>ABQ_DEN</td><td>450</td><td>532</td><td>479</td><td>506</td><td>566</td><td>535</td><td>0</td></tr></tbody></table></div>"
      ]
     },
     "metadata": {
      "application/vnd.databricks.v1+output": {
       "addedWidgets": {},
       "aggData": [],
       "aggError": "",
       "aggOverflow": false,
       "aggSchema": [],
       "aggSeriesLimitReached": false,
       "aggType": "",
       "arguments": {},
       "columnCustomDisplayInfos": {},
       "data": [
        [
         2015,
         10,
         17,
         6,
         "EV",
         5144,
         "N921EV",
         9,
         33,
         102,
         132,
         91,
         425.0,
         1128,
         8,
         1136,
         39,
         0,
         0,
         30,
         0,
         9,
         0,
         0,
         "ABE",
         "DTW",
         "Autumn",
         "Morning",
         1,
         "ABE_DTW",
         555,
         657,
         564,
         597,
         696,
         655,
         0
        ],
        [
         2015,
         10,
         8,
         4,
         "EV",
         5317,
         "N850AS",
         195,
         14,
         128,
         135,
         105,
         692.0,
         2114,
         16,
         2130,
         202,
         0,
         0,
         7,
         0,
         2,
         193,
         0,
         "ABE",
         "ATL",
         "Autumn",
         "Afternoon",
         0,
         "ABE_ATL",
         960,
         1088,
         1155,
         1169,
         1290,
         1260,
         0
        ],
        [
         2015,
         10,
         26,
         1,
         "MQ",
         3176,
         "N813MQ",
         323,
         7,
         63,
         45,
         33,
         158.0,
         1416,
         5,
         1421,
         305,
         0,
         0,
         0,
         0,
         305,
         0,
         0,
         "ABI",
         "DFW",
         "Autumn",
         "Morning",
         0,
         "ABI_DFW",
         493,
         556,
         816,
         823,
         861,
         849,
         0
        ],
        [
         2015,
         10,
         23,
         5,
         "MQ",
         3110,
         "N824MQ",
         141,
         11,
         62,
         115,
         40,
         158.0,
         1507,
         64,
         1611,
         194,
         0,
         0,
         53,
         0,
         0,
         0,
         141,
         "ABI",
         "DFW",
         "Autumn",
         "Morning",
         0,
         "ABI_DFW",
         715,
         777,
         856,
         867,
         971,
         896,
         0
        ],
        [
         2015,
         10,
         5,
         1,
         "MQ",
         3441,
         "N668MQ",
         68,
         9,
         62,
         47,
         31,
         158.0,
         2014,
         7,
         2021,
         53,
         0,
         0,
         0,
         0,
         0,
         53,
         0,
         "ABI",
         "DFW",
         "Autumn",
         "Evening",
         0,
         "ABI_DFW",
         1106,
         1168,
         1174,
         1183,
         1221,
         1205,
         0
        ],
        [
         2015,
         10,
         30,
         5,
         "AS",
         775,
         "N528AS",
         0,
         14,
         189,
         206,
         183,
         1180.0,
         1857,
         9,
         1906,
         17,
         0,
         0,
         17,
         0,
         0,
         0,
         0,
         "ABQ",
         "SEA",
         "Autumn",
         "Afternoon",
         0,
         "ABQ_SEA",
         1000,
         1129,
         1000,
         1014,
         1146,
         1183,
         0
        ],
        [
         2015,
         10,
         23,
         5,
         "WN",
         477,
         "N7827A",
         324,
         8,
         120,
         108,
         89,
         677.0,
         2311,
         11,
         2322,
         312,
         0,
         0,
         0,
         0,
         218,
         94,
         0,
         "ABQ",
         "LAX",
         "Autumn",
         "Afternoon",
         0,
         "ABQ_LAX",
         1030,
         1090,
         1354,
         1362,
         1402,
         1443,
         1
        ],
        [
         2015,
         10,
         15,
         4,
         "WN",
         1703,
         "N7844A",
         32,
         7,
         75,
         69,
         54,
         349.0,
         938,
         8,
         946,
         26,
         0,
         0,
         0,
         0,
         26,
         0,
         0,
         "ABQ",
         "DEN",
         "Autumn",
         "Morning",
         0,
         "ABQ_DEN",
         485,
         560,
         517,
         524,
         586,
         571,
         0
        ],
        [
         2015,
         10,
         7,
         3,
         "WN",
         1873,
         "N384SW",
         50,
         9,
         110,
         108,
         93,
         718.0,
         1642,
         6,
         1648,
         48,
         0,
         0,
         0,
         0,
         19,
         29,
         0,
         "ABQ",
         "MCI",
         "Autumn",
         "Midday",
         0,
         "ABQ_MCI",
         790,
         960,
         840,
         849,
         1008,
         933,
         0
        ],
        [
         2015,
         10,
         6,
         2,
         "UA",
         740,
         "N845UA",
         29,
         27,
         82,
         87,
         56,
         349.0,
         922,
         4,
         926,
         34,
         0,
         0,
         5,
         0,
         29,
         0,
         0,
         "ABQ",
         "DEN",
         "Autumn",
         "Early Morning",
         0,
         "ABQ_DEN",
         450,
         532,
         479,
         506,
         566,
         535,
         0
        ]
       ],
       "datasetInfos": [],
       "dbfsResultPath": null,
       "isJsonSchema": true,
       "metadata": {},
       "overflow": false,
       "plotOptions": {
        "customPlotOptions": {},
        "displayType": "table",
        "pivotAggregation": null,
        "pivotColumns": null,
        "xColumns": null,
        "yColumns": null
       },
       "removedWidgets": [],
       "schema": [
        {
         "metadata": "{}",
         "name": "YEAR",
         "type": "\"integer\""
        },
        {
         "metadata": "{}",
         "name": "MONTH",
         "type": "\"integer\""
        },
        {
         "metadata": "{}",
         "name": "DAY",
         "type": "\"integer\""
        },
        {
         "metadata": "{}",
         "name": "DAY_OF_WEEK",
         "type": "\"integer\""
        },
        {
         "metadata": "{}",
         "name": "AIRLINE",
         "type": "\"string\""
        },
        {
         "metadata": "{}",
         "name": "FLIGHT_NUMBER",
         "type": "\"integer\""
        },
        {
         "metadata": "{}",
         "name": "TAIL_NUMBER",
         "type": "\"string\""
        },
        {
         "metadata": "{}",
         "name": "DEPARTURE_DELAY",
         "type": "\"integer\""
        },
        {
         "metadata": "{}",
         "name": "TAXI_OUT",
         "type": "\"integer\""
        },
        {
         "metadata": "{}",
         "name": "SCHEDULED_TIME",
         "type": "\"integer\""
        },
        {
         "metadata": "{}",
         "name": "ELAPSED_TIME",
         "type": "\"integer\""
        },
        {
         "metadata": "{}",
         "name": "AIR_TIME",
         "type": "\"integer\""
        },
        {
         "metadata": "{}",
         "name": "DISTANCE",
         "type": "\"double\""
        },
        {
         "metadata": "{}",
         "name": "WHEELS_ON",
         "type": "\"integer\""
        },
        {
         "metadata": "{}",
         "name": "TAXI_IN",
         "type": "\"integer\""
        },
        {
         "metadata": "{}",
         "name": "ARRIVAL_TIME",
         "type": "\"integer\""
        },
        {
         "metadata": "{}",
         "name": "ARRIVAL_DELAY",
         "type": "\"integer\""
        },
        {
         "metadata": "{}",
         "name": "DIVERTED",
         "type": "\"integer\""
        },
        {
         "metadata": "{}",
         "name": "CANCELLED",
         "type": "\"integer\""
        },
        {
         "metadata": "{}",
         "name": "AIR_SYSTEM_DELAY",
         "type": "\"integer\""
        },
        {
         "metadata": "{}",
         "name": "SECURITY_DELAY",
         "type": "\"integer\""
        },
        {
         "metadata": "{}",
         "name": "AIRLINE_DELAY",
         "type": "\"integer\""
        },
        {
         "metadata": "{}",
         "name": "LATE_AIRCRAFT_DELAY",
         "type": "\"integer\""
        },
        {
         "metadata": "{}",
         "name": "WEATHER_DELAY",
         "type": "\"integer\""
        },
        {
         "metadata": "{}",
         "name": "ORIGIN_AIRPORT",
         "type": "\"string\""
        },
        {
         "metadata": "{}",
         "name": "DESTINATION_AIRPORT",
         "type": "\"string\""
        },
        {
         "metadata": "{}",
         "name": "SEASON",
         "type": "\"string\""
        },
        {
         "metadata": "{}",
         "name": "SCHEDULED_DEPARTURE_PERIOD",
         "type": "\"string\""
        },
        {
         "metadata": "{}",
         "name": "IS_WEEKEND",
         "type": "\"integer\""
        },
        {
         "metadata": "{}",
         "name": "ROUTE",
         "type": "\"string\""
        },
        {
         "metadata": "{}",
         "name": "SCHEDULED_DEPARTURE_min",
         "type": "\"long\""
        },
        {
         "metadata": "{}",
         "name": "SCHEDULED_ARRIVAL_min",
         "type": "\"long\""
        },
        {
         "metadata": "{}",
         "name": "DEPARTURE_TIME_min",
         "type": "\"long\""
        },
        {
         "metadata": "{}",
         "name": "WHEELS_OFF_min",
         "type": "\"long\""
        },
        {
         "metadata": "{}",
         "name": "ARRIVAL_TIME_min",
         "type": "\"long\""
        },
        {
         "metadata": "{}",
         "name": "TOTAL_FLIGHT_MIDNIGHT_min",
         "type": "\"long\""
        },
        {
         "metadata": "{}",
         "name": "CROSSES_MIDNIGHT_FLAG",
         "type": "\"integer\""
        }
       ],
       "type": "table"
      }
     },
     "output_type": "display_data"
    }
   ],
   "source": [
    "cleaned_sampled_df.limit(10).display()"
   ]
  }
 ],
 "metadata": {
  "application/vnd.databricks.v1+notebook": {
   "computePreferences": null,
   "dashboards": [],
   "environmentMetadata": null,
   "inputWidgetPreferences": null,
   "language": "python",
   "notebookMetadata": {
    "mostRecentlyExecutedCommandWithImplicitDF": {
     "commandId": 583445748679806,
     "dataframes": [
      "_sqldf"
     ]
    },
    "pythonIndentUnit": 4
   },
   "notebookName": "6a_Graph_Analytics_Preprocessing",
   "widgets": {}
  }
 },
 "nbformat": 4,
 "nbformat_minor": 0
}